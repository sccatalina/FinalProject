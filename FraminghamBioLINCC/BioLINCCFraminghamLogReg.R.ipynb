{
 "cells": [
  {
   "cell_type": "markdown",
   "metadata": {},
   "source": [
    "# Import Packages"
   ]
  },
  {
   "cell_type": "code",
   "execution_count": 1,
   "metadata": {},
   "outputs": [
    {
     "name": "stderr",
     "output_type": "stream",
     "text": [
      "\n",
      "Attaching package: ‘dplyr’\n",
      "\n",
      "\n",
      "The following objects are masked from ‘package:stats’:\n",
      "\n",
      "    filter, lag\n",
      "\n",
      "\n",
      "The following objects are masked from ‘package:base’:\n",
      "\n",
      "    intersect, setdiff, setequal, union\n",
      "\n",
      "\n",
      "\n",
      "Attaching package: ‘gridExtra’\n",
      "\n",
      "\n",
      "The following object is masked from ‘package:dplyr’:\n",
      "\n",
      "    combine\n",
      "\n",
      "\n"
     ]
    }
   ],
   "source": [
    "library(dplyr)\n",
    "library(tidyr)\n",
    "library(IDPmisc)\n",
    "library(ggplot2)\n",
    "library(repr) # options() to change size of plot image\n",
    "library(gridExtra) # side-by-side plots"
   ]
  },
  {
   "cell_type": "markdown",
   "metadata": {},
   "source": [
    "# Import Data"
   ]
  },
  {
   "cell_type": "markdown",
   "metadata": {},
   "source": [
    "* The data was retrieved from the (BioLINCC)[https://biolincc.nhlbi.nih.gov/teaching/]\n",
    "* Data from an ongoing cardiovascular study on residents of the town of Framingham, Massachusetts which was collected during three examination periods, approximately 6 years apart, from roughly 1956 to 1968\n",
    "* Missing values in the dataset are indicated by a period (.)\n",
    "* Disclaimer: This is teaching data that has been rendered anonymous through the application of certain statistical processes such as permutations and/or random visit selection. We cannot claim or imply that any inferences derived from the teaching datasets are valid estimates\n",
    "\n",
    "## Data Dictionary\n",
    "\n",
    "|Variable|Description|Levels (if applicable)/<br> Notes|\n",
    "| --- | --- |---|\n",
    "|RANDID | Unique identification number for each participant||\n",
    "|SEX | Participant sex |1=Men <br> 2=Women|\n",
    "|PERIOD|Examination Cycle|1=Period 1 <br> 2=Period 2 <br> 3=Period 3|\n",
    "|TIME| Number of days since baseline exam||\n",
    "|AGE|AGE at exam (years)||\n",
    "|SYSBP|Systolic Blood Pressure (mean of last two of three <br> measurements) (mmHg)|\n",
    "|DIABP|Diastolic Blood Pressure (mean of last two of three <br> measurements) (mmHg)|\n",
    "|BPMEDS|Use of Anti-hypertensive medication at exam|0=Not currently used <br> 1=Current Use|\n",
    "|CURSMOKE|Current cigarette smoking at exam|0=Not current smoker <br> 1=Current smoker|\n",
    "|CIGPDAY|Number of cigarettes smoked each day|0=Not current smoker <br> 1-90 cigarettes per day|\n",
    "|TOTCHOL|Serum Total Cholesterol (mg/dL)||\n",
    "|HDLC|High Density Lipoprotein Cholesterol (mg/dL)|available for period 3 only|\n",
    "|LDLC|Low Density Lipoprotein Cholesterol (mg/dL)|available for period 3 only|\n",
    "|BMI|Body Mass Index, weight in kilograms/height <br> meters squared||\n",
    "|GLUCOSE|Casual serum GLUCOSE (mg/dL)||\n",
    "|DIABETES|Diabetic according to criteria of first exam <br> treated or first exam with casual GLUCOSE <br> of 200 mg/dL or more|0=Not a diabetic <br> 1=Diabetic|\n",
    "|HEARTRTE|Heart rate (Ventricular rate) in beats/min|\n",
    "|PREVHYP|Prevalent Hypertensive. Subject was defined as <br> hypertensive if treated or if second exam at <br>which mean systolic was >=140 mmHg or mean<br>  Diastolic >=90 mmHg|0=Free of disease <br> 1=Prevalent disease|\n",
    "|ANYCHD|Angina Pectoris, <br> Myocardial infarction (Hospitalized and silent or unrecognized), <br>Coronary Insufficiency (Unstable Angina), <br> or Fatal Coronary Heart Disease|0=Event did not occur during follow up <br> 1=Event occurred during followup|\n",
    "|STROKE|Atherothrombotic infarction, <br>Cerebral Embolism, <br>Intracerebral HemorrhAGE, <br> or Subarachnoid HemorrhAGE, <br> or Fatal Cerebrovascular Disease|0=Event did not occur during follow up <br> 1=Event occurred during followup|\n",
    "|DEATH|Death from any cause|0=Event did not occur during follow up <br> 1=Event occurred during followup|"
   ]
  },
  {
   "cell_type": "code",
   "execution_count": 1,
   "metadata": {},
   "outputs": [
    {
     "data": {
      "text/html": [
       "<table class=\"dataframe\">\n",
       "<caption>A data.frame: 6 × 39</caption>\n",
       "<thead>\n",
       "\t<tr><th></th><th scope=col>RANDID</th><th scope=col>SEX</th><th scope=col>TOTCHOL</th><th scope=col>AGE</th><th scope=col>SYSBP</th><th scope=col>DIABP</th><th scope=col>CURSMOKE</th><th scope=col>CIGPDAY</th><th scope=col>BMI</th><th scope=col>DIABETES</th><th scope=col>⋯</th><th scope=col>CVD</th><th scope=col>HYPERTEN</th><th scope=col>TIMEAP</th><th scope=col>TIMEMI</th><th scope=col>TIMEMIFC</th><th scope=col>TIMECHD</th><th scope=col>TIMESTRK</th><th scope=col>TIMECVD</th><th scope=col>TIMEDTH</th><th scope=col>TIMEHYP</th></tr>\n",
       "\t<tr><th></th><th scope=col>&lt;int&gt;</th><th scope=col>&lt;int&gt;</th><th scope=col>&lt;int&gt;</th><th scope=col>&lt;int&gt;</th><th scope=col>&lt;dbl&gt;</th><th scope=col>&lt;dbl&gt;</th><th scope=col>&lt;int&gt;</th><th scope=col>&lt;int&gt;</th><th scope=col>&lt;dbl&gt;</th><th scope=col>&lt;int&gt;</th><th scope=col>⋯</th><th scope=col>&lt;int&gt;</th><th scope=col>&lt;int&gt;</th><th scope=col>&lt;int&gt;</th><th scope=col>&lt;int&gt;</th><th scope=col>&lt;int&gt;</th><th scope=col>&lt;int&gt;</th><th scope=col>&lt;int&gt;</th><th scope=col>&lt;int&gt;</th><th scope=col>&lt;int&gt;</th><th scope=col>&lt;int&gt;</th></tr>\n",
       "</thead>\n",
       "<tbody>\n",
       "\t<tr><th scope=row>1</th><td>2448</td><td>1</td><td>195</td><td>39</td><td>106.0</td><td>70.0</td><td>0</td><td> 0</td><td>26.97</td><td>0</td><td>⋯</td><td>1</td><td>0</td><td>8766</td><td>6438</td><td>6438</td><td>6438</td><td>8766</td><td>6438</td><td>8766</td><td>8766</td></tr>\n",
       "\t<tr><th scope=row>2</th><td>2448</td><td>1</td><td>209</td><td>52</td><td>121.0</td><td>66.0</td><td>0</td><td> 0</td><td>   NA</td><td>0</td><td>⋯</td><td>1</td><td>0</td><td>8766</td><td>6438</td><td>6438</td><td>6438</td><td>8766</td><td>6438</td><td>8766</td><td>8766</td></tr>\n",
       "\t<tr><th scope=row>3</th><td>6238</td><td>2</td><td>250</td><td>46</td><td>121.0</td><td>81.0</td><td>0</td><td> 0</td><td>28.73</td><td>0</td><td>⋯</td><td>0</td><td>0</td><td>8766</td><td>8766</td><td>8766</td><td>8766</td><td>8766</td><td>8766</td><td>8766</td><td>8766</td></tr>\n",
       "\t<tr><th scope=row>4</th><td>6238</td><td>2</td><td>260</td><td>52</td><td>105.0</td><td>69.5</td><td>0</td><td> 0</td><td>29.43</td><td>0</td><td>⋯</td><td>0</td><td>0</td><td>8766</td><td>8766</td><td>8766</td><td>8766</td><td>8766</td><td>8766</td><td>8766</td><td>8766</td></tr>\n",
       "\t<tr><th scope=row>5</th><td>6238</td><td>2</td><td>237</td><td>58</td><td>108.0</td><td>66.0</td><td>0</td><td> 0</td><td>28.50</td><td>0</td><td>⋯</td><td>0</td><td>0</td><td>8766</td><td>8766</td><td>8766</td><td>8766</td><td>8766</td><td>8766</td><td>8766</td><td>8766</td></tr>\n",
       "\t<tr><th scope=row>6</th><td>9428</td><td>1</td><td>245</td><td>48</td><td>127.5</td><td>80.0</td><td>1</td><td>20</td><td>25.34</td><td>0</td><td>⋯</td><td>0</td><td>0</td><td>8766</td><td>8766</td><td>8766</td><td>8766</td><td>8766</td><td>8766</td><td>8766</td><td>8766</td></tr>\n",
       "</tbody>\n",
       "</table>\n"
      ],
      "text/latex": [
       "A data.frame: 6 × 39\n",
       "\\begin{tabular}{r|lllllllllllllllllllll}\n",
       "  & RANDID & SEX & TOTCHOL & AGE & SYSBP & DIABP & CURSMOKE & CIGPDAY & BMI & DIABETES & ⋯ & CVD & HYPERTEN & TIMEAP & TIMEMI & TIMEMIFC & TIMECHD & TIMESTRK & TIMECVD & TIMEDTH & TIMEHYP\\\\\n",
       "  & <int> & <int> & <int> & <int> & <dbl> & <dbl> & <int> & <int> & <dbl> & <int> & ⋯ & <int> & <int> & <int> & <int> & <int> & <int> & <int> & <int> & <int> & <int>\\\\\n",
       "\\hline\n",
       "\t1 & 2448 & 1 & 195 & 39 & 106.0 & 70.0 & 0 &  0 & 26.97 & 0 & ⋯ & 1 & 0 & 8766 & 6438 & 6438 & 6438 & 8766 & 6438 & 8766 & 8766\\\\\n",
       "\t2 & 2448 & 1 & 209 & 52 & 121.0 & 66.0 & 0 &  0 &    NA & 0 & ⋯ & 1 & 0 & 8766 & 6438 & 6438 & 6438 & 8766 & 6438 & 8766 & 8766\\\\\n",
       "\t3 & 6238 & 2 & 250 & 46 & 121.0 & 81.0 & 0 &  0 & 28.73 & 0 & ⋯ & 0 & 0 & 8766 & 8766 & 8766 & 8766 & 8766 & 8766 & 8766 & 8766\\\\\n",
       "\t4 & 6238 & 2 & 260 & 52 & 105.0 & 69.5 & 0 &  0 & 29.43 & 0 & ⋯ & 0 & 0 & 8766 & 8766 & 8766 & 8766 & 8766 & 8766 & 8766 & 8766\\\\\n",
       "\t5 & 6238 & 2 & 237 & 58 & 108.0 & 66.0 & 0 &  0 & 28.50 & 0 & ⋯ & 0 & 0 & 8766 & 8766 & 8766 & 8766 & 8766 & 8766 & 8766 & 8766\\\\\n",
       "\t6 & 9428 & 1 & 245 & 48 & 127.5 & 80.0 & 1 & 20 & 25.34 & 0 & ⋯ & 0 & 0 & 8766 & 8766 & 8766 & 8766 & 8766 & 8766 & 8766 & 8766\\\\\n",
       "\\end{tabular}\n"
      ],
      "text/markdown": [
       "\n",
       "A data.frame: 6 × 39\n",
       "\n",
       "| <!--/--> | RANDID &lt;int&gt; | SEX &lt;int&gt; | TOTCHOL &lt;int&gt; | AGE &lt;int&gt; | SYSBP &lt;dbl&gt; | DIABP &lt;dbl&gt; | CURSMOKE &lt;int&gt; | CIGPDAY &lt;int&gt; | BMI &lt;dbl&gt; | DIABETES &lt;int&gt; | ⋯ ⋯ | CVD &lt;int&gt; | HYPERTEN &lt;int&gt; | TIMEAP &lt;int&gt; | TIMEMI &lt;int&gt; | TIMEMIFC &lt;int&gt; | TIMECHD &lt;int&gt; | TIMESTRK &lt;int&gt; | TIMECVD &lt;int&gt; | TIMEDTH &lt;int&gt; | TIMEHYP &lt;int&gt; |\n",
       "|---|---|---|---|---|---|---|---|---|---|---|---|---|---|---|---|---|---|---|---|---|---|\n",
       "| 1 | 2448 | 1 | 195 | 39 | 106.0 | 70.0 | 0 |  0 | 26.97 | 0 | ⋯ | 1 | 0 | 8766 | 6438 | 6438 | 6438 | 8766 | 6438 | 8766 | 8766 |\n",
       "| 2 | 2448 | 1 | 209 | 52 | 121.0 | 66.0 | 0 |  0 |    NA | 0 | ⋯ | 1 | 0 | 8766 | 6438 | 6438 | 6438 | 8766 | 6438 | 8766 | 8766 |\n",
       "| 3 | 6238 | 2 | 250 | 46 | 121.0 | 81.0 | 0 |  0 | 28.73 | 0 | ⋯ | 0 | 0 | 8766 | 8766 | 8766 | 8766 | 8766 | 8766 | 8766 | 8766 |\n",
       "| 4 | 6238 | 2 | 260 | 52 | 105.0 | 69.5 | 0 |  0 | 29.43 | 0 | ⋯ | 0 | 0 | 8766 | 8766 | 8766 | 8766 | 8766 | 8766 | 8766 | 8766 |\n",
       "| 5 | 6238 | 2 | 237 | 58 | 108.0 | 66.0 | 0 |  0 | 28.50 | 0 | ⋯ | 0 | 0 | 8766 | 8766 | 8766 | 8766 | 8766 | 8766 | 8766 | 8766 |\n",
       "| 6 | 9428 | 1 | 245 | 48 | 127.5 | 80.0 | 1 | 20 | 25.34 | 0 | ⋯ | 0 | 0 | 8766 | 8766 | 8766 | 8766 | 8766 | 8766 | 8766 | 8766 |\n",
       "\n"
      ],
      "text/plain": [
       "  RANDID SEX TOTCHOL AGE SYSBP DIABP CURSMOKE CIGPDAY BMI   DIABETES ⋯ CVD\n",
       "1 2448   1   195     39  106.0 70.0  0         0      26.97 0        ⋯ 1  \n",
       "2 2448   1   209     52  121.0 66.0  0         0         NA 0        ⋯ 1  \n",
       "3 6238   2   250     46  121.0 81.0  0         0      28.73 0        ⋯ 0  \n",
       "4 6238   2   260     52  105.0 69.5  0         0      29.43 0        ⋯ 0  \n",
       "5 6238   2   237     58  108.0 66.0  0         0      28.50 0        ⋯ 0  \n",
       "6 9428   1   245     48  127.5 80.0  1        20      25.34 0        ⋯ 0  \n",
       "  HYPERTEN TIMEAP TIMEMI TIMEMIFC TIMECHD TIMESTRK TIMECVD TIMEDTH TIMEHYP\n",
       "1 0        8766   6438   6438     6438    8766     6438    8766    8766   \n",
       "2 0        8766   6438   6438     6438    8766     6438    8766    8766   \n",
       "3 0        8766   8766   8766     8766    8766     8766    8766    8766   \n",
       "4 0        8766   8766   8766     8766    8766     8766    8766    8766   \n",
       "5 0        8766   8766   8766     8766    8766     8766    8766    8766   \n",
       "6 0        8766   8766   8766     8766    8766     8766    8766    8766   "
      ]
     },
     "metadata": {},
     "output_type": "display_data"
    }
   ],
   "source": [
    "framingham = read.csv('/Users/silviacatalina/Google Drive/BethelTech/GitHub/wozU-DataSci/DS0110-FinalProject/Framingham/Data/csv/frmgham2.csv', na.strings = \".\")\n",
    "head(framingham)"
   ]
  },
  {
   "cell_type": "code",
   "execution_count": 3,
   "metadata": {},
   "outputs": [
    {
     "name": "stdout",
     "output_type": "stream",
     "text": [
      "'data.frame':\t11627 obs. of  39 variables:\n",
      " $ RANDID  : int  2448 2448 6238 6238 6238 9428 9428 10552 10552 11252 ...\n",
      " $ SEX     : int  1 1 2 2 2 1 1 2 2 2 ...\n",
      " $ TOTCHOL : int  195 209 250 260 237 245 283 225 232 285 ...\n",
      " $ AGE     : int  39 52 46 52 58 48 54 61 67 46 ...\n",
      " $ SYSBP   : num  106 121 121 105 108 ...\n",
      " $ DIABP   : num  70 66 81 69.5 66 80 89 95 109 84 ...\n",
      " $ CURSMOKE: int  0 0 0 0 0 1 1 1 1 1 ...\n",
      " $ CIGPDAY : int  0 0 0 0 0 20 30 30 20 23 ...\n",
      " $ BMI     : num  27 NA 28.7 29.4 28.5 ...\n",
      " $ DIABETES: int  0 0 0 0 0 0 0 0 0 0 ...\n",
      " $ BPMEDS  : int  0 0 0 0 0 0 0 0 0 0 ...\n",
      " $ HEARTRTE: int  80 69 95 80 80 75 75 65 60 85 ...\n",
      " $ GLUCOSE : int  77 92 76 86 71 70 87 103 89 85 ...\n",
      " $ educ    : int  4 4 2 2 2 1 1 3 3 3 ...\n",
      " $ PREVCHD : int  0 0 0 0 0 0 0 0 0 0 ...\n",
      " $ PREVAP  : int  0 0 0 0 0 0 0 0 0 0 ...\n",
      " $ PREVMI  : int  0 0 0 0 0 0 0 0 0 0 ...\n",
      " $ PREVSTRK: int  0 0 0 0 0 0 0 0 0 0 ...\n",
      " $ PREVHYP : int  0 0 0 0 0 0 0 1 1 0 ...\n",
      " $ TIME    : int  0 4628 0 2156 4344 0 2199 0 1977 0 ...\n",
      " $ PERIOD  : int  1 3 1 2 3 1 2 1 2 1 ...\n",
      " $ HDLC    : int  NA 31 NA NA 54 NA NA NA NA NA ...\n",
      " $ LDLC    : int  NA 178 NA NA 141 NA NA NA NA NA ...\n",
      " $ DEATH   : int  0 0 0 0 0 0 0 1 1 0 ...\n",
      " $ ANGINA  : int  0 0 0 0 0 0 0 0 0 0 ...\n",
      " $ HOSPMI  : int  1 1 0 0 0 0 0 0 0 0 ...\n",
      " $ MI_FCHD : int  1 1 0 0 0 0 0 0 0 0 ...\n",
      " $ ANYCHD  : int  1 1 0 0 0 0 0 0 0 0 ...\n",
      " $ STROKE  : int  0 0 0 0 0 0 0 1 1 0 ...\n",
      " $ CVD     : int  1 1 0 0 0 0 0 1 1 0 ...\n",
      " $ HYPERTEN: int  0 0 0 0 0 0 0 1 1 1 ...\n",
      " $ TIMEAP  : int  8766 8766 8766 8766 8766 8766 8766 2956 2956 8766 ...\n",
      " $ TIMEMI  : int  6438 6438 8766 8766 8766 8766 8766 2956 2956 8766 ...\n",
      " $ TIMEMIFC: int  6438 6438 8766 8766 8766 8766 8766 2956 2956 8766 ...\n",
      " $ TIMECHD : int  6438 6438 8766 8766 8766 8766 8766 2956 2956 8766 ...\n",
      " $ TIMESTRK: int  8766 8766 8766 8766 8766 8766 8766 2089 2089 8766 ...\n",
      " $ TIMECVD : int  6438 6438 8766 8766 8766 8766 8766 2089 2089 8766 ...\n",
      " $ TIMEDTH : int  8766 8766 8766 8766 8766 8766 8766 2956 2956 8766 ...\n",
      " $ TIMEHYP : int  8766 8766 8766 8766 8766 8766 8766 0 0 4285 ...\n"
     ]
    }
   ],
   "source": [
    "str(framingham)"
   ]
  },
  {
   "cell_type": "markdown",
   "metadata": {},
   "source": [
    "# Data Wrangling"
   ]
  },
  {
   "cell_type": "markdown",
   "metadata": {},
   "source": [
    "## Select Columns of interest"
   ]
  },
  {
   "cell_type": "code",
   "execution_count": 4,
   "metadata": {},
   "outputs": [
    {
     "name": "stdout",
     "output_type": "stream",
     "text": [
      "'data.frame':\t11627 obs. of  18 variables:\n",
      " $ RANDID  : int  2448 2448 6238 6238 6238 9428 9428 10552 10552 11252 ...\n",
      " $ SEX     : int  1 1 2 2 2 1 1 2 2 2 ...\n",
      " $ PERIOD  : int  1 3 1 2 3 1 2 1 2 1 ...\n",
      " $ AGE     : int  39 52 46 52 58 48 54 61 67 46 ...\n",
      " $ SYSBP   : num  106 121 121 105 108 ...\n",
      " $ DIABP   : num  70 66 81 69.5 66 80 89 95 109 84 ...\n",
      " $ BPMEDS  : int  0 0 0 0 0 0 0 0 0 0 ...\n",
      " $ CURSMOKE: int  0 0 0 0 0 1 1 1 1 1 ...\n",
      " $ CIGPDAY : int  0 0 0 0 0 20 30 30 20 23 ...\n",
      " $ TOTCHOL : int  195 209 250 260 237 245 283 225 232 285 ...\n",
      " $ BMI     : num  27 NA 28.7 29.4 28.5 ...\n",
      " $ GLUCOSE : int  77 92 76 86 71 70 87 103 89 85 ...\n",
      " $ DIABETES: int  0 0 0 0 0 0 0 0 0 0 ...\n",
      " $ HEARTRTE: int  80 69 95 80 80 75 75 65 60 85 ...\n",
      " $ PREVHYP : int  0 0 0 0 0 0 0 1 1 0 ...\n",
      " $ ANYCHD  : int  1 1 0 0 0 0 0 0 0 0 ...\n",
      " $ STROKE  : int  0 0 0 0 0 0 0 1 1 0 ...\n",
      " $ DEATH   : int  0 0 0 0 0 0 0 1 1 0 ...\n"
     ]
    }
   ],
   "source": [
    "keep=c('RANDID', 'SEX', 'PERIOD', 'AGE', 'SYSBP', 'DIABP', 'BPMEDS', 'CURSMOKE', 'CIGPDAY', 'TOTCHOL', \n",
    "       'BMI', 'GLUCOSE', 'DIABETES', 'HEARTRTE', 'PREVHYP', 'ANYCHD', 'STROKE', 'DEATH')\n",
    "framingham1 = framingham[keep]\n",
    "str(framingham1)"
   ]
  },
  {
   "cell_type": "markdown",
   "metadata": {},
   "source": [
    "## Split Dataset into Periods 1, 2, 3; Remove NAs"
   ]
  },
  {
   "cell_type": "code",
   "execution_count": 5,
   "metadata": {},
   "outputs": [
    {
     "data": {
      "text/html": [
       "<table class=\"dataframe\">\n",
       "<caption>A data.frame: 6 × 17</caption>\n",
       "<thead>\n",
       "\t<tr><th></th><th scope=col>RANDID</th><th scope=col>SEX</th><th scope=col>AGE</th><th scope=col>SYSBP</th><th scope=col>DIABP</th><th scope=col>BPMEDS</th><th scope=col>CURSMOKE</th><th scope=col>CIGPDAY</th><th scope=col>TOTCHOL</th><th scope=col>BMI</th><th scope=col>GLUCOSE</th><th scope=col>DIABETES</th><th scope=col>HEARTRTE</th><th scope=col>PREVHYP</th><th scope=col>ANYCHD</th><th scope=col>STROKE</th><th scope=col>DEATH</th></tr>\n",
       "\t<tr><th></th><th scope=col>&lt;int&gt;</th><th scope=col>&lt;int&gt;</th><th scope=col>&lt;int&gt;</th><th scope=col>&lt;dbl&gt;</th><th scope=col>&lt;dbl&gt;</th><th scope=col>&lt;int&gt;</th><th scope=col>&lt;int&gt;</th><th scope=col>&lt;int&gt;</th><th scope=col>&lt;int&gt;</th><th scope=col>&lt;dbl&gt;</th><th scope=col>&lt;int&gt;</th><th scope=col>&lt;int&gt;</th><th scope=col>&lt;int&gt;</th><th scope=col>&lt;int&gt;</th><th scope=col>&lt;int&gt;</th><th scope=col>&lt;int&gt;</th><th scope=col>&lt;int&gt;</th></tr>\n",
       "</thead>\n",
       "<tbody>\n",
       "\t<tr><th scope=row>1</th><td> 2448</td><td>1</td><td>39</td><td>106.0</td><td> 70</td><td>0</td><td>0</td><td> 0</td><td>195</td><td>26.97</td><td> 77</td><td>0</td><td>80</td><td>0</td><td>1</td><td>0</td><td>0</td></tr>\n",
       "\t<tr><th scope=row>2</th><td> 6238</td><td>2</td><td>46</td><td>121.0</td><td> 81</td><td>0</td><td>0</td><td> 0</td><td>250</td><td>28.73</td><td> 76</td><td>0</td><td>95</td><td>0</td><td>0</td><td>0</td><td>0</td></tr>\n",
       "\t<tr><th scope=row>3</th><td> 9428</td><td>1</td><td>48</td><td>127.5</td><td> 80</td><td>0</td><td>1</td><td>20</td><td>245</td><td>25.34</td><td> 70</td><td>0</td><td>75</td><td>0</td><td>0</td><td>0</td><td>0</td></tr>\n",
       "\t<tr><th scope=row>4</th><td>10552</td><td>2</td><td>61</td><td>150.0</td><td> 95</td><td>0</td><td>1</td><td>30</td><td>225</td><td>28.58</td><td>103</td><td>0</td><td>65</td><td>1</td><td>0</td><td>1</td><td>1</td></tr>\n",
       "\t<tr><th scope=row>5</th><td>11252</td><td>2</td><td>46</td><td>130.0</td><td> 84</td><td>0</td><td>1</td><td>23</td><td>285</td><td>23.10</td><td> 85</td><td>0</td><td>85</td><td>0</td><td>0</td><td>0</td><td>0</td></tr>\n",
       "\t<tr><th scope=row>6</th><td>11263</td><td>2</td><td>43</td><td>180.0</td><td>110</td><td>0</td><td>0</td><td> 0</td><td>228</td><td>30.30</td><td> 99</td><td>0</td><td>77</td><td>1</td><td>1</td><td>0</td><td>0</td></tr>\n",
       "</tbody>\n",
       "</table>\n"
      ],
      "text/latex": [
       "A data.frame: 6 × 17\n",
       "\\begin{tabular}{r|lllllllllllllllll}\n",
       "  & RANDID & SEX & AGE & SYSBP & DIABP & BPMEDS & CURSMOKE & CIGPDAY & TOTCHOL & BMI & GLUCOSE & DIABETES & HEARTRTE & PREVHYP & ANYCHD & STROKE & DEATH\\\\\n",
       "  & <int> & <int> & <int> & <dbl> & <dbl> & <int> & <int> & <int> & <int> & <dbl> & <int> & <int> & <int> & <int> & <int> & <int> & <int>\\\\\n",
       "\\hline\n",
       "\t1 &  2448 & 1 & 39 & 106.0 &  70 & 0 & 0 &  0 & 195 & 26.97 &  77 & 0 & 80 & 0 & 1 & 0 & 0\\\\\n",
       "\t2 &  6238 & 2 & 46 & 121.0 &  81 & 0 & 0 &  0 & 250 & 28.73 &  76 & 0 & 95 & 0 & 0 & 0 & 0\\\\\n",
       "\t3 &  9428 & 1 & 48 & 127.5 &  80 & 0 & 1 & 20 & 245 & 25.34 &  70 & 0 & 75 & 0 & 0 & 0 & 0\\\\\n",
       "\t4 & 10552 & 2 & 61 & 150.0 &  95 & 0 & 1 & 30 & 225 & 28.58 & 103 & 0 & 65 & 1 & 0 & 1 & 1\\\\\n",
       "\t5 & 11252 & 2 & 46 & 130.0 &  84 & 0 & 1 & 23 & 285 & 23.10 &  85 & 0 & 85 & 0 & 0 & 0 & 0\\\\\n",
       "\t6 & 11263 & 2 & 43 & 180.0 & 110 & 0 & 0 &  0 & 228 & 30.30 &  99 & 0 & 77 & 1 & 1 & 0 & 0\\\\\n",
       "\\end{tabular}\n"
      ],
      "text/markdown": [
       "\n",
       "A data.frame: 6 × 17\n",
       "\n",
       "| <!--/--> | RANDID &lt;int&gt; | SEX &lt;int&gt; | AGE &lt;int&gt; | SYSBP &lt;dbl&gt; | DIABP &lt;dbl&gt; | BPMEDS &lt;int&gt; | CURSMOKE &lt;int&gt; | CIGPDAY &lt;int&gt; | TOTCHOL &lt;int&gt; | BMI &lt;dbl&gt; | GLUCOSE &lt;int&gt; | DIABETES &lt;int&gt; | HEARTRTE &lt;int&gt; | PREVHYP &lt;int&gt; | ANYCHD &lt;int&gt; | STROKE &lt;int&gt; | DEATH &lt;int&gt; |\n",
       "|---|---|---|---|---|---|---|---|---|---|---|---|---|---|---|---|---|---|\n",
       "| 1 |  2448 | 1 | 39 | 106.0 |  70 | 0 | 0 |  0 | 195 | 26.97 |  77 | 0 | 80 | 0 | 1 | 0 | 0 |\n",
       "| 2 |  6238 | 2 | 46 | 121.0 |  81 | 0 | 0 |  0 | 250 | 28.73 |  76 | 0 | 95 | 0 | 0 | 0 | 0 |\n",
       "| 3 |  9428 | 1 | 48 | 127.5 |  80 | 0 | 1 | 20 | 245 | 25.34 |  70 | 0 | 75 | 0 | 0 | 0 | 0 |\n",
       "| 4 | 10552 | 2 | 61 | 150.0 |  95 | 0 | 1 | 30 | 225 | 28.58 | 103 | 0 | 65 | 1 | 0 | 1 | 1 |\n",
       "| 5 | 11252 | 2 | 46 | 130.0 |  84 | 0 | 1 | 23 | 285 | 23.10 |  85 | 0 | 85 | 0 | 0 | 0 | 0 |\n",
       "| 6 | 11263 | 2 | 43 | 180.0 | 110 | 0 | 0 |  0 | 228 | 30.30 |  99 | 0 | 77 | 1 | 1 | 0 | 0 |\n",
       "\n"
      ],
      "text/plain": [
       "  RANDID SEX AGE SYSBP DIABP BPMEDS CURSMOKE CIGPDAY TOTCHOL BMI   GLUCOSE\n",
       "1  2448  1   39  106.0  70   0      0         0      195     26.97  77    \n",
       "2  6238  2   46  121.0  81   0      0         0      250     28.73  76    \n",
       "3  9428  1   48  127.5  80   0      1        20      245     25.34  70    \n",
       "4 10552  2   61  150.0  95   0      1        30      225     28.58 103    \n",
       "5 11252  2   46  130.0  84   0      1        23      285     23.10  85    \n",
       "6 11263  2   43  180.0 110   0      0         0      228     30.30  99    \n",
       "  DIABETES HEARTRTE PREVHYP ANYCHD STROKE DEATH\n",
       "1 0        80       0       1      0      0    \n",
       "2 0        95       0       0      0      0    \n",
       "3 0        75       0       0      0      0    \n",
       "4 0        65       1       0      1      1    \n",
       "5 0        85       0       0      0      0    \n",
       "6 0        77       1       1      0      0    "
      ]
     },
     "metadata": {},
     "output_type": "display_data"
    }
   ],
   "source": [
    "framinghamP1 = framingham1 %>% filter(PERIOD == 1)\n",
    "framinghamP1 = subset(framinghamP1, select  = - PERIOD)\n",
    "framinghamP1 = NaRV.omit(framinghamP1)\n",
    "rownames(framinghamP1) = NULL\n",
    "head(framinghamP1)"
   ]
  },
  {
   "cell_type": "code",
   "execution_count": 28,
   "metadata": {},
   "outputs": [
    {
     "data": {
      "text/html": [
       "<table class=\"dataframe\">\n",
       "<caption>A data.frame: 6 × 17</caption>\n",
       "<thead>\n",
       "\t<tr><th></th><th scope=col>RANDID</th><th scope=col>SEX</th><th scope=col>AGE</th><th scope=col>SYSBP</th><th scope=col>DIABP</th><th scope=col>BPMEDS</th><th scope=col>CURSMOKE</th><th scope=col>CIGPDAY</th><th scope=col>TOTCHOL</th><th scope=col>BMI</th><th scope=col>GLUCOSE</th><th scope=col>DIABETES</th><th scope=col>HEARTRTE</th><th scope=col>PREVHYP</th><th scope=col>ANYCHD</th><th scope=col>STROKE</th><th scope=col>DEATH</th></tr>\n",
       "\t<tr><th></th><th scope=col>&lt;int&gt;</th><th scope=col>&lt;int&gt;</th><th scope=col>&lt;int&gt;</th><th scope=col>&lt;dbl&gt;</th><th scope=col>&lt;dbl&gt;</th><th scope=col>&lt;int&gt;</th><th scope=col>&lt;int&gt;</th><th scope=col>&lt;int&gt;</th><th scope=col>&lt;int&gt;</th><th scope=col>&lt;dbl&gt;</th><th scope=col>&lt;int&gt;</th><th scope=col>&lt;int&gt;</th><th scope=col>&lt;int&gt;</th><th scope=col>&lt;int&gt;</th><th scope=col>&lt;int&gt;</th><th scope=col>&lt;int&gt;</th><th scope=col>&lt;int&gt;</th></tr>\n",
       "</thead>\n",
       "<tbody>\n",
       "\t<tr><th scope=row>1</th><td> 6238</td><td>2</td><td>52</td><td>105</td><td> 69.5</td><td>0</td><td>0</td><td> 0</td><td>260</td><td>29.43</td><td>86</td><td>0</td><td> 80</td><td>0</td><td>0</td><td>0</td><td>0</td></tr>\n",
       "\t<tr><th scope=row>2</th><td> 9428</td><td>1</td><td>54</td><td>141</td><td> 89.0</td><td>0</td><td>1</td><td>30</td><td>283</td><td>25.34</td><td>87</td><td>0</td><td> 75</td><td>0</td><td>0</td><td>0</td><td>0</td></tr>\n",
       "\t<tr><th scope=row>3</th><td>10552</td><td>2</td><td>67</td><td>183</td><td>109.0</td><td>0</td><td>1</td><td>20</td><td>232</td><td>30.18</td><td>89</td><td>0</td><td> 60</td><td>1</td><td>0</td><td>1</td><td>1</td></tr>\n",
       "\t<tr><th scope=row>4</th><td>11252</td><td>2</td><td>51</td><td>109</td><td> 77.0</td><td>0</td><td>1</td><td>30</td><td>343</td><td>23.48</td><td>72</td><td>0</td><td> 90</td><td>0</td><td>0</td><td>0</td><td>0</td></tr>\n",
       "\t<tr><th scope=row>5</th><td>11263</td><td>2</td><td>49</td><td>177</td><td>102.0</td><td>1</td><td>0</td><td> 0</td><td>230</td><td>31.36</td><td>86</td><td>0</td><td>120</td><td>1</td><td>1</td><td>0</td><td>0</td></tr>\n",
       "\t<tr><th scope=row>6</th><td>12629</td><td>2</td><td>70</td><td>149</td><td> 81.0</td><td>0</td><td>0</td><td> 0</td><td>220</td><td>36.76</td><td>98</td><td>0</td><td> 80</td><td>1</td><td>1</td><td>0</td><td>0</td></tr>\n",
       "</tbody>\n",
       "</table>\n"
      ],
      "text/latex": [
       "A data.frame: 6 × 17\n",
       "\\begin{tabular}{r|lllllllllllllllll}\n",
       "  & RANDID & SEX & AGE & SYSBP & DIABP & BPMEDS & CURSMOKE & CIGPDAY & TOTCHOL & BMI & GLUCOSE & DIABETES & HEARTRTE & PREVHYP & ANYCHD & STROKE & DEATH\\\\\n",
       "  & <int> & <int> & <int> & <dbl> & <dbl> & <int> & <int> & <int> & <int> & <dbl> & <int> & <int> & <int> & <int> & <int> & <int> & <int>\\\\\n",
       "\\hline\n",
       "\t1 &  6238 & 2 & 52 & 105 &  69.5 & 0 & 0 &  0 & 260 & 29.43 & 86 & 0 &  80 & 0 & 0 & 0 & 0\\\\\n",
       "\t2 &  9428 & 1 & 54 & 141 &  89.0 & 0 & 1 & 30 & 283 & 25.34 & 87 & 0 &  75 & 0 & 0 & 0 & 0\\\\\n",
       "\t3 & 10552 & 2 & 67 & 183 & 109.0 & 0 & 1 & 20 & 232 & 30.18 & 89 & 0 &  60 & 1 & 0 & 1 & 1\\\\\n",
       "\t4 & 11252 & 2 & 51 & 109 &  77.0 & 0 & 1 & 30 & 343 & 23.48 & 72 & 0 &  90 & 0 & 0 & 0 & 0\\\\\n",
       "\t5 & 11263 & 2 & 49 & 177 & 102.0 & 1 & 0 &  0 & 230 & 31.36 & 86 & 0 & 120 & 1 & 1 & 0 & 0\\\\\n",
       "\t6 & 12629 & 2 & 70 & 149 &  81.0 & 0 & 0 &  0 & 220 & 36.76 & 98 & 0 &  80 & 1 & 1 & 0 & 0\\\\\n",
       "\\end{tabular}\n"
      ],
      "text/markdown": [
       "\n",
       "A data.frame: 6 × 17\n",
       "\n",
       "| <!--/--> | RANDID &lt;int&gt; | SEX &lt;int&gt; | AGE &lt;int&gt; | SYSBP &lt;dbl&gt; | DIABP &lt;dbl&gt; | BPMEDS &lt;int&gt; | CURSMOKE &lt;int&gt; | CIGPDAY &lt;int&gt; | TOTCHOL &lt;int&gt; | BMI &lt;dbl&gt; | GLUCOSE &lt;int&gt; | DIABETES &lt;int&gt; | HEARTRTE &lt;int&gt; | PREVHYP &lt;int&gt; | ANYCHD &lt;int&gt; | STROKE &lt;int&gt; | DEATH &lt;int&gt; |\n",
       "|---|---|---|---|---|---|---|---|---|---|---|---|---|---|---|---|---|---|\n",
       "| 1 |  6238 | 2 | 52 | 105 |  69.5 | 0 | 0 |  0 | 260 | 29.43 | 86 | 0 |  80 | 0 | 0 | 0 | 0 |\n",
       "| 2 |  9428 | 1 | 54 | 141 |  89.0 | 0 | 1 | 30 | 283 | 25.34 | 87 | 0 |  75 | 0 | 0 | 0 | 0 |\n",
       "| 3 | 10552 | 2 | 67 | 183 | 109.0 | 0 | 1 | 20 | 232 | 30.18 | 89 | 0 |  60 | 1 | 0 | 1 | 1 |\n",
       "| 4 | 11252 | 2 | 51 | 109 |  77.0 | 0 | 1 | 30 | 343 | 23.48 | 72 | 0 |  90 | 0 | 0 | 0 | 0 |\n",
       "| 5 | 11263 | 2 | 49 | 177 | 102.0 | 1 | 0 |  0 | 230 | 31.36 | 86 | 0 | 120 | 1 | 1 | 0 | 0 |\n",
       "| 6 | 12629 | 2 | 70 | 149 |  81.0 | 0 | 0 |  0 | 220 | 36.76 | 98 | 0 |  80 | 1 | 1 | 0 | 0 |\n",
       "\n"
      ],
      "text/plain": [
       "  RANDID SEX AGE SYSBP DIABP BPMEDS CURSMOKE CIGPDAY TOTCHOL BMI   GLUCOSE\n",
       "1  6238  2   52  105    69.5 0      0         0      260     29.43 86     \n",
       "2  9428  1   54  141    89.0 0      1        30      283     25.34 87     \n",
       "3 10552  2   67  183   109.0 0      1        20      232     30.18 89     \n",
       "4 11252  2   51  109    77.0 0      1        30      343     23.48 72     \n",
       "5 11263  2   49  177   102.0 1      0         0      230     31.36 86     \n",
       "6 12629  2   70  149    81.0 0      0         0      220     36.76 98     \n",
       "  DIABETES HEARTRTE PREVHYP ANYCHD STROKE DEATH\n",
       "1 0         80      0       0      0      0    \n",
       "2 0         75      0       0      0      0    \n",
       "3 0         60      1       0      1      1    \n",
       "4 0         90      0       0      0      0    \n",
       "5 0        120      1       1      0      0    \n",
       "6 0         80      1       1      0      0    "
      ]
     },
     "metadata": {},
     "output_type": "display_data"
    }
   ],
   "source": [
    "framinghamP2 = framingham1 %>% filter(PERIOD == 2)\n",
    "framinghamP2 = subset(framinghamP2, select  = - PERIOD)\n",
    "framinghamP2 = NaRV.omit(framinghamP2)\n",
    "rownames(framinghamP2) = NULL\n",
    "head(framinghamP2)"
   ]
  },
  {
   "cell_type": "code",
   "execution_count": 27,
   "metadata": {},
   "outputs": [
    {
     "data": {
      "text/html": [
       "<table class=\"dataframe\">\n",
       "<caption>A data.frame: 6 × 17</caption>\n",
       "<thead>\n",
       "\t<tr><th></th><th scope=col>RANDID</th><th scope=col>SEX</th><th scope=col>AGE</th><th scope=col>SYSBP</th><th scope=col>DIABP</th><th scope=col>BPMEDS</th><th scope=col>CURSMOKE</th><th scope=col>CIGPDAY</th><th scope=col>TOTCHOL</th><th scope=col>BMI</th><th scope=col>GLUCOSE</th><th scope=col>DIABETES</th><th scope=col>HEARTRTE</th><th scope=col>PREVHYP</th><th scope=col>ANYCHD</th><th scope=col>STROKE</th><th scope=col>DEATH</th></tr>\n",
       "\t<tr><th></th><th scope=col>&lt;int&gt;</th><th scope=col>&lt;int&gt;</th><th scope=col>&lt;int&gt;</th><th scope=col>&lt;dbl&gt;</th><th scope=col>&lt;dbl&gt;</th><th scope=col>&lt;int&gt;</th><th scope=col>&lt;int&gt;</th><th scope=col>&lt;int&gt;</th><th scope=col>&lt;int&gt;</th><th scope=col>&lt;dbl&gt;</th><th scope=col>&lt;int&gt;</th><th scope=col>&lt;int&gt;</th><th scope=col>&lt;int&gt;</th><th scope=col>&lt;int&gt;</th><th scope=col>&lt;int&gt;</th><th scope=col>&lt;int&gt;</th><th scope=col>&lt;int&gt;</th></tr>\n",
       "</thead>\n",
       "<tbody>\n",
       "\t<tr><th scope=row>1</th><td> 6238</td><td>2</td><td>58</td><td>108</td><td> 66</td><td>0</td><td>0</td><td> 0</td><td>237</td><td>28.50</td><td> 71</td><td>0</td><td>80</td><td>0</td><td>0</td><td>0</td><td>0</td></tr>\n",
       "\t<tr><th scope=row>2</th><td>11263</td><td>2</td><td>55</td><td>180</td><td>106</td><td>1</td><td>0</td><td> 0</td><td>220</td><td>31.17</td><td> 81</td><td>1</td><td>86</td><td>1</td><td>1</td><td>0</td><td>0</td></tr>\n",
       "\t<tr><th scope=row>3</th><td>12806</td><td>2</td><td>57</td><td>110</td><td> 46</td><td>0</td><td>1</td><td>30</td><td>320</td><td>22.02</td><td> 87</td><td>0</td><td>75</td><td>0</td><td>0</td><td>0</td><td>0</td></tr>\n",
       "\t<tr><th scope=row>4</th><td>14367</td><td>1</td><td>64</td><td>168</td><td>100</td><td>0</td><td>0</td><td> 0</td><td>280</td><td>25.72</td><td> 82</td><td>0</td><td>92</td><td>1</td><td>0</td><td>0</td><td>0</td></tr>\n",
       "\t<tr><th scope=row>5</th><td>16365</td><td>1</td><td>55</td><td>173</td><td>123</td><td>1</td><td>0</td><td> 0</td><td>211</td><td>29.11</td><td> 85</td><td>0</td><td>75</td><td>1</td><td>0</td><td>0</td><td>0</td></tr>\n",
       "\t<tr><th scope=row>6</th><td>23727</td><td>2</td><td>53</td><td>124</td><td> 78</td><td>0</td><td>0</td><td> 0</td><td>159</td><td>26.62</td><td>135</td><td>0</td><td>68</td><td>1</td><td>0</td><td>0</td><td>1</td></tr>\n",
       "</tbody>\n",
       "</table>\n"
      ],
      "text/latex": [
       "A data.frame: 6 × 17\n",
       "\\begin{tabular}{r|lllllllllllllllll}\n",
       "  & RANDID & SEX & AGE & SYSBP & DIABP & BPMEDS & CURSMOKE & CIGPDAY & TOTCHOL & BMI & GLUCOSE & DIABETES & HEARTRTE & PREVHYP & ANYCHD & STROKE & DEATH\\\\\n",
       "  & <int> & <int> & <int> & <dbl> & <dbl> & <int> & <int> & <int> & <int> & <dbl> & <int> & <int> & <int> & <int> & <int> & <int> & <int>\\\\\n",
       "\\hline\n",
       "\t1 &  6238 & 2 & 58 & 108 &  66 & 0 & 0 &  0 & 237 & 28.50 &  71 & 0 & 80 & 0 & 0 & 0 & 0\\\\\n",
       "\t2 & 11263 & 2 & 55 & 180 & 106 & 1 & 0 &  0 & 220 & 31.17 &  81 & 1 & 86 & 1 & 1 & 0 & 0\\\\\n",
       "\t3 & 12806 & 2 & 57 & 110 &  46 & 0 & 1 & 30 & 320 & 22.02 &  87 & 0 & 75 & 0 & 0 & 0 & 0\\\\\n",
       "\t4 & 14367 & 1 & 64 & 168 & 100 & 0 & 0 &  0 & 280 & 25.72 &  82 & 0 & 92 & 1 & 0 & 0 & 0\\\\\n",
       "\t5 & 16365 & 1 & 55 & 173 & 123 & 1 & 0 &  0 & 211 & 29.11 &  85 & 0 & 75 & 1 & 0 & 0 & 0\\\\\n",
       "\t6 & 23727 & 2 & 53 & 124 &  78 & 0 & 0 &  0 & 159 & 26.62 & 135 & 0 & 68 & 1 & 0 & 0 & 1\\\\\n",
       "\\end{tabular}\n"
      ],
      "text/markdown": [
       "\n",
       "A data.frame: 6 × 17\n",
       "\n",
       "| <!--/--> | RANDID &lt;int&gt; | SEX &lt;int&gt; | AGE &lt;int&gt; | SYSBP &lt;dbl&gt; | DIABP &lt;dbl&gt; | BPMEDS &lt;int&gt; | CURSMOKE &lt;int&gt; | CIGPDAY &lt;int&gt; | TOTCHOL &lt;int&gt; | BMI &lt;dbl&gt; | GLUCOSE &lt;int&gt; | DIABETES &lt;int&gt; | HEARTRTE &lt;int&gt; | PREVHYP &lt;int&gt; | ANYCHD &lt;int&gt; | STROKE &lt;int&gt; | DEATH &lt;int&gt; |\n",
       "|---|---|---|---|---|---|---|---|---|---|---|---|---|---|---|---|---|---|\n",
       "| 1 |  6238 | 2 | 58 | 108 |  66 | 0 | 0 |  0 | 237 | 28.50 |  71 | 0 | 80 | 0 | 0 | 0 | 0 |\n",
       "| 2 | 11263 | 2 | 55 | 180 | 106 | 1 | 0 |  0 | 220 | 31.17 |  81 | 1 | 86 | 1 | 1 | 0 | 0 |\n",
       "| 3 | 12806 | 2 | 57 | 110 |  46 | 0 | 1 | 30 | 320 | 22.02 |  87 | 0 | 75 | 0 | 0 | 0 | 0 |\n",
       "| 4 | 14367 | 1 | 64 | 168 | 100 | 0 | 0 |  0 | 280 | 25.72 |  82 | 0 | 92 | 1 | 0 | 0 | 0 |\n",
       "| 5 | 16365 | 1 | 55 | 173 | 123 | 1 | 0 |  0 | 211 | 29.11 |  85 | 0 | 75 | 1 | 0 | 0 | 0 |\n",
       "| 6 | 23727 | 2 | 53 | 124 |  78 | 0 | 0 |  0 | 159 | 26.62 | 135 | 0 | 68 | 1 | 0 | 0 | 1 |\n",
       "\n"
      ],
      "text/plain": [
       "  RANDID SEX AGE SYSBP DIABP BPMEDS CURSMOKE CIGPDAY TOTCHOL BMI   GLUCOSE\n",
       "1  6238  2   58  108    66   0      0         0      237     28.50  71    \n",
       "2 11263  2   55  180   106   1      0         0      220     31.17  81    \n",
       "3 12806  2   57  110    46   0      1        30      320     22.02  87    \n",
       "4 14367  1   64  168   100   0      0         0      280     25.72  82    \n",
       "5 16365  1   55  173   123   1      0         0      211     29.11  85    \n",
       "6 23727  2   53  124    78   0      0         0      159     26.62 135    \n",
       "  DIABETES HEARTRTE PREVHYP ANYCHD STROKE DEATH\n",
       "1 0        80       0       0      0      0    \n",
       "2 1        86       1       1      0      0    \n",
       "3 0        75       0       0      0      0    \n",
       "4 0        92       1       0      0      0    \n",
       "5 0        75       1       0      0      0    \n",
       "6 0        68       1       0      0      1    "
      ]
     },
     "metadata": {},
     "output_type": "display_data"
    }
   ],
   "source": [
    "framinghamP3 = framingham1 %>% filter(PERIOD == 3)\n",
    "framinghamP3 = subset(framinghamP3, select  = - PERIOD)\n",
    "framinghamP3 = NaRV.omit(framinghamP3)\n",
    "rownames(framinghamP3) = NULL\n",
    "head(framinghamP3)"
   ]
  },
  {
   "cell_type": "markdown",
   "metadata": {},
   "source": [
    "# <font color = blue> __Statistical Analyses - Continuous Variables__ </font>\n",
    "***\n",
    "### 1. How do demographic and behavioral factors influence the risk for heart disease?\n",
    "\n",
    "* DV: __ANYCHD__, categorical variable with 2 levels\n",
    "* Continuous IVs: __*Stepwise Binary Logistic Regression*__ - How do the following influence the risk for heart disease, and how much does each influence it?\n",
    "    * __AGE__\n",
    "    * __CIGPDAY__\n",
    "    \n",
    "### 2. How do health metrics influence a diagnosis of heart disease?\n",
    "* DV: __ANYCHD__, categorical variable with 2 levels\n",
    "* Continuous IVs: __*Stepwise Binary Logistic Regression*__ - How do the following influence the risk for heart disease, and how much does each influence it?\n",
    "    * __TOTCHOL__\n",
    "    * __SYSBP__\n",
    "    * __DIABP__\n",
    "    * __BMI__\n",
    "    * __HEARTRTE__\n",
    "    * __GLUCOSE__\n",
    "\n",
    "### 3. How do demographic and behavioral factors influence the risk for death\n",
    "\n",
    "* DV: __DEATH__, categorical variable with 2 levels\n",
    "* Continuous IVs: __*Stepwise Binary Logistic Regression*__ - How do the following influence the risk for heart disease, and how much does each influence it?\n",
    "    * __AGE__\n",
    "    * __CIGPDAY__\n",
    "    \n",
    "### 4. How do health metrics influence the risk for death?\n",
    "* DV: __DEATH__, categorical variable with 2 levels\n",
    "* Continuous IVs: __*Stepwise Binary Logistic Regression*__ - How do the following influence the risk for heart disease, and how much does each influence it?\n",
    "    * __TOTCHOL__\n",
    "    * __SYSBP__\n",
    "    * __DIABP__\n",
    "    * __BMI__\n",
    "    * __HEARTRTE__\n",
    "    * __GLUCOSE__\n",
    "\n",
    "### 5. Data wrangling note:\n",
    "* DV must be recoded to 0/1, this is already the case"
   ]
  },
  {
   "cell_type": "markdown",
   "metadata": {},
   "source": [
    "### Data Wrangling: Subset data to variables of interest"
   ]
  },
  {
   "cell_type": "code",
   "execution_count": 29,
   "metadata": {},
   "outputs": [],
   "source": [
    "keep = c('AGE', 'CIGPDAY', 'TOTCHOL', 'SYSBP', 'DIABP', 'BMI', 'HEARTRTE', 'GLUCOSE', 'ANYCHD')\n",
    "logitdfP1 = framinghamP1[keep]\n",
    "logitdfP2 = framinghamP2[keep]\n",
    "logitdfP3 = framinghamP3[keep]"
   ]
  },
  {
   "cell_type": "markdown",
   "metadata": {},
   "source": [
    "## Checking Assumptions"
   ]
  },
  {
   "cell_type": "markdown",
   "metadata": {},
   "source": [
    "### 1. AGE"
   ]
  },
  {
   "cell_type": "markdown",
   "metadata": {},
   "source": [
    "### Sample Size Assumption"
   ]
  },
  {
   "cell_type": "code",
   "execution_count": 40,
   "metadata": {},
   "outputs": [],
   "source": [
    "# Run base logistic model\n",
    "mylogit_AGEP1 = glm(ANYCHD ~ AGE, data=logitdfP1, family=\"binomial\")\n",
    "mylogit_AGEP2 = glm(ANYCHD ~ AGE, data=logitdfP2, family=\"binomial\")\n",
    "mylogit_AGEP3 = glm(ANYCHD ~ AGE, data=logitdfP3, family=\"binomial\")"
   ]
  },
  {
   "cell_type": "code",
   "execution_count": 41,
   "metadata": {},
   "outputs": [],
   "source": [
    "# Predict heart disease\n",
    "probabilities_AGEP1 = predict(mylogit_AGEP1, type = \"response\")\n",
    "probabilities_AGEP2 = predict(mylogit_AGEP2, type = \"response\")\n",
    "probabilities_AGEP3 = predict(mylogit_AGEP3, type = \"response\")"
   ]
  },
  {
   "cell_type": "markdown",
   "metadata": {},
   "source": [
    "### Plotting Probabilities"
   ]
  },
  {
   "cell_type": "code",
   "execution_count": 42,
   "metadata": {},
   "outputs": [
    {
     "data": {
      "image/png": "[encoded data removed]",
      "text/plain": [
       "plot without title"
      ]
     },
     "metadata": {
      "image/png": {
       "height": 300,
       "width": 900
      }
     },
     "output_type": "display_data"
    }
   ],
   "source": [
    "probdf1=data.frame(probabilities_AGEP1)\n",
    "probdf2=data.frame(probabilities_AGEP2)\n",
    "probdf3=data.frame(probabilities_AGEP3)\n",
    "\n",
    "options(repr.plot.width=15, repr.plot.height=5)\n",
    "a=ggplot(probdf1, aes(x=probabilities_AGEP1)) + geom_histogram(bins=12)\n",
    "b=ggplot(probdf2, aes(x=probabilities_AGEP2)) + geom_histogram(bins=12)\n",
    "c=ggplot(probdf3, aes(x=probabilities_AGEP3)) + geom_histogram(bins=12)\n",
    "grid.arrange(a, b, c, ncol = 3)"
   ]
  },
  {
   "cell_type": "code",
   "execution_count": 44,
   "metadata": {},
   "outputs": [
    {
     "data": {
      "text/html": [
       "<table class=\"dataframe\">\n",
       "<caption>A data.frame: 6 × 18</caption>\n",
       "<thead>\n",
       "\t<tr><th></th><th scope=col>RANDID</th><th scope=col>SEX</th><th scope=col>AGE</th><th scope=col>SYSBP</th><th scope=col>DIABP</th><th scope=col>BPMEDS</th><th scope=col>CURSMOKE</th><th scope=col>CIGPDAY</th><th scope=col>TOTCHOL</th><th scope=col>BMI</th><th scope=col>GLUCOSE</th><th scope=col>DIABETES</th><th scope=col>HEARTRTE</th><th scope=col>PREVHYP</th><th scope=col>ANYCHD</th><th scope=col>STROKE</th><th scope=col>DEATH</th><th scope=col>probabilities_AGEP1</th></tr>\n",
       "\t<tr><th></th><th scope=col>&lt;int&gt;</th><th scope=col>&lt;int&gt;</th><th scope=col>&lt;int&gt;</th><th scope=col>&lt;dbl&gt;</th><th scope=col>&lt;dbl&gt;</th><th scope=col>&lt;int&gt;</th><th scope=col>&lt;int&gt;</th><th scope=col>&lt;int&gt;</th><th scope=col>&lt;int&gt;</th><th scope=col>&lt;dbl&gt;</th><th scope=col>&lt;int&gt;</th><th scope=col>&lt;int&gt;</th><th scope=col>&lt;int&gt;</th><th scope=col>&lt;int&gt;</th><th scope=col>&lt;int&gt;</th><th scope=col>&lt;int&gt;</th><th scope=col>&lt;int&gt;</th><th scope=col>&lt;dbl&gt;</th></tr>\n",
       "</thead>\n",
       "<tbody>\n",
       "\t<tr><th scope=row>1</th><td> 2448</td><td>1</td><td>39</td><td>106.0</td><td> 70</td><td>0</td><td>0</td><td> 0</td><td>195</td><td>26.97</td><td> 77</td><td>0</td><td>80</td><td>0</td><td>1</td><td>0</td><td>0</td><td>0.1746712</td></tr>\n",
       "\t<tr><th scope=row>2</th><td> 6238</td><td>2</td><td>46</td><td>121.0</td><td> 81</td><td>0</td><td>0</td><td> 0</td><td>250</td><td>28.73</td><td> 76</td><td>0</td><td>95</td><td>0</td><td>0</td><td>0</td><td>0</td><td>0.2333067</td></tr>\n",
       "\t<tr><th scope=row>3</th><td> 9428</td><td>1</td><td>48</td><td>127.5</td><td> 80</td><td>0</td><td>1</td><td>20</td><td>245</td><td>25.34</td><td> 70</td><td>0</td><td>75</td><td>0</td><td>0</td><td>0</td><td>0</td><td>0.2523764</td></tr>\n",
       "\t<tr><th scope=row>4</th><td>10552</td><td>2</td><td>61</td><td>150.0</td><td> 95</td><td>0</td><td>1</td><td>30</td><td>225</td><td>28.58</td><td>103</td><td>0</td><td>65</td><td>1</td><td>0</td><td>1</td><td>1</td><td>0.3985361</td></tr>\n",
       "\t<tr><th scope=row>5</th><td>11252</td><td>2</td><td>46</td><td>130.0</td><td> 84</td><td>0</td><td>1</td><td>23</td><td>285</td><td>23.10</td><td> 85</td><td>0</td><td>85</td><td>0</td><td>0</td><td>0</td><td>0</td><td>0.2333067</td></tr>\n",
       "\t<tr><th scope=row>6</th><td>11263</td><td>2</td><td>43</td><td>180.0</td><td>110</td><td>0</td><td>0</td><td> 0</td><td>228</td><td>30.30</td><td> 99</td><td>0</td><td>77</td><td>1</td><td>1</td><td>0</td><td>0</td><td>0.2066290</td></tr>\n",
       "</tbody>\n",
       "</table>\n"
      ],
      "text/latex": [
       "A data.frame: 6 × 18\n",
       "\\begin{tabular}{r|llllllllllllllllll}\n",
       "  & RANDID & SEX & AGE & SYSBP & DIABP & BPMEDS & CURSMOKE & CIGPDAY & TOTCHOL & BMI & GLUCOSE & DIABETES & HEARTRTE & PREVHYP & ANYCHD & STROKE & DEATH & probabilities\\_AGEP1\\\\\n",
       "  & <int> & <int> & <int> & <dbl> & <dbl> & <int> & <int> & <int> & <int> & <dbl> & <int> & <int> & <int> & <int> & <int> & <int> & <int> & <dbl>\\\\\n",
       "\\hline\n",
       "\t1 &  2448 & 1 & 39 & 106.0 &  70 & 0 & 0 &  0 & 195 & 26.97 &  77 & 0 & 80 & 0 & 1 & 0 & 0 & 0.1746712\\\\\n",
       "\t2 &  6238 & 2 & 46 & 121.0 &  81 & 0 & 0 &  0 & 250 & 28.73 &  76 & 0 & 95 & 0 & 0 & 0 & 0 & 0.2333067\\\\\n",
       "\t3 &  9428 & 1 & 48 & 127.5 &  80 & 0 & 1 & 20 & 245 & 25.34 &  70 & 0 & 75 & 0 & 0 & 0 & 0 & 0.2523764\\\\\n",
       "\t4 & 10552 & 2 & 61 & 150.0 &  95 & 0 & 1 & 30 & 225 & 28.58 & 103 & 0 & 65 & 1 & 0 & 1 & 1 & 0.3985361\\\\\n",
       "\t5 & 11252 & 2 & 46 & 130.0 &  84 & 0 & 1 & 23 & 285 & 23.10 &  85 & 0 & 85 & 0 & 0 & 0 & 0 & 0.2333067\\\\\n",
       "\t6 & 11263 & 2 & 43 & 180.0 & 110 & 0 & 0 &  0 & 228 & 30.30 &  99 & 0 & 77 & 1 & 1 & 0 & 0 & 0.2066290\\\\\n",
       "\\end{tabular}\n"
      ],
      "text/markdown": [
       "\n",
       "A data.frame: 6 × 18\n",
       "\n",
       "| <!--/--> | RANDID &lt;int&gt; | SEX &lt;int&gt; | AGE &lt;int&gt; | SYSBP &lt;dbl&gt; | DIABP &lt;dbl&gt; | BPMEDS &lt;int&gt; | CURSMOKE &lt;int&gt; | CIGPDAY &lt;int&gt; | TOTCHOL &lt;int&gt; | BMI &lt;dbl&gt; | GLUCOSE &lt;int&gt; | DIABETES &lt;int&gt; | HEARTRTE &lt;int&gt; | PREVHYP &lt;int&gt; | ANYCHD &lt;int&gt; | STROKE &lt;int&gt; | DEATH &lt;int&gt; | probabilities_AGEP1 &lt;dbl&gt; |\n",
       "|---|---|---|---|---|---|---|---|---|---|---|---|---|---|---|---|---|---|---|\n",
       "| 1 |  2448 | 1 | 39 | 106.0 |  70 | 0 | 0 |  0 | 195 | 26.97 |  77 | 0 | 80 | 0 | 1 | 0 | 0 | 0.1746712 |\n",
       "| 2 |  6238 | 2 | 46 | 121.0 |  81 | 0 | 0 |  0 | 250 | 28.73 |  76 | 0 | 95 | 0 | 0 | 0 | 0 | 0.2333067 |\n",
       "| 3 |  9428 | 1 | 48 | 127.5 |  80 | 0 | 1 | 20 | 245 | 25.34 |  70 | 0 | 75 | 0 | 0 | 0 | 0 | 0.2523764 |\n",
       "| 4 | 10552 | 2 | 61 | 150.0 |  95 | 0 | 1 | 30 | 225 | 28.58 | 103 | 0 | 65 | 1 | 0 | 1 | 1 | 0.3985361 |\n",
       "| 5 | 11252 | 2 | 46 | 130.0 |  84 | 0 | 1 | 23 | 285 | 23.10 |  85 | 0 | 85 | 0 | 0 | 0 | 0 | 0.2333067 |\n",
       "| 6 | 11263 | 2 | 43 | 180.0 | 110 | 0 | 0 |  0 | 228 | 30.30 |  99 | 0 | 77 | 1 | 1 | 0 | 0 | 0.2066290 |\n",
       "\n"
      ],
      "text/plain": [
       "  RANDID SEX AGE SYSBP DIABP BPMEDS CURSMOKE CIGPDAY TOTCHOL BMI   GLUCOSE\n",
       "1  2448  1   39  106.0  70   0      0         0      195     26.97  77    \n",
       "2  6238  2   46  121.0  81   0      0         0      250     28.73  76    \n",
       "3  9428  1   48  127.5  80   0      1        20      245     25.34  70    \n",
       "4 10552  2   61  150.0  95   0      1        30      225     28.58 103    \n",
       "5 11252  2   46  130.0  84   0      1        23      285     23.10  85    \n",
       "6 11263  2   43  180.0 110   0      0         0      228     30.30  99    \n",
       "  DIABETES HEARTRTE PREVHYP ANYCHD STROKE DEATH probabilities_AGEP1\n",
       "1 0        80       0       1      0      0     0.1746712          \n",
       "2 0        95       0       0      0      0     0.2333067          \n",
       "3 0        75       0       0      0      0     0.2523764          \n",
       "4 0        65       1       0      1      1     0.3985361          \n",
       "5 0        85       0       0      0      0     0.2333067          \n",
       "6 0        77       1       1      0      0     0.2066290          "
      ]
     },
     "metadata": {},
     "output_type": "display_data"
    }
   ],
   "source": [
    "framinghamP1$probabilities_AGEP1 = probabilities_AGEP1\n",
    "head(framinghamP1)"
   ]
  },
  {
   "cell_type": "code",
   "execution_count": 81,
   "metadata": {},
   "outputs": [
    {
     "data": {
      "text/html": [
       "<table class=\"dataframe\">\n",
       "<caption>A tibble: 2 × 7</caption>\n",
       "<thead>\n",
       "\t<tr><th scope=col>ANYCHD</th><th scope=col>count</th><th scope=col>medianProb</th><th scope=col>meanProb</th><th scope=col>stdev</th><th scope=col>Max</th><th scope=col>Min</th></tr>\n",
       "\t<tr><th scope=col>&lt;int&gt;</th><th scope=col>&lt;int&gt;</th><th scope=col>&lt;dbl&gt;</th><th scope=col>&lt;dbl&gt;</th><th scope=col>&lt;dbl&gt;</th><th scope=col>&lt;dbl&gt;</th><th scope=col>&lt;dbl&gt;</th></tr>\n",
       "</thead>\n",
       "<tbody>\n",
       "\t<tr><td>0</td><td>2826</td><td>0.2523764</td><td>0.2692066</td><td>0.08696055</td><td>0.5008632</td><td>0.1283060</td></tr>\n",
       "\t<tr><td>1</td><td>1101</td><td>0.3043666</td><td>0.3090119</td><td>0.09113950</td><td>0.5138291</td><td>0.1403646</td></tr>\n",
       "</tbody>\n",
       "</table>\n"
      ],
      "text/latex": [
       "A tibble: 2 × 7\n",
       "\\begin{tabular}{lllllll}\n",
       " ANYCHD & count & medianProb & meanProb & stdev & Max & Min\\\\\n",
       " <int> & <int> & <dbl> & <dbl> & <dbl> & <dbl> & <dbl>\\\\\n",
       "\\hline\n",
       "\t 0 & 2826 & 0.2523764 & 0.2692066 & 0.08696055 & 0.5008632 & 0.1283060\\\\\n",
       "\t 1 & 1101 & 0.3043666 & 0.3090119 & 0.09113950 & 0.5138291 & 0.1403646\\\\\n",
       "\\end{tabular}\n"
      ],
      "text/markdown": [
       "\n",
       "A tibble: 2 × 7\n",
       "\n",
       "| ANYCHD &lt;int&gt; | count &lt;int&gt; | medianProb &lt;dbl&gt; | meanProb &lt;dbl&gt; | stdev &lt;dbl&gt; | Max &lt;dbl&gt; | Min &lt;dbl&gt; |\n",
       "|---|---|---|---|---|---|---|\n",
       "| 0 | 2826 | 0.2523764 | 0.2692066 | 0.08696055 | 0.5008632 | 0.1283060 |\n",
       "| 1 | 1101 | 0.3043666 | 0.3090119 | 0.09113950 | 0.5138291 | 0.1403646 |\n",
       "\n"
      ],
      "text/plain": [
       "  ANYCHD count medianProb meanProb  stdev      Max       Min      \n",
       "1 0      2826  0.2523764  0.2692066 0.08696055 0.5008632 0.1283060\n",
       "2 1      1101  0.3043666  0.3090119 0.09113950 0.5138291 0.1403646"
      ]
     },
     "metadata": {},
     "output_type": "display_data"
    }
   ],
   "source": [
    "framinghamP1 %>% group_by(ANYCHD) %>% summarise(count = n(), medianProb = median(probabilities_AGEP1), meanProb = mean(probabilities_AGEP1), stdev= sd(probabilities_AGEP1), Max = max(probabilities_AGEP1), Min = min(probabilities_AGEP1))"
   ]
  },
  {
   "cell_type": "code",
   "execution_count": 108,
   "metadata": {},
   "outputs": [
    {
     "data": {
      "text/html": [
       "<table class=\"dataframe\">\n",
       "<caption>A tibble: 2 × 7</caption>\n",
       "<thead>\n",
       "\t<tr><th scope=col>ANYCHD</th><th scope=col>count</th><th scope=col>medianProb</th><th scope=col>meanProb</th><th scope=col>stdev</th><th scope=col>Max</th><th scope=col>Min</th></tr>\n",
       "\t<tr><th scope=col>&lt;int&gt;</th><th scope=col>&lt;int&gt;</th><th scope=col>&lt;dbl&gt;</th><th scope=col>&lt;dbl&gt;</th><th scope=col>&lt;dbl&gt;</th><th scope=col>&lt;dbl&gt;</th><th scope=col>&lt;dbl&gt;</th></tr>\n",
       "</thead>\n",
       "<tbody>\n",
       "\t<tr><td>0</td><td>2412</td><td>0.2496411</td><td>0.2710789</td><td>0.08662469</td><td>0.5138291</td><td>0.128306</td></tr>\n",
       "\t<tr><td>1</td><td> 897</td><td>0.2496411</td><td>0.2710789</td><td>0.08662469</td><td>0.5138291</td><td>0.128306</td></tr>\n",
       "</tbody>\n",
       "</table>\n"
      ],
      "text/latex": [
       "A tibble: 2 × 7\n",
       "\\begin{tabular}{lllllll}\n",
       " ANYCHD & count & medianProb & meanProb & stdev & Max & Min\\\\\n",
       " <int> & <int> & <dbl> & <dbl> & <dbl> & <dbl> & <dbl>\\\\\n",
       "\\hline\n",
       "\t 0 & 2412 & 0.2496411 & 0.2710789 & 0.08662469 & 0.5138291 & 0.128306\\\\\n",
       "\t 1 &  897 & 0.2496411 & 0.2710789 & 0.08662469 & 0.5138291 & 0.128306\\\\\n",
       "\\end{tabular}\n"
      ],
      "text/markdown": [
       "\n",
       "A tibble: 2 × 7\n",
       "\n",
       "| ANYCHD &lt;int&gt; | count &lt;int&gt; | medianProb &lt;dbl&gt; | meanProb &lt;dbl&gt; | stdev &lt;dbl&gt; | Max &lt;dbl&gt; | Min &lt;dbl&gt; |\n",
       "|---|---|---|---|---|---|---|\n",
       "| 0 | 2412 | 0.2496411 | 0.2710789 | 0.08662469 | 0.5138291 | 0.128306 |\n",
       "| 1 |  897 | 0.2496411 | 0.2710789 | 0.08662469 | 0.5138291 | 0.128306 |\n",
       "\n"
      ],
      "text/plain": [
       "  ANYCHD count medianProb meanProb  stdev      Max       Min     \n",
       "1 0      2412  0.2496411  0.2710789 0.08662469 0.5138291 0.128306\n",
       "2 1       897  0.2496411  0.2710789 0.08662469 0.5138291 0.128306"
      ]
     },
     "metadata": {},
     "output_type": "display_data"
    }
   ],
   "source": [
    "framinghamP2 %>% group_by(ANYCHD) %>% summarise(count = n(), medianProb = median(probabilities_AGEP2), meanProb = mean(probabilities_AGEP2), stdev= sd(probabilities_AGEP2), Max = max(probabilities_AGEP1), Min = min(probabilities_AGEP1))"
   ]
  },
  {
   "cell_type": "code",
   "execution_count": 109,
   "metadata": {},
   "outputs": [
    {
     "data": {
      "text/html": [
       "<table class=\"dataframe\">\n",
       "<caption>A tibble: 2 × 7</caption>\n",
       "<thead>\n",
       "\t<tr><th scope=col>ANYCHD</th><th scope=col>count</th><th scope=col>medianProb</th><th scope=col>meanProb</th><th scope=col>stdev</th><th scope=col>Max</th><th scope=col>Min</th></tr>\n",
       "\t<tr><th scope=col>&lt;int&gt;</th><th scope=col>&lt;int&gt;</th><th scope=col>&lt;dbl&gt;</th><th scope=col>&lt;dbl&gt;</th><th scope=col>&lt;dbl&gt;</th><th scope=col>&lt;dbl&gt;</th><th scope=col>&lt;dbl&gt;</th></tr>\n",
       "</thead>\n",
       "<tbody>\n",
       "\t<tr><td>0</td><td>1728</td><td>0.245794</td><td>0.2564544</td><td>0.08328994</td><td>0.4960507</td><td>0.1231037</td></tr>\n",
       "\t<tr><td>1</td><td> 596</td><td>0.245794</td><td>0.2564544</td><td>0.08328994</td><td>0.4960507</td><td>0.1231037</td></tr>\n",
       "</tbody>\n",
       "</table>\n"
      ],
      "text/latex": [
       "A tibble: 2 × 7\n",
       "\\begin{tabular}{lllllll}\n",
       " ANYCHD & count & medianProb & meanProb & stdev & Max & Min\\\\\n",
       " <int> & <int> & <dbl> & <dbl> & <dbl> & <dbl> & <dbl>\\\\\n",
       "\\hline\n",
       "\t 0 & 1728 & 0.245794 & 0.2564544 & 0.08328994 & 0.4960507 & 0.1231037\\\\\n",
       "\t 1 &  596 & 0.245794 & 0.2564544 & 0.08328994 & 0.4960507 & 0.1231037\\\\\n",
       "\\end{tabular}\n"
      ],
      "text/markdown": [
       "\n",
       "A tibble: 2 × 7\n",
       "\n",
       "| ANYCHD &lt;int&gt; | count &lt;int&gt; | medianProb &lt;dbl&gt; | meanProb &lt;dbl&gt; | stdev &lt;dbl&gt; | Max &lt;dbl&gt; | Min &lt;dbl&gt; |\n",
       "|---|---|---|---|---|---|---|\n",
       "| 0 | 1728 | 0.245794 | 0.2564544 | 0.08328994 | 0.4960507 | 0.1231037 |\n",
       "| 1 |  596 | 0.245794 | 0.2564544 | 0.08328994 | 0.4960507 | 0.1231037 |\n",
       "\n"
      ],
      "text/plain": [
       "  ANYCHD count medianProb meanProb  stdev      Max       Min      \n",
       "1 0      1728  0.245794   0.2564544 0.08328994 0.4960507 0.1231037\n",
       "2 1       596  0.245794   0.2564544 0.08328994 0.4960507 0.1231037"
      ]
     },
     "metadata": {},
     "output_type": "display_data"
    }
   ],
   "source": [
    "framinghamP3 %>% group_by(ANYCHD) %>% summarise(count = n(), medianProb = median(probabilities_AGEP3), meanProb = mean(probabilities_AGEP3), stdev= sd(probabilities_AGEP3), Max = max(probabilities_AGEP3), Min = min(probabilities_AGEP3))"
   ]
  },
  {
   "cell_type": "code",
   "execution_count": 110,
   "metadata": {},
   "outputs": [],
   "source": [
    "logitdfP1$Predicted_AGE = ifelse(probabilities_AGEP1 > .5, 1, 0)\n",
    "logitdfP2$Predicted_AGE = ifelse(probabilities_AGEP2 > .5, 1, 0)\n",
    "logitdfP3$Predicted_AGE = ifelse(probabilities_AGEP3 > .5, 1, 0)"
   ]
  },
  {
   "cell_type": "code",
   "execution_count": 106,
   "metadata": {},
   "outputs": [
    {
     "data": {
      "text/plain": [
       "Confusion Matrix and Statistics\n",
       "\n",
       "          Reference\n",
       "Prediction    0    1\n",
       "         0 2287  724\n",
       "         1  539  377\n",
       "                                         \n",
       "               Accuracy : 0.6784         \n",
       "                 95% CI : (0.6635, 0.693)\n",
       "    No Information Rate : 0.7196         \n",
       "    P-Value [Acc > NIR] : 1              \n",
       "                                         \n",
       "                  Kappa : 0.1599         \n",
       "                                         \n",
       " Mcnemar's Test P-Value : 2.249e-07      \n",
       "                                         \n",
       "            Sensitivity : 0.8093         \n",
       "            Specificity : 0.3424         \n",
       "         Pos Pred Value : 0.7595         \n",
       "         Neg Pred Value : 0.4116         \n",
       "             Prevalence : 0.7196         \n",
       "         Detection Rate : 0.5824         \n",
       "   Detection Prevalence : 0.7667         \n",
       "      Balanced Accuracy : 0.5758         \n",
       "                                         \n",
       "       'Positive' Class : 0              \n",
       "                                         "
      ]
     },
     "metadata": {},
     "output_type": "display_data"
    }
   ],
   "source": [
    "# Create confusion matrix\n",
    "conf_mat_Predicted_AGE_P1 <- caret::confusionMatrix(as.factor(logitdfP1$Predicted_AGE), as.factor(logitdfP1$ANYCHD))\n",
    "conf_mat_Predicted_AGE_P1"
   ]
  },
  {
   "cell_type": "code",
   "execution_count": 111,
   "metadata": {},
   "outputs": [
    {
     "name": "stderr",
     "output_type": "stream",
     "text": [
      "Warning message in confusionMatrix.default(as.factor(logitdfP2$Predicted_AGE), as.factor(logitdfP2$ANYCHD)):\n",
      "“Levels are not in the same order for reference and data. Refactoring data to match.”\n"
     ]
    },
    {
     "data": {
      "text/plain": [
       "Confusion Matrix and Statistics\n",
       "\n",
       "          Reference\n",
       "Prediction    0    1\n",
       "         0 2412  897\n",
       "         1    0    0\n",
       "                                         \n",
       "               Accuracy : 0.7289         \n",
       "                 95% CI : (0.7134, 0.744)\n",
       "    No Information Rate : 0.7289         \n",
       "    P-Value [Acc > NIR] : 0.509          \n",
       "                                         \n",
       "                  Kappa : 0              \n",
       "                                         \n",
       " Mcnemar's Test P-Value : <2e-16         \n",
       "                                         \n",
       "            Sensitivity : 1.0000         \n",
       "            Specificity : 0.0000         \n",
       "         Pos Pred Value : 0.7289         \n",
       "         Neg Pred Value :    NaN         \n",
       "             Prevalence : 0.7289         \n",
       "         Detection Rate : 0.7289         \n",
       "   Detection Prevalence : 1.0000         \n",
       "      Balanced Accuracy : 0.5000         \n",
       "                                         \n",
       "       'Positive' Class : 0              \n",
       "                                         "
      ]
     },
     "metadata": {},
     "output_type": "display_data"
    }
   ],
   "source": [
    "# Create confusion matrix\n",
    "conf_mat_Predicted_AGE_P2 <- caret::confusionMatrix(as.factor(logitdfP2$Predicted_AGE), as.factor(logitdfP2$ANYCHD))\n",
    "conf_mat_Predicted_AGE_P2"
   ]
  },
  {
   "cell_type": "code",
   "execution_count": 112,
   "metadata": {},
   "outputs": [
    {
     "name": "stderr",
     "output_type": "stream",
     "text": [
      "Warning message in confusionMatrix.default(as.factor(logitdfP3$Predicted_AGE), as.factor(logitdfP3$ANYCHD)):\n",
      "“Levels are not in the same order for reference and data. Refactoring data to match.”\n"
     ]
    },
    {
     "data": {
      "text/plain": [
       "Confusion Matrix and Statistics\n",
       "\n",
       "          Reference\n",
       "Prediction    0    1\n",
       "         0 1728  596\n",
       "         1    0    0\n",
       "                                          \n",
       "               Accuracy : 0.7435          \n",
       "                 95% CI : (0.7253, 0.7612)\n",
       "    No Information Rate : 0.7435          \n",
       "    P-Value [Acc > NIR] : 0.511           \n",
       "                                          \n",
       "                  Kappa : 0               \n",
       "                                          \n",
       " Mcnemar's Test P-Value : <2e-16          \n",
       "                                          \n",
       "            Sensitivity : 1.0000          \n",
       "            Specificity : 0.0000          \n",
       "         Pos Pred Value : 0.7435          \n",
       "         Neg Pred Value :    NaN          \n",
       "             Prevalence : 0.7435          \n",
       "         Detection Rate : 0.7435          \n",
       "   Detection Prevalence : 1.0000          \n",
       "      Balanced Accuracy : 0.5000          \n",
       "                                          \n",
       "       'Positive' Class : 0               \n",
       "                                          "
      ]
     },
     "metadata": {},
     "output_type": "display_data"
    }
   ],
   "source": [
    "# Create confusion matrix\n",
    "conf_mat_Predicted_AGE_P3 <- caret::confusionMatrix(as.factor(logitdfP3$Predicted_AGE), as.factor(logitdfP3$ANYCHD))\n",
    "conf_mat_Predicted_AGE_P3"
   ]
  },
  {
   "cell_type": "markdown",
   "metadata": {},
   "source": [
    "__*There are 1 or more cells <5, so this variable does not meet the minimum sample size for logistic regression*__"
   ]
  },
  {
   "cell_type": "markdown",
   "metadata": {},
   "source": [
    "### Logit Linearity"
   ]
  },
  {
   "cell_type": "code",
   "execution_count": 113,
   "metadata": {},
   "outputs": [],
   "source": [
    "# Creating the predictors vector\n",
    "predictorsP1 = colnames(logitdfP1)\n",
    "predictorsP2 = colnames(logitdfP2)\n",
    "predictorsP3 = colnames(logitdfP3)"
   ]
  },
  {
   "cell_type": "code",
   "execution_count": 115,
   "metadata": {},
   "outputs": [],
   "source": [
    "# Creating the logit\n",
    "logitdfP1_1 = logitdfP1 %>% mutate(logit=log(probabilities_AGEP1/(1-probabilities_AGEP1))) %>% gather(key= \"predictorsP1\", value=\"predictor.value\", -logit)\n",
    "logitdfP2_1 = logitdfP2 %>% mutate(logit=log(probabilities_AGEP2/(1-probabilities_AGEP2))) %>% gather(key= \"predictorsP2\", value=\"predictor.value\", -logit)\n",
    "logitdfP3_1 = logitdfP3 %>% mutate(logit=log(probabilities_AGEP3/(1-probabilities_AGEP3))) %>% gather(key= \"predictorsP3\", value=\"predictor.value\", -logit)"
   ]
  },
  {
   "cell_type": "code",
   "execution_count": 117,
   "metadata": {},
   "outputs": [
    {
     "data": {
      "text/html": [
       "<table class=\"dataframe\">\n",
       "<caption>A data.frame: 23240 × 3</caption>\n",
       "<thead>\n",
       "\t<tr><th scope=col>logit</th><th scope=col>predictorsP3</th><th scope=col>predictor.value</th></tr>\n",
       "\t<tr><th scope=col>&lt;dbl&gt;</th><th scope=col>&lt;chr&gt;</th><th scope=col>&lt;dbl&gt;</th></tr>\n",
       "</thead>\n",
       "<tbody>\n",
       "\t<tr><td>-1.2264456</td><td>AGE</td><td>58</td></tr>\n",
       "\t<tr><td>-1.3843562</td><td>AGE</td><td>55</td></tr>\n",
       "\t<tr><td>-1.2790825</td><td>AGE</td><td>57</td></tr>\n",
       "\t<tr><td>-0.9106244</td><td>AGE</td><td>64</td></tr>\n",
       "\t<tr><td>-1.3843562</td><td>AGE</td><td>55</td></tr>\n",
       "\t<tr><td>-1.4896299</td><td>AGE</td><td>53</td></tr>\n",
       "\t<tr><td>-1.5949037</td><td>AGE</td><td>51</td></tr>\n",
       "\t<tr><td>-1.1211719</td><td>AGE</td><td>60</td></tr>\n",
       "\t<tr><td>-1.7001774</td><td>AGE</td><td>49</td></tr>\n",
       "\t<tr><td>-1.4896299</td><td>AGE</td><td>53</td></tr>\n",
       "\t<tr><td>-1.4369931</td><td>AGE</td><td>54</td></tr>\n",
       "\t<tr><td>-0.9106244</td><td>AGE</td><td>64</td></tr>\n",
       "\t<tr><td>-0.9106244</td><td>AGE</td><td>64</td></tr>\n",
       "\t<tr><td>-1.3317193</td><td>AGE</td><td>56</td></tr>\n",
       "\t<tr><td>-0.4895295</td><td>AGE</td><td>72</td></tr>\n",
       "\t<tr><td>-1.8054511</td><td>AGE</td><td>47</td></tr>\n",
       "\t<tr><td>-0.4895295</td><td>AGE</td><td>72</td></tr>\n",
       "\t<tr><td>-1.7528143</td><td>AGE</td><td>48</td></tr>\n",
       "\t<tr><td>-1.3843562</td><td>AGE</td><td>55</td></tr>\n",
       "\t<tr><td>-1.4896299</td><td>AGE</td><td>53</td></tr>\n",
       "\t<tr><td>-0.4368926</td><td>AGE</td><td>73</td></tr>\n",
       "\t<tr><td>-1.7001774</td><td>AGE</td><td>49</td></tr>\n",
       "\t<tr><td>-0.7527138</td><td>AGE</td><td>67</td></tr>\n",
       "\t<tr><td>-1.4369931</td><td>AGE</td><td>54</td></tr>\n",
       "\t<tr><td>-1.4369931</td><td>AGE</td><td>54</td></tr>\n",
       "\t<tr><td>-1.4896299</td><td>AGE</td><td>53</td></tr>\n",
       "\t<tr><td>-0.8053507</td><td>AGE</td><td>66</td></tr>\n",
       "\t<tr><td>-1.2264456</td><td>AGE</td><td>58</td></tr>\n",
       "\t<tr><td>-1.7001774</td><td>AGE</td><td>49</td></tr>\n",
       "\t<tr><td>-1.1738087</td><td>AGE</td><td>59</td></tr>\n",
       "\t<tr><td>⋮</td><td>⋮</td><td>⋮</td></tr>\n",
       "\t<tr><td>-1.7001774</td><td>Predicted_AGE</td><td>0</td></tr>\n",
       "\t<tr><td>-1.3317193</td><td>Predicted_AGE</td><td>0</td></tr>\n",
       "\t<tr><td>-1.7001774</td><td>Predicted_AGE</td><td>0</td></tr>\n",
       "\t<tr><td>-1.5422668</td><td>Predicted_AGE</td><td>0</td></tr>\n",
       "\t<tr><td>-1.2264456</td><td>Predicted_AGE</td><td>0</td></tr>\n",
       "\t<tr><td>-0.3842558</td><td>Predicted_AGE</td><td>0</td></tr>\n",
       "\t<tr><td>-0.9106244</td><td>Predicted_AGE</td><td>0</td></tr>\n",
       "\t<tr><td>-0.4368926</td><td>Predicted_AGE</td><td>0</td></tr>\n",
       "\t<tr><td>-0.3842558</td><td>Predicted_AGE</td><td>0</td></tr>\n",
       "\t<tr><td>-1.4369931</td><td>Predicted_AGE</td><td>0</td></tr>\n",
       "\t<tr><td>-1.6475405</td><td>Predicted_AGE</td><td>0</td></tr>\n",
       "\t<tr><td>-1.3843562</td><td>Predicted_AGE</td><td>0</td></tr>\n",
       "\t<tr><td>-0.9632613</td><td>Predicted_AGE</td><td>0</td></tr>\n",
       "\t<tr><td>-0.2263452</td><td>Predicted_AGE</td><td>0</td></tr>\n",
       "\t<tr><td>-1.0158981</td><td>Predicted_AGE</td><td>0</td></tr>\n",
       "\t<tr><td>-1.1211719</td><td>Predicted_AGE</td><td>0</td></tr>\n",
       "\t<tr><td>-0.7000770</td><td>Predicted_AGE</td><td>0</td></tr>\n",
       "\t<tr><td>-0.9106244</td><td>Predicted_AGE</td><td>0</td></tr>\n",
       "\t<tr><td>-1.1211719</td><td>Predicted_AGE</td><td>0</td></tr>\n",
       "\t<tr><td>-1.0158981</td><td>Predicted_AGE</td><td>0</td></tr>\n",
       "\t<tr><td>-1.2264456</td><td>Predicted_AGE</td><td>0</td></tr>\n",
       "\t<tr><td>-1.3843562</td><td>Predicted_AGE</td><td>0</td></tr>\n",
       "\t<tr><td>-0.5948032</td><td>Predicted_AGE</td><td>0</td></tr>\n",
       "\t<tr><td>-1.0158981</td><td>Predicted_AGE</td><td>0</td></tr>\n",
       "\t<tr><td>-0.9632613</td><td>Predicted_AGE</td><td>0</td></tr>\n",
       "\t<tr><td>-0.7000770</td><td>Predicted_AGE</td><td>0</td></tr>\n",
       "\t<tr><td>-0.5948032</td><td>Predicted_AGE</td><td>0</td></tr>\n",
       "\t<tr><td>-1.1211719</td><td>Predicted_AGE</td><td>0</td></tr>\n",
       "\t<tr><td>-1.3317193</td><td>Predicted_AGE</td><td>0</td></tr>\n",
       "\t<tr><td>-1.5422668</td><td>Predicted_AGE</td><td>0</td></tr>\n",
       "</tbody>\n",
       "</table>\n"
      ],
      "text/latex": [
       "A data.frame: 23240 × 3\n",
       "\\begin{tabular}{lll}\n",
       " logit & predictorsP3 & predictor.value\\\\\n",
       " <dbl> & <chr> & <dbl>\\\\\n",
       "\\hline\n",
       "\t -1.2264456 & AGE & 58\\\\\n",
       "\t -1.3843562 & AGE & 55\\\\\n",
       "\t -1.2790825 & AGE & 57\\\\\n",
       "\t -0.9106244 & AGE & 64\\\\\n",
       "\t -1.3843562 & AGE & 55\\\\\n",
       "\t -1.4896299 & AGE & 53\\\\\n",
       "\t -1.5949037 & AGE & 51\\\\\n",
       "\t -1.1211719 & AGE & 60\\\\\n",
       "\t -1.7001774 & AGE & 49\\\\\n",
       "\t -1.4896299 & AGE & 53\\\\\n",
       "\t -1.4369931 & AGE & 54\\\\\n",
       "\t -0.9106244 & AGE & 64\\\\\n",
       "\t -0.9106244 & AGE & 64\\\\\n",
       "\t -1.3317193 & AGE & 56\\\\\n",
       "\t -0.4895295 & AGE & 72\\\\\n",
       "\t -1.8054511 & AGE & 47\\\\\n",
       "\t -0.4895295 & AGE & 72\\\\\n",
       "\t -1.7528143 & AGE & 48\\\\\n",
       "\t -1.3843562 & AGE & 55\\\\\n",
       "\t -1.4896299 & AGE & 53\\\\\n",
       "\t -0.4368926 & AGE & 73\\\\\n",
       "\t -1.7001774 & AGE & 49\\\\\n",
       "\t -0.7527138 & AGE & 67\\\\\n",
       "\t -1.4369931 & AGE & 54\\\\\n",
       "\t -1.4369931 & AGE & 54\\\\\n",
       "\t -1.4896299 & AGE & 53\\\\\n",
       "\t -0.8053507 & AGE & 66\\\\\n",
       "\t -1.2264456 & AGE & 58\\\\\n",
       "\t -1.7001774 & AGE & 49\\\\\n",
       "\t -1.1738087 & AGE & 59\\\\\n",
       "\t ⋮ & ⋮ & ⋮\\\\\n",
       "\t -1.7001774 & Predicted\\_AGE & 0\\\\\n",
       "\t -1.3317193 & Predicted\\_AGE & 0\\\\\n",
       "\t -1.7001774 & Predicted\\_AGE & 0\\\\\n",
       "\t -1.5422668 & Predicted\\_AGE & 0\\\\\n",
       "\t -1.2264456 & Predicted\\_AGE & 0\\\\\n",
       "\t -0.3842558 & Predicted\\_AGE & 0\\\\\n",
       "\t -0.9106244 & Predicted\\_AGE & 0\\\\\n",
       "\t -0.4368926 & Predicted\\_AGE & 0\\\\\n",
       "\t -0.3842558 & Predicted\\_AGE & 0\\\\\n",
       "\t -1.4369931 & Predicted\\_AGE & 0\\\\\n",
       "\t -1.6475405 & Predicted\\_AGE & 0\\\\\n",
       "\t -1.3843562 & Predicted\\_AGE & 0\\\\\n",
       "\t -0.9632613 & Predicted\\_AGE & 0\\\\\n",
       "\t -0.2263452 & Predicted\\_AGE & 0\\\\\n",
       "\t -1.0158981 & Predicted\\_AGE & 0\\\\\n",
       "\t -1.1211719 & Predicted\\_AGE & 0\\\\\n",
       "\t -0.7000770 & Predicted\\_AGE & 0\\\\\n",
       "\t -0.9106244 & Predicted\\_AGE & 0\\\\\n",
       "\t -1.1211719 & Predicted\\_AGE & 0\\\\\n",
       "\t -1.0158981 & Predicted\\_AGE & 0\\\\\n",
       "\t -1.2264456 & Predicted\\_AGE & 0\\\\\n",
       "\t -1.3843562 & Predicted\\_AGE & 0\\\\\n",
       "\t -0.5948032 & Predicted\\_AGE & 0\\\\\n",
       "\t -1.0158981 & Predicted\\_AGE & 0\\\\\n",
       "\t -0.9632613 & Predicted\\_AGE & 0\\\\\n",
       "\t -0.7000770 & Predicted\\_AGE & 0\\\\\n",
       "\t -0.5948032 & Predicted\\_AGE & 0\\\\\n",
       "\t -1.1211719 & Predicted\\_AGE & 0\\\\\n",
       "\t -1.3317193 & Predicted\\_AGE & 0\\\\\n",
       "\t -1.5422668 & Predicted\\_AGE & 0\\\\\n",
       "\\end{tabular}\n"
      ],
      "text/markdown": [
       "\n",
       "A data.frame: 23240 × 3\n",
       "\n",
       "| logit &lt;dbl&gt; | predictorsP3 &lt;chr&gt; | predictor.value &lt;dbl&gt; |\n",
       "|---|---|---|\n",
       "| -1.2264456 | AGE | 58 |\n",
       "| -1.3843562 | AGE | 55 |\n",
       "| -1.2790825 | AGE | 57 |\n",
       "| -0.9106244 | AGE | 64 |\n",
       "| -1.3843562 | AGE | 55 |\n",
       "| -1.4896299 | AGE | 53 |\n",
       "| -1.5949037 | AGE | 51 |\n",
       "| -1.1211719 | AGE | 60 |\n",
       "| -1.7001774 | AGE | 49 |\n",
       "| -1.4896299 | AGE | 53 |\n",
       "| -1.4369931 | AGE | 54 |\n",
       "| -0.9106244 | AGE | 64 |\n",
       "| -0.9106244 | AGE | 64 |\n",
       "| -1.3317193 | AGE | 56 |\n",
       "| -0.4895295 | AGE | 72 |\n",
       "| -1.8054511 | AGE | 47 |\n",
       "| -0.4895295 | AGE | 72 |\n",
       "| -1.7528143 | AGE | 48 |\n",
       "| -1.3843562 | AGE | 55 |\n",
       "| -1.4896299 | AGE | 53 |\n",
       "| -0.4368926 | AGE | 73 |\n",
       "| -1.7001774 | AGE | 49 |\n",
       "| -0.7527138 | AGE | 67 |\n",
       "| -1.4369931 | AGE | 54 |\n",
       "| -1.4369931 | AGE | 54 |\n",
       "| -1.4896299 | AGE | 53 |\n",
       "| -0.8053507 | AGE | 66 |\n",
       "| -1.2264456 | AGE | 58 |\n",
       "| -1.7001774 | AGE | 49 |\n",
       "| -1.1738087 | AGE | 59 |\n",
       "| ⋮ | ⋮ | ⋮ |\n",
       "| -1.7001774 | Predicted_AGE | 0 |\n",
       "| -1.3317193 | Predicted_AGE | 0 |\n",
       "| -1.7001774 | Predicted_AGE | 0 |\n",
       "| -1.5422668 | Predicted_AGE | 0 |\n",
       "| -1.2264456 | Predicted_AGE | 0 |\n",
       "| -0.3842558 | Predicted_AGE | 0 |\n",
       "| -0.9106244 | Predicted_AGE | 0 |\n",
       "| -0.4368926 | Predicted_AGE | 0 |\n",
       "| -0.3842558 | Predicted_AGE | 0 |\n",
       "| -1.4369931 | Predicted_AGE | 0 |\n",
       "| -1.6475405 | Predicted_AGE | 0 |\n",
       "| -1.3843562 | Predicted_AGE | 0 |\n",
       "| -0.9632613 | Predicted_AGE | 0 |\n",
       "| -0.2263452 | Predicted_AGE | 0 |\n",
       "| -1.0158981 | Predicted_AGE | 0 |\n",
       "| -1.1211719 | Predicted_AGE | 0 |\n",
       "| -0.7000770 | Predicted_AGE | 0 |\n",
       "| -0.9106244 | Predicted_AGE | 0 |\n",
       "| -1.1211719 | Predicted_AGE | 0 |\n",
       "| -1.0158981 | Predicted_AGE | 0 |\n",
       "| -1.2264456 | Predicted_AGE | 0 |\n",
       "| -1.3843562 | Predicted_AGE | 0 |\n",
       "| -0.5948032 | Predicted_AGE | 0 |\n",
       "| -1.0158981 | Predicted_AGE | 0 |\n",
       "| -0.9632613 | Predicted_AGE | 0 |\n",
       "| -0.7000770 | Predicted_AGE | 0 |\n",
       "| -0.5948032 | Predicted_AGE | 0 |\n",
       "| -1.1211719 | Predicted_AGE | 0 |\n",
       "| -1.3317193 | Predicted_AGE | 0 |\n",
       "| -1.5422668 | Predicted_AGE | 0 |\n",
       "\n"
      ],
      "text/plain": [
       "      logit      predictorsP3  predictor.value\n",
       "1     -1.2264456 AGE           58             \n",
       "2     -1.3843562 AGE           55             \n",
       "3     -1.2790825 AGE           57             \n",
       "4     -0.9106244 AGE           64             \n",
       "5     -1.3843562 AGE           55             \n",
       "6     -1.4896299 AGE           53             \n",
       "7     -1.5949037 AGE           51             \n",
       "8     -1.1211719 AGE           60             \n",
       "9     -1.7001774 AGE           49             \n",
       "10    -1.4896299 AGE           53             \n",
       "11    -1.4369931 AGE           54             \n",
       "12    -0.9106244 AGE           64             \n",
       "13    -0.9106244 AGE           64             \n",
       "14    -1.3317193 AGE           56             \n",
       "15    -0.4895295 AGE           72             \n",
       "16    -1.8054511 AGE           47             \n",
       "17    -0.4895295 AGE           72             \n",
       "18    -1.7528143 AGE           48             \n",
       "19    -1.3843562 AGE           55             \n",
       "20    -1.4896299 AGE           53             \n",
       "21    -0.4368926 AGE           73             \n",
       "22    -1.7001774 AGE           49             \n",
       "23    -0.7527138 AGE           67             \n",
       "24    -1.4369931 AGE           54             \n",
       "25    -1.4369931 AGE           54             \n",
       "26    -1.4896299 AGE           53             \n",
       "27    -0.8053507 AGE           66             \n",
       "28    -1.2264456 AGE           58             \n",
       "29    -1.7001774 AGE           49             \n",
       "30    -1.1738087 AGE           59             \n",
       "⋮     ⋮          ⋮             ⋮              \n",
       "23211 -1.7001774 Predicted_AGE 0              \n",
       "23212 -1.3317193 Predicted_AGE 0              \n",
       "23213 -1.7001774 Predicted_AGE 0              \n",
       "23214 -1.5422668 Predicted_AGE 0              \n",
       "23215 -1.2264456 Predicted_AGE 0              \n",
       "23216 -0.3842558 Predicted_AGE 0              \n",
       "23217 -0.9106244 Predicted_AGE 0              \n",
       "23218 -0.4368926 Predicted_AGE 0              \n",
       "23219 -0.3842558 Predicted_AGE 0              \n",
       "23220 -1.4369931 Predicted_AGE 0              \n",
       "23221 -1.6475405 Predicted_AGE 0              \n",
       "23222 -1.3843562 Predicted_AGE 0              \n",
       "23223 -0.9632613 Predicted_AGE 0              \n",
       "23224 -0.2263452 Predicted_AGE 0              \n",
       "23225 -1.0158981 Predicted_AGE 0              \n",
       "23226 -1.1211719 Predicted_AGE 0              \n",
       "23227 -0.7000770 Predicted_AGE 0              \n",
       "23228 -0.9106244 Predicted_AGE 0              \n",
       "23229 -1.1211719 Predicted_AGE 0              \n",
       "23230 -1.0158981 Predicted_AGE 0              \n",
       "23231 -1.2264456 Predicted_AGE 0              \n",
       "23232 -1.3843562 Predicted_AGE 0              \n",
       "23233 -0.5948032 Predicted_AGE 0              \n",
       "23234 -1.0158981 Predicted_AGE 0              \n",
       "23235 -0.9632613 Predicted_AGE 0              \n",
       "23236 -0.7000770 Predicted_AGE 0              \n",
       "23237 -0.5948032 Predicted_AGE 0              \n",
       "23238 -1.1211719 Predicted_AGE 0              \n",
       "23239 -1.3317193 Predicted_AGE 0              \n",
       "23240 -1.5422668 Predicted_AGE 0              "
      ]
     },
     "metadata": {},
     "output_type": "display_data"
    }
   ],
   "source": [
    "logitdfP1_1"
   ]
  },
  {
   "cell_type": "code",
   "execution_count": 116,
   "metadata": {},
   "outputs": [
    {
     "name": "stderr",
     "output_type": "stream",
     "text": [
      "ERROR while rich displaying an object: Error: At least one layer must contain all faceting variables: `predictors`.\n",
      "* Plot is missing `predictors`\n",
      "* Layer 1 is missing `predictors`\n",
      "* Layer 2 is missing `predictors`\n",
      "\n",
      "Traceback:\n",
      "1. FUN(X[[i]], ...)\n",
      "2. tryCatch(withCallingHandlers({\n",
      " .     if (!mime %in% names(repr::mime2repr)) \n",
      " .         stop(\"No repr_* for mimetype \", mime, \" in repr::mime2repr\")\n",
      " .     rpr <- repr::mime2repr[[mime]](obj)\n",
      " .     if (is.null(rpr)) \n",
      " .         return(NULL)\n",
      " .     prepare_content(is.raw(rpr), rpr)\n",
      " . }, error = error_handler), error = outer_handler)\n",
      "3. tryCatchList(expr, classes, parentenv, handlers)\n",
      "4. tryCatchOne(expr, names, parentenv, handlers[[1L]])\n",
      "5. doTryCatch(return(expr), name, parentenv, handler)\n",
      "6. withCallingHandlers({\n",
      " .     if (!mime %in% names(repr::mime2repr)) \n",
      " .         stop(\"No repr_* for mimetype \", mime, \" in repr::mime2repr\")\n",
      " .     rpr <- repr::mime2repr[[mime]](obj)\n",
      " .     if (is.null(rpr)) \n",
      " .         return(NULL)\n",
      " .     prepare_content(is.raw(rpr), rpr)\n",
      " . }, error = error_handler)\n",
      "7. repr::mime2repr[[mime]](obj)\n",
      "8. repr_text.default(obj)\n",
      "9. paste(capture.output(print(obj)), collapse = \"\\n\")\n",
      "10. capture.output(print(obj))\n",
      "11. withVisible(...elt(i))\n",
      "12. print(obj)\n",
      "13. print.ggplot(obj)\n",
      "14. ggplot_build(x)\n",
      "15. ggplot_build.ggplot(x)\n",
      "16. layout$setup(data, plot$data, plot$plot_env)\n",
      "17. f(..., self = self)\n",
      "18. self$facet$compute_layout(data, self$facet_params)\n",
      "19. f(...)\n",
      "20. unrowname(combine_vars(data, params$plot_env, vars, drop = params$drop))\n",
      "21. is.data.frame(x)\n",
      "22. combine_vars(data, params$plot_env, vars, drop = params$drop)\n",
      "23. abort(glue(\"At least one layer must contain all faceting variables: {var_list(names(vars))}.\\n\", \n",
      "  .     glue_collapse(glue(\"* {name} is missing {missing_txt}\"), \n",
      "  .         \"\\n\", last = \"\\n\")))\n",
      "24. signal_abort(cnd)\n"
     ]
    },
    {
     "data": {
      "image/png": "[encoded data removed]",
      "text/plain": [
       "plot without title"
      ]
     },
     "metadata": {
      "image/png": {
       "height": 300,
       "width": 900
      }
     },
     "output_type": "display_data"
    }
   ],
   "source": [
    "# Plotting to determine linearity, Period 1\n",
    "ggplot(logitdfP1_1, aes(logit, predictor.value))+\n",
    "    geom_point(size=.5, alpha=.5)+\n",
    "    geom_smooth(method= \"loess\")+\n",
    "    theme_bw()+\n",
    "    facet_wrap(~predictors, scales=\"free_y\")"
   ]
  },
  {
   "cell_type": "code",
   "execution_count": null,
   "metadata": {},
   "outputs": [],
   "source": [
    "# Plotting to determine linearity, Period 2\n",
    "ggplot(logitdfP2_1, aes(logit, predictor.value))+\n",
    "    geom_point(size=.5, alpha=.5)+\n",
    "    geom_smooth(method= \"loess\")+\n",
    "    theme_bw()+\n",
    "    facet_wrap(~predictors, scales=\"free_y\")"
   ]
  },
  {
   "cell_type": "code",
   "execution_count": null,
   "metadata": {},
   "outputs": [],
   "source": [
    "# Plotting to determine linearity, Period 3\n",
    "ggplot(logitdfP3_1, aes(logit, predictor.value))+\n",
    "    geom_point(size=.5, alpha=.5)+\n",
    "    geom_smooth(method= \"loess\")+\n",
    "    theme_bw()+\n",
    "    facet_wrap(~predictors, scales=\"free_y\")"
   ]
  },
  {
   "cell_type": "markdown",
   "metadata": {},
   "source": [
    "### 2. Cigarettes per Day"
   ]
  },
  {
   "cell_type": "code",
   "execution_count": null,
   "metadata": {},
   "outputs": [],
   "source": [
    "logitdf = framingham[keep]\n",
    "mylogit_CIGPDAY = glm(ANYCHD ~ CIGPDAY, data=logitdf, family=\"binomial\")"
   ]
  },
  {
   "cell_type": "code",
   "execution_count": null,
   "metadata": {},
   "outputs": [],
   "source": [
    "# Predict risk for heart disease\n",
    "probabilities_CIGPDAY = predict(mylogit_CIGPDAY, type = \"response\")\n",
    "logitdf$Predicted_CIGPDAY <- ifelse(probabilities_CIGPDAY > .5, 1, 0)"
   ]
  },
  {
   "cell_type": "code",
   "execution_count": null,
   "metadata": {},
   "outputs": [],
   "source": [
    "# Create confusion matrices\n",
    "conf_mat_Predicted_CIGPDAY <- caret::confusionMatrix(as.factor(logitdf$Predicted_CIGPDAY), as.factor(logitdf$ANYCHD))\n",
    "conf_mat_Predicted_CIGPDAY "
   ]
  },
  {
   "cell_type": "markdown",
   "metadata": {},
   "source": [
    "__*There are 1 or more cells that are <5, so this variable does not meet the minimum smaple size for logistic regression*__"
   ]
  },
  {
   "cell_type": "markdown",
   "metadata": {},
   "source": [
    "### Logit Linearity"
   ]
  },
  {
   "cell_type": "code",
   "execution_count": null,
   "metadata": {},
   "outputs": [],
   "source": [
    "# Creating the predictors vector\n",
    "predictors = colnames(logitdf)"
   ]
  },
  {
   "cell_type": "code",
   "execution_count": null,
   "metadata": {},
   "outputs": [],
   "source": [
    "# Creating the logit\n",
    "logitdf1 = logitdf %>%\n",
    "   mutate(logit=log(probabilities_CIGPDAY/(1-probabilities_CIGPDAY))) %>%\n",
    "   gather(key= \"predictors\", value=\"predictor.value\", -logit)"
   ]
  },
  {
   "cell_type": "code",
   "execution_count": null,
   "metadata": {},
   "outputs": [],
   "source": [
    "ggplot(logitdf1, aes(logit, predictor.value))+\n",
    "geom_point(size=.5, alpha=.5)+\n",
    "geom_smooth(method= \"loess\")+\n",
    "theme_bw()+\n",
    "facet_wrap(~predictors, scales=\"free_y\")"
   ]
  },
  {
   "cell_type": "markdown",
   "metadata": {},
   "source": [
    "### 3. Total Cholesterol"
   ]
  },
  {
   "cell_type": "code",
   "execution_count": null,
   "metadata": {},
   "outputs": [],
   "source": [
    "logitdf = framingham[keep]\n",
    "mylogit_TOTCHOL = glm(ANYCHD ~ TOTCHOL, data=logitdf, family=\"binomial\")"
   ]
  },
  {
   "cell_type": "code",
   "execution_count": null,
   "metadata": {},
   "outputs": [],
   "source": [
    "# Predict risk for heart disease\n",
    "probabilities_TOTCHOL = predict(mylogit_TOTCHOL, type = \"response\")\n",
    "logitdf$Predicted_TOTCHOL <- ifelse(probabilities_TOTCHOL > .5, 1, 0)"
   ]
  },
  {
   "cell_type": "code",
   "execution_count": null,
   "metadata": {},
   "outputs": [],
   "source": [
    "# Create confusion matrices\n",
    "conf_mat_Predicted_TOTCHOL <- caret::confusionMatrix(as.factor(logitdf$Predicted_TOTCHOL), as.factor(logitdf$ANYCHD))\n",
    "conf_mat_Predicted_TOTCHOL "
   ]
  },
  {
   "cell_type": "markdown",
   "metadata": {},
   "source": [
    "__*There are 1 or more cells that are <5, so this variable does not meet the minimum smaple size for logistic regression*__"
   ]
  },
  {
   "cell_type": "markdown",
   "metadata": {},
   "source": [
    "### Logit Linearity"
   ]
  },
  {
   "cell_type": "code",
   "execution_count": null,
   "metadata": {},
   "outputs": [],
   "source": [
    "# Creating the predictors vector\n",
    "predictors = colnames(logitdf)"
   ]
  },
  {
   "cell_type": "code",
   "execution_count": null,
   "metadata": {},
   "outputs": [],
   "source": [
    "# Creating the logit\n",
    "logitdf1 = logitdf %>%\n",
    "   mutate(logit=log(probabilities_TOTCHOL/(1-probabilities_TOTCHOL))) %>%\n",
    "   gather(key= \"predictors\", value=\"predictor.value\", -logit)"
   ]
  },
  {
   "cell_type": "code",
   "execution_count": null,
   "metadata": {},
   "outputs": [],
   "source": [
    "ggplot(logitdf1, aes(logit, predictor.value))+\n",
    "geom_point(size=.5, alpha=.5)+\n",
    "geom_smooth(method= \"loess\")+\n",
    "theme_bw()+\n",
    "facet_wrap(~predictors, scales=\"free_y\")"
   ]
  },
  {
   "cell_type": "markdown",
   "metadata": {},
   "source": [
    "### 4. Systolic Blood Pressure"
   ]
  },
  {
   "cell_type": "code",
   "execution_count": null,
   "metadata": {},
   "outputs": [],
   "source": [
    "logitdf = framingham[keep]\n",
    "mylogit_SYSBP = glm(ANYCHD ~ SYSBP, data=logitdf, family=\"binomial\")"
   ]
  },
  {
   "cell_type": "code",
   "execution_count": null,
   "metadata": {},
   "outputs": [],
   "source": [
    "# Predict risk for heart disease\n",
    "probabilities_SYSBP = predict(mylogit_SYSBP, type = \"response\")\n",
    "logitdf$Predicted_SYSBP <- ifelse(probabilities_SYSBP > .5, 1, 0)"
   ]
  },
  {
   "cell_type": "code",
   "execution_count": null,
   "metadata": {},
   "outputs": [],
   "source": [
    "# Create confusion matrices\n",
    "conf_mat_Predicted_SYSBP <- caret::confusionMatrix(as.factor(logitdf$Predicted_SYSBP), as.factor(logitdf$ANYCHD))\n",
    "conf_mat_Predicted_SYSBP"
   ]
  },
  {
   "cell_type": "markdown",
   "metadata": {},
   "source": [
    "__*All cells that are >=5, so this variable meets the minimum smaple size for logistic regression*__"
   ]
  },
  {
   "cell_type": "markdown",
   "metadata": {},
   "source": [
    "### Logit Linearity"
   ]
  },
  {
   "cell_type": "code",
   "execution_count": null,
   "metadata": {},
   "outputs": [],
   "source": [
    "# Creating the predictors vector\n",
    "predictors = colnames(logitdf)"
   ]
  },
  {
   "cell_type": "code",
   "execution_count": null,
   "metadata": {},
   "outputs": [],
   "source": [
    "# Creating the logit\n",
    "logitdf1 = logitdf %>%\n",
    "   mutate(logit=log(probabilities_SYSBP/(1-probabilities_SYSBP))) %>%\n",
    "   gather(key= \"predictors\", value=\"predictor.value\", -logit)"
   ]
  },
  {
   "cell_type": "code",
   "execution_count": null,
   "metadata": {},
   "outputs": [],
   "source": [
    "ggplot(logitdf1, aes(logit, predictor.value))+\n",
    "geom_point(size=.5, alpha=.5)+\n",
    "geom_smooth(method= \"loess\")+\n",
    "theme_bw()+\n",
    "facet_wrap(~predictors, scales=\"free_y\")"
   ]
  },
  {
   "cell_type": "markdown",
   "metadata": {},
   "source": [
    "### 5. Diastolic Blood Pressure"
   ]
  },
  {
   "cell_type": "code",
   "execution_count": null,
   "metadata": {},
   "outputs": [],
   "source": [
    "logitdf = framingham[keep]\n",
    "mylogit_DIABP = glm(ANYCHD ~ DIABP, data=logitdf, family=\"binomial\")"
   ]
  },
  {
   "cell_type": "code",
   "execution_count": null,
   "metadata": {},
   "outputs": [],
   "source": [
    "# Predict risk for heart disease\n",
    "probabilities_DIABP = predict(mylogit_DIABP, type = \"response\")\n",
    "logitdf$Predicted_DIABP <- ifelse(probabilities_DIABP > .5, 1, 0)"
   ]
  },
  {
   "cell_type": "code",
   "execution_count": null,
   "metadata": {},
   "outputs": [],
   "source": [
    "# Create confusion matrices\n",
    "conf_mat_Predicted_DIABP <- caret::confusionMatrix(as.factor(logitdf$Predicted_DIABP), as.factor(logitdf$ANYCHD))\n",
    "conf_mat_Predicted_DIABP "
   ]
  },
  {
   "cell_type": "markdown",
   "metadata": {},
   "source": [
    "__*There are 1 or more cells that are <5, so this variable does not meet the minimum smaple size for logistic regression*__"
   ]
  },
  {
   "cell_type": "markdown",
   "metadata": {},
   "source": [
    "### Logit Linearity"
   ]
  },
  {
   "cell_type": "code",
   "execution_count": null,
   "metadata": {},
   "outputs": [],
   "source": [
    "# Creating the predictors vector\n",
    "predictors = colnames(logitdf)"
   ]
  },
  {
   "cell_type": "code",
   "execution_count": null,
   "metadata": {},
   "outputs": [],
   "source": [
    "# Creating the logit\n",
    "logitdf1 = logitdf %>%\n",
    "   mutate(logit=log(probabilities_DIABP/(1-probabilities_DIABP))) %>%\n",
    "   gather(key= \"predictors\", value=\"predictor.value\", -logit)"
   ]
  },
  {
   "cell_type": "code",
   "execution_count": null,
   "metadata": {},
   "outputs": [],
   "source": [
    "ggplot(logitdf1, aes(logit, predictor.value))+\n",
    "geom_point(size=.5, alpha=.5)+\n",
    "geom_smooth(method= \"loess\")+\n",
    "theme_bw()+\n",
    "facet_wrap(~predictors, scales=\"free_y\")"
   ]
  },
  {
   "cell_type": "markdown",
   "metadata": {},
   "source": [
    "### 6. BMI"
   ]
  },
  {
   "cell_type": "code",
   "execution_count": null,
   "metadata": {},
   "outputs": [],
   "source": [
    "logitdf = framingham[keep]\n",
    "mylogit_BMI = glm(ANYCHD ~ BMI, data=logitdf, family=\"binomial\")"
   ]
  },
  {
   "cell_type": "code",
   "execution_count": null,
   "metadata": {},
   "outputs": [],
   "source": [
    "# Predict risk for heart disease\n",
    "probabilities_BMI = predict(mylogit_BMI, type = \"response\")\n",
    "logitdf$Predicted_BMI <- ifelse(probabilities_BMI > .5, 1, 0)"
   ]
  },
  {
   "cell_type": "code",
   "execution_count": null,
   "metadata": {},
   "outputs": [],
   "source": [
    "# Create confusion matrix\n",
    "conf_mat_Predicted_BMI <- caret::confusionMatrix(as.factor(logitdf$Predicted_BMI), as.factor(logitdf$ANYCHD))\n",
    "conf_mat_Predicted_BMI"
   ]
  },
  {
   "cell_type": "markdown",
   "metadata": {},
   "source": [
    "__*There are 1 or more cells that are <5, so this variable does not meet the minimum smaple size for logistic regression*__"
   ]
  },
  {
   "cell_type": "markdown",
   "metadata": {},
   "source": [
    "### Logit Linearity"
   ]
  },
  {
   "cell_type": "code",
   "execution_count": null,
   "metadata": {},
   "outputs": [],
   "source": [
    "# Creating the predictors vector\n",
    "predictors = colnames(logitdf)"
   ]
  },
  {
   "cell_type": "code",
   "execution_count": null,
   "metadata": {},
   "outputs": [],
   "source": [
    "# Creating the logit\n",
    "logitdf1 = logitdf %>%\n",
    "   mutate(logit=log(probabilities_BMI/(1-probabilities_BMI))) %>%\n",
    "   gather(key= \"predictors\", value=\"predictor.value\", -logit)"
   ]
  },
  {
   "cell_type": "code",
   "execution_count": null,
   "metadata": {},
   "outputs": [],
   "source": [
    "ggplot(logitdf1, aes(logit, predictor.value))+\n",
    "geom_point(size=.5, alpha=.5)+\n",
    "geom_smooth(method= \"loess\")+\n",
    "theme_bw()+\n",
    "facet_wrap(~predictors, scales=\"free_y\")"
   ]
  },
  {
   "cell_type": "markdown",
   "metadata": {},
   "source": [
    "### 7. Heart Rate"
   ]
  },
  {
   "cell_type": "code",
   "execution_count": null,
   "metadata": {},
   "outputs": [],
   "source": [
    "logitdf = framingham[keep]\n",
    "mylogit_HEARTRTE = glm(ANYCHD ~ HEARTRTE, data=logitdf, family=\"binomial\")"
   ]
  },
  {
   "cell_type": "code",
   "execution_count": null,
   "metadata": {},
   "outputs": [],
   "source": [
    "# Predict risk for heart disease\n",
    "probabilities_HEARTRTE = predict(mylogit_HEARTRTE, type = \"response\")\n",
    "logitdf$Predicted_HEARTRTE <- ifelse(probabilities_HEARTRTE > .5, 1, 0)"
   ]
  },
  {
   "cell_type": "code",
   "execution_count": null,
   "metadata": {},
   "outputs": [],
   "source": [
    "# Create confusion matrices\n",
    "conf_mat_Predicted_HEARTRTE <- caret::confusionMatrix(as.factor(logitdf$Predicted_HEARTRTE ), as.factor(logitdf$ANYCHD))\n",
    "conf_mat_Predicted_HEARTRTE"
   ]
  },
  {
   "cell_type": "markdown",
   "metadata": {},
   "source": [
    "__*There are 1 or more cells that are <5, so this variable does not meet the minimum smaple size for logistic regression*__"
   ]
  },
  {
   "cell_type": "markdown",
   "metadata": {},
   "source": [
    "### Logit Linearity"
   ]
  },
  {
   "cell_type": "code",
   "execution_count": null,
   "metadata": {},
   "outputs": [],
   "source": [
    "# Creating the predictors vector\n",
    "predictors = colnames(logitdf)"
   ]
  },
  {
   "cell_type": "code",
   "execution_count": null,
   "metadata": {},
   "outputs": [],
   "source": [
    "# Creating the logit\n",
    "logitdf1 = logitdf %>%\n",
    "   mutate(logit=log(probabilities_HEARTRTE/(1-probabilities_HEARTRTE))) %>%\n",
    "   gather(key= \"predictors\", value=\"predictor.value\", -logit)"
   ]
  },
  {
   "cell_type": "code",
   "execution_count": null,
   "metadata": {},
   "outputs": [],
   "source": [
    "ggplot(logitdf1, aes(logit, predictor.value))+\n",
    "geom_point(size=.5, alpha=.5)+\n",
    "geom_smooth(method= \"loess\")+\n",
    "theme_bw()+\n",
    "facet_wrap(~predictors, scales=\"free_y\")"
   ]
  },
  {
   "cell_type": "markdown",
   "metadata": {},
   "source": [
    "### 8. GLUCOSE"
   ]
  },
  {
   "cell_type": "code",
   "execution_count": null,
   "metadata": {},
   "outputs": [],
   "source": [
    "logitdf = framingham[keep]\n",
    "mylogit_GLUCOSE = glm(ANYCHD ~ GLUCOSE, data=logitdf, family=\"binomial\")"
   ]
  },
  {
   "cell_type": "code",
   "execution_count": null,
   "metadata": {},
   "outputs": [],
   "source": [
    "# Predict risk for heart disease\n",
    "probabilities_GLUCOSE = predict(mylogit_GLUCOSE, type = \"response\")\n",
    "logitdf$Predicted_GLUCOSE <- ifelse(probabilities_GLUCOSE > .5, 1, 0)"
   ]
  },
  {
   "cell_type": "code",
   "execution_count": null,
   "metadata": {},
   "outputs": [],
   "source": [
    "# Create confusion matrices\n",
    "conf_mat_Predicted_GLUCOSE <- caret::confusionMatrix(as.factor(logitdf$Predicted_GLUCOSE), as.factor(logitdf$ANYCHD))\n",
    "conf_mat_Predicted_GLUCOSE"
   ]
  },
  {
   "cell_type": "markdown",
   "metadata": {},
   "source": [
    "__*All cells  are >=5, so this variable meets the minimum smaple size for logistic regression*__"
   ]
  },
  {
   "cell_type": "markdown",
   "metadata": {},
   "source": [
    "### Logit Linearity"
   ]
  },
  {
   "cell_type": "code",
   "execution_count": null,
   "metadata": {},
   "outputs": [],
   "source": [
    "# Creating the predictors vector\n",
    "predictors = colnames(logitdf)"
   ]
  },
  {
   "cell_type": "code",
   "execution_count": null,
   "metadata": {},
   "outputs": [],
   "source": [
    "# Creating the logit\n",
    "logitdf1 = logitdf %>%\n",
    "   mutate(logit=log(probabilities_GLUCOSE/(1-probabilities_GLUCOSE))) %>%\n",
    "   gather(key= \"predictors\", value=\"predictor.value\", -logit)"
   ]
  },
  {
   "cell_type": "code",
   "execution_count": null,
   "metadata": {},
   "outputs": [],
   "source": [
    "ggplot(logitdf1, aes(logit, predictor.value))+\n",
    "geom_point(size=.5, alpha=.5)+\n",
    "geom_smooth(method= \"loess\")+\n",
    "theme_bw()+\n",
    "facet_wrap(~predictors, scales=\"free_y\")"
   ]
  },
  {
   "cell_type": "markdown",
   "metadata": {},
   "source": [
    "*All of the variables that meet the logit linearity (with ANYCHD) assumption except __DIABP__, which has a pronounced curved in the ANYCHD graph.*"
   ]
  },
  {
   "cell_type": "markdown",
   "metadata": {},
   "source": [
    "### Independent Errors Assumption"
   ]
  },
  {
   "cell_type": "code",
   "execution_count": null,
   "metadata": {},
   "outputs": [],
   "source": [
    "plot(mylogit_AGE$residuals) \n",
    "plot(mylogit_CIGPDAY$residuals) \n",
    "plot(mylogit_TOTCHOL$residuals) \n",
    "plot(mylogit_SYSBP$residuals) \n",
    "plot(mylogit_DIABP$residuals) \n",
    "plot(mylogit_BMI$residuals) \n",
    "plot(mylogit_HEARTRTE$residuals) \n",
    "plot(mylogit_GLUCOSE$residuals)"
   ]
  },
  {
   "cell_type": "markdown",
   "metadata": {},
   "source": [
    "__*The points are evenly distributed  accross the x axis for all of the variables, so all of them meet the assumption of independence of errors*__"
   ]
  },
  {
   "cell_type": "markdown",
   "metadata": {},
   "source": [
    "### Durbin-Watson Test to confirm indeoendence of errors"
   ]
  },
  {
   "cell_type": "code",
   "execution_count": null,
   "metadata": {},
   "outputs": [],
   "source": [
    "library(lmtest)"
   ]
  },
  {
   "cell_type": "code",
   "execution_count": null,
   "metadata": {},
   "outputs": [],
   "source": [
    "dwtest(mylogit_AGE, alternative=\"two.sided\")\n",
    "dwtest(mylogit_CIGPDAY, alternative=\"two.sided\")\n",
    "dwtest(mylogit_TOTCHOL, alternative=\"two.sided\")\n",
    "dwtest(mylogit_SYSBP, alternative=\"two.sided\")\n",
    "dwtest(mylogit_DIABP, alternative=\"two.sided\")\n",
    "dwtest(mylogit_BMI, alternative=\"two.sided\")\n",
    "dwtest(mylogit_HEARTRTE, alternative=\"two.sided\")\n",
    "dwtest(mylogit_GLUCOSE, alternative=\"two.sided\")"
   ]
  },
  {
   "cell_type": "markdown",
   "metadata": {},
   "source": [
    "__*None of the tests are statistically significant, which confirms that all of the errors are independent*__"
   ]
  },
  {
   "cell_type": "markdown",
   "metadata": {},
   "source": [
    "### Screening for outliers"
   ]
  },
  {
   "cell_type": "code",
   "execution_count": null,
   "metadata": {},
   "outputs": [],
   "source": [
    "infl_mylogit_AGE = influence.measures(mylogit_AGE) \n",
    "summary(infl_mylogit_AGE)"
   ]
  },
  {
   "cell_type": "code",
   "execution_count": null,
   "metadata": {},
   "outputs": [],
   "source": [
    "infl_mylogit_CIGPDAY = influence.measures(mylogit_CIGPDAY) \n",
    "summary(infl_mylogit_CIGPDAY)"
   ]
  },
  {
   "cell_type": "code",
   "execution_count": null,
   "metadata": {},
   "outputs": [],
   "source": [
    "infl_mylogit_TOTCHOL = influence.measures(mylogit_TOTCHOL) \n",
    "summary(infl_mylogit_TOTCHOL)"
   ]
  },
  {
   "cell_type": "code",
   "execution_count": null,
   "metadata": {},
   "outputs": [],
   "source": [
    "infl_mylogit_SYSBP = influence.measures(mylogit_SYSBP) \n",
    "summary(infl_mylogit_SYSBP)"
   ]
  },
  {
   "cell_type": "code",
   "execution_count": null,
   "metadata": {},
   "outputs": [],
   "source": [
    "infl_mylogit_DIABP = influence.measures(mylogit_DIABP) \n",
    "summary(infl_mylogit_DIABP)"
   ]
  },
  {
   "cell_type": "code",
   "execution_count": null,
   "metadata": {},
   "outputs": [],
   "source": [
    "infl_mylogit_BMI = influence.measures(mylogit_BMI) \n",
    "summary(infl_mylogit_BMI)"
   ]
  },
  {
   "cell_type": "code",
   "execution_count": null,
   "metadata": {},
   "outputs": [],
   "source": [
    "infl_mylogit_HEARTRTE = influence.measures(mylogit_HEARTRTE) \n",
    "summary(infl_mylogit_HEARTRTE)"
   ]
  },
  {
   "cell_type": "code",
   "execution_count": null,
   "metadata": {},
   "outputs": [],
   "source": [
    "infl_mylogit_GLUCOSE = influence.measures(mylogit_GLUCOSE)\n",
    "summary(infl_mylogit_GLUCOSE)"
   ]
  },
  {
   "cell_type": "markdown",
   "metadata": {},
   "source": [
    "## Assumption Checking Summary\n",
    "* The variables that meet the sample size assumption are __GLUCOSE__ and __SYSBP__\n",
    "* The variables that meet the logit linearity assumption are __AGE__, __BMI__, __CIGPDAY__, __SYSBP__, __HEARTRTE__, and __TOTCHOL__.\n",
    "* All of the variables have independent errors\n",
    "* Multicollinearity: we noted in the exploratory data analysis that SYSBP and DIABP are strongly correlated, so we will have to eliminate one of them\n",
    "* None of the variables have outliers:\n",
    "    * dfb.1_ and dffit values are less than 1\n",
    "    * hat < .3"
   ]
  },
  {
   "cell_type": "code",
   "execution_count": null,
   "metadata": {},
   "outputs": [],
   "source": [
    "summary(mylogit_SYSBP)"
   ]
  },
  {
   "cell_type": "code",
   "execution_count": null,
   "metadata": {},
   "outputs": [],
   "source": [
    "coef(mylogit_SYSBP)"
   ]
  },
  {
   "cell_type": "markdown",
   "metadata": {},
   "source": [
    "***\n",
    "## If all of the variables had met the assumptions\n",
    "### Method based on [www.utstat.toronto.edu](http://www.utstat.toronto.edu/~brunner/oldclass/appliedf11/handouts/2101f11StepwiseLogisticR.pdf)"
   ]
  },
  {
   "cell_type": "markdown",
   "metadata": {},
   "source": [
    "### Run the full model"
   ]
  },
  {
   "cell_type": "markdown",
   "metadata": {},
   "source": [
    "#### Dropping DIABP due to multicollinearity "
   ]
  },
  {
   "cell_type": "code",
   "execution_count": null,
   "metadata": {},
   "outputs": [],
   "source": [
    "head(logitdf)"
   ]
  },
  {
   "cell_type": "code",
   "execution_count": null,
   "metadata": {},
   "outputs": [],
   "source": [
    "logitdfLR = subset(logitdf, select = -c(DIABP, Predicted_GLUCOSE))\n",
    "head(logitdfLR)"
   ]
  },
  {
   "cell_type": "code",
   "execution_count": null,
   "metadata": {},
   "outputs": [],
   "source": [
    "fullmod = glm(ANYCHD ~ ., data = logitdfLR,family=binomial)\n",
    "summary(fullmod)"
   ]
  },
  {
   "cell_type": "markdown",
   "metadata": {},
   "source": [
    "__*It seems that AGE, cigarretes per day, total cholesterol, systolic blood pressure, and GLUCOSE are the only factors that are significant predictors*__"
   ]
  },
  {
   "cell_type": "code",
   "execution_count": null,
   "metadata": {},
   "outputs": [],
   "source": [
    "nullmodel = glm(ANYCHD ~ 1, data = logitdfLR, family=binomial)\n",
    "summary(nullmodel)"
   ]
  },
  {
   "cell_type": "code",
   "execution_count": null,
   "metadata": {},
   "outputs": [],
   "source": [
    "backwards = step(fullmod)"
   ]
  },
  {
   "cell_type": "code",
   "execution_count": null,
   "metadata": {},
   "outputs": [],
   "source": [
    "summary(backwards)"
   ]
  },
  {
   "cell_type": "code",
   "execution_count": null,
   "metadata": {},
   "outputs": [],
   "source": [
    "forwards = step(nullmodel,scope=list(lower=formula(nullmodel),upper=formula(fullmod)), direction=\"forward\")"
   ]
  },
  {
   "cell_type": "code",
   "execution_count": null,
   "metadata": {},
   "outputs": [],
   "source": [
    "summary(forwards)"
   ]
  },
  {
   "cell_type": "code",
   "execution_count": null,
   "metadata": {},
   "outputs": [],
   "source": [
    "bothways = step(nullmodel, list(lower=formula(nullmodel),upper=formula(fullmod)),direction=\"both\",trace=0)\n",
    "summary(bothways)"
   ]
  },
  {
   "cell_type": "code",
   "execution_count": null,
   "metadata": {},
   "outputs": [],
   "source": [
    "formula(backwards)"
   ]
  },
  {
   "cell_type": "code",
   "execution_count": null,
   "metadata": {},
   "outputs": [],
   "source": [
    "formula(forwards)"
   ]
  },
  {
   "cell_type": "code",
   "execution_count": null,
   "metadata": {},
   "outputs": [],
   "source": [
    "formula(bothways)"
   ]
  },
  {
   "cell_type": "markdown",
   "metadata": {},
   "source": [
    "## Method based on [www.sthda.com](http://www.sthda.com/english/articles/36-classification-methods-essentials/150-stepwise-logistic-regression-essentials-in-r/)"
   ]
  },
  {
   "cell_type": "markdown",
   "metadata": {},
   "source": [
    "### Load libraries"
   ]
  },
  {
   "cell_type": "code",
   "execution_count": null,
   "metadata": {},
   "outputs": [],
   "source": [
    "library(\"caret\")\n",
    "library(\"MASS\")\n",
    "library(\"tidyverse\")"
   ]
  },
  {
   "cell_type": "code",
   "execution_count": null,
   "metadata": {},
   "outputs": [],
   "source": [
    "head(logitdfLR)"
   ]
  },
  {
   "cell_type": "markdown",
   "metadata": {},
   "source": [
    "### Split the data into training and test set"
   ]
  },
  {
   "cell_type": "code",
   "execution_count": null,
   "metadata": {},
   "outputs": [],
   "source": [
    "training.samples = logitdfLR$ANYCHD %>% createDataPartition(p= 0.8, list = FALSE)\n",
    "train.data  <- logitdfLR[training.samples, ]\n",
    "test.data <- logitdfLR[-training.samples, ]"
   ]
  },
  {
   "cell_type": "markdown",
   "metadata": {},
   "source": [
    "### Fit the model"
   ]
  },
  {
   "cell_type": "code",
   "execution_count": null,
   "metadata": {},
   "outputs": [],
   "source": [
    "# stepAIC function: default direction is backward - arg: direction = c(\"both\", \"backward\", \"forward\")\n",
    "mylogit  = glm(ANYCHD ~ ., data = train.data, family = binomial) %>% stepAIC(trace = FALSE)\n",
    "summary(mylogit)"
   ]
  },
  {
   "cell_type": "markdown",
   "metadata": {},
   "source": [
    "### Predict Probabilities Risk/No Risk for heart disease"
   ]
  },
  {
   "cell_type": "code",
   "execution_count": null,
   "metadata": {},
   "outputs": [],
   "source": [
    "probabilities <- mylogit %>% predict(test.data, type = \"response\")\n",
    "predicted.classes <- ifelse(probabilities > 0.5, 1, 0)"
   ]
  },
  {
   "cell_type": "markdown",
   "metadata": {},
   "source": [
    "### Model Accuracy"
   ]
  },
  {
   "cell_type": "code",
   "execution_count": null,
   "metadata": {},
   "outputs": [],
   "source": [
    "# Model accuracy\n",
    "mean(predicted.classes==test.data$ANYCHD)"
   ]
  },
  {
   "cell_type": "code",
   "execution_count": null,
   "metadata": {},
   "outputs": [],
   "source": [
    "mean(train.data$ANYCHD)"
   ]
  },
  {
   "cell_type": "markdown",
   "metadata": {},
   "source": [
    "### Full Model"
   ]
  },
  {
   "cell_type": "code",
   "execution_count": null,
   "metadata": {},
   "outputs": [],
   "source": [
    "full.model <- glm(ANYCHD ~., data = train.data, family = binomial)\n",
    "summary(full.model)"
   ]
  },
  {
   "cell_type": "markdown",
   "metadata": {},
   "source": [
    "### Stepwise Selection"
   ]
  },
  {
   "cell_type": "code",
   "execution_count": null,
   "metadata": {},
   "outputs": [],
   "source": [
    "step.model <- full.model %>% stepAIC(trace = FALSE)\n",
    "summary(step.model)"
   ]
  },
  {
   "cell_type": "markdown",
   "metadata": {},
   "source": [
    "### Compare the full and the stepwise models\n",
    "\n",
    "#### 1. Full Model"
   ]
  },
  {
   "cell_type": "code",
   "execution_count": null,
   "metadata": {},
   "outputs": [],
   "source": [
    "# Make predictions\n",
    "probabilities <- full.model %>% predict(test.data, type = \"response\")\n",
    "predicted.classes <- ifelse(probabilities > 0.5, 1, 0)\n",
    "# Prediction accuracy\n",
    "observed.classes <- test.data$ANYCHD\n",
    "mean(predicted.classes == observed.classes)"
   ]
  },
  {
   "cell_type": "markdown",
   "metadata": {},
   "source": [
    "#### 2. Stepwise Model"
   ]
  },
  {
   "cell_type": "code",
   "execution_count": null,
   "metadata": {},
   "outputs": [],
   "source": [
    "# Make predictions\n",
    "probabilities <- predict(step.model, test.data, type = \"response\")\n",
    "predicted.classes <- ifelse(probabilities > 0.5, 1, 0)\n",
    "# Prediction accuracy\n",
    "observed.classes <- test.data$ANYCHD\n",
    "mean(predicted.classes == observed.classes)"
   ]
  },
  {
   "cell_type": "markdown",
   "metadata": {},
   "source": [
    "### The stepwise model is best because it is less complex and achieves the same accuracy. Also, the full model includes variables that are not significant predictors of the CHD risk (p value > .05)."
   ]
  },
  {
   "cell_type": "code",
   "execution_count": null,
   "metadata": {},
   "outputs": [],
   "source": []
  }
 ],
 "metadata": {
  "kernelspec": {
   "display_name": "R",
   "language": "R",
   "name": "ir"
  },
  "language_info": {
   "codemirror_mode": "r",
   "file_extension": ".r",
   "mimetype": "text/x-r-source",
   "name": "R",
   "pygments_lexer": "r",
   "version": "4.1.0"
  }
 },
 "nbformat": 4,
 "nbformat_minor": 4
}
