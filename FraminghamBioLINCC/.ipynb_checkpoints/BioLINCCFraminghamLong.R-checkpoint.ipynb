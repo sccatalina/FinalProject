{
 "cells": [
  {
   "cell_type": "markdown",
   "metadata": {},
   "source": [
    "# Data Exploration"
   ]
  },
  {
   "cell_type": "markdown",
   "metadata": {},
   "source": [
    "## Load Libraries"
   ]
  },
  {
   "cell_type": "code",
   "execution_count": 1,
   "metadata": {},
   "outputs": [
    {
     "name": "stderr",
     "output_type": "stream",
     "text": [
      "\n",
      "Attaching package: ‘dplyr’\n",
      "\n",
      "\n",
      "The following objects are masked from ‘package:stats’:\n",
      "\n",
      "    filter, lag\n",
      "\n",
      "\n",
      "The following objects are masked from ‘package:base’:\n",
      "\n",
      "    intersect, setdiff, setequal, union\n",
      "\n",
      "\n"
     ]
    }
   ],
   "source": [
    "library(dplyr)\n",
    "library(tidyr)\n",
    "library(IDPmisc)\n",
    "library(ggplot2)"
   ]
  },
  {
   "cell_type": "markdown",
   "metadata": {},
   "source": [
    "## Import Data\n",
    "* The data was retrieved from the (BioLINCC)[https://biolincc.nhlbi.nih.gov/teaching/]\n",
    "* Disclaimer: This is teaching data that has been rendered anonymous through the application of certain statistical processes such as permutations and/or random visit selection. We cannot claim or imply that any inferences derived from the teaching datasets are valid estimates"
   ]
  },
  {
   "cell_type": "code",
   "execution_count": 8,
   "metadata": {},
   "outputs": [
    {
     "data": {
      "text/html": [
       "<table class=\"dataframe\">\n",
       "<caption>A data.frame: 6 × 39</caption>\n",
       "<thead>\n",
       "\t<tr><th></th><th scope=col>RANDID</th><th scope=col>SEX</th><th scope=col>TOTCHOL</th><th scope=col>AGE</th><th scope=col>SYSBP</th><th scope=col>DIABP</th><th scope=col>CURSMOKE</th><th scope=col>CIGPDAY</th><th scope=col>BMI</th><th scope=col>DIABETES</th><th scope=col>⋯</th><th scope=col>CVD</th><th scope=col>HYPERTEN</th><th scope=col>TIMEAP</th><th scope=col>TIMEMI</th><th scope=col>TIMEMIFC</th><th scope=col>TIMECHD</th><th scope=col>TIMESTRK</th><th scope=col>TIMECVD</th><th scope=col>TIMEDTH</th><th scope=col>TIMEHYP</th></tr>\n",
       "\t<tr><th></th><th scope=col>&lt;int&gt;</th><th scope=col>&lt;int&gt;</th><th scope=col>&lt;int&gt;</th><th scope=col>&lt;int&gt;</th><th scope=col>&lt;dbl&gt;</th><th scope=col>&lt;dbl&gt;</th><th scope=col>&lt;int&gt;</th><th scope=col>&lt;int&gt;</th><th scope=col>&lt;dbl&gt;</th><th scope=col>&lt;int&gt;</th><th scope=col>⋯</th><th scope=col>&lt;int&gt;</th><th scope=col>&lt;int&gt;</th><th scope=col>&lt;int&gt;</th><th scope=col>&lt;int&gt;</th><th scope=col>&lt;int&gt;</th><th scope=col>&lt;int&gt;</th><th scope=col>&lt;int&gt;</th><th scope=col>&lt;int&gt;</th><th scope=col>&lt;int&gt;</th><th scope=col>&lt;int&gt;</th></tr>\n",
       "</thead>\n",
       "<tbody>\n",
       "\t<tr><th scope=row>1</th><td>2448</td><td>1</td><td>195</td><td>39</td><td>106.0</td><td>70.0</td><td>0</td><td> 0</td><td>26.97</td><td>0</td><td>⋯</td><td>1</td><td>0</td><td>8766</td><td>6438</td><td>6438</td><td>6438</td><td>8766</td><td>6438</td><td>8766</td><td>8766</td></tr>\n",
       "\t<tr><th scope=row>2</th><td>2448</td><td>1</td><td>209</td><td>52</td><td>121.0</td><td>66.0</td><td>0</td><td> 0</td><td>   NA</td><td>0</td><td>⋯</td><td>1</td><td>0</td><td>8766</td><td>6438</td><td>6438</td><td>6438</td><td>8766</td><td>6438</td><td>8766</td><td>8766</td></tr>\n",
       "\t<tr><th scope=row>3</th><td>6238</td><td>2</td><td>250</td><td>46</td><td>121.0</td><td>81.0</td><td>0</td><td> 0</td><td>28.73</td><td>0</td><td>⋯</td><td>0</td><td>0</td><td>8766</td><td>8766</td><td>8766</td><td>8766</td><td>8766</td><td>8766</td><td>8766</td><td>8766</td></tr>\n",
       "\t<tr><th scope=row>4</th><td>6238</td><td>2</td><td>260</td><td>52</td><td>105.0</td><td>69.5</td><td>0</td><td> 0</td><td>29.43</td><td>0</td><td>⋯</td><td>0</td><td>0</td><td>8766</td><td>8766</td><td>8766</td><td>8766</td><td>8766</td><td>8766</td><td>8766</td><td>8766</td></tr>\n",
       "\t<tr><th scope=row>5</th><td>6238</td><td>2</td><td>237</td><td>58</td><td>108.0</td><td>66.0</td><td>0</td><td> 0</td><td>28.50</td><td>0</td><td>⋯</td><td>0</td><td>0</td><td>8766</td><td>8766</td><td>8766</td><td>8766</td><td>8766</td><td>8766</td><td>8766</td><td>8766</td></tr>\n",
       "\t<tr><th scope=row>6</th><td>9428</td><td>1</td><td>245</td><td>48</td><td>127.5</td><td>80.0</td><td>1</td><td>20</td><td>25.34</td><td>0</td><td>⋯</td><td>0</td><td>0</td><td>8766</td><td>8766</td><td>8766</td><td>8766</td><td>8766</td><td>8766</td><td>8766</td><td>8766</td></tr>\n",
       "</tbody>\n",
       "</table>\n"
      ],
      "text/latex": [
       "A data.frame: 6 × 39\n",
       "\\begin{tabular}{r|lllllllllllllllllllll}\n",
       "  & RANDID & SEX & TOTCHOL & AGE & SYSBP & DIABP & CURSMOKE & CIGPDAY & BMI & DIABETES & ⋯ & CVD & HYPERTEN & TIMEAP & TIMEMI & TIMEMIFC & TIMECHD & TIMESTRK & TIMECVD & TIMEDTH & TIMEHYP\\\\\n",
       "  & <int> & <int> & <int> & <int> & <dbl> & <dbl> & <int> & <int> & <dbl> & <int> & ⋯ & <int> & <int> & <int> & <int> & <int> & <int> & <int> & <int> & <int> & <int>\\\\\n",
       "\\hline\n",
       "\t1 & 2448 & 1 & 195 & 39 & 106.0 & 70.0 & 0 &  0 & 26.97 & 0 & ⋯ & 1 & 0 & 8766 & 6438 & 6438 & 6438 & 8766 & 6438 & 8766 & 8766\\\\\n",
       "\t2 & 2448 & 1 & 209 & 52 & 121.0 & 66.0 & 0 &  0 &    NA & 0 & ⋯ & 1 & 0 & 8766 & 6438 & 6438 & 6438 & 8766 & 6438 & 8766 & 8766\\\\\n",
       "\t3 & 6238 & 2 & 250 & 46 & 121.0 & 81.0 & 0 &  0 & 28.73 & 0 & ⋯ & 0 & 0 & 8766 & 8766 & 8766 & 8766 & 8766 & 8766 & 8766 & 8766\\\\\n",
       "\t4 & 6238 & 2 & 260 & 52 & 105.0 & 69.5 & 0 &  0 & 29.43 & 0 & ⋯ & 0 & 0 & 8766 & 8766 & 8766 & 8766 & 8766 & 8766 & 8766 & 8766\\\\\n",
       "\t5 & 6238 & 2 & 237 & 58 & 108.0 & 66.0 & 0 &  0 & 28.50 & 0 & ⋯ & 0 & 0 & 8766 & 8766 & 8766 & 8766 & 8766 & 8766 & 8766 & 8766\\\\\n",
       "\t6 & 9428 & 1 & 245 & 48 & 127.5 & 80.0 & 1 & 20 & 25.34 & 0 & ⋯ & 0 & 0 & 8766 & 8766 & 8766 & 8766 & 8766 & 8766 & 8766 & 8766\\\\\n",
       "\\end{tabular}\n"
      ],
      "text/markdown": [
       "\n",
       "A data.frame: 6 × 39\n",
       "\n",
       "| <!--/--> | RANDID &lt;int&gt; | SEX &lt;int&gt; | TOTCHOL &lt;int&gt; | AGE &lt;int&gt; | SYSBP &lt;dbl&gt; | DIABP &lt;dbl&gt; | CURSMOKE &lt;int&gt; | CIGPDAY &lt;int&gt; | BMI &lt;dbl&gt; | DIABETES &lt;int&gt; | ⋯ ⋯ | CVD &lt;int&gt; | HYPERTEN &lt;int&gt; | TIMEAP &lt;int&gt; | TIMEMI &lt;int&gt; | TIMEMIFC &lt;int&gt; | TIMECHD &lt;int&gt; | TIMESTRK &lt;int&gt; | TIMECVD &lt;int&gt; | TIMEDTH &lt;int&gt; | TIMEHYP &lt;int&gt; |\n",
       "|---|---|---|---|---|---|---|---|---|---|---|---|---|---|---|---|---|---|---|---|---|---|\n",
       "| 1 | 2448 | 1 | 195 | 39 | 106.0 | 70.0 | 0 |  0 | 26.97 | 0 | ⋯ | 1 | 0 | 8766 | 6438 | 6438 | 6438 | 8766 | 6438 | 8766 | 8766 |\n",
       "| 2 | 2448 | 1 | 209 | 52 | 121.0 | 66.0 | 0 |  0 |    NA | 0 | ⋯ | 1 | 0 | 8766 | 6438 | 6438 | 6438 | 8766 | 6438 | 8766 | 8766 |\n",
       "| 3 | 6238 | 2 | 250 | 46 | 121.0 | 81.0 | 0 |  0 | 28.73 | 0 | ⋯ | 0 | 0 | 8766 | 8766 | 8766 | 8766 | 8766 | 8766 | 8766 | 8766 |\n",
       "| 4 | 6238 | 2 | 260 | 52 | 105.0 | 69.5 | 0 |  0 | 29.43 | 0 | ⋯ | 0 | 0 | 8766 | 8766 | 8766 | 8766 | 8766 | 8766 | 8766 | 8766 |\n",
       "| 5 | 6238 | 2 | 237 | 58 | 108.0 | 66.0 | 0 |  0 | 28.50 | 0 | ⋯ | 0 | 0 | 8766 | 8766 | 8766 | 8766 | 8766 | 8766 | 8766 | 8766 |\n",
       "| 6 | 9428 | 1 | 245 | 48 | 127.5 | 80.0 | 1 | 20 | 25.34 | 0 | ⋯ | 0 | 0 | 8766 | 8766 | 8766 | 8766 | 8766 | 8766 | 8766 | 8766 |\n",
       "\n"
      ],
      "text/plain": [
       "  RANDID SEX TOTCHOL AGE SYSBP DIABP CURSMOKE CIGPDAY BMI   DIABETES ⋯ CVD\n",
       "1 2448   1   195     39  106.0 70.0  0         0      26.97 0        ⋯ 1  \n",
       "2 2448   1   209     52  121.0 66.0  0         0         NA 0        ⋯ 1  \n",
       "3 6238   2   250     46  121.0 81.0  0         0      28.73 0        ⋯ 0  \n",
       "4 6238   2   260     52  105.0 69.5  0         0      29.43 0        ⋯ 0  \n",
       "5 6238   2   237     58  108.0 66.0  0         0      28.50 0        ⋯ 0  \n",
       "6 9428   1   245     48  127.5 80.0  1        20      25.34 0        ⋯ 0  \n",
       "  HYPERTEN TIMEAP TIMEMI TIMEMIFC TIMECHD TIMESTRK TIMECVD TIMEDTH TIMEHYP\n",
       "1 0        8766   6438   6438     6438    8766     6438    8766    8766   \n",
       "2 0        8766   6438   6438     6438    8766     6438    8766    8766   \n",
       "3 0        8766   8766   8766     8766    8766     8766    8766    8766   \n",
       "4 0        8766   8766   8766     8766    8766     8766    8766    8766   \n",
       "5 0        8766   8766   8766     8766    8766     8766    8766    8766   \n",
       "6 0        8766   8766   8766     8766    8766     8766    8766    8766   "
      ]
     },
     "metadata": {},
     "output_type": "display_data"
    }
   ],
   "source": [
    "heart = read.csv('/Users/silviacatalina/Google Drive/BethelTech/DS0110-FinalProject/Framingham/Data/csv/frmgham2.csv')\n",
    "head(heart)"
   ]
  },
  {
   "cell_type": "code",
   "execution_count": 9,
   "metadata": {},
   "outputs": [
    {
     "name": "stdout",
     "output_type": "stream",
     "text": [
      "'data.frame':\t11627 obs. of  39 variables:\n",
      " $ RANDID  : int  2448 2448 6238 6238 6238 9428 9428 10552 10552 11252 ...\n",
      " $ SEX     : int  1 1 2 2 2 1 1 2 2 2 ...\n",
      " $ TOTCHOL : int  195 209 250 260 237 245 283 225 232 285 ...\n",
      " $ AGE     : int  39 52 46 52 58 48 54 61 67 46 ...\n",
      " $ SYSBP   : num  106 121 121 105 108 ...\n",
      " $ DIABP   : num  70 66 81 69.5 66 80 89 95 109 84 ...\n",
      " $ CURSMOKE: int  0 0 0 0 0 1 1 1 1 1 ...\n",
      " $ CIGPDAY : int  0 0 0 0 0 20 30 30 20 23 ...\n",
      " $ BMI     : num  27 NA 28.7 29.4 28.5 ...\n",
      " $ DIABETES: int  0 0 0 0 0 0 0 0 0 0 ...\n",
      " $ BPMEDS  : int  0 0 0 0 0 0 0 0 0 0 ...\n",
      " $ HEARTRTE: int  80 69 95 80 80 75 75 65 60 85 ...\n",
      " $ GLUCOSE : int  77 92 76 86 71 70 87 103 89 85 ...\n",
      " $ educ    : int  4 4 2 2 2 1 1 3 3 3 ...\n",
      " $ PREVCHD : int  0 0 0 0 0 0 0 0 0 0 ...\n",
      " $ PREVAP  : int  0 0 0 0 0 0 0 0 0 0 ...\n",
      " $ PREVMI  : int  0 0 0 0 0 0 0 0 0 0 ...\n",
      " $ PREVSTRK: int  0 0 0 0 0 0 0 0 0 0 ...\n",
      " $ PREVHYP : int  0 0 0 0 0 0 0 1 1 0 ...\n",
      " $ TIME    : int  0 4628 0 2156 4344 0 2199 0 1977 0 ...\n",
      " $ PERIOD  : int  1 3 1 2 3 1 2 1 2 1 ...\n",
      " $ HDLC    : int  NA 31 NA NA 54 NA NA NA NA NA ...\n",
      " $ LDLC    : int  NA 178 NA NA 141 NA NA NA NA NA ...\n",
      " $ DEATH   : int  0 0 0 0 0 0 0 1 1 0 ...\n",
      " $ ANGINA  : int  0 0 0 0 0 0 0 0 0 0 ...\n",
      " $ HOSPMI  : int  1 1 0 0 0 0 0 0 0 0 ...\n",
      " $ MI_FCHD : int  1 1 0 0 0 0 0 0 0 0 ...\n",
      " $ ANYCHD  : int  1 1 0 0 0 0 0 0 0 0 ...\n",
      " $ STROKE  : int  0 0 0 0 0 0 0 1 1 0 ...\n",
      " $ CVD     : int  1 1 0 0 0 0 0 1 1 0 ...\n",
      " $ HYPERTEN: int  0 0 0 0 0 0 0 1 1 1 ...\n",
      " $ TIMEAP  : int  8766 8766 8766 8766 8766 8766 8766 2956 2956 8766 ...\n",
      " $ TIMEMI  : int  6438 6438 8766 8766 8766 8766 8766 2956 2956 8766 ...\n",
      " $ TIMEMIFC: int  6438 6438 8766 8766 8766 8766 8766 2956 2956 8766 ...\n",
      " $ TIMECHD : int  6438 6438 8766 8766 8766 8766 8766 2956 2956 8766 ...\n",
      " $ TIMESTRK: int  8766 8766 8766 8766 8766 8766 8766 2089 2089 8766 ...\n",
      " $ TIMECVD : int  6438 6438 8766 8766 8766 8766 8766 2089 2089 8766 ...\n",
      " $ TIMEDTH : int  8766 8766 8766 8766 8766 8766 8766 2956 2956 8766 ...\n",
      " $ TIMEHYP : int  8766 8766 8766 8766 8766 8766 8766 0 0 4285 ...\n"
     ]
    }
   ],
   "source": [
    "str(heart)"
   ]
  },
  {
   "cell_type": "code",
   "execution_count": 10,
   "metadata": {},
   "outputs": [
    {
     "data": {
      "text/html": [
       "<style>\n",
       ".dl-inline {width: auto; margin:0; padding: 0}\n",
       ".dl-inline>dt, .dl-inline>dd {float: none; width: auto; display: inline-block}\n",
       ".dl-inline>dt::after {content: \":\\0020\"; padding-right: .5ex}\n",
       ".dl-inline>dt:not(:first-of-type) {padding-left: .5ex}\n",
       "</style><dl class=dl-inline><dt>RANDID</dt><dd>0</dd><dt>SEX</dt><dd>0</dd><dt>TOTCHOL</dt><dd>409</dd><dt>AGE</dt><dd>0</dd><dt>SYSBP</dt><dd>0</dd><dt>DIABP</dt><dd>0</dd><dt>CURSMOKE</dt><dd>0</dd><dt>CIGPDAY</dt><dd>79</dd><dt>BMI</dt><dd>52</dd><dt>DIABETES</dt><dd>0</dd><dt>BPMEDS</dt><dd>593</dd><dt>HEARTRTE</dt><dd>6</dd><dt>GLUCOSE</dt><dd>1440</dd><dt>educ</dt><dd>295</dd><dt>PREVCHD</dt><dd>0</dd><dt>PREVAP</dt><dd>0</dd><dt>PREVMI</dt><dd>0</dd><dt>PREVSTRK</dt><dd>0</dd><dt>PREVHYP</dt><dd>0</dd><dt>TIME</dt><dd>0</dd><dt>PERIOD</dt><dd>0</dd><dt>HDLC</dt><dd>8600</dd><dt>LDLC</dt><dd>8601</dd><dt>DEATH</dt><dd>0</dd><dt>ANGINA</dt><dd>0</dd><dt>HOSPMI</dt><dd>0</dd><dt>MI_FCHD</dt><dd>0</dd><dt>ANYCHD</dt><dd>0</dd><dt>STROKE</dt><dd>0</dd><dt>CVD</dt><dd>0</dd><dt>HYPERTEN</dt><dd>0</dd><dt>TIMEAP</dt><dd>0</dd><dt>TIMEMI</dt><dd>0</dd><dt>TIMEMIFC</dt><dd>0</dd><dt>TIMECHD</dt><dd>0</dd><dt>TIMESTRK</dt><dd>0</dd><dt>TIMECVD</dt><dd>0</dd><dt>TIMEDTH</dt><dd>0</dd><dt>TIMEHYP</dt><dd>0</dd></dl>\n"
      ],
      "text/latex": [
       "\\begin{description*}\n",
       "\\item[RANDID] 0\n",
       "\\item[SEX] 0\n",
       "\\item[TOTCHOL] 409\n",
       "\\item[AGE] 0\n",
       "\\item[SYSBP] 0\n",
       "\\item[DIABP] 0\n",
       "\\item[CURSMOKE] 0\n",
       "\\item[CIGPDAY] 79\n",
       "\\item[BMI] 52\n",
       "\\item[DIABETES] 0\n",
       "\\item[BPMEDS] 593\n",
       "\\item[HEARTRTE] 6\n",
       "\\item[GLUCOSE] 1440\n",
       "\\item[educ] 295\n",
       "\\item[PREVCHD] 0\n",
       "\\item[PREVAP] 0\n",
       "\\item[PREVMI] 0\n",
       "\\item[PREVSTRK] 0\n",
       "\\item[PREVHYP] 0\n",
       "\\item[TIME] 0\n",
       "\\item[PERIOD] 0\n",
       "\\item[HDLC] 8600\n",
       "\\item[LDLC] 8601\n",
       "\\item[DEATH] 0\n",
       "\\item[ANGINA] 0\n",
       "\\item[HOSPMI] 0\n",
       "\\item[MI\\textbackslash{}\\_FCHD] 0\n",
       "\\item[ANYCHD] 0\n",
       "\\item[STROKE] 0\n",
       "\\item[CVD] 0\n",
       "\\item[HYPERTEN] 0\n",
       "\\item[TIMEAP] 0\n",
       "\\item[TIMEMI] 0\n",
       "\\item[TIMEMIFC] 0\n",
       "\\item[TIMECHD] 0\n",
       "\\item[TIMESTRK] 0\n",
       "\\item[TIMECVD] 0\n",
       "\\item[TIMEDTH] 0\n",
       "\\item[TIMEHYP] 0\n",
       "\\end{description*}\n"
      ],
      "text/markdown": [
       "RANDID\n",
       ":   0SEX\n",
       ":   0TOTCHOL\n",
       ":   409AGE\n",
       ":   0SYSBP\n",
       ":   0DIABP\n",
       ":   0CURSMOKE\n",
       ":   0CIGPDAY\n",
       ":   79BMI\n",
       ":   52DIABETES\n",
       ":   0BPMEDS\n",
       ":   593HEARTRTE\n",
       ":   6GLUCOSE\n",
       ":   1440educ\n",
       ":   295PREVCHD\n",
       ":   0PREVAP\n",
       ":   0PREVMI\n",
       ":   0PREVSTRK\n",
       ":   0PREVHYP\n",
       ":   0TIME\n",
       ":   0PERIOD\n",
       ":   0HDLC\n",
       ":   8600LDLC\n",
       ":   8601DEATH\n",
       ":   0ANGINA\n",
       ":   0HOSPMI\n",
       ":   0MI_FCHD\n",
       ":   0ANYCHD\n",
       ":   0STROKE\n",
       ":   0CVD\n",
       ":   0HYPERTEN\n",
       ":   0TIMEAP\n",
       ":   0TIMEMI\n",
       ":   0TIMEMIFC\n",
       ":   0TIMECHD\n",
       ":   0TIMESTRK\n",
       ":   0TIMECVD\n",
       ":   0TIMEDTH\n",
       ":   0TIMEHYP\n",
       ":   0\n",
       "\n"
      ],
      "text/plain": [
       "  RANDID      SEX  TOTCHOL      AGE    SYSBP    DIABP CURSMOKE  CIGPDAY \n",
       "       0        0      409        0        0        0        0       79 \n",
       "     BMI DIABETES   BPMEDS HEARTRTE  GLUCOSE     educ  PREVCHD   PREVAP \n",
       "      52        0      593        6     1440      295        0        0 \n",
       "  PREVMI PREVSTRK  PREVHYP     TIME   PERIOD     HDLC     LDLC    DEATH \n",
       "       0        0        0        0        0     8600     8601        0 \n",
       "  ANGINA   HOSPMI  MI_FCHD   ANYCHD   STROKE      CVD HYPERTEN   TIMEAP \n",
       "       0        0        0        0        0        0        0        0 \n",
       "  TIMEMI TIMEMIFC  TIMECHD TIMESTRK  TIMECVD  TIMEDTH  TIMEHYP \n",
       "       0        0        0        0        0        0        0 "
      ]
     },
     "metadata": {},
     "output_type": "display_data"
    }
   ],
   "source": [
    "colSums(is.na(heart))"
   ]
  },
  {
   "cell_type": "markdown",
   "metadata": {},
   "source": [
    "## Subset data into periods"
   ]
  },
  {
   "cell_type": "markdown",
   "metadata": {},
   "source": [
    "### Period 1 (baseline)"
   ]
  },
  {
   "cell_type": "code",
   "execution_count": 11,
   "metadata": {},
   "outputs": [
    {
     "name": "stdout",
     "output_type": "stream",
     "text": [
      "'data.frame':\t4434 obs. of  39 variables:\n",
      " $ RANDID  : int  2448 6238 9428 10552 11252 11263 12629 12806 14367 16365 ...\n",
      " $ SEX     : int  1 2 1 2 2 2 2 2 1 1 ...\n",
      " $ TOTCHOL : int  195 250 245 225 285 228 205 313 260 225 ...\n",
      " $ AGE     : int  39 46 48 61 46 43 63 45 52 43 ...\n",
      " $ SYSBP   : num  106 121 128 150 130 ...\n",
      " $ DIABP   : num  70 81 80 95 84 110 71 71 89 107 ...\n",
      " $ CURSMOKE: int  0 0 1 1 1 0 0 1 0 1 ...\n",
      " $ CIGPDAY : int  0 0 20 30 23 0 0 20 0 30 ...\n",
      " $ BMI     : num  27 28.7 25.3 28.6 23.1 ...\n",
      " $ DIABETES: int  0 0 0 0 0 0 0 0 0 0 ...\n",
      " $ BPMEDS  : int  0 0 0 0 0 0 0 0 0 0 ...\n",
      " $ HEARTRTE: int  80 95 75 65 85 77 60 79 76 93 ...\n",
      " $ GLUCOSE : int  77 76 70 103 85 99 85 78 79 88 ...\n",
      " $ educ    : int  4 2 1 3 3 2 1 2 1 1 ...\n",
      " $ PREVCHD : int  0 0 0 0 0 0 0 0 0 0 ...\n",
      " $ PREVAP  : int  0 0 0 0 0 0 0 0 0 0 ...\n",
      " $ PREVMI  : int  0 0 0 0 0 0 0 0 0 0 ...\n",
      " $ PREVSTRK: int  0 0 0 0 0 0 0 0 0 0 ...\n",
      " $ PREVHYP : int  0 0 0 1 0 1 0 0 1 1 ...\n",
      " $ TIME    : int  0 0 0 0 0 0 0 0 0 0 ...\n",
      " $ PERIOD  : int  1 1 1 1 1 1 1 1 1 1 ...\n",
      " $ HDLC    : int  NA NA NA NA NA NA NA NA NA NA ...\n",
      " $ LDLC    : int  NA NA NA NA NA NA NA NA NA NA ...\n",
      " $ DEATH   : int  0 0 0 1 0 0 0 0 0 0 ...\n",
      " $ ANGINA  : int  0 0 0 0 0 0 1 0 0 0 ...\n",
      " $ HOSPMI  : int  1 0 0 0 0 0 0 0 0 0 ...\n",
      " $ MI_FCHD : int  1 0 0 0 0 1 0 0 0 0 ...\n",
      " $ ANYCHD  : int  1 0 0 0 0 1 1 0 0 0 ...\n",
      " $ STROKE  : int  0 0 0 1 0 0 0 0 0 0 ...\n",
      " $ CVD     : int  1 0 0 1 0 1 0 0 0 0 ...\n",
      " $ HYPERTEN: int  0 0 0 1 1 1 1 1 1 1 ...\n",
      " $ TIMEAP  : int  8766 8766 8766 2956 8766 8766 373 8766 8766 8766 ...\n",
      " $ TIMEMI  : int  6438 8766 8766 2956 8766 8766 8766 8766 8766 8766 ...\n",
      " $ TIMEMIFC: int  6438 8766 8766 2956 8766 5719 8766 8766 8766 8766 ...\n",
      " $ TIMECHD : int  6438 8766 8766 2956 8766 5719 373 8766 8766 8766 ...\n",
      " $ TIMESTRK: int  8766 8766 8766 2089 8766 8766 8766 8766 8766 8766 ...\n",
      " $ TIMECVD : int  6438 8766 8766 2089 8766 5719 8766 8766 8766 8766 ...\n",
      " $ TIMEDTH : int  8766 8766 8766 2956 8766 8766 8766 8766 8766 8766 ...\n",
      " $ TIMEHYP : int  8766 8766 8766 0 4285 0 2212 8679 0 0 ...\n"
     ]
    }
   ],
   "source": [
    "heartP1 = heart[heart$PERIOD == 1,]\n",
    "str(heartP1)"
   ]
  },
  {
   "cell_type": "markdown",
   "metadata": {},
   "source": [
    "### Period 1 Data Wrangling\n",
    "* Remove HDLC and LDLC, which were only collected in Period \n",
    "* Remove NAs"
   ]
  },
  {
   "cell_type": "code",
   "execution_count": 12,
   "metadata": {},
   "outputs": [
    {
     "data": {
      "text/html": [
       "<style>\n",
       ".dl-inline {width: auto; margin:0; padding: 0}\n",
       ".dl-inline>dt, .dl-inline>dd {float: none; width: auto; display: inline-block}\n",
       ".dl-inline>dt::after {content: \":\\0020\"; padding-right: .5ex}\n",
       ".dl-inline>dt:not(:first-of-type) {padding-left: .5ex}\n",
       "</style><dl class=dl-inline><dt>RANDID</dt><dd>0</dd><dt>SEX</dt><dd>0</dd><dt>TOTCHOL</dt><dd>52</dd><dt>AGE</dt><dd>0</dd><dt>SYSBP</dt><dd>0</dd><dt>DIABP</dt><dd>0</dd><dt>CURSMOKE</dt><dd>0</dd><dt>CIGPDAY</dt><dd>32</dd><dt>BMI</dt><dd>19</dd><dt>DIABETES</dt><dd>0</dd><dt>BPMEDS</dt><dd>61</dd><dt>HEARTRTE</dt><dd>1</dd><dt>GLUCOSE</dt><dd>397</dd><dt>educ</dt><dd>113</dd><dt>PREVCHD</dt><dd>0</dd><dt>PREVAP</dt><dd>0</dd><dt>PREVMI</dt><dd>0</dd><dt>PREVSTRK</dt><dd>0</dd><dt>PREVHYP</dt><dd>0</dd><dt>TIME</dt><dd>0</dd><dt>PERIOD</dt><dd>0</dd><dt>DEATH</dt><dd>0</dd><dt>ANGINA</dt><dd>0</dd><dt>HOSPMI</dt><dd>0</dd><dt>MI_FCHD</dt><dd>0</dd><dt>ANYCHD</dt><dd>0</dd><dt>STROKE</dt><dd>0</dd><dt>CVD</dt><dd>0</dd><dt>HYPERTEN</dt><dd>0</dd><dt>TIMEAP</dt><dd>0</dd><dt>TIMEMI</dt><dd>0</dd><dt>TIMEMIFC</dt><dd>0</dd><dt>TIMECHD</dt><dd>0</dd><dt>TIMESTRK</dt><dd>0</dd><dt>TIMECVD</dt><dd>0</dd><dt>TIMEDTH</dt><dd>0</dd><dt>TIMEHYP</dt><dd>0</dd></dl>\n"
      ],
      "text/latex": [
       "\\begin{description*}\n",
       "\\item[RANDID] 0\n",
       "\\item[SEX] 0\n",
       "\\item[TOTCHOL] 52\n",
       "\\item[AGE] 0\n",
       "\\item[SYSBP] 0\n",
       "\\item[DIABP] 0\n",
       "\\item[CURSMOKE] 0\n",
       "\\item[CIGPDAY] 32\n",
       "\\item[BMI] 19\n",
       "\\item[DIABETES] 0\n",
       "\\item[BPMEDS] 61\n",
       "\\item[HEARTRTE] 1\n",
       "\\item[GLUCOSE] 397\n",
       "\\item[educ] 113\n",
       "\\item[PREVCHD] 0\n",
       "\\item[PREVAP] 0\n",
       "\\item[PREVMI] 0\n",
       "\\item[PREVSTRK] 0\n",
       "\\item[PREVHYP] 0\n",
       "\\item[TIME] 0\n",
       "\\item[PERIOD] 0\n",
       "\\item[DEATH] 0\n",
       "\\item[ANGINA] 0\n",
       "\\item[HOSPMI] 0\n",
       "\\item[MI\\textbackslash{}\\_FCHD] 0\n",
       "\\item[ANYCHD] 0\n",
       "\\item[STROKE] 0\n",
       "\\item[CVD] 0\n",
       "\\item[HYPERTEN] 0\n",
       "\\item[TIMEAP] 0\n",
       "\\item[TIMEMI] 0\n",
       "\\item[TIMEMIFC] 0\n",
       "\\item[TIMECHD] 0\n",
       "\\item[TIMESTRK] 0\n",
       "\\item[TIMECVD] 0\n",
       "\\item[TIMEDTH] 0\n",
       "\\item[TIMEHYP] 0\n",
       "\\end{description*}\n"
      ],
      "text/markdown": [
       "RANDID\n",
       ":   0SEX\n",
       ":   0TOTCHOL\n",
       ":   52AGE\n",
       ":   0SYSBP\n",
       ":   0DIABP\n",
       ":   0CURSMOKE\n",
       ":   0CIGPDAY\n",
       ":   32BMI\n",
       ":   19DIABETES\n",
       ":   0BPMEDS\n",
       ":   61HEARTRTE\n",
       ":   1GLUCOSE\n",
       ":   397educ\n",
       ":   113PREVCHD\n",
       ":   0PREVAP\n",
       ":   0PREVMI\n",
       ":   0PREVSTRK\n",
       ":   0PREVHYP\n",
       ":   0TIME\n",
       ":   0PERIOD\n",
       ":   0DEATH\n",
       ":   0ANGINA\n",
       ":   0HOSPMI\n",
       ":   0MI_FCHD\n",
       ":   0ANYCHD\n",
       ":   0STROKE\n",
       ":   0CVD\n",
       ":   0HYPERTEN\n",
       ":   0TIMEAP\n",
       ":   0TIMEMI\n",
       ":   0TIMEMIFC\n",
       ":   0TIMECHD\n",
       ":   0TIMESTRK\n",
       ":   0TIMECVD\n",
       ":   0TIMEDTH\n",
       ":   0TIMEHYP\n",
       ":   0\n",
       "\n"
      ],
      "text/plain": [
       "  RANDID      SEX  TOTCHOL      AGE    SYSBP    DIABP CURSMOKE  CIGPDAY \n",
       "       0        0       52        0        0        0        0       32 \n",
       "     BMI DIABETES   BPMEDS HEARTRTE  GLUCOSE     educ  PREVCHD   PREVAP \n",
       "      19        0       61        1      397      113        0        0 \n",
       "  PREVMI PREVSTRK  PREVHYP     TIME   PERIOD    DEATH   ANGINA   HOSPMI \n",
       "       0        0        0        0        0        0        0        0 \n",
       " MI_FCHD   ANYCHD   STROKE      CVD HYPERTEN   TIMEAP   TIMEMI TIMEMIFC \n",
       "       0        0        0        0        0        0        0        0 \n",
       " TIMECHD TIMESTRK  TIMECVD  TIMEDTH  TIMEHYP \n",
       "       0        0        0        0        0 "
      ]
     },
     "metadata": {},
     "output_type": "display_data"
    }
   ],
   "source": [
    "heartP1 = subset(heartP1, select =-c(HDLC, LDLC))\n",
    "colSums(is.na(heartP1))"
   ]
  },
  {
   "cell_type": "code",
   "execution_count": 13,
   "metadata": {},
   "outputs": [
    {
     "name": "stdout",
     "output_type": "stream",
     "text": [
      "'data.frame':\t3826 obs. of  37 variables:\n",
      " $ RANDID  : int  2448 6238 9428 10552 11252 11263 12629 12806 14367 16365 ...\n",
      " $ SEX     : int  1 2 1 2 2 2 2 2 1 1 ...\n",
      " $ TOTCHOL : int  195 250 245 225 285 228 205 313 260 225 ...\n",
      " $ AGE     : int  39 46 48 61 46 43 63 45 52 43 ...\n",
      " $ SYSBP   : num  106 121 128 150 130 ...\n",
      " $ DIABP   : num  70 81 80 95 84 110 71 71 89 107 ...\n",
      " $ CURSMOKE: int  0 0 1 1 1 0 0 1 0 1 ...\n",
      " $ CIGPDAY : int  0 0 20 30 23 0 0 20 0 30 ...\n",
      " $ BMI     : num  27 28.7 25.3 28.6 23.1 ...\n",
      " $ DIABETES: int  0 0 0 0 0 0 0 0 0 0 ...\n",
      " $ BPMEDS  : int  0 0 0 0 0 0 0 0 0 0 ...\n",
      " $ HEARTRTE: int  80 95 75 65 85 77 60 79 76 93 ...\n",
      " $ GLUCOSE : int  77 76 70 103 85 99 85 78 79 88 ...\n",
      " $ educ    : int  4 2 1 3 3 2 1 2 1 1 ...\n",
      " $ PREVCHD : int  0 0 0 0 0 0 0 0 0 0 ...\n",
      " $ PREVAP  : int  0 0 0 0 0 0 0 0 0 0 ...\n",
      " $ PREVMI  : int  0 0 0 0 0 0 0 0 0 0 ...\n",
      " $ PREVSTRK: int  0 0 0 0 0 0 0 0 0 0 ...\n",
      " $ PREVHYP : int  0 0 0 1 0 1 0 0 1 1 ...\n",
      " $ TIME    : int  0 0 0 0 0 0 0 0 0 0 ...\n",
      " $ PERIOD  : int  1 1 1 1 1 1 1 1 1 1 ...\n",
      " $ DEATH   : int  0 0 0 1 0 0 0 0 0 0 ...\n",
      " $ ANGINA  : int  0 0 0 0 0 0 1 0 0 0 ...\n",
      " $ HOSPMI  : int  1 0 0 0 0 0 0 0 0 0 ...\n",
      " $ MI_FCHD : int  1 0 0 0 0 1 0 0 0 0 ...\n",
      " $ ANYCHD  : int  1 0 0 0 0 1 1 0 0 0 ...\n",
      " $ STROKE  : int  0 0 0 1 0 0 0 0 0 0 ...\n",
      " $ CVD     : int  1 0 0 1 0 1 0 0 0 0 ...\n",
      " $ HYPERTEN: int  0 0 0 1 1 1 1 1 1 1 ...\n",
      " $ TIMEAP  : int  8766 8766 8766 2956 8766 8766 373 8766 8766 8766 ...\n",
      " $ TIMEMI  : int  6438 8766 8766 2956 8766 8766 8766 8766 8766 8766 ...\n",
      " $ TIMEMIFC: int  6438 8766 8766 2956 8766 5719 8766 8766 8766 8766 ...\n",
      " $ TIMECHD : int  6438 8766 8766 2956 8766 5719 373 8766 8766 8766 ...\n",
      " $ TIMESTRK: int  8766 8766 8766 2089 8766 8766 8766 8766 8766 8766 ...\n",
      " $ TIMECVD : int  6438 8766 8766 2089 8766 5719 8766 8766 8766 8766 ...\n",
      " $ TIMEDTH : int  8766 8766 8766 2956 8766 8766 8766 8766 8766 8766 ...\n",
      " $ TIMEHYP : int  8766 8766 8766 0 4285 0 2212 8679 0 0 ...\n"
     ]
    }
   ],
   "source": [
    "heartP1 = NaRV.omit(heartP1)\n",
    "str(heartP1)"
   ]
  },
  {
   "cell_type": "code",
   "execution_count": 18,
   "metadata": {},
   "outputs": [
    {
     "name": "stderr",
     "output_type": "stream",
     "text": [
      "\n",
      "Attaching package: ‘gridExtra’\n",
      "\n",
      "\n",
      "The following object is masked from ‘package:dplyr’:\n",
      "\n",
      "    combine\n",
      "\n",
      "\n"
     ]
    }
   ],
   "source": [
    "library(gridExtra)"
   ]
  },
  {
   "cell_type": "code",
   "execution_count": 22,
   "metadata": {},
   "outputs": [
    {
     "data": {
      "image/png": "[encoded data removed]",
      "text/plain": [
       "plot without title"
      ]
     },
     "metadata": {
      "image/png": {
       "height": 600,
       "width": 900
      }
     },
     "output_type": "display_data"
    }
   ],
   "source": [
    "options(repr.plot.width=15, repr.plot.height=10)\n",
    "plot1 = ggplot(heartP1, aes(x = AGE)) + geom_histogram(bins=20)\n",
    "plot2 = ggplot(heartP1, aes(x = BMI)) + geom_histogram(bins=20)\n",
    "plot3 = ggplot(heartP1, aes(x = TOTCHOL)) + geom_histogram(bins=20)\n",
    "plot4 = ggplot(heartP1, aes(x = HEARTRTE)) + geom_histogram(bins=20)\n",
    "plot5 = ggplot(heartP1, aes(x = GLUCOSE)) + geom_histogram(bins=20)\n",
    "grid.arrange(plot1, plot2, plot3, plot4, plot5, ncol=3)"
   ]
  },
  {
   "cell_type": "markdown",
   "metadata": {},
   "source": [
    "### Period 2"
   ]
  },
  {
   "cell_type": "code",
   "execution_count": null,
   "metadata": {},
   "outputs": [],
   "source": [
    "heartP2 = heart[heart$PERIOD == 2,]\n",
    "str(heartP2)"
   ]
  },
  {
   "cell_type": "code",
   "execution_count": null,
   "metadata": {},
   "outputs": [],
   "source": [
    "colSums(is.na(heartP2))"
   ]
  },
  {
   "cell_type": "code",
   "execution_count": null,
   "metadata": {},
   "outputs": [],
   "source": [
    "heartP2 = subset(heartP2, select =-c(HDLC, LDLC))\n",
    "heartP2 = NaRV.omit(heartP2)\n",
    "str(heartP2)"
   ]
  },
  {
   "cell_type": "code",
   "execution_count": null,
   "metadata": {},
   "outputs": [],
   "source": [
    "library(plotly)\n",
    "fig <- plot_ly(x = ~heartP1$AGE, type = \"histogram\")\n",
    "fig"
   ]
  },
  {
   "cell_type": "code",
   "execution_count": null,
   "metadata": {},
   "outputs": [],
   "source": [
    "\n",
    "ggplot(heartP2, aes(x = AGE) + geom_histogram(bins=20)\n",
    "ggplot(heartP2, aes(x = BMI)) + geom_histogram(bins=20)\n",
    "ggplot(heartP2, aes(x = TOTCHOL)) + geom_histogram(bins=20)\n",
    "ggplot(heartP2, aes(x = HEARTRTE)) + geom_histogram(bins=20)\n",
    "ggplot(heartP2, aes(x = GLUCOSE)) + geom_histogram(bins=20)"
   ]
  },
  {
   "cell_type": "markdown",
   "metadata": {},
   "source": [
    "### Period 3"
   ]
  },
  {
   "cell_type": "code",
   "execution_count": null,
   "metadata": {},
   "outputs": [],
   "source": [
    "heartP3 = heart[heart$PERIOD == 3,]\n",
    "str(heartP3)"
   ]
  },
  {
   "cell_type": "code",
   "execution_count": null,
   "metadata": {},
   "outputs": [],
   "source": [
    "colSums(is.na(heartP3))"
   ]
  },
  {
   "cell_type": "markdown",
   "metadata": {},
   "source": [
    "## Subsetting data with unique RANDID"
   ]
  },
  {
   "cell_type": "code",
   "execution_count": null,
   "metadata": {},
   "outputs": [],
   "source": [
    "heartUNQ = distinct(heart, RANDID, .keep_all = TRUE)\n",
    "str(heartUNQ)"
   ]
  },
  {
   "cell_type": "code",
   "execution_count": null,
   "metadata": {},
   "outputs": [],
   "source": [
    "unique(heartUNQ$PERIOD)"
   ]
  },
  {
   "cell_type": "markdown",
   "metadata": {},
   "source": [
    "_This is the same as heartP1_"
   ]
  },
  {
   "cell_type": "code",
   "execution_count": null,
   "metadata": {},
   "outputs": [],
   "source": []
  }
 ],
 "metadata": {
  "kernelspec": {
   "display_name": "R",
   "language": "R",
   "name": "ir"
  },
  "language_info": {
   "codemirror_mode": "r",
   "file_extension": ".r",
   "mimetype": "text/x-r-source",
   "name": "R",
   "pygments_lexer": "r",
   "version": "4.1.0"
  }
 },
 "nbformat": 4,
 "nbformat_minor": 4
}
