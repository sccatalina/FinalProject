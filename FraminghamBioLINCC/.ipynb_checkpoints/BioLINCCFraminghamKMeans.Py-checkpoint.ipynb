{
 "cells": [
  {
   "cell_type": "markdown",
   "metadata": {},
   "source": [
    "# Import Packages"
   ]
  },
  {
   "cell_type": "code",
   "execution_count": 1,
   "metadata": {},
   "outputs": [],
   "source": [
    "import pandas as pd\n",
    "import numpy as np\n",
    "import seaborn as sns\n",
    "import matplotlib.pyplot as plt\n",
    "%matplotlib inline"
   ]
  },
  {
   "cell_type": "markdown",
   "metadata": {},
   "source": [
    "# Import Data"
   ]
  },
  {
   "cell_type": "markdown",
   "metadata": {},
   "source": [
    "\n",
    "* The data was retrieved from the [BioLINCC](https://biolincc.nhlbi.nih.gov/teaching/) website\n",
    "* Data was obtained from an ongoing cardiovascular study on residents of the town of Framingham, Massachusetts which was collected during three examination periods, approximately 6 years apart, from roughly 1956 to 1968\n",
    "* Missing values in the dataset are indicated by a period (.)\n",
    "* Disclaimer: This is teaching data that has been rendered anonymous through the application of certain statistical processes such as permutations and/or random visit selection. We cannot claim or imply that any inferences derived from the teaching datasets are valid estimates\n",
    "\n",
    "## Data Dictionary\n",
    "\n",
    "|Variable|Description|Variable Type|Levels (if applicable)/<br> Notes|\n",
    "| --- | --- |---|---|\n",
    "|RANDID | Unique identification number for each participant|NA||\n",
    "|SEX | Participant sex|Categorical|1=Men <br> 2=Women|\n",
    "|PERIOD|Examination Cycle|Categorical|1=Period 1 <br> 2=Period 2 <br> 3=Period 3|\n",
    "|AGE|Age at exam (years)|Continuous|\n",
    "|SYSBP|Systolic Blood Pressure (mean of last two of three <br> measurements) (mmHg)|Continuous|\n",
    "|DIABP|Diastolic Blood Pressure (mean of last two of three <br> measurements) (mmHg)|Continuous|\n",
    "|BPMEDS|Use of Anti-hypertensive medication at exam|Categorical|0=Not currently used <br> 1=Current Use|\n",
    "|CURSMOKE|Current cigarette smoking at exam|Categorical|0=Not current smoker <br> 1=Current smoker|\n",
    "|CIGPDAY|Number of cigarettes smoked each day|Continuous|0=Not current smoker <br> 1-90 cigarettes per day|\n",
    "|TOTCHOL|Serum Total Cholesterol (mg/dL)|Continuous|\n",
    "|HDLC|High Density Lipoprotein Cholesterol (mg/dL)|Continuous|Available for period 3 only|\n",
    "|LDLC|Low Density Lipoprotein Cholesterol (mg/dL)|Continuous|Available for period 3 only|\n",
    "|BMI|Body Mass Index, weight in kilograms/height <br> meters squared|Continuous|\n",
    "|GLUCOSE|Casual serum glucose (mg/dL)|Continuous|\n",
    "|DIABETES|Diabetic according to criteria of first exam <br> treated or first exam with casual glucose <br> of 200 mg/dL or more|Categorical|0=Not a diabetic <br> 1=Diabetic|\n",
    "|HEARTRTE|Heart rate (Ventricular rate) in beats/min|Continuous|\n",
    "|PREVHYP|Prevalent Hypertensive. Subject was defined as <br> hypertensive if treated or if second exam at <br>which mean systolic was >=140 mmHg or mean<br>  Diastolic >=90 mmHg|Categorical|0=Free of disease <br> 1=Prevalent disease|\n",
    "|ANYCHD|Angina Pectoris, <br> Myocardial infarction (Hospitalized and silent or unrecognized), <br>Coronary Insufficiency (Unstable Angina), <br> or Fatal Coronary Heart Disease|Categorical|0=Event did not occur during follow up <br> 1=Event occurred during followup|\n",
    "|STROKE|Atherothrombotic infarction, <br>Cerebral Embolism, <br>Intracerebral Hemorrhage, <br> or Subarachnoid Hemorrhage, <br> or Fatal Cerebrovascular Disease|Categorical|0=Event did not occur during follow up <br> 1=Event occurred during followup|\n",
    "|DEATH|Death from any cause|Categorical|0=Event did not occur during follow up <br> 1=Event occurred during followup|"
   ]
  },
  {
   "cell_type": "code",
   "execution_count": 2,
   "metadata": {},
   "outputs": [
    {
     "data": {
      "text/html": [
       "<div>\n",
       "<style scoped>\n",
       "    .dataframe tbody tr th:only-of-type {\n",
       "        vertical-align: middle;\n",
       "    }\n",
       "\n",
       "    .dataframe tbody tr th {\n",
       "        vertical-align: top;\n",
       "    }\n",
       "\n",
       "    .dataframe thead th {\n",
       "        text-align: right;\n",
       "    }\n",
       "</style>\n",
       "<table border=\"1\" class=\"dataframe\">\n",
       "  <thead>\n",
       "    <tr style=\"text-align: right;\">\n",
       "      <th></th>\n",
       "      <th>RANDID</th>\n",
       "      <th>SEX</th>\n",
       "      <th>TOTCHOL</th>\n",
       "      <th>AGE</th>\n",
       "      <th>SYSBP</th>\n",
       "      <th>DIABP</th>\n",
       "      <th>CURSMOKE</th>\n",
       "      <th>CIGPDAY</th>\n",
       "      <th>BMI</th>\n",
       "      <th>DIABETES</th>\n",
       "      <th>BPMEDS</th>\n",
       "      <th>HEARTRTE</th>\n",
       "      <th>GLUCOSE</th>\n",
       "      <th>educ</th>\n",
       "      <th>PREVCHD</th>\n",
       "      <th>PREVAP</th>\n",
       "      <th>PREVMI</th>\n",
       "      <th>PREVSTRK</th>\n",
       "      <th>PREVHYP</th>\n",
       "      <th>TIME</th>\n",
       "      <th>PERIOD</th>\n",
       "      <th>HDLC</th>\n",
       "      <th>LDLC</th>\n",
       "      <th>DEATH</th>\n",
       "      <th>ANGINA</th>\n",
       "      <th>HOSPMI</th>\n",
       "      <th>MI_FCHD</th>\n",
       "      <th>ANYCHD</th>\n",
       "      <th>STROKE</th>\n",
       "      <th>CVD</th>\n",
       "      <th>HYPERTEN</th>\n",
       "      <th>TIMEAP</th>\n",
       "      <th>TIMEMI</th>\n",
       "      <th>TIMEMIFC</th>\n",
       "      <th>TIMECHD</th>\n",
       "      <th>TIMESTRK</th>\n",
       "      <th>TIMECVD</th>\n",
       "      <th>TIMEDTH</th>\n",
       "      <th>TIMEHYP</th>\n",
       "    </tr>\n",
       "  </thead>\n",
       "  <tbody>\n",
       "    <tr>\n",
       "      <th>0</th>\n",
       "      <td>2448</td>\n",
       "      <td>1</td>\n",
       "      <td>195.0</td>\n",
       "      <td>39</td>\n",
       "      <td>106.0</td>\n",
       "      <td>70.0</td>\n",
       "      <td>0</td>\n",
       "      <td>0.0</td>\n",
       "      <td>26.97</td>\n",
       "      <td>0</td>\n",
       "      <td>0.0</td>\n",
       "      <td>80.0</td>\n",
       "      <td>77.0</td>\n",
       "      <td>4.0</td>\n",
       "      <td>0</td>\n",
       "      <td>0</td>\n",
       "      <td>0</td>\n",
       "      <td>0</td>\n",
       "      <td>0</td>\n",
       "      <td>0</td>\n",
       "      <td>1</td>\n",
       "      <td>NaN</td>\n",
       "      <td>NaN</td>\n",
       "      <td>0</td>\n",
       "      <td>0</td>\n",
       "      <td>1</td>\n",
       "      <td>1</td>\n",
       "      <td>1</td>\n",
       "      <td>0</td>\n",
       "      <td>1</td>\n",
       "      <td>0</td>\n",
       "      <td>8766</td>\n",
       "      <td>6438</td>\n",
       "      <td>6438</td>\n",
       "      <td>6438</td>\n",
       "      <td>8766</td>\n",
       "      <td>6438</td>\n",
       "      <td>8766</td>\n",
       "      <td>8766</td>\n",
       "    </tr>\n",
       "    <tr>\n",
       "      <th>1</th>\n",
       "      <td>2448</td>\n",
       "      <td>1</td>\n",
       "      <td>209.0</td>\n",
       "      <td>52</td>\n",
       "      <td>121.0</td>\n",
       "      <td>66.0</td>\n",
       "      <td>0</td>\n",
       "      <td>0.0</td>\n",
       "      <td>NaN</td>\n",
       "      <td>0</td>\n",
       "      <td>0.0</td>\n",
       "      <td>69.0</td>\n",
       "      <td>92.0</td>\n",
       "      <td>4.0</td>\n",
       "      <td>0</td>\n",
       "      <td>0</td>\n",
       "      <td>0</td>\n",
       "      <td>0</td>\n",
       "      <td>0</td>\n",
       "      <td>4628</td>\n",
       "      <td>3</td>\n",
       "      <td>31.0</td>\n",
       "      <td>178.0</td>\n",
       "      <td>0</td>\n",
       "      <td>0</td>\n",
       "      <td>1</td>\n",
       "      <td>1</td>\n",
       "      <td>1</td>\n",
       "      <td>0</td>\n",
       "      <td>1</td>\n",
       "      <td>0</td>\n",
       "      <td>8766</td>\n",
       "      <td>6438</td>\n",
       "      <td>6438</td>\n",
       "      <td>6438</td>\n",
       "      <td>8766</td>\n",
       "      <td>6438</td>\n",
       "      <td>8766</td>\n",
       "      <td>8766</td>\n",
       "    </tr>\n",
       "    <tr>\n",
       "      <th>2</th>\n",
       "      <td>6238</td>\n",
       "      <td>2</td>\n",
       "      <td>250.0</td>\n",
       "      <td>46</td>\n",
       "      <td>121.0</td>\n",
       "      <td>81.0</td>\n",
       "      <td>0</td>\n",
       "      <td>0.0</td>\n",
       "      <td>28.73</td>\n",
       "      <td>0</td>\n",
       "      <td>0.0</td>\n",
       "      <td>95.0</td>\n",
       "      <td>76.0</td>\n",
       "      <td>2.0</td>\n",
       "      <td>0</td>\n",
       "      <td>0</td>\n",
       "      <td>0</td>\n",
       "      <td>0</td>\n",
       "      <td>0</td>\n",
       "      <td>0</td>\n",
       "      <td>1</td>\n",
       "      <td>NaN</td>\n",
       "      <td>NaN</td>\n",
       "      <td>0</td>\n",
       "      <td>0</td>\n",
       "      <td>0</td>\n",
       "      <td>0</td>\n",
       "      <td>0</td>\n",
       "      <td>0</td>\n",
       "      <td>0</td>\n",
       "      <td>0</td>\n",
       "      <td>8766</td>\n",
       "      <td>8766</td>\n",
       "      <td>8766</td>\n",
       "      <td>8766</td>\n",
       "      <td>8766</td>\n",
       "      <td>8766</td>\n",
       "      <td>8766</td>\n",
       "      <td>8766</td>\n",
       "    </tr>\n",
       "    <tr>\n",
       "      <th>3</th>\n",
       "      <td>6238</td>\n",
       "      <td>2</td>\n",
       "      <td>260.0</td>\n",
       "      <td>52</td>\n",
       "      <td>105.0</td>\n",
       "      <td>69.5</td>\n",
       "      <td>0</td>\n",
       "      <td>0.0</td>\n",
       "      <td>29.43</td>\n",
       "      <td>0</td>\n",
       "      <td>0.0</td>\n",
       "      <td>80.0</td>\n",
       "      <td>86.0</td>\n",
       "      <td>2.0</td>\n",
       "      <td>0</td>\n",
       "      <td>0</td>\n",
       "      <td>0</td>\n",
       "      <td>0</td>\n",
       "      <td>0</td>\n",
       "      <td>2156</td>\n",
       "      <td>2</td>\n",
       "      <td>NaN</td>\n",
       "      <td>NaN</td>\n",
       "      <td>0</td>\n",
       "      <td>0</td>\n",
       "      <td>0</td>\n",
       "      <td>0</td>\n",
       "      <td>0</td>\n",
       "      <td>0</td>\n",
       "      <td>0</td>\n",
       "      <td>0</td>\n",
       "      <td>8766</td>\n",
       "      <td>8766</td>\n",
       "      <td>8766</td>\n",
       "      <td>8766</td>\n",
       "      <td>8766</td>\n",
       "      <td>8766</td>\n",
       "      <td>8766</td>\n",
       "      <td>8766</td>\n",
       "    </tr>\n",
       "    <tr>\n",
       "      <th>4</th>\n",
       "      <td>6238</td>\n",
       "      <td>2</td>\n",
       "      <td>237.0</td>\n",
       "      <td>58</td>\n",
       "      <td>108.0</td>\n",
       "      <td>66.0</td>\n",
       "      <td>0</td>\n",
       "      <td>0.0</td>\n",
       "      <td>28.50</td>\n",
       "      <td>0</td>\n",
       "      <td>0.0</td>\n",
       "      <td>80.0</td>\n",
       "      <td>71.0</td>\n",
       "      <td>2.0</td>\n",
       "      <td>0</td>\n",
       "      <td>0</td>\n",
       "      <td>0</td>\n",
       "      <td>0</td>\n",
       "      <td>0</td>\n",
       "      <td>4344</td>\n",
       "      <td>3</td>\n",
       "      <td>54.0</td>\n",
       "      <td>141.0</td>\n",
       "      <td>0</td>\n",
       "      <td>0</td>\n",
       "      <td>0</td>\n",
       "      <td>0</td>\n",
       "      <td>0</td>\n",
       "      <td>0</td>\n",
       "      <td>0</td>\n",
       "      <td>0</td>\n",
       "      <td>8766</td>\n",
       "      <td>8766</td>\n",
       "      <td>8766</td>\n",
       "      <td>8766</td>\n",
       "      <td>8766</td>\n",
       "      <td>8766</td>\n",
       "      <td>8766</td>\n",
       "      <td>8766</td>\n",
       "    </tr>\n",
       "  </tbody>\n",
       "</table>\n",
       "</div>"
      ],
      "text/plain": [
       "   RANDID  SEX  TOTCHOL  AGE  SYSBP  DIABP  CURSMOKE  CIGPDAY    BMI  \\\n",
       "0    2448    1    195.0   39  106.0   70.0         0      0.0  26.97   \n",
       "1    2448    1    209.0   52  121.0   66.0         0      0.0    NaN   \n",
       "2    6238    2    250.0   46  121.0   81.0         0      0.0  28.73   \n",
       "3    6238    2    260.0   52  105.0   69.5         0      0.0  29.43   \n",
       "4    6238    2    237.0   58  108.0   66.0         0      0.0  28.50   \n",
       "\n",
       "   DIABETES  BPMEDS  HEARTRTE  GLUCOSE  educ  PREVCHD  PREVAP  PREVMI  \\\n",
       "0         0     0.0      80.0     77.0   4.0        0       0       0   \n",
       "1         0     0.0      69.0     92.0   4.0        0       0       0   \n",
       "2         0     0.0      95.0     76.0   2.0        0       0       0   \n",
       "3         0     0.0      80.0     86.0   2.0        0       0       0   \n",
       "4         0     0.0      80.0     71.0   2.0        0       0       0   \n",
       "\n",
       "   PREVSTRK  PREVHYP  TIME  PERIOD  HDLC   LDLC  DEATH  ANGINA  HOSPMI  \\\n",
       "0         0        0     0       1   NaN    NaN      0       0       1   \n",
       "1         0        0  4628       3  31.0  178.0      0       0       1   \n",
       "2         0        0     0       1   NaN    NaN      0       0       0   \n",
       "3         0        0  2156       2   NaN    NaN      0       0       0   \n",
       "4         0        0  4344       3  54.0  141.0      0       0       0   \n",
       "\n",
       "   MI_FCHD  ANYCHD  STROKE  CVD  HYPERTEN  TIMEAP  TIMEMI  TIMEMIFC  TIMECHD  \\\n",
       "0        1       1       0    1         0    8766    6438      6438     6438   \n",
       "1        1       1       0    1         0    8766    6438      6438     6438   \n",
       "2        0       0       0    0         0    8766    8766      8766     8766   \n",
       "3        0       0       0    0         0    8766    8766      8766     8766   \n",
       "4        0       0       0    0         0    8766    8766      8766     8766   \n",
       "\n",
       "   TIMESTRK  TIMECVD  TIMEDTH  TIMEHYP  \n",
       "0      8766     6438     8766     8766  \n",
       "1      8766     6438     8766     8766  \n",
       "2      8766     8766     8766     8766  \n",
       "3      8766     8766     8766     8766  \n",
       "4      8766     8766     8766     8766  "
      ]
     },
     "execution_count": 2,
     "metadata": {},
     "output_type": "execute_result"
    }
   ],
   "source": [
    "framingham = pd.read_csv('/Users/silviacatalina/Google Drive/BethelTech/GitHub/wozU-DataSci/DS0110-FinalProject/Framingham/Data/csv/frmgham2.csv', na_values=\".\")\n",
    "pd.options.display.max_columns = None\n",
    "framingham.head()"
   ]
  },
  {
   "cell_type": "code",
   "execution_count": 3,
   "metadata": {},
   "outputs": [
    {
     "name": "stdout",
     "output_type": "stream",
     "text": [
      "<class 'pandas.core.frame.DataFrame'>\n",
      "RangeIndex: 11627 entries, 0 to 11626\n",
      "Data columns (total 39 columns):\n",
      " #   Column    Non-Null Count  Dtype  \n",
      "---  ------    --------------  -----  \n",
      " 0   RANDID    11627 non-null  int64  \n",
      " 1   SEX       11627 non-null  int64  \n",
      " 2   TOTCHOL   11218 non-null  float64\n",
      " 3   AGE       11627 non-null  int64  \n",
      " 4   SYSBP     11627 non-null  float64\n",
      " 5   DIABP     11627 non-null  float64\n",
      " 6   CURSMOKE  11627 non-null  int64  \n",
      " 7   CIGPDAY   11548 non-null  float64\n",
      " 8   BMI       11575 non-null  float64\n",
      " 9   DIABETES  11627 non-null  int64  \n",
      " 10  BPMEDS    11034 non-null  float64\n",
      " 11  HEARTRTE  11621 non-null  float64\n",
      " 12  GLUCOSE   10187 non-null  float64\n",
      " 13  educ      11332 non-null  float64\n",
      " 14  PREVCHD   11627 non-null  int64  \n",
      " 15  PREVAP    11627 non-null  int64  \n",
      " 16  PREVMI    11627 non-null  int64  \n",
      " 17  PREVSTRK  11627 non-null  int64  \n",
      " 18  PREVHYP   11627 non-null  int64  \n",
      " 19  TIME      11627 non-null  int64  \n",
      " 20  PERIOD    11627 non-null  int64  \n",
      " 21  HDLC      3027 non-null   float64\n",
      " 22  LDLC      3026 non-null   float64\n",
      " 23  DEATH     11627 non-null  int64  \n",
      " 24  ANGINA    11627 non-null  int64  \n",
      " 25  HOSPMI    11627 non-null  int64  \n",
      " 26  MI_FCHD   11627 non-null  int64  \n",
      " 27  ANYCHD    11627 non-null  int64  \n",
      " 28  STROKE    11627 non-null  int64  \n",
      " 29  CVD       11627 non-null  int64  \n",
      " 30  HYPERTEN  11627 non-null  int64  \n",
      " 31  TIMEAP    11627 non-null  int64  \n",
      " 32  TIMEMI    11627 non-null  int64  \n",
      " 33  TIMEMIFC  11627 non-null  int64  \n",
      " 34  TIMECHD   11627 non-null  int64  \n",
      " 35  TIMESTRK  11627 non-null  int64  \n",
      " 36  TIMECVD   11627 non-null  int64  \n",
      " 37  TIMEDTH   11627 non-null  int64  \n",
      " 38  TIMEHYP   11627 non-null  int64  \n",
      "dtypes: float64(11), int64(28)\n",
      "memory usage: 3.5 MB\n"
     ]
    }
   ],
   "source": [
    "framingham.info()"
   ]
  },
  {
   "cell_type": "markdown",
   "metadata": {},
   "source": [
    "# Data Wrangling"
   ]
  },
  {
   "cell_type": "markdown",
   "metadata": {},
   "source": [
    "## Selecting Columns of Interest"
   ]
  },
  {
   "cell_type": "markdown",
   "metadata": {},
   "source": [
    "### List of original columns\n",
    "RANDID,SEX,TOTCHOL,AGE,SYSBP,DIABP,CURSMOKE,CIGPDAY,BMI,DIABETES,BPMEDS,HEARTRTE,GLUCOSE,educ,PREVCHD,PREVAP,\n",
    "PREVMI,PREVSTRK,PREVHYP,TIME,PERIOD,HDLC,LDLC,DEATH,ANGINA,HOSPMI,MI_FCHD,ANYCHD,STROKE,CVD,HYPERTEN,TIMEAP,\n",
    "TIMEMI,TIMEMIFC,TIMECHD,TIMESTRK,TIMECVD,TIMEDTH,TIMEHYP"
   ]
  },
  {
   "cell_type": "code",
   "execution_count": 4,
   "metadata": {},
   "outputs": [
    {
     "data": {
      "text/html": [
       "<div>\n",
       "<style scoped>\n",
       "    .dataframe tbody tr th:only-of-type {\n",
       "        vertical-align: middle;\n",
       "    }\n",
       "\n",
       "    .dataframe tbody tr th {\n",
       "        vertical-align: top;\n",
       "    }\n",
       "\n",
       "    .dataframe thead th {\n",
       "        text-align: right;\n",
       "    }\n",
       "</style>\n",
       "<table border=\"1\" class=\"dataframe\">\n",
       "  <thead>\n",
       "    <tr style=\"text-align: right;\">\n",
       "      <th></th>\n",
       "      <th>RANDID</th>\n",
       "      <th>SEX</th>\n",
       "      <th>PERIOD</th>\n",
       "      <th>AGE</th>\n",
       "      <th>SYSBP</th>\n",
       "      <th>DIABP</th>\n",
       "      <th>BPMEDS</th>\n",
       "      <th>CURSMOKE</th>\n",
       "      <th>CIGPDAY</th>\n",
       "      <th>TOTCHOL</th>\n",
       "      <th>HDLC</th>\n",
       "      <th>LDLC</th>\n",
       "      <th>BMI</th>\n",
       "      <th>GLUCOSE</th>\n",
       "      <th>DIABETES</th>\n",
       "      <th>HEARTRTE</th>\n",
       "      <th>PREVHYP</th>\n",
       "      <th>ANYCHD</th>\n",
       "      <th>STROKE</th>\n",
       "      <th>DEATH</th>\n",
       "    </tr>\n",
       "  </thead>\n",
       "  <tbody>\n",
       "    <tr>\n",
       "      <th>0</th>\n",
       "      <td>2448</td>\n",
       "      <td>1</td>\n",
       "      <td>1</td>\n",
       "      <td>39</td>\n",
       "      <td>106.0</td>\n",
       "      <td>70.0</td>\n",
       "      <td>0.0</td>\n",
       "      <td>0</td>\n",
       "      <td>0.0</td>\n",
       "      <td>195.0</td>\n",
       "      <td>NaN</td>\n",
       "      <td>NaN</td>\n",
       "      <td>26.97</td>\n",
       "      <td>77.0</td>\n",
       "      <td>0</td>\n",
       "      <td>80.0</td>\n",
       "      <td>0</td>\n",
       "      <td>1</td>\n",
       "      <td>0</td>\n",
       "      <td>0</td>\n",
       "    </tr>\n",
       "    <tr>\n",
       "      <th>1</th>\n",
       "      <td>2448</td>\n",
       "      <td>1</td>\n",
       "      <td>3</td>\n",
       "      <td>52</td>\n",
       "      <td>121.0</td>\n",
       "      <td>66.0</td>\n",
       "      <td>0.0</td>\n",
       "      <td>0</td>\n",
       "      <td>0.0</td>\n",
       "      <td>209.0</td>\n",
       "      <td>31.0</td>\n",
       "      <td>178.0</td>\n",
       "      <td>NaN</td>\n",
       "      <td>92.0</td>\n",
       "      <td>0</td>\n",
       "      <td>69.0</td>\n",
       "      <td>0</td>\n",
       "      <td>1</td>\n",
       "      <td>0</td>\n",
       "      <td>0</td>\n",
       "    </tr>\n",
       "    <tr>\n",
       "      <th>2</th>\n",
       "      <td>6238</td>\n",
       "      <td>2</td>\n",
       "      <td>1</td>\n",
       "      <td>46</td>\n",
       "      <td>121.0</td>\n",
       "      <td>81.0</td>\n",
       "      <td>0.0</td>\n",
       "      <td>0</td>\n",
       "      <td>0.0</td>\n",
       "      <td>250.0</td>\n",
       "      <td>NaN</td>\n",
       "      <td>NaN</td>\n",
       "      <td>28.73</td>\n",
       "      <td>76.0</td>\n",
       "      <td>0</td>\n",
       "      <td>95.0</td>\n",
       "      <td>0</td>\n",
       "      <td>0</td>\n",
       "      <td>0</td>\n",
       "      <td>0</td>\n",
       "    </tr>\n",
       "    <tr>\n",
       "      <th>3</th>\n",
       "      <td>6238</td>\n",
       "      <td>2</td>\n",
       "      <td>2</td>\n",
       "      <td>52</td>\n",
       "      <td>105.0</td>\n",
       "      <td>69.5</td>\n",
       "      <td>0.0</td>\n",
       "      <td>0</td>\n",
       "      <td>0.0</td>\n",
       "      <td>260.0</td>\n",
       "      <td>NaN</td>\n",
       "      <td>NaN</td>\n",
       "      <td>29.43</td>\n",
       "      <td>86.0</td>\n",
       "      <td>0</td>\n",
       "      <td>80.0</td>\n",
       "      <td>0</td>\n",
       "      <td>0</td>\n",
       "      <td>0</td>\n",
       "      <td>0</td>\n",
       "    </tr>\n",
       "    <tr>\n",
       "      <th>4</th>\n",
       "      <td>6238</td>\n",
       "      <td>2</td>\n",
       "      <td>3</td>\n",
       "      <td>58</td>\n",
       "      <td>108.0</td>\n",
       "      <td>66.0</td>\n",
       "      <td>0.0</td>\n",
       "      <td>0</td>\n",
       "      <td>0.0</td>\n",
       "      <td>237.0</td>\n",
       "      <td>54.0</td>\n",
       "      <td>141.0</td>\n",
       "      <td>28.50</td>\n",
       "      <td>71.0</td>\n",
       "      <td>0</td>\n",
       "      <td>80.0</td>\n",
       "      <td>0</td>\n",
       "      <td>0</td>\n",
       "      <td>0</td>\n",
       "      <td>0</td>\n",
       "    </tr>\n",
       "  </tbody>\n",
       "</table>\n",
       "</div>"
      ],
      "text/plain": [
       "   RANDID  SEX  PERIOD  AGE  SYSBP  DIABP  BPMEDS  CURSMOKE  CIGPDAY  TOTCHOL  \\\n",
       "0    2448    1       1   39  106.0   70.0     0.0         0      0.0    195.0   \n",
       "1    2448    1       3   52  121.0   66.0     0.0         0      0.0    209.0   \n",
       "2    6238    2       1   46  121.0   81.0     0.0         0      0.0    250.0   \n",
       "3    6238    2       2   52  105.0   69.5     0.0         0      0.0    260.0   \n",
       "4    6238    2       3   58  108.0   66.0     0.0         0      0.0    237.0   \n",
       "\n",
       "   HDLC   LDLC    BMI  GLUCOSE  DIABETES  HEARTRTE  PREVHYP  ANYCHD  STROKE  \\\n",
       "0   NaN    NaN  26.97     77.0         0      80.0        0       1       0   \n",
       "1  31.0  178.0    NaN     92.0         0      69.0        0       1       0   \n",
       "2   NaN    NaN  28.73     76.0         0      95.0        0       0       0   \n",
       "3   NaN    NaN  29.43     86.0         0      80.0        0       0       0   \n",
       "4  54.0  141.0  28.50     71.0         0      80.0        0       0       0   \n",
       "\n",
       "   DEATH  \n",
       "0      0  \n",
       "1      0  \n",
       "2      0  \n",
       "3      0  \n",
       "4      0  "
      ]
     },
     "execution_count": 4,
     "metadata": {},
     "output_type": "execute_result"
    }
   ],
   "source": [
    "framingham1 = framingham[['RANDID', 'SEX', 'PERIOD', 'AGE', 'SYSBP', 'DIABP', 'BPMEDS', 'CURSMOKE', \n",
    "                          'CIGPDAY', 'TOTCHOL', 'HDLC', 'LDLC', 'BMI', 'GLUCOSE', 'DIABETES', 'HEARTRTE', \n",
    "                          'PREVHYP', 'ANYCHD', 'STROKE', 'DEATH']]\n",
    "framingham1.head()"
   ]
  },
  {
   "cell_type": "code",
   "execution_count": 5,
   "metadata": {},
   "outputs": [
    {
     "name": "stdout",
     "output_type": "stream",
     "text": [
      "<class 'pandas.core.frame.DataFrame'>\n",
      "RangeIndex: 11627 entries, 0 to 11626\n",
      "Data columns (total 20 columns):\n",
      " #   Column    Non-Null Count  Dtype  \n",
      "---  ------    --------------  -----  \n",
      " 0   RANDID    11627 non-null  int64  \n",
      " 1   SEX       11627 non-null  int64  \n",
      " 2   PERIOD    11627 non-null  int64  \n",
      " 3   AGE       11627 non-null  int64  \n",
      " 4   SYSBP     11627 non-null  float64\n",
      " 5   DIABP     11627 non-null  float64\n",
      " 6   BPMEDS    11034 non-null  float64\n",
      " 7   CURSMOKE  11627 non-null  int64  \n",
      " 8   CIGPDAY   11548 non-null  float64\n",
      " 9   TOTCHOL   11218 non-null  float64\n",
      " 10  HDLC      3027 non-null   float64\n",
      " 11  LDLC      3026 non-null   float64\n",
      " 12  BMI       11575 non-null  float64\n",
      " 13  GLUCOSE   10187 non-null  float64\n",
      " 14  DIABETES  11627 non-null  int64  \n",
      " 15  HEARTRTE  11621 non-null  float64\n",
      " 16  PREVHYP   11627 non-null  int64  \n",
      " 17  ANYCHD    11627 non-null  int64  \n",
      " 18  STROKE    11627 non-null  int64  \n",
      " 19  DEATH     11627 non-null  int64  \n",
      "dtypes: float64(10), int64(10)\n",
      "memory usage: 1.8 MB\n"
     ]
    }
   ],
   "source": [
    "framingham1.info()"
   ]
  },
  {
   "cell_type": "markdown",
   "metadata": {},
   "source": [
    "### Subset data to periods 1, 2, 3; Remove NAs; Reset indexes\n",
    "* Variables removed: PERIOD and HDLC, LDLC for periods 1 and 2"
   ]
  },
  {
   "cell_type": "code",
   "execution_count": 6,
   "metadata": {},
   "outputs": [
    {
     "data": {
      "text/html": [
       "<div>\n",
       "<style scoped>\n",
       "    .dataframe tbody tr th:only-of-type {\n",
       "        vertical-align: middle;\n",
       "    }\n",
       "\n",
       "    .dataframe tbody tr th {\n",
       "        vertical-align: top;\n",
       "    }\n",
       "\n",
       "    .dataframe thead th {\n",
       "        text-align: right;\n",
       "    }\n",
       "</style>\n",
       "<table border=\"1\" class=\"dataframe\">\n",
       "  <thead>\n",
       "    <tr style=\"text-align: right;\">\n",
       "      <th></th>\n",
       "      <th>RANDID</th>\n",
       "      <th>SEX</th>\n",
       "      <th>PERIOD</th>\n",
       "      <th>AGE</th>\n",
       "      <th>SYSBP</th>\n",
       "      <th>DIABP</th>\n",
       "      <th>BPMEDS</th>\n",
       "      <th>CURSMOKE</th>\n",
       "      <th>CIGPDAY</th>\n",
       "      <th>TOTCHOL</th>\n",
       "      <th>HDLC</th>\n",
       "      <th>LDLC</th>\n",
       "      <th>BMI</th>\n",
       "      <th>GLUCOSE</th>\n",
       "      <th>DIABETES</th>\n",
       "      <th>HEARTRTE</th>\n",
       "      <th>PREVHYP</th>\n",
       "      <th>ANYCHD</th>\n",
       "      <th>STROKE</th>\n",
       "      <th>DEATH</th>\n",
       "    </tr>\n",
       "  </thead>\n",
       "  <tbody>\n",
       "    <tr>\n",
       "      <th>0</th>\n",
       "      <td>2448</td>\n",
       "      <td>1</td>\n",
       "      <td>1</td>\n",
       "      <td>39</td>\n",
       "      <td>106.0</td>\n",
       "      <td>70.0</td>\n",
       "      <td>0.0</td>\n",
       "      <td>0</td>\n",
       "      <td>0.0</td>\n",
       "      <td>195.0</td>\n",
       "      <td>NaN</td>\n",
       "      <td>NaN</td>\n",
       "      <td>26.97</td>\n",
       "      <td>77.0</td>\n",
       "      <td>0</td>\n",
       "      <td>80.0</td>\n",
       "      <td>0</td>\n",
       "      <td>1</td>\n",
       "      <td>0</td>\n",
       "      <td>0</td>\n",
       "    </tr>\n",
       "    <tr>\n",
       "      <th>2</th>\n",
       "      <td>6238</td>\n",
       "      <td>2</td>\n",
       "      <td>1</td>\n",
       "      <td>46</td>\n",
       "      <td>121.0</td>\n",
       "      <td>81.0</td>\n",
       "      <td>0.0</td>\n",
       "      <td>0</td>\n",
       "      <td>0.0</td>\n",
       "      <td>250.0</td>\n",
       "      <td>NaN</td>\n",
       "      <td>NaN</td>\n",
       "      <td>28.73</td>\n",
       "      <td>76.0</td>\n",
       "      <td>0</td>\n",
       "      <td>95.0</td>\n",
       "      <td>0</td>\n",
       "      <td>0</td>\n",
       "      <td>0</td>\n",
       "      <td>0</td>\n",
       "    </tr>\n",
       "    <tr>\n",
       "      <th>5</th>\n",
       "      <td>9428</td>\n",
       "      <td>1</td>\n",
       "      <td>1</td>\n",
       "      <td>48</td>\n",
       "      <td>127.5</td>\n",
       "      <td>80.0</td>\n",
       "      <td>0.0</td>\n",
       "      <td>1</td>\n",
       "      <td>20.0</td>\n",
       "      <td>245.0</td>\n",
       "      <td>NaN</td>\n",
       "      <td>NaN</td>\n",
       "      <td>25.34</td>\n",
       "      <td>70.0</td>\n",
       "      <td>0</td>\n",
       "      <td>75.0</td>\n",
       "      <td>0</td>\n",
       "      <td>0</td>\n",
       "      <td>0</td>\n",
       "      <td>0</td>\n",
       "    </tr>\n",
       "    <tr>\n",
       "      <th>7</th>\n",
       "      <td>10552</td>\n",
       "      <td>2</td>\n",
       "      <td>1</td>\n",
       "      <td>61</td>\n",
       "      <td>150.0</td>\n",
       "      <td>95.0</td>\n",
       "      <td>0.0</td>\n",
       "      <td>1</td>\n",
       "      <td>30.0</td>\n",
       "      <td>225.0</td>\n",
       "      <td>NaN</td>\n",
       "      <td>NaN</td>\n",
       "      <td>28.58</td>\n",
       "      <td>103.0</td>\n",
       "      <td>0</td>\n",
       "      <td>65.0</td>\n",
       "      <td>1</td>\n",
       "      <td>0</td>\n",
       "      <td>1</td>\n",
       "      <td>1</td>\n",
       "    </tr>\n",
       "    <tr>\n",
       "      <th>9</th>\n",
       "      <td>11252</td>\n",
       "      <td>2</td>\n",
       "      <td>1</td>\n",
       "      <td>46</td>\n",
       "      <td>130.0</td>\n",
       "      <td>84.0</td>\n",
       "      <td>0.0</td>\n",
       "      <td>1</td>\n",
       "      <td>23.0</td>\n",
       "      <td>285.0</td>\n",
       "      <td>NaN</td>\n",
       "      <td>NaN</td>\n",
       "      <td>23.10</td>\n",
       "      <td>85.0</td>\n",
       "      <td>0</td>\n",
       "      <td>85.0</td>\n",
       "      <td>0</td>\n",
       "      <td>0</td>\n",
       "      <td>0</td>\n",
       "      <td>0</td>\n",
       "    </tr>\n",
       "  </tbody>\n",
       "</table>\n",
       "</div>"
      ],
      "text/plain": [
       "   RANDID  SEX  PERIOD  AGE  SYSBP  DIABP  BPMEDS  CURSMOKE  CIGPDAY  TOTCHOL  \\\n",
       "0    2448    1       1   39  106.0   70.0     0.0         0      0.0    195.0   \n",
       "2    6238    2       1   46  121.0   81.0     0.0         0      0.0    250.0   \n",
       "5    9428    1       1   48  127.5   80.0     0.0         1     20.0    245.0   \n",
       "7   10552    2       1   61  150.0   95.0     0.0         1     30.0    225.0   \n",
       "9   11252    2       1   46  130.0   84.0     0.0         1     23.0    285.0   \n",
       "\n",
       "   HDLC  LDLC    BMI  GLUCOSE  DIABETES  HEARTRTE  PREVHYP  ANYCHD  STROKE  \\\n",
       "0   NaN   NaN  26.97     77.0         0      80.0        0       1       0   \n",
       "2   NaN   NaN  28.73     76.0         0      95.0        0       0       0   \n",
       "5   NaN   NaN  25.34     70.0         0      75.0        0       0       0   \n",
       "7   NaN   NaN  28.58    103.0         0      65.0        1       0       1   \n",
       "9   NaN   NaN  23.10     85.0         0      85.0        0       0       0   \n",
       "\n",
       "   DEATH  \n",
       "0      0  \n",
       "2      0  \n",
       "5      0  \n",
       "7      1  \n",
       "9      0  "
      ]
     },
     "execution_count": 6,
     "metadata": {},
     "output_type": "execute_result"
    }
   ],
   "source": [
    "framinghamP1 = framingham1[framingham1['PERIOD'] == 1].copy()\n",
    "framinghamP1.head()"
   ]
  },
  {
   "cell_type": "code",
   "execution_count": 7,
   "metadata": {},
   "outputs": [
    {
     "data": {
      "text/html": [
       "<div>\n",
       "<style scoped>\n",
       "    .dataframe tbody tr th:only-of-type {\n",
       "        vertical-align: middle;\n",
       "    }\n",
       "\n",
       "    .dataframe tbody tr th {\n",
       "        vertical-align: top;\n",
       "    }\n",
       "\n",
       "    .dataframe thead th {\n",
       "        text-align: right;\n",
       "    }\n",
       "</style>\n",
       "<table border=\"1\" class=\"dataframe\">\n",
       "  <thead>\n",
       "    <tr style=\"text-align: right;\">\n",
       "      <th></th>\n",
       "      <th>RANDID</th>\n",
       "      <th>SEX</th>\n",
       "      <th>AGE</th>\n",
       "      <th>SYSBP</th>\n",
       "      <th>DIABP</th>\n",
       "      <th>BPMEDS</th>\n",
       "      <th>CURSMOKE</th>\n",
       "      <th>CIGPDAY</th>\n",
       "      <th>TOTCHOL</th>\n",
       "      <th>BMI</th>\n",
       "      <th>GLUCOSE</th>\n",
       "      <th>DIABETES</th>\n",
       "      <th>HEARTRTE</th>\n",
       "      <th>PREVHYP</th>\n",
       "      <th>ANYCHD</th>\n",
       "      <th>STROKE</th>\n",
       "      <th>DEATH</th>\n",
       "    </tr>\n",
       "  </thead>\n",
       "  <tbody>\n",
       "    <tr>\n",
       "      <th>0</th>\n",
       "      <td>2448</td>\n",
       "      <td>1</td>\n",
       "      <td>39</td>\n",
       "      <td>106.0</td>\n",
       "      <td>70.0</td>\n",
       "      <td>0.0</td>\n",
       "      <td>0</td>\n",
       "      <td>0.0</td>\n",
       "      <td>195.0</td>\n",
       "      <td>26.97</td>\n",
       "      <td>77.0</td>\n",
       "      <td>0</td>\n",
       "      <td>80.0</td>\n",
       "      <td>0</td>\n",
       "      <td>1</td>\n",
       "      <td>0</td>\n",
       "      <td>0</td>\n",
       "    </tr>\n",
       "    <tr>\n",
       "      <th>1</th>\n",
       "      <td>6238</td>\n",
       "      <td>2</td>\n",
       "      <td>46</td>\n",
       "      <td>121.0</td>\n",
       "      <td>81.0</td>\n",
       "      <td>0.0</td>\n",
       "      <td>0</td>\n",
       "      <td>0.0</td>\n",
       "      <td>250.0</td>\n",
       "      <td>28.73</td>\n",
       "      <td>76.0</td>\n",
       "      <td>0</td>\n",
       "      <td>95.0</td>\n",
       "      <td>0</td>\n",
       "      <td>0</td>\n",
       "      <td>0</td>\n",
       "      <td>0</td>\n",
       "    </tr>\n",
       "    <tr>\n",
       "      <th>2</th>\n",
       "      <td>9428</td>\n",
       "      <td>1</td>\n",
       "      <td>48</td>\n",
       "      <td>127.5</td>\n",
       "      <td>80.0</td>\n",
       "      <td>0.0</td>\n",
       "      <td>1</td>\n",
       "      <td>20.0</td>\n",
       "      <td>245.0</td>\n",
       "      <td>25.34</td>\n",
       "      <td>70.0</td>\n",
       "      <td>0</td>\n",
       "      <td>75.0</td>\n",
       "      <td>0</td>\n",
       "      <td>0</td>\n",
       "      <td>0</td>\n",
       "      <td>0</td>\n",
       "    </tr>\n",
       "    <tr>\n",
       "      <th>3</th>\n",
       "      <td>10552</td>\n",
       "      <td>2</td>\n",
       "      <td>61</td>\n",
       "      <td>150.0</td>\n",
       "      <td>95.0</td>\n",
       "      <td>0.0</td>\n",
       "      <td>1</td>\n",
       "      <td>30.0</td>\n",
       "      <td>225.0</td>\n",
       "      <td>28.58</td>\n",
       "      <td>103.0</td>\n",
       "      <td>0</td>\n",
       "      <td>65.0</td>\n",
       "      <td>1</td>\n",
       "      <td>0</td>\n",
       "      <td>1</td>\n",
       "      <td>1</td>\n",
       "    </tr>\n",
       "    <tr>\n",
       "      <th>4</th>\n",
       "      <td>11252</td>\n",
       "      <td>2</td>\n",
       "      <td>46</td>\n",
       "      <td>130.0</td>\n",
       "      <td>84.0</td>\n",
       "      <td>0.0</td>\n",
       "      <td>1</td>\n",
       "      <td>23.0</td>\n",
       "      <td>285.0</td>\n",
       "      <td>23.10</td>\n",
       "      <td>85.0</td>\n",
       "      <td>0</td>\n",
       "      <td>85.0</td>\n",
       "      <td>0</td>\n",
       "      <td>0</td>\n",
       "      <td>0</td>\n",
       "      <td>0</td>\n",
       "    </tr>\n",
       "  </tbody>\n",
       "</table>\n",
       "</div>"
      ],
      "text/plain": [
       "   RANDID  SEX  AGE  SYSBP  DIABP  BPMEDS  CURSMOKE  CIGPDAY  TOTCHOL    BMI  \\\n",
       "0    2448    1   39  106.0   70.0     0.0         0      0.0    195.0  26.97   \n",
       "1    6238    2   46  121.0   81.0     0.0         0      0.0    250.0  28.73   \n",
       "2    9428    1   48  127.5   80.0     0.0         1     20.0    245.0  25.34   \n",
       "3   10552    2   61  150.0   95.0     0.0         1     30.0    225.0  28.58   \n",
       "4   11252    2   46  130.0   84.0     0.0         1     23.0    285.0  23.10   \n",
       "\n",
       "   GLUCOSE  DIABETES  HEARTRTE  PREVHYP  ANYCHD  STROKE  DEATH  \n",
       "0     77.0         0      80.0        0       1       0      0  \n",
       "1     76.0         0      95.0        0       0       0      0  \n",
       "2     70.0         0      75.0        0       0       0      0  \n",
       "3    103.0         0      65.0        1       0       1      1  \n",
       "4     85.0         0      85.0        0       0       0      0  "
      ]
     },
     "execution_count": 7,
     "metadata": {},
     "output_type": "execute_result"
    }
   ],
   "source": [
    "framinghamP1.drop(['PERIOD', 'HDLC', 'LDLC'], axis=1, inplace=True)\n",
    "framinghamP1.dropna(inplace=True)\n",
    "framinghamP1.reset_index(drop=True, inplace = True)\n",
    "framinghamP1.head()"
   ]
  },
  {
   "cell_type": "code",
   "execution_count": 8,
   "metadata": {},
   "outputs": [
    {
     "data": {
      "text/html": [
       "<div>\n",
       "<style scoped>\n",
       "    .dataframe tbody tr th:only-of-type {\n",
       "        vertical-align: middle;\n",
       "    }\n",
       "\n",
       "    .dataframe tbody tr th {\n",
       "        vertical-align: top;\n",
       "    }\n",
       "\n",
       "    .dataframe thead th {\n",
       "        text-align: right;\n",
       "    }\n",
       "</style>\n",
       "<table border=\"1\" class=\"dataframe\">\n",
       "  <thead>\n",
       "    <tr style=\"text-align: right;\">\n",
       "      <th></th>\n",
       "      <th>RANDID</th>\n",
       "      <th>SEX</th>\n",
       "      <th>PERIOD</th>\n",
       "      <th>AGE</th>\n",
       "      <th>SYSBP</th>\n",
       "      <th>DIABP</th>\n",
       "      <th>BPMEDS</th>\n",
       "      <th>CURSMOKE</th>\n",
       "      <th>CIGPDAY</th>\n",
       "      <th>TOTCHOL</th>\n",
       "      <th>HDLC</th>\n",
       "      <th>LDLC</th>\n",
       "      <th>BMI</th>\n",
       "      <th>GLUCOSE</th>\n",
       "      <th>DIABETES</th>\n",
       "      <th>HEARTRTE</th>\n",
       "      <th>PREVHYP</th>\n",
       "      <th>ANYCHD</th>\n",
       "      <th>STROKE</th>\n",
       "      <th>DEATH</th>\n",
       "    </tr>\n",
       "  </thead>\n",
       "  <tbody>\n",
       "    <tr>\n",
       "      <th>3</th>\n",
       "      <td>6238</td>\n",
       "      <td>2</td>\n",
       "      <td>2</td>\n",
       "      <td>52</td>\n",
       "      <td>105.0</td>\n",
       "      <td>69.5</td>\n",
       "      <td>0.0</td>\n",
       "      <td>0</td>\n",
       "      <td>0.0</td>\n",
       "      <td>260.0</td>\n",
       "      <td>NaN</td>\n",
       "      <td>NaN</td>\n",
       "      <td>29.43</td>\n",
       "      <td>86.0</td>\n",
       "      <td>0</td>\n",
       "      <td>80.0</td>\n",
       "      <td>0</td>\n",
       "      <td>0</td>\n",
       "      <td>0</td>\n",
       "      <td>0</td>\n",
       "    </tr>\n",
       "    <tr>\n",
       "      <th>6</th>\n",
       "      <td>9428</td>\n",
       "      <td>1</td>\n",
       "      <td>2</td>\n",
       "      <td>54</td>\n",
       "      <td>141.0</td>\n",
       "      <td>89.0</td>\n",
       "      <td>0.0</td>\n",
       "      <td>1</td>\n",
       "      <td>30.0</td>\n",
       "      <td>283.0</td>\n",
       "      <td>NaN</td>\n",
       "      <td>NaN</td>\n",
       "      <td>25.34</td>\n",
       "      <td>87.0</td>\n",
       "      <td>0</td>\n",
       "      <td>75.0</td>\n",
       "      <td>0</td>\n",
       "      <td>0</td>\n",
       "      <td>0</td>\n",
       "      <td>0</td>\n",
       "    </tr>\n",
       "    <tr>\n",
       "      <th>8</th>\n",
       "      <td>10552</td>\n",
       "      <td>2</td>\n",
       "      <td>2</td>\n",
       "      <td>67</td>\n",
       "      <td>183.0</td>\n",
       "      <td>109.0</td>\n",
       "      <td>0.0</td>\n",
       "      <td>1</td>\n",
       "      <td>20.0</td>\n",
       "      <td>232.0</td>\n",
       "      <td>NaN</td>\n",
       "      <td>NaN</td>\n",
       "      <td>30.18</td>\n",
       "      <td>89.0</td>\n",
       "      <td>0</td>\n",
       "      <td>60.0</td>\n",
       "      <td>1</td>\n",
       "      <td>0</td>\n",
       "      <td>1</td>\n",
       "      <td>1</td>\n",
       "    </tr>\n",
       "    <tr>\n",
       "      <th>10</th>\n",
       "      <td>11252</td>\n",
       "      <td>2</td>\n",
       "      <td>2</td>\n",
       "      <td>51</td>\n",
       "      <td>109.0</td>\n",
       "      <td>77.0</td>\n",
       "      <td>0.0</td>\n",
       "      <td>1</td>\n",
       "      <td>30.0</td>\n",
       "      <td>343.0</td>\n",
       "      <td>NaN</td>\n",
       "      <td>NaN</td>\n",
       "      <td>23.48</td>\n",
       "      <td>72.0</td>\n",
       "      <td>0</td>\n",
       "      <td>90.0</td>\n",
       "      <td>0</td>\n",
       "      <td>0</td>\n",
       "      <td>0</td>\n",
       "      <td>0</td>\n",
       "    </tr>\n",
       "    <tr>\n",
       "      <th>13</th>\n",
       "      <td>11263</td>\n",
       "      <td>2</td>\n",
       "      <td>2</td>\n",
       "      <td>49</td>\n",
       "      <td>177.0</td>\n",
       "      <td>102.0</td>\n",
       "      <td>1.0</td>\n",
       "      <td>0</td>\n",
       "      <td>0.0</td>\n",
       "      <td>230.0</td>\n",
       "      <td>NaN</td>\n",
       "      <td>NaN</td>\n",
       "      <td>31.36</td>\n",
       "      <td>86.0</td>\n",
       "      <td>0</td>\n",
       "      <td>120.0</td>\n",
       "      <td>1</td>\n",
       "      <td>1</td>\n",
       "      <td>0</td>\n",
       "      <td>0</td>\n",
       "    </tr>\n",
       "  </tbody>\n",
       "</table>\n",
       "</div>"
      ],
      "text/plain": [
       "    RANDID  SEX  PERIOD  AGE  SYSBP  DIABP  BPMEDS  CURSMOKE  CIGPDAY  \\\n",
       "3     6238    2       2   52  105.0   69.5     0.0         0      0.0   \n",
       "6     9428    1       2   54  141.0   89.0     0.0         1     30.0   \n",
       "8    10552    2       2   67  183.0  109.0     0.0         1     20.0   \n",
       "10   11252    2       2   51  109.0   77.0     0.0         1     30.0   \n",
       "13   11263    2       2   49  177.0  102.0     1.0         0      0.0   \n",
       "\n",
       "    TOTCHOL  HDLC  LDLC    BMI  GLUCOSE  DIABETES  HEARTRTE  PREVHYP  ANYCHD  \\\n",
       "3     260.0   NaN   NaN  29.43     86.0         0      80.0        0       0   \n",
       "6     283.0   NaN   NaN  25.34     87.0         0      75.0        0       0   \n",
       "8     232.0   NaN   NaN  30.18     89.0         0      60.0        1       0   \n",
       "10    343.0   NaN   NaN  23.48     72.0         0      90.0        0       0   \n",
       "13    230.0   NaN   NaN  31.36     86.0         0     120.0        1       1   \n",
       "\n",
       "    STROKE  DEATH  \n",
       "3        0      0  \n",
       "6        0      0  \n",
       "8        1      1  \n",
       "10       0      0  \n",
       "13       0      0  "
      ]
     },
     "execution_count": 8,
     "metadata": {},
     "output_type": "execute_result"
    }
   ],
   "source": [
    "framinghamP2 = framingham1[framingham1['PERIOD'] == 2].copy()\n",
    "framinghamP2.head()"
   ]
  },
  {
   "cell_type": "code",
   "execution_count": 9,
   "metadata": {},
   "outputs": [
    {
     "data": {
      "text/html": [
       "<div>\n",
       "<style scoped>\n",
       "    .dataframe tbody tr th:only-of-type {\n",
       "        vertical-align: middle;\n",
       "    }\n",
       "\n",
       "    .dataframe tbody tr th {\n",
       "        vertical-align: top;\n",
       "    }\n",
       "\n",
       "    .dataframe thead th {\n",
       "        text-align: right;\n",
       "    }\n",
       "</style>\n",
       "<table border=\"1\" class=\"dataframe\">\n",
       "  <thead>\n",
       "    <tr style=\"text-align: right;\">\n",
       "      <th></th>\n",
       "      <th>RANDID</th>\n",
       "      <th>SEX</th>\n",
       "      <th>AGE</th>\n",
       "      <th>SYSBP</th>\n",
       "      <th>DIABP</th>\n",
       "      <th>BPMEDS</th>\n",
       "      <th>CURSMOKE</th>\n",
       "      <th>CIGPDAY</th>\n",
       "      <th>TOTCHOL</th>\n",
       "      <th>BMI</th>\n",
       "      <th>GLUCOSE</th>\n",
       "      <th>DIABETES</th>\n",
       "      <th>HEARTRTE</th>\n",
       "      <th>PREVHYP</th>\n",
       "      <th>ANYCHD</th>\n",
       "      <th>STROKE</th>\n",
       "      <th>DEATH</th>\n",
       "    </tr>\n",
       "  </thead>\n",
       "  <tbody>\n",
       "    <tr>\n",
       "      <th>0</th>\n",
       "      <td>6238</td>\n",
       "      <td>2</td>\n",
       "      <td>52</td>\n",
       "      <td>105.0</td>\n",
       "      <td>69.5</td>\n",
       "      <td>0.0</td>\n",
       "      <td>0</td>\n",
       "      <td>0.0</td>\n",
       "      <td>260.0</td>\n",
       "      <td>29.43</td>\n",
       "      <td>86.0</td>\n",
       "      <td>0</td>\n",
       "      <td>80.0</td>\n",
       "      <td>0</td>\n",
       "      <td>0</td>\n",
       "      <td>0</td>\n",
       "      <td>0</td>\n",
       "    </tr>\n",
       "    <tr>\n",
       "      <th>1</th>\n",
       "      <td>9428</td>\n",
       "      <td>1</td>\n",
       "      <td>54</td>\n",
       "      <td>141.0</td>\n",
       "      <td>89.0</td>\n",
       "      <td>0.0</td>\n",
       "      <td>1</td>\n",
       "      <td>30.0</td>\n",
       "      <td>283.0</td>\n",
       "      <td>25.34</td>\n",
       "      <td>87.0</td>\n",
       "      <td>0</td>\n",
       "      <td>75.0</td>\n",
       "      <td>0</td>\n",
       "      <td>0</td>\n",
       "      <td>0</td>\n",
       "      <td>0</td>\n",
       "    </tr>\n",
       "    <tr>\n",
       "      <th>2</th>\n",
       "      <td>10552</td>\n",
       "      <td>2</td>\n",
       "      <td>67</td>\n",
       "      <td>183.0</td>\n",
       "      <td>109.0</td>\n",
       "      <td>0.0</td>\n",
       "      <td>1</td>\n",
       "      <td>20.0</td>\n",
       "      <td>232.0</td>\n",
       "      <td>30.18</td>\n",
       "      <td>89.0</td>\n",
       "      <td>0</td>\n",
       "      <td>60.0</td>\n",
       "      <td>1</td>\n",
       "      <td>0</td>\n",
       "      <td>1</td>\n",
       "      <td>1</td>\n",
       "    </tr>\n",
       "    <tr>\n",
       "      <th>3</th>\n",
       "      <td>11252</td>\n",
       "      <td>2</td>\n",
       "      <td>51</td>\n",
       "      <td>109.0</td>\n",
       "      <td>77.0</td>\n",
       "      <td>0.0</td>\n",
       "      <td>1</td>\n",
       "      <td>30.0</td>\n",
       "      <td>343.0</td>\n",
       "      <td>23.48</td>\n",
       "      <td>72.0</td>\n",
       "      <td>0</td>\n",
       "      <td>90.0</td>\n",
       "      <td>0</td>\n",
       "      <td>0</td>\n",
       "      <td>0</td>\n",
       "      <td>0</td>\n",
       "    </tr>\n",
       "    <tr>\n",
       "      <th>4</th>\n",
       "      <td>11263</td>\n",
       "      <td>2</td>\n",
       "      <td>49</td>\n",
       "      <td>177.0</td>\n",
       "      <td>102.0</td>\n",
       "      <td>1.0</td>\n",
       "      <td>0</td>\n",
       "      <td>0.0</td>\n",
       "      <td>230.0</td>\n",
       "      <td>31.36</td>\n",
       "      <td>86.0</td>\n",
       "      <td>0</td>\n",
       "      <td>120.0</td>\n",
       "      <td>1</td>\n",
       "      <td>1</td>\n",
       "      <td>0</td>\n",
       "      <td>0</td>\n",
       "    </tr>\n",
       "  </tbody>\n",
       "</table>\n",
       "</div>"
      ],
      "text/plain": [
       "   RANDID  SEX  AGE  SYSBP  DIABP  BPMEDS  CURSMOKE  CIGPDAY  TOTCHOL    BMI  \\\n",
       "0    6238    2   52  105.0   69.5     0.0         0      0.0    260.0  29.43   \n",
       "1    9428    1   54  141.0   89.0     0.0         1     30.0    283.0  25.34   \n",
       "2   10552    2   67  183.0  109.0     0.0         1     20.0    232.0  30.18   \n",
       "3   11252    2   51  109.0   77.0     0.0         1     30.0    343.0  23.48   \n",
       "4   11263    2   49  177.0  102.0     1.0         0      0.0    230.0  31.36   \n",
       "\n",
       "   GLUCOSE  DIABETES  HEARTRTE  PREVHYP  ANYCHD  STROKE  DEATH  \n",
       "0     86.0         0      80.0        0       0       0      0  \n",
       "1     87.0         0      75.0        0       0       0      0  \n",
       "2     89.0         0      60.0        1       0       1      1  \n",
       "3     72.0         0      90.0        0       0       0      0  \n",
       "4     86.0         0     120.0        1       1       0      0  "
      ]
     },
     "execution_count": 9,
     "metadata": {},
     "output_type": "execute_result"
    }
   ],
   "source": [
    "framinghamP2.drop(['PERIOD', 'HDLC', 'LDLC'], axis=1, inplace=True)\n",
    "framinghamP2.dropna(inplace=True)\n",
    "framinghamP2.reset_index(drop=True, inplace = True)\n",
    "framinghamP2.head()"
   ]
  },
  {
   "cell_type": "code",
   "execution_count": 10,
   "metadata": {},
   "outputs": [
    {
     "data": {
      "text/html": [
       "<div>\n",
       "<style scoped>\n",
       "    .dataframe tbody tr th:only-of-type {\n",
       "        vertical-align: middle;\n",
       "    }\n",
       "\n",
       "    .dataframe tbody tr th {\n",
       "        vertical-align: top;\n",
       "    }\n",
       "\n",
       "    .dataframe thead th {\n",
       "        text-align: right;\n",
       "    }\n",
       "</style>\n",
       "<table border=\"1\" class=\"dataframe\">\n",
       "  <thead>\n",
       "    <tr style=\"text-align: right;\">\n",
       "      <th></th>\n",
       "      <th>RANDID</th>\n",
       "      <th>SEX</th>\n",
       "      <th>PERIOD</th>\n",
       "      <th>AGE</th>\n",
       "      <th>SYSBP</th>\n",
       "      <th>DIABP</th>\n",
       "      <th>BPMEDS</th>\n",
       "      <th>CURSMOKE</th>\n",
       "      <th>CIGPDAY</th>\n",
       "      <th>TOTCHOL</th>\n",
       "      <th>HDLC</th>\n",
       "      <th>LDLC</th>\n",
       "      <th>BMI</th>\n",
       "      <th>GLUCOSE</th>\n",
       "      <th>DIABETES</th>\n",
       "      <th>HEARTRTE</th>\n",
       "      <th>PREVHYP</th>\n",
       "      <th>ANYCHD</th>\n",
       "      <th>STROKE</th>\n",
       "      <th>DEATH</th>\n",
       "    </tr>\n",
       "  </thead>\n",
       "  <tbody>\n",
       "    <tr>\n",
       "      <th>1</th>\n",
       "      <td>2448</td>\n",
       "      <td>1</td>\n",
       "      <td>3</td>\n",
       "      <td>52</td>\n",
       "      <td>121.0</td>\n",
       "      <td>66.0</td>\n",
       "      <td>0.0</td>\n",
       "      <td>0</td>\n",
       "      <td>0.0</td>\n",
       "      <td>209.0</td>\n",
       "      <td>31.0</td>\n",
       "      <td>178.0</td>\n",
       "      <td>NaN</td>\n",
       "      <td>92.0</td>\n",
       "      <td>0</td>\n",
       "      <td>69.0</td>\n",
       "      <td>0</td>\n",
       "      <td>1</td>\n",
       "      <td>0</td>\n",
       "      <td>0</td>\n",
       "    </tr>\n",
       "    <tr>\n",
       "      <th>4</th>\n",
       "      <td>6238</td>\n",
       "      <td>2</td>\n",
       "      <td>3</td>\n",
       "      <td>58</td>\n",
       "      <td>108.0</td>\n",
       "      <td>66.0</td>\n",
       "      <td>0.0</td>\n",
       "      <td>0</td>\n",
       "      <td>0.0</td>\n",
       "      <td>237.0</td>\n",
       "      <td>54.0</td>\n",
       "      <td>141.0</td>\n",
       "      <td>28.50</td>\n",
       "      <td>71.0</td>\n",
       "      <td>0</td>\n",
       "      <td>80.0</td>\n",
       "      <td>0</td>\n",
       "      <td>0</td>\n",
       "      <td>0</td>\n",
       "      <td>0</td>\n",
       "    </tr>\n",
       "    <tr>\n",
       "      <th>11</th>\n",
       "      <td>11252</td>\n",
       "      <td>2</td>\n",
       "      <td>3</td>\n",
       "      <td>58</td>\n",
       "      <td>155.0</td>\n",
       "      <td>90.0</td>\n",
       "      <td>0.0</td>\n",
       "      <td>1</td>\n",
       "      <td>30.0</td>\n",
       "      <td>NaN</td>\n",
       "      <td>NaN</td>\n",
       "      <td>NaN</td>\n",
       "      <td>24.61</td>\n",
       "      <td>NaN</td>\n",
       "      <td>0</td>\n",
       "      <td>74.0</td>\n",
       "      <td>1</td>\n",
       "      <td>0</td>\n",
       "      <td>0</td>\n",
       "      <td>0</td>\n",
       "    </tr>\n",
       "    <tr>\n",
       "      <th>14</th>\n",
       "      <td>11263</td>\n",
       "      <td>2</td>\n",
       "      <td>3</td>\n",
       "      <td>55</td>\n",
       "      <td>180.0</td>\n",
       "      <td>106.0</td>\n",
       "      <td>1.0</td>\n",
       "      <td>0</td>\n",
       "      <td>0.0</td>\n",
       "      <td>220.0</td>\n",
       "      <td>46.0</td>\n",
       "      <td>135.0</td>\n",
       "      <td>31.17</td>\n",
       "      <td>81.0</td>\n",
       "      <td>1</td>\n",
       "      <td>86.0</td>\n",
       "      <td>1</td>\n",
       "      <td>1</td>\n",
       "      <td>0</td>\n",
       "      <td>0</td>\n",
       "    </tr>\n",
       "    <tr>\n",
       "      <th>19</th>\n",
       "      <td>12806</td>\n",
       "      <td>2</td>\n",
       "      <td>3</td>\n",
       "      <td>57</td>\n",
       "      <td>110.0</td>\n",
       "      <td>46.0</td>\n",
       "      <td>0.0</td>\n",
       "      <td>1</td>\n",
       "      <td>30.0</td>\n",
       "      <td>320.0</td>\n",
       "      <td>34.0</td>\n",
       "      <td>286.0</td>\n",
       "      <td>22.02</td>\n",
       "      <td>87.0</td>\n",
       "      <td>0</td>\n",
       "      <td>75.0</td>\n",
       "      <td>0</td>\n",
       "      <td>0</td>\n",
       "      <td>0</td>\n",
       "      <td>0</td>\n",
       "    </tr>\n",
       "  </tbody>\n",
       "</table>\n",
       "</div>"
      ],
      "text/plain": [
       "    RANDID  SEX  PERIOD  AGE  SYSBP  DIABP  BPMEDS  CURSMOKE  CIGPDAY  \\\n",
       "1     2448    1       3   52  121.0   66.0     0.0         0      0.0   \n",
       "4     6238    2       3   58  108.0   66.0     0.0         0      0.0   \n",
       "11   11252    2       3   58  155.0   90.0     0.0         1     30.0   \n",
       "14   11263    2       3   55  180.0  106.0     1.0         0      0.0   \n",
       "19   12806    2       3   57  110.0   46.0     0.0         1     30.0   \n",
       "\n",
       "    TOTCHOL  HDLC   LDLC    BMI  GLUCOSE  DIABETES  HEARTRTE  PREVHYP  ANYCHD  \\\n",
       "1     209.0  31.0  178.0    NaN     92.0         0      69.0        0       1   \n",
       "4     237.0  54.0  141.0  28.50     71.0         0      80.0        0       0   \n",
       "11      NaN   NaN    NaN  24.61      NaN         0      74.0        1       0   \n",
       "14    220.0  46.0  135.0  31.17     81.0         1      86.0        1       1   \n",
       "19    320.0  34.0  286.0  22.02     87.0         0      75.0        0       0   \n",
       "\n",
       "    STROKE  DEATH  \n",
       "1        0      0  \n",
       "4        0      0  \n",
       "11       0      0  \n",
       "14       0      0  \n",
       "19       0      0  "
      ]
     },
     "execution_count": 10,
     "metadata": {},
     "output_type": "execute_result"
    }
   ],
   "source": [
    "framinghamP3 = framingham1[framingham1['PERIOD'] == 3].copy()\n",
    "framinghamP3.head()"
   ]
  },
  {
   "cell_type": "code",
   "execution_count": 11,
   "metadata": {},
   "outputs": [
    {
     "data": {
      "text/html": [
       "<div>\n",
       "<style scoped>\n",
       "    .dataframe tbody tr th:only-of-type {\n",
       "        vertical-align: middle;\n",
       "    }\n",
       "\n",
       "    .dataframe tbody tr th {\n",
       "        vertical-align: top;\n",
       "    }\n",
       "\n",
       "    .dataframe thead th {\n",
       "        text-align: right;\n",
       "    }\n",
       "</style>\n",
       "<table border=\"1\" class=\"dataframe\">\n",
       "  <thead>\n",
       "    <tr style=\"text-align: right;\">\n",
       "      <th></th>\n",
       "      <th>RANDID</th>\n",
       "      <th>SEX</th>\n",
       "      <th>AGE</th>\n",
       "      <th>SYSBP</th>\n",
       "      <th>DIABP</th>\n",
       "      <th>BPMEDS</th>\n",
       "      <th>CURSMOKE</th>\n",
       "      <th>CIGPDAY</th>\n",
       "      <th>TOTCHOL</th>\n",
       "      <th>HDLC</th>\n",
       "      <th>LDLC</th>\n",
       "      <th>BMI</th>\n",
       "      <th>GLUCOSE</th>\n",
       "      <th>DIABETES</th>\n",
       "      <th>HEARTRTE</th>\n",
       "      <th>PREVHYP</th>\n",
       "      <th>ANYCHD</th>\n",
       "      <th>STROKE</th>\n",
       "      <th>DEATH</th>\n",
       "    </tr>\n",
       "  </thead>\n",
       "  <tbody>\n",
       "    <tr>\n",
       "      <th>0</th>\n",
       "      <td>6238</td>\n",
       "      <td>2</td>\n",
       "      <td>58</td>\n",
       "      <td>108.0</td>\n",
       "      <td>66.0</td>\n",
       "      <td>0.0</td>\n",
       "      <td>0</td>\n",
       "      <td>0.0</td>\n",
       "      <td>237.0</td>\n",
       "      <td>54.0</td>\n",
       "      <td>141.0</td>\n",
       "      <td>28.50</td>\n",
       "      <td>71.0</td>\n",
       "      <td>0</td>\n",
       "      <td>80.0</td>\n",
       "      <td>0</td>\n",
       "      <td>0</td>\n",
       "      <td>0</td>\n",
       "      <td>0</td>\n",
       "    </tr>\n",
       "    <tr>\n",
       "      <th>1</th>\n",
       "      <td>11263</td>\n",
       "      <td>2</td>\n",
       "      <td>55</td>\n",
       "      <td>180.0</td>\n",
       "      <td>106.0</td>\n",
       "      <td>1.0</td>\n",
       "      <td>0</td>\n",
       "      <td>0.0</td>\n",
       "      <td>220.0</td>\n",
       "      <td>46.0</td>\n",
       "      <td>135.0</td>\n",
       "      <td>31.17</td>\n",
       "      <td>81.0</td>\n",
       "      <td>1</td>\n",
       "      <td>86.0</td>\n",
       "      <td>1</td>\n",
       "      <td>1</td>\n",
       "      <td>0</td>\n",
       "      <td>0</td>\n",
       "    </tr>\n",
       "    <tr>\n",
       "      <th>2</th>\n",
       "      <td>12806</td>\n",
       "      <td>2</td>\n",
       "      <td>57</td>\n",
       "      <td>110.0</td>\n",
       "      <td>46.0</td>\n",
       "      <td>0.0</td>\n",
       "      <td>1</td>\n",
       "      <td>30.0</td>\n",
       "      <td>320.0</td>\n",
       "      <td>34.0</td>\n",
       "      <td>286.0</td>\n",
       "      <td>22.02</td>\n",
       "      <td>87.0</td>\n",
       "      <td>0</td>\n",
       "      <td>75.0</td>\n",
       "      <td>0</td>\n",
       "      <td>0</td>\n",
       "      <td>0</td>\n",
       "      <td>0</td>\n",
       "    </tr>\n",
       "    <tr>\n",
       "      <th>3</th>\n",
       "      <td>14367</td>\n",
       "      <td>1</td>\n",
       "      <td>64</td>\n",
       "      <td>168.0</td>\n",
       "      <td>100.0</td>\n",
       "      <td>0.0</td>\n",
       "      <td>0</td>\n",
       "      <td>0.0</td>\n",
       "      <td>280.0</td>\n",
       "      <td>44.0</td>\n",
       "      <td>236.0</td>\n",
       "      <td>25.72</td>\n",
       "      <td>82.0</td>\n",
       "      <td>0</td>\n",
       "      <td>92.0</td>\n",
       "      <td>1</td>\n",
       "      <td>0</td>\n",
       "      <td>0</td>\n",
       "      <td>0</td>\n",
       "    </tr>\n",
       "    <tr>\n",
       "      <th>4</th>\n",
       "      <td>16365</td>\n",
       "      <td>1</td>\n",
       "      <td>55</td>\n",
       "      <td>173.0</td>\n",
       "      <td>123.0</td>\n",
       "      <td>1.0</td>\n",
       "      <td>0</td>\n",
       "      <td>0.0</td>\n",
       "      <td>211.0</td>\n",
       "      <td>48.0</td>\n",
       "      <td>163.0</td>\n",
       "      <td>29.11</td>\n",
       "      <td>85.0</td>\n",
       "      <td>0</td>\n",
       "      <td>75.0</td>\n",
       "      <td>1</td>\n",
       "      <td>0</td>\n",
       "      <td>0</td>\n",
       "      <td>0</td>\n",
       "    </tr>\n",
       "  </tbody>\n",
       "</table>\n",
       "</div>"
      ],
      "text/plain": [
       "   RANDID  SEX  AGE  SYSBP  DIABP  BPMEDS  CURSMOKE  CIGPDAY  TOTCHOL  HDLC  \\\n",
       "0    6238    2   58  108.0   66.0     0.0         0      0.0    237.0  54.0   \n",
       "1   11263    2   55  180.0  106.0     1.0         0      0.0    220.0  46.0   \n",
       "2   12806    2   57  110.0   46.0     0.0         1     30.0    320.0  34.0   \n",
       "3   14367    1   64  168.0  100.0     0.0         0      0.0    280.0  44.0   \n",
       "4   16365    1   55  173.0  123.0     1.0         0      0.0    211.0  48.0   \n",
       "\n",
       "    LDLC    BMI  GLUCOSE  DIABETES  HEARTRTE  PREVHYP  ANYCHD  STROKE  DEATH  \n",
       "0  141.0  28.50     71.0         0      80.0        0       0       0      0  \n",
       "1  135.0  31.17     81.0         1      86.0        1       1       0      0  \n",
       "2  286.0  22.02     87.0         0      75.0        0       0       0      0  \n",
       "3  236.0  25.72     82.0         0      92.0        1       0       0      0  \n",
       "4  163.0  29.11     85.0         0      75.0        1       0       0      0  "
      ]
     },
     "execution_count": 11,
     "metadata": {},
     "output_type": "execute_result"
    }
   ],
   "source": [
    "framinghamP3.drop(['PERIOD'], axis=1, inplace=True)\n",
    "framinghamP3.dropna(inplace=True)\n",
    "framinghamP3.reset_index(drop=True, inplace = True)\n",
    "framinghamP3.head()"
   ]
  },
  {
   "cell_type": "markdown",
   "metadata": {},
   "source": [
    "## Setting variables with whole numbers to integers"
   ]
  },
  {
   "cell_type": "code",
   "execution_count": 12,
   "metadata": {},
   "outputs": [],
   "source": [
    "framinghamP1.BPMEDS = framinghamP1.BPMEDS.astype(int)\n",
    "framinghamP1.CIGPDAY = framinghamP1.CIGPDAY.astype(int)\n",
    "framinghamP1.TOTCHOL = framinghamP1.TOTCHOL.astype(int)\n",
    "framinghamP1.GLUCOSE = framinghamP1.GLUCOSE.astype(int)\n",
    "framinghamP1.HEARTRTE = framinghamP1.HEARTRTE.astype(int)"
   ]
  },
  {
   "cell_type": "code",
   "execution_count": 13,
   "metadata": {},
   "outputs": [],
   "source": [
    "framinghamP2.BPMEDS = framinghamP2.BPMEDS.astype(int)\n",
    "framinghamP2.CIGPDAY = framinghamP2.CIGPDAY.astype(int)\n",
    "framinghamP2.TOTCHOL = framinghamP2.TOTCHOL.astype(int)\n",
    "framinghamP2.GLUCOSE = framinghamP2.GLUCOSE.astype(int)\n",
    "framinghamP2.HEARTRTE = framinghamP2.HEARTRTE.astype(int)"
   ]
  },
  {
   "cell_type": "code",
   "execution_count": 14,
   "metadata": {},
   "outputs": [],
   "source": [
    "framinghamP3.BPMEDS = framinghamP3.BPMEDS.astype(int)\n",
    "framinghamP3.CIGPDAY = framinghamP3.CIGPDAY.astype(int)\n",
    "framinghamP3.TOTCHOL = framinghamP3.TOTCHOL.astype(int)\n",
    "framinghamP3.GLUCOSE = framinghamP3.GLUCOSE.astype(int)\n",
    "framinghamP3.HEARTRTE = framinghamP3.HEARTRTE.astype(int)"
   ]
  },
  {
   "cell_type": "markdown",
   "metadata": {},
   "source": [
    "# k-Means Clustering\n",
    "---"
   ]
  },
  {
   "cell_type": "markdown",
   "metadata": {},
   "source": [
    "* k-Means clustering is an unsupervised machine learning that separates data into groups that are similar"
   ]
  },
  {
   "cell_type": "markdown",
   "metadata": {},
   "source": [
    "## Additional Packages"
   ]
  },
  {
   "cell_type": "code",
   "execution_count": 15,
   "metadata": {},
   "outputs": [],
   "source": [
    "from sklearn.cluster import KMeans\n",
    "from sklearn.preprocessing import StandardScaler"
   ]
  },
  {
   "cell_type": "markdown",
   "metadata": {},
   "source": [
    "## Data Wrangling\n",
    "* KMeans does not accept string data, but this dataset is fully numeric\n",
    "* Subsetting to continuous variables and the predictor variables"
   ]
  },
  {
   "cell_type": "code",
   "execution_count": 16,
   "metadata": {},
   "outputs": [
    {
     "name": "stdout",
     "output_type": "stream",
     "text": [
      "<class 'pandas.core.frame.DataFrame'>\n",
      "RangeIndex: 3927 entries, 0 to 3926\n",
      "Data columns (total 17 columns):\n",
      " #   Column    Non-Null Count  Dtype  \n",
      "---  ------    --------------  -----  \n",
      " 0   RANDID    3927 non-null   int64  \n",
      " 1   SEX       3927 non-null   int64  \n",
      " 2   AGE       3927 non-null   int64  \n",
      " 3   SYSBP     3927 non-null   float64\n",
      " 4   DIABP     3927 non-null   float64\n",
      " 5   BPMEDS    3927 non-null   int64  \n",
      " 6   CURSMOKE  3927 non-null   int64  \n",
      " 7   CIGPDAY   3927 non-null   int64  \n",
      " 8   TOTCHOL   3927 non-null   int64  \n",
      " 9   BMI       3927 non-null   float64\n",
      " 10  GLUCOSE   3927 non-null   int64  \n",
      " 11  DIABETES  3927 non-null   int64  \n",
      " 12  HEARTRTE  3927 non-null   int64  \n",
      " 13  PREVHYP   3927 non-null   int64  \n",
      " 14  ANYCHD    3927 non-null   int64  \n",
      " 15  STROKE    3927 non-null   int64  \n",
      " 16  DEATH     3927 non-null   int64  \n",
      "dtypes: float64(3), int64(14)\n",
      "memory usage: 521.7 KB\n"
     ]
    }
   ],
   "source": [
    "framinghamP1.info()"
   ]
  },
  {
   "cell_type": "code",
   "execution_count": 17,
   "metadata": {},
   "outputs": [
    {
     "name": "stdout",
     "output_type": "stream",
     "text": [
      "<class 'pandas.core.frame.DataFrame'>\n",
      "RangeIndex: 3309 entries, 0 to 3308\n",
      "Data columns (total 17 columns):\n",
      " #   Column    Non-Null Count  Dtype  \n",
      "---  ------    --------------  -----  \n",
      " 0   RANDID    3309 non-null   int64  \n",
      " 1   SEX       3309 non-null   int64  \n",
      " 2   AGE       3309 non-null   int64  \n",
      " 3   SYSBP     3309 non-null   float64\n",
      " 4   DIABP     3309 non-null   float64\n",
      " 5   BPMEDS    3309 non-null   int64  \n",
      " 6   CURSMOKE  3309 non-null   int64  \n",
      " 7   CIGPDAY   3309 non-null   int64  \n",
      " 8   TOTCHOL   3309 non-null   int64  \n",
      " 9   BMI       3309 non-null   float64\n",
      " 10  GLUCOSE   3309 non-null   int64  \n",
      " 11  DIABETES  3309 non-null   int64  \n",
      " 12  HEARTRTE  3309 non-null   int64  \n",
      " 13  PREVHYP   3309 non-null   int64  \n",
      " 14  ANYCHD    3309 non-null   int64  \n",
      " 15  STROKE    3309 non-null   int64  \n",
      " 16  DEATH     3309 non-null   int64  \n",
      "dtypes: float64(3), int64(14)\n",
      "memory usage: 439.6 KB\n"
     ]
    }
   ],
   "source": [
    "framinghamP2.info()"
   ]
  },
  {
   "cell_type": "code",
   "execution_count": 18,
   "metadata": {},
   "outputs": [
    {
     "name": "stdout",
     "output_type": "stream",
     "text": [
      "<class 'pandas.core.frame.DataFrame'>\n",
      "RangeIndex: 2306 entries, 0 to 2305\n",
      "Data columns (total 19 columns):\n",
      " #   Column    Non-Null Count  Dtype  \n",
      "---  ------    --------------  -----  \n",
      " 0   RANDID    2306 non-null   int64  \n",
      " 1   SEX       2306 non-null   int64  \n",
      " 2   AGE       2306 non-null   int64  \n",
      " 3   SYSBP     2306 non-null   float64\n",
      " 4   DIABP     2306 non-null   float64\n",
      " 5   BPMEDS    2306 non-null   int64  \n",
      " 6   CURSMOKE  2306 non-null   int64  \n",
      " 7   CIGPDAY   2306 non-null   int64  \n",
      " 8   TOTCHOL   2306 non-null   int64  \n",
      " 9   HDLC      2306 non-null   float64\n",
      " 10  LDLC      2306 non-null   float64\n",
      " 11  BMI       2306 non-null   float64\n",
      " 12  GLUCOSE   2306 non-null   int64  \n",
      " 13  DIABETES  2306 non-null   int64  \n",
      " 14  HEARTRTE  2306 non-null   int64  \n",
      " 15  PREVHYP   2306 non-null   int64  \n",
      " 16  ANYCHD    2306 non-null   int64  \n",
      " 17  STROKE    2306 non-null   int64  \n",
      " 18  DEATH     2306 non-null   int64  \n",
      "dtypes: float64(5), int64(14)\n",
      "memory usage: 342.4 KB\n"
     ]
    }
   ],
   "source": [
    "framinghamP3.info()"
   ]
  },
  {
   "cell_type": "markdown",
   "metadata": {},
   "source": [
    "## Subset dataframes for Periods 1, 2, 3"
   ]
  },
  {
   "cell_type": "code",
   "execution_count": 19,
   "metadata": {},
   "outputs": [],
   "source": [
    "frmgP1TrimmedCHD = framinghamP1[['AGE', 'SYSBP', 'DIABP', 'CURSMOKE', 'CIGPDAY', 'TOTCHOL', 'BMI', 'GLUCOSE', 'HEARTRTE', 'ANYCHD']].copy()\n",
    "frmgP2TrimmedCHD = framinghamP2[['AGE', 'SYSBP', 'DIABP', 'CURSMOKE', 'CIGPDAY', 'TOTCHOL', 'BMI', 'GLUCOSE', 'HEARTRTE', 'ANYCHD']].copy()\n",
    "frmgP3TrimmedCHD = framinghamP3[['AGE', 'SYSBP', 'DIABP', 'CURSMOKE', 'CIGPDAY', 'TOTCHOL', 'BMI', 'GLUCOSE', 'HEARTRTE', 'ANYCHD']].copy()"
   ]
  },
  {
   "cell_type": "code",
   "execution_count": 20,
   "metadata": {},
   "outputs": [],
   "source": [
    "frmgP1TrimmedDTH = framinghamP1[['AGE', 'SYSBP', 'DIABP', 'CURSMOKE', 'CIGPDAY', 'TOTCHOL', 'BMI', 'HEARTRTE', 'ANYCHD', 'STROKE', 'DEATH']].copy()\n",
    "frmgP2TrimmedDTH = framinghamP2[['AGE', 'SYSBP', 'DIABP', 'CURSMOKE', 'CIGPDAY', 'TOTCHOL', 'BMI', 'HEARTRTE', 'ANYCHD', 'STROKE', 'DEATH']].copy()\n",
    "frmgP3TrimmedDTH = framinghamP3[['AGE', 'SYSBP', 'DIABP', 'CURSMOKE', 'CIGPDAY', 'TOTCHOL', 'BMI', 'HEARTRTE', 'ANYCHD', 'STROKE', 'DEATH']].copy()"
   ]
  },
  {
   "cell_type": "markdown",
   "metadata": {},
   "source": [
    "# CHD\n",
    "---"
   ]
  },
  {
   "cell_type": "markdown",
   "metadata": {},
   "source": [
    "## Perform k-Means Clustering for Period 1"
   ]
  },
  {
   "cell_type": "markdown",
   "metadata": {},
   "source": [
    "### Scale Data"
   ]
  },
  {
   "cell_type": "code",
   "execution_count": 21,
   "metadata": {},
   "outputs": [
    {
     "data": {
      "text/html": [
       "<div>\n",
       "<style scoped>\n",
       "    .dataframe tbody tr th:only-of-type {\n",
       "        vertical-align: middle;\n",
       "    }\n",
       "\n",
       "    .dataframe tbody tr th {\n",
       "        vertical-align: top;\n",
       "    }\n",
       "\n",
       "    .dataframe thead th {\n",
       "        text-align: right;\n",
       "    }\n",
       "</style>\n",
       "<table border=\"1\" class=\"dataframe\">\n",
       "  <thead>\n",
       "    <tr style=\"text-align: right;\">\n",
       "      <th></th>\n",
       "      <th>AGE</th>\n",
       "      <th>SYSBP</th>\n",
       "      <th>DIABP</th>\n",
       "      <th>CURSMOKE</th>\n",
       "      <th>CIGPDAY</th>\n",
       "      <th>TOTCHOL</th>\n",
       "      <th>BMI</th>\n",
       "      <th>GLUCOSE</th>\n",
       "      <th>HEARTRTE</th>\n",
       "    </tr>\n",
       "  </thead>\n",
       "  <tbody>\n",
       "    <tr>\n",
       "      <th>0</th>\n",
       "      <td>-1.259069</td>\n",
       "      <td>-1.202072</td>\n",
       "      <td>-1.087855</td>\n",
       "      <td>-0.972618</td>\n",
       "      <td>-0.751371</td>\n",
       "      <td>-0.944321</td>\n",
       "      <td>0.273900</td>\n",
       "      <td>-0.209554</td>\n",
       "      <td>0.353756</td>\n",
       "    </tr>\n",
       "    <tr>\n",
       "      <th>1</th>\n",
       "      <td>-0.452653</td>\n",
       "      <td>-0.532954</td>\n",
       "      <td>-0.176555</td>\n",
       "      <td>-0.972618</td>\n",
       "      <td>-0.751371</td>\n",
       "      <td>0.286232</td>\n",
       "      <td>0.705156</td>\n",
       "      <td>-0.250598</td>\n",
       "      <td>1.598560</td>\n",
       "    </tr>\n",
       "    <tr>\n",
       "      <th>2</th>\n",
       "      <td>-0.222249</td>\n",
       "      <td>-0.243003</td>\n",
       "      <td>-0.259401</td>\n",
       "      <td>1.028153</td>\n",
       "      <td>0.923032</td>\n",
       "      <td>0.174363</td>\n",
       "      <td>-0.125502</td>\n",
       "      <td>-0.496858</td>\n",
       "      <td>-0.061178</td>\n",
       "    </tr>\n",
       "    <tr>\n",
       "      <th>3</th>\n",
       "      <td>1.275379</td>\n",
       "      <td>0.760673</td>\n",
       "      <td>0.983280</td>\n",
       "      <td>1.028153</td>\n",
       "      <td>1.760234</td>\n",
       "      <td>-0.273111</td>\n",
       "      <td>0.668401</td>\n",
       "      <td>0.857574</td>\n",
       "      <td>-0.891048</td>\n",
       "    </tr>\n",
       "    <tr>\n",
       "      <th>4</th>\n",
       "      <td>-0.452653</td>\n",
       "      <td>-0.131483</td>\n",
       "      <td>0.071981</td>\n",
       "      <td>1.028153</td>\n",
       "      <td>1.174193</td>\n",
       "      <td>1.069311</td>\n",
       "      <td>-0.674374</td>\n",
       "      <td>0.118793</td>\n",
       "      <td>0.768691</td>\n",
       "    </tr>\n",
       "  </tbody>\n",
       "</table>\n",
       "</div>"
      ],
      "text/plain": [
       "        AGE     SYSBP     DIABP  CURSMOKE   CIGPDAY   TOTCHOL       BMI  \\\n",
       "0 -1.259069 -1.202072 -1.087855 -0.972618 -0.751371 -0.944321  0.273900   \n",
       "1 -0.452653 -0.532954 -0.176555 -0.972618 -0.751371  0.286232  0.705156   \n",
       "2 -0.222249 -0.243003 -0.259401  1.028153  0.923032  0.174363 -0.125502   \n",
       "3  1.275379  0.760673  0.983280  1.028153  1.760234 -0.273111  0.668401   \n",
       "4 -0.452653 -0.131483  0.071981  1.028153  1.174193  1.069311 -0.674374   \n",
       "\n",
       "    GLUCOSE  HEARTRTE  \n",
       "0 -0.209554  0.353756  \n",
       "1 -0.250598  1.598560  \n",
       "2 -0.496858 -0.061178  \n",
       "3  0.857574 -0.891048  \n",
       "4  0.118793  0.768691  "
      ]
     },
     "execution_count": 21,
     "metadata": {},
     "output_type": "execute_result"
    }
   ],
   "source": [
    "scaler = StandardScaler()\n",
    "scaler.fit(frmgP1TrimmedCHD.drop('ANYCHD',axis=1))\n",
    "scaledVariables = scaler.transform(frmgP1TrimmedCHD.drop('ANYCHD',axis=1))\n",
    "frmgP1ScaledCHD = pd.DataFrame(scaledVariables, columns=frmgP1TrimmedCHD.columns[:-1]) # leaves out predictor variable\n",
    "frmgP1ScaledCHD.head()"
   ]
  },
  {
   "cell_type": "markdown",
   "metadata": {},
   "source": [
    "## Period 1 (CHD): Selecting the number of clusters with silhouette analysis on KMeans clustering\n",
    "Source: [scikit-learn.org/stable/auto_examples/cluster/plot_kmeans_silhouette_analysis](https://scikit-learn.org/stable/auto_examples/cluster/plot_kmeans_silhouette_analysis.html#selecting-the-number-of-clusters-with-silhouette-analysis-on-kmeans-clustering)\n",
    "### Additional Packages"
   ]
  },
  {
   "cell_type": "code",
   "execution_count": 22,
   "metadata": {},
   "outputs": [],
   "source": [
    "from sklearn.metrics import silhouette_samples, silhouette_score\n",
    "import matplotlib.cm as cm"
   ]
  },
  {
   "cell_type": "code",
   "execution_count": 23,
   "metadata": {},
   "outputs": [],
   "source": [
    "range_n_clusters = [2, 3, 4, 5, 6, 7, 8, 9, 10]"
   ]
  },
  {
   "cell_type": "code",
   "execution_count": 24,
   "metadata": {},
   "outputs": [
    {
     "name": "stdout",
     "output_type": "stream",
     "text": [
      "For n_clusters = 2 The average silhouette_score is : 0.20777214570358993\n",
      "For n_clusters = 3 The average silhouette_score is : 0.19418658242925854\n",
      "For n_clusters = 4 The average silhouette_score is : 0.19791413704387045\n",
      "For n_clusters = 5 The average silhouette_score is : 0.17479582563475035\n",
      "For n_clusters = 6 The average silhouette_score is : 0.1536928893098749\n",
      "For n_clusters = 7 The average silhouette_score is : 0.14428819084090472\n",
      "For n_clusters = 8 The average silhouette_score is : 0.14030896492880002\n",
      "For n_clusters = 9 The average silhouette_score is : 0.13857815936778214\n",
      "For n_clusters = 10 The average silhouette_score is : 0.1379032380805592\n"
     ]
    }
   ],
   "source": [
    "for n_clusters in range_n_clusters:\n",
    "    clusterer = KMeans(n_clusters=n_clusters, random_state=10)\n",
    "    cluster_labels = clusterer.fit_predict(frmgP1ScaledCHD)\n",
    "\n",
    "    # The silhouette_score gives the average value for all the samples.\n",
    "    # This gives a perspective into the density and separation of the formed clusters\n",
    "    silhouette_avg = silhouette_score(frmgP1ScaledCHD, cluster_labels)\n",
    "    print(\"For n_clusters =\", n_clusters,\n",
    "          \"The average silhouette_score is :\", silhouette_avg)"
   ]
  },
  {
   "cell_type": "markdown",
   "metadata": {},
   "source": [
    "__*Using the silhouette score to check the optimal number of clusters shows that the optimal number of clusters is 2. <br> [Source: Silhouette Coefficient, Towards Data Science](https://towardsdatascience.com/silhouette-coefficient-validating-clustering-techniques-e976bb81d10c)*__"
   ]
  },
  {
   "cell_type": "markdown",
   "metadata": {},
   "source": [
    "### Period 1 (CHD): Testing 2 clusters"
   ]
  },
  {
   "cell_type": "code",
   "execution_count": 25,
   "metadata": {},
   "outputs": [
    {
     "data": {
      "text/plain": [
       "KMeans(n_clusters=2)"
      ]
     },
     "execution_count": 25,
     "metadata": {},
     "output_type": "execute_result"
    }
   ],
   "source": [
    "kmeans = KMeans(n_clusters=2)\n",
    "kmeans.fit(frmgP1ScaledCHD)"
   ]
  },
  {
   "cell_type": "code",
   "execution_count": 26,
   "metadata": {},
   "outputs": [
    {
     "data": {
      "text/html": [
       "<div>\n",
       "<style scoped>\n",
       "    .dataframe tbody tr th:only-of-type {\n",
       "        vertical-align: middle;\n",
       "    }\n",
       "\n",
       "    .dataframe tbody tr th {\n",
       "        vertical-align: top;\n",
       "    }\n",
       "\n",
       "    .dataframe thead th {\n",
       "        text-align: right;\n",
       "    }\n",
       "</style>\n",
       "<table border=\"1\" class=\"dataframe\">\n",
       "  <thead>\n",
       "    <tr style=\"text-align: right;\">\n",
       "      <th></th>\n",
       "      <th>AGE</th>\n",
       "      <th>SYSBP</th>\n",
       "      <th>DIABP</th>\n",
       "      <th>CURSMOKE</th>\n",
       "      <th>CIGPDAY</th>\n",
       "      <th>TOTCHOL</th>\n",
       "      <th>BMI</th>\n",
       "      <th>GLUCOSE</th>\n",
       "      <th>HEARTRTE</th>\n",
       "      <th>ANYCHD</th>\n",
       "      <th>Group</th>\n",
       "    </tr>\n",
       "  </thead>\n",
       "  <tbody>\n",
       "    <tr>\n",
       "      <th>0</th>\n",
       "      <td>39</td>\n",
       "      <td>106.0</td>\n",
       "      <td>70.0</td>\n",
       "      <td>0</td>\n",
       "      <td>0</td>\n",
       "      <td>195</td>\n",
       "      <td>26.97</td>\n",
       "      <td>77</td>\n",
       "      <td>80</td>\n",
       "      <td>1</td>\n",
       "      <td>1</td>\n",
       "    </tr>\n",
       "    <tr>\n",
       "      <th>1</th>\n",
       "      <td>46</td>\n",
       "      <td>121.0</td>\n",
       "      <td>81.0</td>\n",
       "      <td>0</td>\n",
       "      <td>0</td>\n",
       "      <td>250</td>\n",
       "      <td>28.73</td>\n",
       "      <td>76</td>\n",
       "      <td>95</td>\n",
       "      <td>0</td>\n",
       "      <td>1</td>\n",
       "    </tr>\n",
       "    <tr>\n",
       "      <th>2</th>\n",
       "      <td>48</td>\n",
       "      <td>127.5</td>\n",
       "      <td>80.0</td>\n",
       "      <td>1</td>\n",
       "      <td>20</td>\n",
       "      <td>245</td>\n",
       "      <td>25.34</td>\n",
       "      <td>70</td>\n",
       "      <td>75</td>\n",
       "      <td>0</td>\n",
       "      <td>0</td>\n",
       "    </tr>\n",
       "    <tr>\n",
       "      <th>3</th>\n",
       "      <td>61</td>\n",
       "      <td>150.0</td>\n",
       "      <td>95.0</td>\n",
       "      <td>1</td>\n",
       "      <td>30</td>\n",
       "      <td>225</td>\n",
       "      <td>28.58</td>\n",
       "      <td>103</td>\n",
       "      <td>65</td>\n",
       "      <td>0</td>\n",
       "      <td>0</td>\n",
       "    </tr>\n",
       "    <tr>\n",
       "      <th>4</th>\n",
       "      <td>46</td>\n",
       "      <td>130.0</td>\n",
       "      <td>84.0</td>\n",
       "      <td>1</td>\n",
       "      <td>23</td>\n",
       "      <td>285</td>\n",
       "      <td>23.10</td>\n",
       "      <td>85</td>\n",
       "      <td>85</td>\n",
       "      <td>0</td>\n",
       "      <td>0</td>\n",
       "    </tr>\n",
       "  </tbody>\n",
       "</table>\n",
       "</div>"
      ],
      "text/plain": [
       "   AGE  SYSBP  DIABP  CURSMOKE  CIGPDAY  TOTCHOL    BMI  GLUCOSE  HEARTRTE  \\\n",
       "0   39  106.0   70.0         0        0      195  26.97       77        80   \n",
       "1   46  121.0   81.0         0        0      250  28.73       76        95   \n",
       "2   48  127.5   80.0         1       20      245  25.34       70        75   \n",
       "3   61  150.0   95.0         1       30      225  28.58      103        65   \n",
       "4   46  130.0   84.0         1       23      285  23.10       85        85   \n",
       "\n",
       "   ANYCHD  Group  \n",
       "0       1      1  \n",
       "1       0      1  \n",
       "2       0      0  \n",
       "3       0      0  \n",
       "4       0      0  "
      ]
     },
     "execution_count": 26,
     "metadata": {},
     "output_type": "execute_result"
    }
   ],
   "source": [
    "frmgP1TrimmedCHD['Group'] = kmeans.labels_\n",
    "frmgP1TrimmedCHD.head()"
   ]
  },
  {
   "cell_type": "markdown",
   "metadata": {},
   "source": [
    "### Period 1 (CHD): Investigating Means by Category"
   ]
  },
  {
   "cell_type": "code",
   "execution_count": 27,
   "metadata": {},
   "outputs": [
    {
     "data": {
      "text/html": [
       "<div>\n",
       "<style scoped>\n",
       "    .dataframe tbody tr th:only-of-type {\n",
       "        vertical-align: middle;\n",
       "    }\n",
       "\n",
       "    .dataframe tbody tr th {\n",
       "        vertical-align: top;\n",
       "    }\n",
       "\n",
       "    .dataframe thead th {\n",
       "        text-align: right;\n",
       "    }\n",
       "</style>\n",
       "<table border=\"1\" class=\"dataframe\">\n",
       "  <thead>\n",
       "    <tr style=\"text-align: right;\">\n",
       "      <th></th>\n",
       "      <th>AGE</th>\n",
       "      <th>SYSBP</th>\n",
       "      <th>DIABP</th>\n",
       "      <th>CURSMOKE</th>\n",
       "      <th>CIGPDAY</th>\n",
       "      <th>TOTCHOL</th>\n",
       "      <th>BMI</th>\n",
       "      <th>GLUCOSE</th>\n",
       "      <th>HEARTRTE</th>\n",
       "      <th>ANYCHD</th>\n",
       "    </tr>\n",
       "    <tr>\n",
       "      <th>Group</th>\n",
       "      <th></th>\n",
       "      <th></th>\n",
       "      <th></th>\n",
       "      <th></th>\n",
       "      <th></th>\n",
       "      <th></th>\n",
       "      <th></th>\n",
       "      <th></th>\n",
       "      <th></th>\n",
       "      <th></th>\n",
       "    </tr>\n",
       "  </thead>\n",
       "  <tbody>\n",
       "    <tr>\n",
       "      <th>0</th>\n",
       "      <td>47.588430</td>\n",
       "      <td>127.881543</td>\n",
       "      <td>80.872452</td>\n",
       "      <td>1.000000</td>\n",
       "      <td>19.150413</td>\n",
       "      <td>233.055096</td>\n",
       "      <td>24.932187</td>\n",
       "      <td>80.125620</td>\n",
       "      <td>76.395041</td>\n",
       "      <td>0.278788</td>\n",
       "    </tr>\n",
       "    <tr>\n",
       "      <th>1</th>\n",
       "      <td>51.940814</td>\n",
       "      <td>137.301136</td>\n",
       "      <td>85.072206</td>\n",
       "      <td>0.044508</td>\n",
       "      <td>0.230114</td>\n",
       "      <td>240.774621</td>\n",
       "      <td>26.642813</td>\n",
       "      <td>83.807292</td>\n",
       "      <td>75.171875</td>\n",
       "      <td>0.281723</td>\n",
       "    </tr>\n",
       "  </tbody>\n",
       "</table>\n",
       "</div>"
      ],
      "text/plain": [
       "             AGE       SYSBP      DIABP  CURSMOKE    CIGPDAY     TOTCHOL  \\\n",
       "Group                                                                      \n",
       "0      47.588430  127.881543  80.872452  1.000000  19.150413  233.055096   \n",
       "1      51.940814  137.301136  85.072206  0.044508   0.230114  240.774621   \n",
       "\n",
       "             BMI    GLUCOSE   HEARTRTE    ANYCHD  \n",
       "Group                                             \n",
       "0      24.932187  80.125620  76.395041  0.278788  \n",
       "1      26.642813  83.807292  75.171875  0.281723  "
      ]
     },
     "execution_count": 27,
     "metadata": {},
     "output_type": "execute_result"
    }
   ],
   "source": [
    "frmgP1TrimmedCHD.groupby('Group').mean()"
   ]
  },
  {
   "cell_type": "markdown",
   "metadata": {},
   "source": [
    "***The most significant differences between the groups are average systolic blood pressure, age, current smoker, and cigarettes per day. There is no significant difference of incidence of CHD between the 2 groups.***"
   ]
  },
  {
   "cell_type": "markdown",
   "metadata": {},
   "source": [
    "### Period 1 (CHD): Investigating Systolic Blood Pressure"
   ]
  },
  {
   "cell_type": "code",
   "execution_count": 32,
   "metadata": {},
   "outputs": [
    {
     "data": {
      "text/plain": [
       "<AxesSubplot:xlabel='Group', ylabel='SYSBP'>"
      ]
     },
     "execution_count": 32,
     "metadata": {},
     "output_type": "execute_result"
    },
    {
     "data": {
      "image/png": "[encoded data removed]",
      "text/plain": [
       "<Figure size 720x360 with 1 Axes>"
      ]
     },
     "metadata": {
      "needs_background": "light"
     },
     "output_type": "display_data"
    }
   ],
   "source": [
    "plt.figure(figsize = (10, 5))\n",
    "sns.violinplot(x=\"Group\", y=\"SYSBP\", data=frmgP1TrimmedCHD, hue = 'ANYCHD')"
   ]
  },
  {
   "cell_type": "code",
   "execution_count": 33,
   "metadata": {},
   "outputs": [
    {
     "data": {
      "text/plain": [
       "<AxesSubplot:xlabel='Group', ylabel='SYSBP'>"
      ]
     },
     "execution_count": 33,
     "metadata": {},
     "output_type": "execute_result"
    },
    {
     "data": {
      "image/png": "[encoded data removed]",
      "text/plain": [
       "<Figure size 720x360 with 1 Axes>"
      ]
     },
     "metadata": {
      "needs_background": "light"
     },
     "output_type": "display_data"
    }
   ],
   "source": [
    "plt.figure(figsize = (10, 5))\n",
    "sns.boxplot(x=\"Group\", y=\"SYSBP\", data=frmgP1TrimmedCHD, hue = \"ANYCHD\")"
   ]
  },
  {
   "cell_type": "markdown",
   "metadata": {},
   "source": [
    "***There seems to be no difference between the groups in terms of systolic blood pressure, however people with any coronary heart disease seem to have higher systolic blood pressure regardless of the group they were assigned to by the algorithm.***"
   ]
  },
  {
   "cell_type": "markdown",
   "metadata": {},
   "source": [
    "### Period 1 (CHD): Investigating Age"
   ]
  },
  {
   "cell_type": "code",
   "execution_count": 34,
   "metadata": {},
   "outputs": [
    {
     "data": {
      "text/plain": [
       "<AxesSubplot:xlabel='Group', ylabel='AGE'>"
      ]
     },
     "execution_count": 34,
     "metadata": {},
     "output_type": "execute_result"
    },
    {
     "data": {
      "image/png": "[encoded data removed]",
      "text/plain": [
       "<Figure size 720x360 with 1 Axes>"
      ]
     },
     "metadata": {
      "needs_background": "light"
     },
     "output_type": "display_data"
    }
   ],
   "source": [
    "plt.figure(figsize = (10, 5))\n",
    "sns.violinplot(x=\"Group\", y=\"AGE\", data=frmgP1TrimmedCHD, hue = \"ANYCHD\", split = True)"
   ]
  },
  {
   "cell_type": "code",
   "execution_count": 35,
   "metadata": {},
   "outputs": [
    {
     "data": {
      "text/plain": [
       "<AxesSubplot:xlabel='Group', ylabel='AGE'>"
      ]
     },
     "execution_count": 35,
     "metadata": {},
     "output_type": "execute_result"
    },
    {
     "data": {
      "image/png": "[encoded data removed]",
      "text/plain": [
       "<Figure size 720x360 with 1 Axes>"
      ]
     },
     "metadata": {
      "needs_background": "light"
     },
     "output_type": "display_data"
    }
   ],
   "source": [
    "plt.figure(figsize = (10, 5))\n",
    "sns.boxplot(x=\"Group\", y=\"AGE\", data=frmgP1TrimmedCHD, hue = \"ANYCHD\")"
   ]
  },
  {
   "cell_type": "markdown",
   "metadata": {},
   "source": [
    "***People with with CHD tend to be older than people without CHD in both groups.***"
   ]
  },
  {
   "cell_type": "markdown",
   "metadata": {},
   "source": [
    "### Period 1 (CHD): Investigating Cigarettes per Day"
   ]
  },
  {
   "cell_type": "code",
   "execution_count": 36,
   "metadata": {},
   "outputs": [
    {
     "data": {
      "text/plain": [
       "<AxesSubplot:xlabel='Group', ylabel='CIGPDAY'>"
      ]
     },
     "execution_count": 36,
     "metadata": {},
     "output_type": "execute_result"
    },
    {
     "data": {
      "image/png": "[encoded data removed]",
      "text/plain": [
       "<Figure size 720x360 with 1 Axes>"
      ]
     },
     "metadata": {
      "needs_background": "light"
     },
     "output_type": "display_data"
    }
   ],
   "source": [
    "plt.figure(figsize = (10, 5))\n",
    "sns.violinplot(x=\"Group\", y=\"CIGPDAY\", data=frmgP1TrimmedCHD, hue = 'ANYCHD')"
   ]
  },
  {
   "cell_type": "code",
   "execution_count": 37,
   "metadata": {},
   "outputs": [
    {
     "data": {
      "text/plain": [
       "<AxesSubplot:xlabel='Group', ylabel='CIGPDAY'>"
      ]
     },
     "execution_count": 37,
     "metadata": {},
     "output_type": "execute_result"
    },
    {
     "data": {
      "image/png": "[encoded data removed]",
      "text/plain": [
       "<Figure size 720x360 with 1 Axes>"
      ]
     },
     "metadata": {
      "needs_background": "light"
     },
     "output_type": "display_data"
    }
   ],
   "source": [
    "plt.figure(figsize = (10, 5))\n",
    "sns.boxplot(x=\"Group\", y=\"CIGPDAY\", data=frmgP1TrimmedCHD, hue = \"ANYCHD\")"
   ]
  },
  {
   "cell_type": "markdown",
   "metadata": {},
   "source": [
    "***Most people who smoke 10 or more cigarettes per day were included in group 0. However, there isn't a significant difference in incidence of CHD between the two groups.***"
   ]
  },
  {
   "cell_type": "markdown",
   "metadata": {},
   "source": [
    "## Perform k-Means Clustering for Period 2"
   ]
  },
  {
   "cell_type": "markdown",
   "metadata": {},
   "source": [
    "### Scale Data"
   ]
  },
  {
   "cell_type": "code",
   "execution_count": 38,
   "metadata": {},
   "outputs": [
    {
     "data": {
      "text/html": [
       "<div>\n",
       "<style scoped>\n",
       "    .dataframe tbody tr th:only-of-type {\n",
       "        vertical-align: middle;\n",
       "    }\n",
       "\n",
       "    .dataframe tbody tr th {\n",
       "        vertical-align: top;\n",
       "    }\n",
       "\n",
       "    .dataframe thead th {\n",
       "        text-align: right;\n",
       "    }\n",
       "</style>\n",
       "<table border=\"1\" class=\"dataframe\">\n",
       "  <thead>\n",
       "    <tr style=\"text-align: right;\">\n",
       "      <th></th>\n",
       "      <th>AGE</th>\n",
       "      <th>SYSBP</th>\n",
       "      <th>DIABP</th>\n",
       "      <th>CURSMOKE</th>\n",
       "      <th>CIGPDAY</th>\n",
       "      <th>TOTCHOL</th>\n",
       "      <th>BMI</th>\n",
       "      <th>GLUCOSE</th>\n",
       "      <th>HEARTRTE</th>\n",
       "    </tr>\n",
       "  </thead>\n",
       "  <tbody>\n",
       "    <tr>\n",
       "      <th>0</th>\n",
       "      <td>-0.389058</td>\n",
       "      <td>-1.408993</td>\n",
       "      <td>-1.269856</td>\n",
       "      <td>-0.883170</td>\n",
       "      <td>-0.682564</td>\n",
       "      <td>0.228697</td>\n",
       "      <td>0.879282</td>\n",
       "      <td>0.181846</td>\n",
       "      <td>0.220747</td>\n",
       "    </tr>\n",
       "    <tr>\n",
       "      <th>1</th>\n",
       "      <td>-0.155305</td>\n",
       "      <td>0.191885</td>\n",
       "      <td>0.439895</td>\n",
       "      <td>1.132285</td>\n",
       "      <td>1.637841</td>\n",
       "      <td>0.734979</td>\n",
       "      <td>-0.126882</td>\n",
       "      <td>0.227184</td>\n",
       "      <td>-0.179019</td>\n",
       "    </tr>\n",
       "    <tr>\n",
       "      <th>2</th>\n",
       "      <td>1.364088</td>\n",
       "      <td>2.059577</td>\n",
       "      <td>2.193485</td>\n",
       "      <td>1.132285</td>\n",
       "      <td>0.864372</td>\n",
       "      <td>-0.387646</td>\n",
       "      <td>1.063787</td>\n",
       "      <td>0.317860</td>\n",
       "      <td>-1.378318</td>\n",
       "    </tr>\n",
       "    <tr>\n",
       "      <th>3</th>\n",
       "      <td>-0.505935</td>\n",
       "      <td>-1.231118</td>\n",
       "      <td>-0.612260</td>\n",
       "      <td>1.132285</td>\n",
       "      <td>1.637841</td>\n",
       "      <td>2.055713</td>\n",
       "      <td>-0.584454</td>\n",
       "      <td>-0.452888</td>\n",
       "      <td>1.020280</td>\n",
       "    </tr>\n",
       "    <tr>\n",
       "      <th>4</th>\n",
       "      <td>-0.739688</td>\n",
       "      <td>1.792764</td>\n",
       "      <td>1.579729</td>\n",
       "      <td>-0.883170</td>\n",
       "      <td>-0.682564</td>\n",
       "      <td>-0.431670</td>\n",
       "      <td>1.354074</td>\n",
       "      <td>0.181846</td>\n",
       "      <td>3.418878</td>\n",
       "    </tr>\n",
       "  </tbody>\n",
       "</table>\n",
       "</div>"
      ],
      "text/plain": [
       "        AGE     SYSBP     DIABP  CURSMOKE   CIGPDAY   TOTCHOL       BMI  \\\n",
       "0 -0.389058 -1.408993 -1.269856 -0.883170 -0.682564  0.228697  0.879282   \n",
       "1 -0.155305  0.191885  0.439895  1.132285  1.637841  0.734979 -0.126882   \n",
       "2  1.364088  2.059577  2.193485  1.132285  0.864372 -0.387646  1.063787   \n",
       "3 -0.505935 -1.231118 -0.612260  1.132285  1.637841  2.055713 -0.584454   \n",
       "4 -0.739688  1.792764  1.579729 -0.883170 -0.682564 -0.431670  1.354074   \n",
       "\n",
       "    GLUCOSE  HEARTRTE  \n",
       "0  0.181846  0.220747  \n",
       "1  0.227184 -0.179019  \n",
       "2  0.317860 -1.378318  \n",
       "3 -0.452888  1.020280  \n",
       "4  0.181846  3.418878  "
      ]
     },
     "execution_count": 38,
     "metadata": {},
     "output_type": "execute_result"
    }
   ],
   "source": [
    "scaler = StandardScaler()\n",
    "scaler.fit(frmgP2TrimmedCHD.drop('ANYCHD',axis=1))\n",
    "scaledVariables = scaler.transform(frmgP2TrimmedCHD.drop('ANYCHD',axis=1))\n",
    "frmgP2ScaledCHD = pd.DataFrame(scaledVariables, columns=frmgP2TrimmedCHD.columns[:-1]) # leaves out predictor variable\n",
    "frmgP2ScaledCHD.head()"
   ]
  },
  {
   "cell_type": "markdown",
   "metadata": {},
   "source": [
    "## Period 2 (CHD): Selecting the number of clusters with silhouette analysis on KMeans clustering\n",
    "Source: [scikit-learn.org/stable/auto_examples/cluster/plot_kmeans_silhouette_analysis](https://scikit-learn.org/stable/auto_examples/cluster/plot_kmeans_silhouette_analysis.html#selecting-the-number-of-clusters-with-silhouette-analysis-on-kmeans-clustering)\n",
    "### Additional Packages"
   ]
  },
  {
   "cell_type": "code",
   "execution_count": 39,
   "metadata": {},
   "outputs": [],
   "source": [
    "from sklearn.metrics import silhouette_samples, silhouette_score\n",
    "import matplotlib.cm as cm"
   ]
  },
  {
   "cell_type": "code",
   "execution_count": 40,
   "metadata": {},
   "outputs": [],
   "source": [
    "range_n_clusters = [2, 3, 4, 5, 6, 7, 8, 9, 10]"
   ]
  },
  {
   "cell_type": "code",
   "execution_count": 41,
   "metadata": {},
   "outputs": [
    {
     "name": "stdout",
     "output_type": "stream",
     "text": [
      "For n_clusters = 2 The average silhouette_score is : 0.2071788058154991\n",
      "For n_clusters = 3 The average silhouette_score is : 0.17773342033863285\n",
      "For n_clusters = 4 The average silhouette_score is : 0.15785191904485205\n",
      "For n_clusters = 5 The average silhouette_score is : 0.14920917195386596\n",
      "For n_clusters = 6 The average silhouette_score is : 0.14511156460751998\n",
      "For n_clusters = 7 The average silhouette_score is : 0.1425302755153621\n",
      "For n_clusters = 8 The average silhouette_score is : 0.14225067989866202\n",
      "For n_clusters = 9 The average silhouette_score is : 0.13934075032038962\n",
      "For n_clusters = 10 The average silhouette_score is : 0.14050849854984382\n"
     ]
    }
   ],
   "source": [
    "for n_clusters in range_n_clusters:\n",
    "    clusterer = KMeans(n_clusters=n_clusters, random_state=10)\n",
    "    cluster_labels = clusterer.fit_predict(frmgP2ScaledCHD)\n",
    "\n",
    "    # The silhouette_score gives the average value for all the samples.\n",
    "    # This gives a perspective into the density and separation of the formed clusters\n",
    "    silhouette_avg = silhouette_score(frmgP2ScaledCHD, cluster_labels)\n",
    "    print(\"For n_clusters =\", n_clusters,\n",
    "          \"The average silhouette_score is :\", silhouette_avg)"
   ]
  },
  {
   "cell_type": "markdown",
   "metadata": {},
   "source": [
    "__*Using the silhouette score to check the optimal number of clusters shows that the optimal number of clusters is 2. <br> [Source: Silhouette Coefficient, Towards Data Science](https://towardsdatascience.com/silhouette-coefficient-validating-clustering-techniques-e976bb81d10c)*__"
   ]
  },
  {
   "cell_type": "markdown",
   "metadata": {},
   "source": [
    "### Period 2 (CHD): Testing 2 clusters"
   ]
  },
  {
   "cell_type": "code",
   "execution_count": 42,
   "metadata": {},
   "outputs": [
    {
     "data": {
      "text/plain": [
       "KMeans(n_clusters=2)"
      ]
     },
     "execution_count": 42,
     "metadata": {},
     "output_type": "execute_result"
    }
   ],
   "source": [
    "kmeans = KMeans(n_clusters=2)\n",
    "kmeans.fit(frmgP2ScaledCHD)"
   ]
  },
  {
   "cell_type": "code",
   "execution_count": 43,
   "metadata": {},
   "outputs": [
    {
     "data": {
      "text/html": [
       "<div>\n",
       "<style scoped>\n",
       "    .dataframe tbody tr th:only-of-type {\n",
       "        vertical-align: middle;\n",
       "    }\n",
       "\n",
       "    .dataframe tbody tr th {\n",
       "        vertical-align: top;\n",
       "    }\n",
       "\n",
       "    .dataframe thead th {\n",
       "        text-align: right;\n",
       "    }\n",
       "</style>\n",
       "<table border=\"1\" class=\"dataframe\">\n",
       "  <thead>\n",
       "    <tr style=\"text-align: right;\">\n",
       "      <th></th>\n",
       "      <th>AGE</th>\n",
       "      <th>SYSBP</th>\n",
       "      <th>DIABP</th>\n",
       "      <th>CURSMOKE</th>\n",
       "      <th>CIGPDAY</th>\n",
       "      <th>TOTCHOL</th>\n",
       "      <th>BMI</th>\n",
       "      <th>GLUCOSE</th>\n",
       "      <th>HEARTRTE</th>\n",
       "      <th>ANYCHD</th>\n",
       "      <th>Group</th>\n",
       "    </tr>\n",
       "  </thead>\n",
       "  <tbody>\n",
       "    <tr>\n",
       "      <th>0</th>\n",
       "      <td>52</td>\n",
       "      <td>105.0</td>\n",
       "      <td>69.5</td>\n",
       "      <td>0</td>\n",
       "      <td>0</td>\n",
       "      <td>260</td>\n",
       "      <td>29.43</td>\n",
       "      <td>86</td>\n",
       "      <td>80</td>\n",
       "      <td>0</td>\n",
       "      <td>1</td>\n",
       "    </tr>\n",
       "    <tr>\n",
       "      <th>1</th>\n",
       "      <td>54</td>\n",
       "      <td>141.0</td>\n",
       "      <td>89.0</td>\n",
       "      <td>1</td>\n",
       "      <td>30</td>\n",
       "      <td>283</td>\n",
       "      <td>25.34</td>\n",
       "      <td>87</td>\n",
       "      <td>75</td>\n",
       "      <td>0</td>\n",
       "      <td>0</td>\n",
       "    </tr>\n",
       "    <tr>\n",
       "      <th>2</th>\n",
       "      <td>67</td>\n",
       "      <td>183.0</td>\n",
       "      <td>109.0</td>\n",
       "      <td>1</td>\n",
       "      <td>20</td>\n",
       "      <td>232</td>\n",
       "      <td>30.18</td>\n",
       "      <td>89</td>\n",
       "      <td>60</td>\n",
       "      <td>0</td>\n",
       "      <td>0</td>\n",
       "    </tr>\n",
       "    <tr>\n",
       "      <th>3</th>\n",
       "      <td>51</td>\n",
       "      <td>109.0</td>\n",
       "      <td>77.0</td>\n",
       "      <td>1</td>\n",
       "      <td>30</td>\n",
       "      <td>343</td>\n",
       "      <td>23.48</td>\n",
       "      <td>72</td>\n",
       "      <td>90</td>\n",
       "      <td>0</td>\n",
       "      <td>0</td>\n",
       "    </tr>\n",
       "    <tr>\n",
       "      <th>4</th>\n",
       "      <td>49</td>\n",
       "      <td>177.0</td>\n",
       "      <td>102.0</td>\n",
       "      <td>0</td>\n",
       "      <td>0</td>\n",
       "      <td>230</td>\n",
       "      <td>31.36</td>\n",
       "      <td>86</td>\n",
       "      <td>120</td>\n",
       "      <td>1</td>\n",
       "      <td>1</td>\n",
       "    </tr>\n",
       "  </tbody>\n",
       "</table>\n",
       "</div>"
      ],
      "text/plain": [
       "   AGE  SYSBP  DIABP  CURSMOKE  CIGPDAY  TOTCHOL    BMI  GLUCOSE  HEARTRTE  \\\n",
       "0   52  105.0   69.5         0        0      260  29.43       86        80   \n",
       "1   54  141.0   89.0         1       30      283  25.34       87        75   \n",
       "2   67  183.0  109.0         1       20      232  30.18       89        60   \n",
       "3   51  109.0   77.0         1       30      343  23.48       72        90   \n",
       "4   49  177.0  102.0         0        0      230  31.36       86       120   \n",
       "\n",
       "   ANYCHD  Group  \n",
       "0       0      1  \n",
       "1       0      0  \n",
       "2       0      0  \n",
       "3       0      0  \n",
       "4       1      1  "
      ]
     },
     "execution_count": 43,
     "metadata": {},
     "output_type": "execute_result"
    }
   ],
   "source": [
    "frmgP2TrimmedCHD['Group'] = kmeans.labels_\n",
    "frmgP2TrimmedCHD.head()"
   ]
  },
  {
   "cell_type": "markdown",
   "metadata": {},
   "source": [
    "### Period 2 (CHD): Investigate Means by Category"
   ]
  },
  {
   "cell_type": "code",
   "execution_count": 44,
   "metadata": {},
   "outputs": [
    {
     "data": {
      "text/html": [
       "<div>\n",
       "<style scoped>\n",
       "    .dataframe tbody tr th:only-of-type {\n",
       "        vertical-align: middle;\n",
       "    }\n",
       "\n",
       "    .dataframe tbody tr th {\n",
       "        vertical-align: top;\n",
       "    }\n",
       "\n",
       "    .dataframe thead th {\n",
       "        text-align: right;\n",
       "    }\n",
       "</style>\n",
       "<table border=\"1\" class=\"dataframe\">\n",
       "  <thead>\n",
       "    <tr style=\"text-align: right;\">\n",
       "      <th></th>\n",
       "      <th>AGE</th>\n",
       "      <th>SYSBP</th>\n",
       "      <th>DIABP</th>\n",
       "      <th>CURSMOKE</th>\n",
       "      <th>CIGPDAY</th>\n",
       "      <th>TOTCHOL</th>\n",
       "      <th>BMI</th>\n",
       "      <th>GLUCOSE</th>\n",
       "      <th>HEARTRTE</th>\n",
       "      <th>ANYCHD</th>\n",
       "    </tr>\n",
       "    <tr>\n",
       "      <th>Group</th>\n",
       "      <th></th>\n",
       "      <th></th>\n",
       "      <th></th>\n",
       "      <th></th>\n",
       "      <th></th>\n",
       "      <th></th>\n",
       "      <th></th>\n",
       "      <th></th>\n",
       "      <th></th>\n",
       "      <th></th>\n",
       "    </tr>\n",
       "  </thead>\n",
       "  <tbody>\n",
       "    <tr>\n",
       "      <th>0</th>\n",
       "      <td>52.804826</td>\n",
       "      <td>132.444287</td>\n",
       "      <td>82.379347</td>\n",
       "      <td>1.000000</td>\n",
       "      <td>20.616749</td>\n",
       "      <td>246.879347</td>\n",
       "      <td>24.962931</td>\n",
       "      <td>80.584812</td>\n",
       "      <td>78.286018</td>\n",
       "      <td>0.268275</td>\n",
       "    </tr>\n",
       "    <tr>\n",
       "      <th>1</th>\n",
       "      <td>57.200526</td>\n",
       "      <td>139.829737</td>\n",
       "      <td>85.172105</td>\n",
       "      <td>0.021579</td>\n",
       "      <td>0.080000</td>\n",
       "      <td>251.635789</td>\n",
       "      <td>26.517879</td>\n",
       "      <td>83.030526</td>\n",
       "      <td>76.462632</td>\n",
       "      <td>0.273158</td>\n",
       "    </tr>\n",
       "  </tbody>\n",
       "</table>\n",
       "</div>"
      ],
      "text/plain": [
       "             AGE       SYSBP      DIABP  CURSMOKE    CIGPDAY     TOTCHOL  \\\n",
       "Group                                                                      \n",
       "0      52.804826  132.444287  82.379347  1.000000  20.616749  246.879347   \n",
       "1      57.200526  139.829737  85.172105  0.021579   0.080000  251.635789   \n",
       "\n",
       "             BMI    GLUCOSE   HEARTRTE    ANYCHD  \n",
       "Group                                             \n",
       "0      24.962931  80.584812  78.286018  0.268275  \n",
       "1      26.517879  83.030526  76.462632  0.273158  "
      ]
     },
     "execution_count": 44,
     "metadata": {},
     "output_type": "execute_result"
    }
   ],
   "source": [
    "frmgP2TrimmedCHD.groupby('Group').mean()"
   ]
  },
  {
   "cell_type": "markdown",
   "metadata": {},
   "source": [
    "***The major differences between the groups are average systolic blood pressure, current smoker, number of cigarettes per day, and age. However, the incidence of CHD seems to be identical for both groups.***"
   ]
  },
  {
   "cell_type": "markdown",
   "metadata": {},
   "source": [
    "### Period 2 (CHD): Investigating Age"
   ]
  },
  {
   "cell_type": "code",
   "execution_count": 45,
   "metadata": {},
   "outputs": [
    {
     "data": {
      "text/plain": [
       "<AxesSubplot:xlabel='Group', ylabel='AGE'>"
      ]
     },
     "execution_count": 45,
     "metadata": {},
     "output_type": "execute_result"
    },
    {
     "data": {
      "image/png": "[encoded data removed]",
      "text/plain": [
       "<Figure size 720x360 with 1 Axes>"
      ]
     },
     "metadata": {
      "needs_background": "light"
     },
     "output_type": "display_data"
    }
   ],
   "source": [
    "plt.figure(figsize = (10, 5))\n",
    "sns.violinplot(x=\"Group\", y=\"AGE\", data=frmgP2TrimmedCHD, hue = \"ANYCHD\", split = True)"
   ]
  },
  {
   "cell_type": "code",
   "execution_count": 46,
   "metadata": {},
   "outputs": [
    {
     "data": {
      "text/plain": [
       "<AxesSubplot:xlabel='Group', ylabel='AGE'>"
      ]
     },
     "execution_count": 46,
     "metadata": {},
     "output_type": "execute_result"
    },
    {
     "data": {
      "image/png": "[encoded data removed]",
      "text/plain": [
       "<Figure size 720x360 with 1 Axes>"
      ]
     },
     "metadata": {
      "needs_background": "light"
     },
     "output_type": "display_data"
    }
   ],
   "source": [
    "plt.figure(figsize = (10, 5))\n",
    "sns.boxplot(x=\"Group\", y=\"AGE\", data=frmgP2TrimmedCHD, hue = \"ANYCHD\")"
   ]
  },
  {
   "cell_type": "markdown",
   "metadata": {},
   "source": [
    "***The people who had any type of coronary heart disease tend to be older***"
   ]
  },
  {
   "cell_type": "markdown",
   "metadata": {},
   "source": [
    "### Period 2 (CHD): Investigating Systolic Blood Pressure"
   ]
  },
  {
   "cell_type": "code",
   "execution_count": 47,
   "metadata": {},
   "outputs": [
    {
     "data": {
      "text/plain": [
       "<AxesSubplot:xlabel='Group', ylabel='SYSBP'>"
      ]
     },
     "execution_count": 47,
     "metadata": {},
     "output_type": "execute_result"
    },
    {
     "data": {
      "image/png": "[encoded data removed]",
      "text/plain": [
       "<Figure size 720x360 with 1 Axes>"
      ]
     },
     "metadata": {
      "needs_background": "light"
     },
     "output_type": "display_data"
    }
   ],
   "source": [
    "plt.figure(figsize = (10, 5))\n",
    "sns.violinplot(x=\"Group\", y=\"SYSBP\", data=frmgP2TrimmedCHD, hue = 'ANYCHD')"
   ]
  },
  {
   "cell_type": "code",
   "execution_count": 48,
   "metadata": {},
   "outputs": [
    {
     "data": {
      "text/plain": [
       "<AxesSubplot:xlabel='Group', ylabel='SYSBP'>"
      ]
     },
     "execution_count": 48,
     "metadata": {},
     "output_type": "execute_result"
    },
    {
     "data": {
      "image/png": "[encoded data removed]",
      "text/plain": [
       "<Figure size 720x360 with 1 Axes>"
      ]
     },
     "metadata": {
      "needs_background": "light"
     },
     "output_type": "display_data"
    }
   ],
   "source": [
    "plt.figure(figsize = (10, 5))\n",
    "sns.boxplot(x=\"Group\", y=\"SYSBP\", data=frmgP2TrimmedCHD, hue = \"ANYCHD\")"
   ]
  },
  {
   "cell_type": "markdown",
   "metadata": {},
   "source": [
    "***There seems to be no difference between the groups in terms of systolic blood pressure, however people with any coronary heart disease seem to have higher systolic blood pressure regardless of the group they were assigned to by the algorithm.***"
   ]
  },
  {
   "cell_type": "markdown",
   "metadata": {},
   "source": [
    "### Period 2 (CHD): Investigating Cigarettes per Day"
   ]
  },
  {
   "cell_type": "code",
   "execution_count": 49,
   "metadata": {},
   "outputs": [
    {
     "data": {
      "text/plain": [
       "<AxesSubplot:xlabel='Group', ylabel='CIGPDAY'>"
      ]
     },
     "execution_count": 49,
     "metadata": {},
     "output_type": "execute_result"
    },
    {
     "data": {
      "image/png": "[encoded data removed]",
      "text/plain": [
       "<Figure size 720x360 with 1 Axes>"
      ]
     },
     "metadata": {
      "needs_background": "light"
     },
     "output_type": "display_data"
    }
   ],
   "source": [
    "plt.figure(figsize = (10, 5))\n",
    "sns.violinplot(x=\"Group\", y=\"CIGPDAY\", data=frmgP2TrimmedCHD, hue = 'ANYCHD')"
   ]
  },
  {
   "cell_type": "code",
   "execution_count": 50,
   "metadata": {},
   "outputs": [
    {
     "data": {
      "text/plain": [
       "<AxesSubplot:xlabel='Group', ylabel='CIGPDAY'>"
      ]
     },
     "execution_count": 50,
     "metadata": {},
     "output_type": "execute_result"
    },
    {
     "data": {
      "image/png": "[encoded data removed]",
      "text/plain": [
       "<Figure size 720x360 with 1 Axes>"
      ]
     },
     "metadata": {
      "needs_background": "light"
     },
     "output_type": "display_data"
    }
   ],
   "source": [
    "plt.figure(figsize = (10, 5))\n",
    "sns.boxplot(x=\"Group\", y=\"CIGPDAY\", data=frmgP2TrimmedCHD, hue = \"ANYCHD\")"
   ]
  },
  {
   "cell_type": "markdown",
   "metadata": {},
   "source": [
    "***People in group 0 seem to smoke more cigarettes per day than people in group 1.***"
   ]
  },
  {
   "cell_type": "markdown",
   "metadata": {},
   "source": [
    "## Perform k-Means Clustering for Period 3"
   ]
  },
  {
   "cell_type": "markdown",
   "metadata": {},
   "source": [
    "### Scale Data"
   ]
  },
  {
   "cell_type": "code",
   "execution_count": 51,
   "metadata": {},
   "outputs": [
    {
     "data": {
      "text/html": [
       "<div>\n",
       "<style scoped>\n",
       "    .dataframe tbody tr th:only-of-type {\n",
       "        vertical-align: middle;\n",
       "    }\n",
       "\n",
       "    .dataframe tbody tr th {\n",
       "        vertical-align: top;\n",
       "    }\n",
       "\n",
       "    .dataframe thead th {\n",
       "        text-align: right;\n",
       "    }\n",
       "</style>\n",
       "<table border=\"1\" class=\"dataframe\">\n",
       "  <thead>\n",
       "    <tr style=\"text-align: right;\">\n",
       "      <th></th>\n",
       "      <th>AGE</th>\n",
       "      <th>SYSBP</th>\n",
       "      <th>DIABP</th>\n",
       "      <th>CURSMOKE</th>\n",
       "      <th>CIGPDAY</th>\n",
       "      <th>TOTCHOL</th>\n",
       "      <th>BMI</th>\n",
       "      <th>GLUCOSE</th>\n",
       "      <th>HEARTRTE</th>\n",
       "    </tr>\n",
       "  </thead>\n",
       "  <tbody>\n",
       "    <tr>\n",
       "      <th>0</th>\n",
       "      <td>-0.268097</td>\n",
       "      <td>-1.395398</td>\n",
       "      <td>-1.330160</td>\n",
       "      <td>-0.730236</td>\n",
       "      <td>-0.589921</td>\n",
       "      <td>-0.016812</td>\n",
       "      <td>0.698759</td>\n",
       "      <td>-0.620642</td>\n",
       "      <td>0.192369</td>\n",
       "    </tr>\n",
       "    <tr>\n",
       "      <th>1</th>\n",
       "      <td>-0.629002</td>\n",
       "      <td>1.821608</td>\n",
       "      <td>2.201516</td>\n",
       "      <td>-0.730236</td>\n",
       "      <td>-0.589921</td>\n",
       "      <td>-0.393216</td>\n",
       "      <td>1.383784</td>\n",
       "      <td>-0.277181</td>\n",
       "      <td>0.674897</td>\n",
       "    </tr>\n",
       "    <tr>\n",
       "      <th>2</th>\n",
       "      <td>-0.388398</td>\n",
       "      <td>-1.306037</td>\n",
       "      <td>-3.095999</td>\n",
       "      <td>1.369420</td>\n",
       "      <td>1.997623</td>\n",
       "      <td>1.820924</td>\n",
       "      <td>-0.963774</td>\n",
       "      <td>-0.071105</td>\n",
       "      <td>-0.209737</td>\n",
       "    </tr>\n",
       "    <tr>\n",
       "      <th>3</th>\n",
       "      <td>0.453714</td>\n",
       "      <td>1.285440</td>\n",
       "      <td>1.671765</td>\n",
       "      <td>-0.730236</td>\n",
       "      <td>-0.589921</td>\n",
       "      <td>0.935268</td>\n",
       "      <td>-0.014488</td>\n",
       "      <td>-0.242835</td>\n",
       "      <td>1.157424</td>\n",
       "    </tr>\n",
       "    <tr>\n",
       "      <th>4</th>\n",
       "      <td>-0.629002</td>\n",
       "      <td>1.508844</td>\n",
       "      <td>3.702479</td>\n",
       "      <td>-0.730236</td>\n",
       "      <td>-0.589921</td>\n",
       "      <td>-0.592489</td>\n",
       "      <td>0.855263</td>\n",
       "      <td>-0.139797</td>\n",
       "      <td>-0.209737</td>\n",
       "    </tr>\n",
       "  </tbody>\n",
       "</table>\n",
       "</div>"
      ],
      "text/plain": [
       "        AGE     SYSBP     DIABP  CURSMOKE   CIGPDAY   TOTCHOL       BMI  \\\n",
       "0 -0.268097 -1.395398 -1.330160 -0.730236 -0.589921 -0.016812  0.698759   \n",
       "1 -0.629002  1.821608  2.201516 -0.730236 -0.589921 -0.393216  1.383784   \n",
       "2 -0.388398 -1.306037 -3.095999  1.369420  1.997623  1.820924 -0.963774   \n",
       "3  0.453714  1.285440  1.671765 -0.730236 -0.589921  0.935268 -0.014488   \n",
       "4 -0.629002  1.508844  3.702479 -0.730236 -0.589921 -0.592489  0.855263   \n",
       "\n",
       "    GLUCOSE  HEARTRTE  \n",
       "0 -0.620642  0.192369  \n",
       "1 -0.277181  0.674897  \n",
       "2 -0.071105 -0.209737  \n",
       "3 -0.242835  1.157424  \n",
       "4 -0.139797 -0.209737  "
      ]
     },
     "execution_count": 51,
     "metadata": {},
     "output_type": "execute_result"
    }
   ],
   "source": [
    "scaler = StandardScaler()\n",
    "scaler.fit(frmgP3TrimmedCHD.drop('ANYCHD',axis=1))\n",
    "scaledVariables = scaler.transform(frmgP3TrimmedCHD.drop('ANYCHD',axis=1))\n",
    "frmgP3ScaledCHD = pd.DataFrame(scaledVariables, columns=frmgP3TrimmedCHD.columns[:-1]) # leaves out predictor variable\n",
    "frmgP3ScaledCHD.head()"
   ]
  },
  {
   "cell_type": "markdown",
   "metadata": {},
   "source": [
    "## Period 3 (CHD): Selecting the number of clusters with silhouette analysis on KMeans clustering\n",
    "Source: [scikit-learn.org/stable/auto_examples/cluster/plot_kmeans_silhouette_analysis](https://scikit-learn.org/stable/auto_examples/cluster/plot_kmeans_silhouette_analysis.html#selecting-the-number-of-clusters-with-silhouette-analysis-on-kmeans-clustering)\n",
    "### Additional Packages"
   ]
  },
  {
   "cell_type": "code",
   "execution_count": 52,
   "metadata": {},
   "outputs": [],
   "source": [
    "from sklearn.metrics import silhouette_samples, silhouette_score\n",
    "import matplotlib.cm as cm"
   ]
  },
  {
   "cell_type": "code",
   "execution_count": 53,
   "metadata": {},
   "outputs": [],
   "source": [
    "range_n_clusters = [2, 3, 4, 5, 6, 7, 8, 9, 10]"
   ]
  },
  {
   "cell_type": "code",
   "execution_count": 54,
   "metadata": {},
   "outputs": [
    {
     "name": "stdout",
     "output_type": "stream",
     "text": [
      "For n_clusters = 2 The average silhouette_score is : 0.2255512554806824\n",
      "For n_clusters = 3 The average silhouette_score is : 0.18781698650950207\n",
      "For n_clusters = 4 The average silhouette_score is : 0.18015868720900408\n",
      "For n_clusters = 5 The average silhouette_score is : 0.15446928531747572\n",
      "For n_clusters = 6 The average silhouette_score is : 0.1466824070775967\n",
      "For n_clusters = 7 The average silhouette_score is : 0.1385383452282311\n",
      "For n_clusters = 8 The average silhouette_score is : 0.1303155792122536\n",
      "For n_clusters = 9 The average silhouette_score is : 0.1337404033271728\n",
      "For n_clusters = 10 The average silhouette_score is : 0.12892675630354927\n"
     ]
    }
   ],
   "source": [
    "for n_clusters in range_n_clusters:\n",
    "    clusterer = KMeans(n_clusters=n_clusters, random_state=10)\n",
    "    cluster_labels = clusterer.fit_predict(frmgP3ScaledCHD)\n",
    "\n",
    "    # The silhouette_score gives the average value for all the samples.\n",
    "    # This gives a perspective into the density and separation of the formed clusters\n",
    "    silhouette_avg = silhouette_score(frmgP3ScaledCHD, cluster_labels)\n",
    "    print(\"For n_clusters =\", n_clusters,\n",
    "          \"The average silhouette_score is :\", silhouette_avg)"
   ]
  },
  {
   "cell_type": "markdown",
   "metadata": {},
   "source": [
    "__*Using the silhouette score to check the optimal number of clusters shows that the optimal number of clusters is 2. <br> [Source: Silhouette Coefficient, Towards Data Science](https://towardsdatascience.com/silhouette-coefficient-validating-clustering-techniques-e976bb81d10c)*__"
   ]
  },
  {
   "cell_type": "markdown",
   "metadata": {},
   "source": [
    "### Period 3 (CHD): Testing 2 clusters"
   ]
  },
  {
   "cell_type": "code",
   "execution_count": 55,
   "metadata": {},
   "outputs": [
    {
     "data": {
      "text/plain": [
       "KMeans(n_clusters=2)"
      ]
     },
     "execution_count": 55,
     "metadata": {},
     "output_type": "execute_result"
    }
   ],
   "source": [
    "kmeans = KMeans(n_clusters=2)\n",
    "kmeans.fit(frmgP3ScaledCHD)"
   ]
  },
  {
   "cell_type": "code",
   "execution_count": 56,
   "metadata": {},
   "outputs": [
    {
     "data": {
      "text/html": [
       "<div>\n",
       "<style scoped>\n",
       "    .dataframe tbody tr th:only-of-type {\n",
       "        vertical-align: middle;\n",
       "    }\n",
       "\n",
       "    .dataframe tbody tr th {\n",
       "        vertical-align: top;\n",
       "    }\n",
       "\n",
       "    .dataframe thead th {\n",
       "        text-align: right;\n",
       "    }\n",
       "</style>\n",
       "<table border=\"1\" class=\"dataframe\">\n",
       "  <thead>\n",
       "    <tr style=\"text-align: right;\">\n",
       "      <th></th>\n",
       "      <th>AGE</th>\n",
       "      <th>SYSBP</th>\n",
       "      <th>DIABP</th>\n",
       "      <th>CURSMOKE</th>\n",
       "      <th>CIGPDAY</th>\n",
       "      <th>TOTCHOL</th>\n",
       "      <th>BMI</th>\n",
       "      <th>GLUCOSE</th>\n",
       "      <th>HEARTRTE</th>\n",
       "      <th>ANYCHD</th>\n",
       "      <th>Group</th>\n",
       "    </tr>\n",
       "  </thead>\n",
       "  <tbody>\n",
       "    <tr>\n",
       "      <th>0</th>\n",
       "      <td>58</td>\n",
       "      <td>108.0</td>\n",
       "      <td>66.0</td>\n",
       "      <td>0</td>\n",
       "      <td>0</td>\n",
       "      <td>237</td>\n",
       "      <td>28.50</td>\n",
       "      <td>71</td>\n",
       "      <td>80</td>\n",
       "      <td>0</td>\n",
       "      <td>1</td>\n",
       "    </tr>\n",
       "    <tr>\n",
       "      <th>1</th>\n",
       "      <td>55</td>\n",
       "      <td>180.0</td>\n",
       "      <td>106.0</td>\n",
       "      <td>0</td>\n",
       "      <td>0</td>\n",
       "      <td>220</td>\n",
       "      <td>31.17</td>\n",
       "      <td>81</td>\n",
       "      <td>86</td>\n",
       "      <td>1</td>\n",
       "      <td>1</td>\n",
       "    </tr>\n",
       "    <tr>\n",
       "      <th>2</th>\n",
       "      <td>57</td>\n",
       "      <td>110.0</td>\n",
       "      <td>46.0</td>\n",
       "      <td>1</td>\n",
       "      <td>30</td>\n",
       "      <td>320</td>\n",
       "      <td>22.02</td>\n",
       "      <td>87</td>\n",
       "      <td>75</td>\n",
       "      <td>0</td>\n",
       "      <td>0</td>\n",
       "    </tr>\n",
       "    <tr>\n",
       "      <th>3</th>\n",
       "      <td>64</td>\n",
       "      <td>168.0</td>\n",
       "      <td>100.0</td>\n",
       "      <td>0</td>\n",
       "      <td>0</td>\n",
       "      <td>280</td>\n",
       "      <td>25.72</td>\n",
       "      <td>82</td>\n",
       "      <td>92</td>\n",
       "      <td>0</td>\n",
       "      <td>1</td>\n",
       "    </tr>\n",
       "    <tr>\n",
       "      <th>4</th>\n",
       "      <td>55</td>\n",
       "      <td>173.0</td>\n",
       "      <td>123.0</td>\n",
       "      <td>0</td>\n",
       "      <td>0</td>\n",
       "      <td>211</td>\n",
       "      <td>29.11</td>\n",
       "      <td>85</td>\n",
       "      <td>75</td>\n",
       "      <td>0</td>\n",
       "      <td>1</td>\n",
       "    </tr>\n",
       "  </tbody>\n",
       "</table>\n",
       "</div>"
      ],
      "text/plain": [
       "   AGE  SYSBP  DIABP  CURSMOKE  CIGPDAY  TOTCHOL    BMI  GLUCOSE  HEARTRTE  \\\n",
       "0   58  108.0   66.0         0        0      237  28.50       71        80   \n",
       "1   55  180.0  106.0         0        0      220  31.17       81        86   \n",
       "2   57  110.0   46.0         1       30      320  22.02       87        75   \n",
       "3   64  168.0  100.0         0        0      280  25.72       82        92   \n",
       "4   55  173.0  123.0         0        0      211  29.11       85        75   \n",
       "\n",
       "   ANYCHD  Group  \n",
       "0       0      1  \n",
       "1       1      1  \n",
       "2       0      0  \n",
       "3       0      1  \n",
       "4       0      1  "
      ]
     },
     "execution_count": 56,
     "metadata": {},
     "output_type": "execute_result"
    }
   ],
   "source": [
    "frmgP3TrimmedCHD['Group'] = kmeans.labels_\n",
    "frmgP3TrimmedCHD.head()"
   ]
  },
  {
   "cell_type": "markdown",
   "metadata": {},
   "source": [
    "### Period 3 (CHD): Investigate Means by Category"
   ]
  },
  {
   "cell_type": "code",
   "execution_count": 57,
   "metadata": {},
   "outputs": [
    {
     "data": {
      "text/html": [
       "<div>\n",
       "<style scoped>\n",
       "    .dataframe tbody tr th:only-of-type {\n",
       "        vertical-align: middle;\n",
       "    }\n",
       "\n",
       "    .dataframe tbody tr th {\n",
       "        vertical-align: top;\n",
       "    }\n",
       "\n",
       "    .dataframe thead th {\n",
       "        text-align: right;\n",
       "    }\n",
       "</style>\n",
       "<table border=\"1\" class=\"dataframe\">\n",
       "  <thead>\n",
       "    <tr style=\"text-align: right;\">\n",
       "      <th></th>\n",
       "      <th>AGE</th>\n",
       "      <th>SYSBP</th>\n",
       "      <th>DIABP</th>\n",
       "      <th>CURSMOKE</th>\n",
       "      <th>CIGPDAY</th>\n",
       "      <th>TOTCHOL</th>\n",
       "      <th>BMI</th>\n",
       "      <th>GLUCOSE</th>\n",
       "      <th>HEARTRTE</th>\n",
       "      <th>ANYCHD</th>\n",
       "    </tr>\n",
       "    <tr>\n",
       "      <th>Group</th>\n",
       "      <th></th>\n",
       "      <th></th>\n",
       "      <th></th>\n",
       "      <th></th>\n",
       "      <th></th>\n",
       "      <th></th>\n",
       "      <th></th>\n",
       "      <th></th>\n",
       "      <th></th>\n",
       "      <th></th>\n",
       "    </tr>\n",
       "  </thead>\n",
       "  <tbody>\n",
       "    <tr>\n",
       "      <th>0</th>\n",
       "      <td>57.184576</td>\n",
       "      <td>134.206068</td>\n",
       "      <td>80.196587</td>\n",
       "      <td>1.000000</td>\n",
       "      <td>19.892541</td>\n",
       "      <td>233.407080</td>\n",
       "      <td>24.945942</td>\n",
       "      <td>86.639697</td>\n",
       "      <td>78.303413</td>\n",
       "      <td>0.235145</td>\n",
       "    </tr>\n",
       "    <tr>\n",
       "      <th>1</th>\n",
       "      <td>61.817822</td>\n",
       "      <td>141.853795</td>\n",
       "      <td>81.519142</td>\n",
       "      <td>0.007261</td>\n",
       "      <td>0.024422</td>\n",
       "      <td>240.031683</td>\n",
       "      <td>26.210099</td>\n",
       "      <td>90.339274</td>\n",
       "      <td>77.244884</td>\n",
       "      <td>0.267987</td>\n",
       "    </tr>\n",
       "  </tbody>\n",
       "</table>\n",
       "</div>"
      ],
      "text/plain": [
       "             AGE       SYSBP      DIABP  CURSMOKE    CIGPDAY     TOTCHOL  \\\n",
       "Group                                                                      \n",
       "0      57.184576  134.206068  80.196587  1.000000  19.892541  233.407080   \n",
       "1      61.817822  141.853795  81.519142  0.007261   0.024422  240.031683   \n",
       "\n",
       "             BMI    GLUCOSE   HEARTRTE    ANYCHD  \n",
       "Group                                             \n",
       "0      24.945942  86.639697  78.303413  0.235145  \n",
       "1      26.210099  90.339274  77.244884  0.267987  "
      ]
     },
     "execution_count": 57,
     "metadata": {},
     "output_type": "execute_result"
    }
   ],
   "source": [
    "frmgP3TrimmedCHD.groupby('Group').mean()"
   ]
  },
  {
   "cell_type": "markdown",
   "metadata": {},
   "source": [
    "***The major differences between the groups are average age, systolic blood pressure, current smoker, cigarettes per day. The incidence of CHD varies about 3% between the two groups.***"
   ]
  },
  {
   "cell_type": "markdown",
   "metadata": {},
   "source": [
    "### Period 3 (CHD): Investigating Age"
   ]
  },
  {
   "cell_type": "code",
   "execution_count": 58,
   "metadata": {},
   "outputs": [
    {
     "data": {
      "text/plain": [
       "<AxesSubplot:xlabel='Group', ylabel='AGE'>"
      ]
     },
     "execution_count": 58,
     "metadata": {},
     "output_type": "execute_result"
    },
    {
     "data": {
      "image/png": "[encoded data removed]",
      "text/plain": [
       "<Figure size 720x360 with 1 Axes>"
      ]
     },
     "metadata": {
      "needs_background": "light"
     },
     "output_type": "display_data"
    }
   ],
   "source": [
    "plt.figure(figsize = (10, 5))\n",
    "sns.violinplot(x=\"Group\", y=\"AGE\", data=frmgP3TrimmedCHD, hue = 'ANYCHD')"
   ]
  },
  {
   "cell_type": "code",
   "execution_count": 59,
   "metadata": {},
   "outputs": [
    {
     "data": {
      "text/plain": [
       "<AxesSubplot:xlabel='Group', ylabel='AGE'>"
      ]
     },
     "execution_count": 59,
     "metadata": {},
     "output_type": "execute_result"
    },
    {
     "data": {
      "image/png": "[encoded data removed]",
      "text/plain": [
       "<Figure size 720x360 with 1 Axes>"
      ]
     },
     "metadata": {
      "needs_background": "light"
     },
     "output_type": "display_data"
    }
   ],
   "source": [
    "plt.figure(figsize = (10, 5))\n",
    "sns.boxplot(x=\"Group\", y=\"AGE\", data=frmgP3TrimmedCHD, hue = \"ANYCHD\")"
   ]
  },
  {
   "cell_type": "markdown",
   "metadata": {},
   "source": [
    "***The individuals with CHD seem to older regardless of the group they were assigned to.***"
   ]
  },
  {
   "cell_type": "markdown",
   "metadata": {},
   "source": [
    "### Period 3 (CHD): Investigating Systolic Blood Pressure"
   ]
  },
  {
   "cell_type": "code",
   "execution_count": 60,
   "metadata": {},
   "outputs": [
    {
     "data": {
      "text/plain": [
       "<AxesSubplot:xlabel='Group', ylabel='SYSBP'>"
      ]
     },
     "execution_count": 60,
     "metadata": {},
     "output_type": "execute_result"
    },
    {
     "data": {
      "image/png": "[encoded data removed]",
      "text/plain": [
       "<Figure size 720x360 with 1 Axes>"
      ]
     },
     "metadata": {
      "needs_background": "light"
     },
     "output_type": "display_data"
    }
   ],
   "source": [
    "plt.figure(figsize = (10, 5))\n",
    "sns.violinplot(x=\"Group\", y=\"SYSBP\", data=frmgP3TrimmedCHD, hue = 'ANYCHD')"
   ]
  },
  {
   "cell_type": "code",
   "execution_count": 61,
   "metadata": {},
   "outputs": [
    {
     "data": {
      "text/plain": [
       "<AxesSubplot:xlabel='Group', ylabel='SYSBP'>"
      ]
     },
     "execution_count": 61,
     "metadata": {},
     "output_type": "execute_result"
    },
    {
     "data": {
      "image/png": "[encoded data removed]",
      "text/plain": [
       "<Figure size 720x360 with 1 Axes>"
      ]
     },
     "metadata": {
      "needs_background": "light"
     },
     "output_type": "display_data"
    }
   ],
   "source": [
    "plt.figure(figsize = (10, 5))\n",
    "sns.boxplot(x=\"Group\", y=\"SYSBP\", data=frmgP3TrimmedCHD, hue = \"ANYCHD\")"
   ]
  },
  {
   "cell_type": "markdown",
   "metadata": {},
   "source": [
    "***There seems to be little difference between the systolic blood pressure between the groups, however the people with CHD seem to have a higher systolic blood pressure.***"
   ]
  },
  {
   "cell_type": "markdown",
   "metadata": {},
   "source": [
    "### Period 3 (CHD): Investigating Cigarettes per Day"
   ]
  },
  {
   "cell_type": "code",
   "execution_count": 62,
   "metadata": {},
   "outputs": [
    {
     "data": {
      "text/plain": [
       "<AxesSubplot:xlabel='Group', ylabel='CIGPDAY'>"
      ]
     },
     "execution_count": 62,
     "metadata": {},
     "output_type": "execute_result"
    },
    {
     "data": {
      "image/png": "[encoded data removed]",
      "text/plain": [
       "<Figure size 720x360 with 1 Axes>"
      ]
     },
     "metadata": {
      "needs_background": "light"
     },
     "output_type": "display_data"
    }
   ],
   "source": [
    "plt.figure(figsize = (10, 5))\n",
    "sns.violinplot(x=\"Group\", y=\"CIGPDAY\", data=frmgP3TrimmedCHD, hue = 'ANYCHD')"
   ]
  },
  {
   "cell_type": "code",
   "execution_count": 63,
   "metadata": {},
   "outputs": [
    {
     "data": {
      "text/plain": [
       "<AxesSubplot:xlabel='Group', ylabel='CIGPDAY'>"
      ]
     },
     "execution_count": 63,
     "metadata": {},
     "output_type": "execute_result"
    },
    {
     "data": {
      "image/png": "[encoded data removed]",
      "text/plain": [
       "<Figure size 720x360 with 1 Axes>"
      ]
     },
     "metadata": {
      "needs_background": "light"
     },
     "output_type": "display_data"
    }
   ],
   "source": [
    "plt.figure(figsize = (10, 5))\n",
    "sns.boxplot(x=\"Group\", y=\"CIGPDAY\", data=frmgP3TrimmedCHD, hue = \"ANYCHD\")"
   ]
  },
  {
   "cell_type": "markdown",
   "metadata": {},
   "source": [
    "***Group 1 smokes on average 20 cigarettes per day, while group 0 seems to include mostly nonsmokers with some that smoke less than 10 cigarettes per day.***"
   ]
  },
  {
   "cell_type": "markdown",
   "metadata": {},
   "source": [
    "# Death\n",
    "---"
   ]
  },
  {
   "cell_type": "markdown",
   "metadata": {},
   "source": [
    "## Perform k-Means Clustering for Period 1"
   ]
  },
  {
   "cell_type": "markdown",
   "metadata": {},
   "source": [
    "### Scale Data"
   ]
  },
  {
   "cell_type": "code",
   "execution_count": 64,
   "metadata": {},
   "outputs": [
    {
     "data": {
      "text/html": [
       "<div>\n",
       "<style scoped>\n",
       "    .dataframe tbody tr th:only-of-type {\n",
       "        vertical-align: middle;\n",
       "    }\n",
       "\n",
       "    .dataframe tbody tr th {\n",
       "        vertical-align: top;\n",
       "    }\n",
       "\n",
       "    .dataframe thead th {\n",
       "        text-align: right;\n",
       "    }\n",
       "</style>\n",
       "<table border=\"1\" class=\"dataframe\">\n",
       "  <thead>\n",
       "    <tr style=\"text-align: right;\">\n",
       "      <th></th>\n",
       "      <th>AGE</th>\n",
       "      <th>SYSBP</th>\n",
       "      <th>DIABP</th>\n",
       "      <th>CURSMOKE</th>\n",
       "      <th>CIGPDAY</th>\n",
       "      <th>TOTCHOL</th>\n",
       "      <th>BMI</th>\n",
       "      <th>HEARTRTE</th>\n",
       "      <th>ANYCHD</th>\n",
       "      <th>STROKE</th>\n",
       "    </tr>\n",
       "  </thead>\n",
       "  <tbody>\n",
       "    <tr>\n",
       "      <th>0</th>\n",
       "      <td>-1.259069</td>\n",
       "      <td>-1.202072</td>\n",
       "      <td>-1.087855</td>\n",
       "      <td>-0.972618</td>\n",
       "      <td>-0.751371</td>\n",
       "      <td>-0.944321</td>\n",
       "      <td>0.273900</td>\n",
       "      <td>0.353756</td>\n",
       "      <td>1.602110</td>\n",
       "      <td>-0.322522</td>\n",
       "    </tr>\n",
       "    <tr>\n",
       "      <th>1</th>\n",
       "      <td>-0.452653</td>\n",
       "      <td>-0.532954</td>\n",
       "      <td>-0.176555</td>\n",
       "      <td>-0.972618</td>\n",
       "      <td>-0.751371</td>\n",
       "      <td>0.286232</td>\n",
       "      <td>0.705156</td>\n",
       "      <td>1.598560</td>\n",
       "      <td>-0.624177</td>\n",
       "      <td>-0.322522</td>\n",
       "    </tr>\n",
       "    <tr>\n",
       "      <th>2</th>\n",
       "      <td>-0.222249</td>\n",
       "      <td>-0.243003</td>\n",
       "      <td>-0.259401</td>\n",
       "      <td>1.028153</td>\n",
       "      <td>0.923032</td>\n",
       "      <td>0.174363</td>\n",
       "      <td>-0.125502</td>\n",
       "      <td>-0.061178</td>\n",
       "      <td>-0.624177</td>\n",
       "      <td>-0.322522</td>\n",
       "    </tr>\n",
       "    <tr>\n",
       "      <th>3</th>\n",
       "      <td>1.275379</td>\n",
       "      <td>0.760673</td>\n",
       "      <td>0.983280</td>\n",
       "      <td>1.028153</td>\n",
       "      <td>1.760234</td>\n",
       "      <td>-0.273111</td>\n",
       "      <td>0.668401</td>\n",
       "      <td>-0.891048</td>\n",
       "      <td>-0.624177</td>\n",
       "      <td>3.100567</td>\n",
       "    </tr>\n",
       "    <tr>\n",
       "      <th>4</th>\n",
       "      <td>-0.452653</td>\n",
       "      <td>-0.131483</td>\n",
       "      <td>0.071981</td>\n",
       "      <td>1.028153</td>\n",
       "      <td>1.174193</td>\n",
       "      <td>1.069311</td>\n",
       "      <td>-0.674374</td>\n",
       "      <td>0.768691</td>\n",
       "      <td>-0.624177</td>\n",
       "      <td>-0.322522</td>\n",
       "    </tr>\n",
       "  </tbody>\n",
       "</table>\n",
       "</div>"
      ],
      "text/plain": [
       "        AGE     SYSBP     DIABP  CURSMOKE   CIGPDAY   TOTCHOL       BMI  \\\n",
       "0 -1.259069 -1.202072 -1.087855 -0.972618 -0.751371 -0.944321  0.273900   \n",
       "1 -0.452653 -0.532954 -0.176555 -0.972618 -0.751371  0.286232  0.705156   \n",
       "2 -0.222249 -0.243003 -0.259401  1.028153  0.923032  0.174363 -0.125502   \n",
       "3  1.275379  0.760673  0.983280  1.028153  1.760234 -0.273111  0.668401   \n",
       "4 -0.452653 -0.131483  0.071981  1.028153  1.174193  1.069311 -0.674374   \n",
       "\n",
       "   HEARTRTE    ANYCHD    STROKE  \n",
       "0  0.353756  1.602110 -0.322522  \n",
       "1  1.598560 -0.624177 -0.322522  \n",
       "2 -0.061178 -0.624177 -0.322522  \n",
       "3 -0.891048 -0.624177  3.100567  \n",
       "4  0.768691 -0.624177 -0.322522  "
      ]
     },
     "execution_count": 64,
     "metadata": {},
     "output_type": "execute_result"
    }
   ],
   "source": [
    "scaler = StandardScaler()\n",
    "scaler.fit(frmgP1TrimmedDTH.drop('DEATH',axis=1))\n",
    "scaledVariables = scaler.transform(frmgP1TrimmedDTH.drop('DEATH',axis=1))\n",
    "frmgP1ScaledDTH = pd.DataFrame(scaledVariables, columns=frmgP1TrimmedDTH.columns[:-1]) # leaves out predictor variable\n",
    "frmgP1ScaledDTH.head()"
   ]
  },
  {
   "cell_type": "markdown",
   "metadata": {},
   "source": [
    "## Period 1 (DEATH): Selecting the number of clusters with silhouette analysis on KMeans clustering\n",
    "Source: [scikit-learn.org/stable/auto_examples/cluster/plot_kmeans_silhouette_analysis](https://scikit-learn.org/stable/auto_examples/cluster/plot_kmeans_silhouette_analysis.html#selecting-the-number-of-clusters-with-silhouette-analysis-on-kmeans-clustering)\n",
    "### Additional Packages"
   ]
  },
  {
   "cell_type": "code",
   "execution_count": 65,
   "metadata": {},
   "outputs": [],
   "source": [
    "from sklearn.metrics import silhouette_samples, silhouette_score\n",
    "import matplotlib.cm as cm"
   ]
  },
  {
   "cell_type": "code",
   "execution_count": 66,
   "metadata": {},
   "outputs": [],
   "source": [
    "range_n_clusters = [2, 3, 4, 5, 6, 7, 8, 9, 10]"
   ]
  },
  {
   "cell_type": "code",
   "execution_count": 67,
   "metadata": {},
   "outputs": [
    {
     "name": "stdout",
     "output_type": "stream",
     "text": [
      "For n_clusters = 2 The average silhouette_score is : 0.16772542445577313\n",
      "For n_clusters = 3 The average silhouette_score is : 0.1693208742378608\n",
      "For n_clusters = 4 The average silhouette_score is : 0.18038885246897854\n",
      "For n_clusters = 5 The average silhouette_score is : 0.16234699284927337\n",
      "For n_clusters = 6 The average silhouette_score is : 0.18377773515683418\n",
      "For n_clusters = 7 The average silhouette_score is : 0.1474481025878206\n",
      "For n_clusters = 8 The average silhouette_score is : 0.15019127553054606\n",
      "For n_clusters = 9 The average silhouette_score is : 0.14611460335422313\n",
      "For n_clusters = 10 The average silhouette_score is : 0.15153331170532458\n"
     ]
    }
   ],
   "source": [
    "for n_clusters in range_n_clusters:\n",
    "    clusterer = KMeans(n_clusters=n_clusters, random_state=10)\n",
    "    cluster_labels = clusterer.fit_predict(frmgP1ScaledDTH)\n",
    "\n",
    "    # The silhouette_score gives the average value for all the samples.\n",
    "    # This gives a perspective into the density and separation of the formed clusters\n",
    "    silhouette_avg = silhouette_score(frmgP1ScaledDTH, cluster_labels)\n",
    "    print(\"For n_clusters =\", n_clusters,\n",
    "          \"The average silhouette_score is :\", silhouette_avg)"
   ]
  },
  {
   "cell_type": "markdown",
   "metadata": {},
   "source": [
    "__*Using the silhouette score to check the optimal number of clusters shows that the optimal number of clusters is 4. <br> [Source: Silhouette Coefficient, Towards Data Science](https://towardsdatascience.com/silhouette-coefficient-validating-clustering-techniques-e976bb81d10c)*__"
   ]
  },
  {
   "cell_type": "markdown",
   "metadata": {},
   "source": [
    "### Period 1 (DEATH): Testing 4 clusters"
   ]
  },
  {
   "cell_type": "code",
   "execution_count": 68,
   "metadata": {},
   "outputs": [
    {
     "data": {
      "text/plain": [
       "KMeans(n_clusters=4)"
      ]
     },
     "execution_count": 68,
     "metadata": {},
     "output_type": "execute_result"
    }
   ],
   "source": [
    "kmeans = KMeans(n_clusters=4)\n",
    "kmeans.fit(frmgP1ScaledDTH)"
   ]
  },
  {
   "cell_type": "code",
   "execution_count": 69,
   "metadata": {},
   "outputs": [
    {
     "data": {
      "text/html": [
       "<div>\n",
       "<style scoped>\n",
       "    .dataframe tbody tr th:only-of-type {\n",
       "        vertical-align: middle;\n",
       "    }\n",
       "\n",
       "    .dataframe tbody tr th {\n",
       "        vertical-align: top;\n",
       "    }\n",
       "\n",
       "    .dataframe thead th {\n",
       "        text-align: right;\n",
       "    }\n",
       "</style>\n",
       "<table border=\"1\" class=\"dataframe\">\n",
       "  <thead>\n",
       "    <tr style=\"text-align: right;\">\n",
       "      <th></th>\n",
       "      <th>AGE</th>\n",
       "      <th>SYSBP</th>\n",
       "      <th>DIABP</th>\n",
       "      <th>CURSMOKE</th>\n",
       "      <th>CIGPDAY</th>\n",
       "      <th>TOTCHOL</th>\n",
       "      <th>BMI</th>\n",
       "      <th>HEARTRTE</th>\n",
       "      <th>ANYCHD</th>\n",
       "      <th>STROKE</th>\n",
       "      <th>DEATH</th>\n",
       "      <th>Group</th>\n",
       "    </tr>\n",
       "  </thead>\n",
       "  <tbody>\n",
       "    <tr>\n",
       "      <th>0</th>\n",
       "      <td>39</td>\n",
       "      <td>106.0</td>\n",
       "      <td>70.0</td>\n",
       "      <td>0</td>\n",
       "      <td>0</td>\n",
       "      <td>195</td>\n",
       "      <td>26.97</td>\n",
       "      <td>80</td>\n",
       "      <td>1</td>\n",
       "      <td>0</td>\n",
       "      <td>0</td>\n",
       "      <td>1</td>\n",
       "    </tr>\n",
       "    <tr>\n",
       "      <th>1</th>\n",
       "      <td>46</td>\n",
       "      <td>121.0</td>\n",
       "      <td>81.0</td>\n",
       "      <td>0</td>\n",
       "      <td>0</td>\n",
       "      <td>250</td>\n",
       "      <td>28.73</td>\n",
       "      <td>95</td>\n",
       "      <td>0</td>\n",
       "      <td>0</td>\n",
       "      <td>0</td>\n",
       "      <td>1</td>\n",
       "    </tr>\n",
       "    <tr>\n",
       "      <th>2</th>\n",
       "      <td>48</td>\n",
       "      <td>127.5</td>\n",
       "      <td>80.0</td>\n",
       "      <td>1</td>\n",
       "      <td>20</td>\n",
       "      <td>245</td>\n",
       "      <td>25.34</td>\n",
       "      <td>75</td>\n",
       "      <td>0</td>\n",
       "      <td>0</td>\n",
       "      <td>0</td>\n",
       "      <td>3</td>\n",
       "    </tr>\n",
       "    <tr>\n",
       "      <th>3</th>\n",
       "      <td>61</td>\n",
       "      <td>150.0</td>\n",
       "      <td>95.0</td>\n",
       "      <td>1</td>\n",
       "      <td>30</td>\n",
       "      <td>225</td>\n",
       "      <td>28.58</td>\n",
       "      <td>65</td>\n",
       "      <td>0</td>\n",
       "      <td>1</td>\n",
       "      <td>1</td>\n",
       "      <td>2</td>\n",
       "    </tr>\n",
       "    <tr>\n",
       "      <th>4</th>\n",
       "      <td>46</td>\n",
       "      <td>130.0</td>\n",
       "      <td>84.0</td>\n",
       "      <td>1</td>\n",
       "      <td>23</td>\n",
       "      <td>285</td>\n",
       "      <td>23.10</td>\n",
       "      <td>85</td>\n",
       "      <td>0</td>\n",
       "      <td>0</td>\n",
       "      <td>0</td>\n",
       "      <td>3</td>\n",
       "    </tr>\n",
       "  </tbody>\n",
       "</table>\n",
       "</div>"
      ],
      "text/plain": [
       "   AGE  SYSBP  DIABP  CURSMOKE  CIGPDAY  TOTCHOL    BMI  HEARTRTE  ANYCHD  \\\n",
       "0   39  106.0   70.0         0        0      195  26.97        80       1   \n",
       "1   46  121.0   81.0         0        0      250  28.73        95       0   \n",
       "2   48  127.5   80.0         1       20      245  25.34        75       0   \n",
       "3   61  150.0   95.0         1       30      225  28.58        65       0   \n",
       "4   46  130.0   84.0         1       23      285  23.10        85       0   \n",
       "\n",
       "   STROKE  DEATH  Group  \n",
       "0       0      0      1  \n",
       "1       0      0      1  \n",
       "2       0      0      3  \n",
       "3       1      1      2  \n",
       "4       0      0      3  "
      ]
     },
     "execution_count": 69,
     "metadata": {},
     "output_type": "execute_result"
    }
   ],
   "source": [
    "frmgP1TrimmedDTH['Group'] = kmeans.labels_\n",
    "frmgP1TrimmedDTH.head()"
   ]
  },
  {
   "cell_type": "markdown",
   "metadata": {},
   "source": [
    "### Period 1 (DEATH): Investigating Means by Category"
   ]
  },
  {
   "cell_type": "code",
   "execution_count": 70,
   "metadata": {},
   "outputs": [
    {
     "data": {
      "text/html": [
       "<div>\n",
       "<style scoped>\n",
       "    .dataframe tbody tr th:only-of-type {\n",
       "        vertical-align: middle;\n",
       "    }\n",
       "\n",
       "    .dataframe tbody tr th {\n",
       "        vertical-align: top;\n",
       "    }\n",
       "\n",
       "    .dataframe thead th {\n",
       "        text-align: right;\n",
       "    }\n",
       "</style>\n",
       "<table border=\"1\" class=\"dataframe\">\n",
       "  <thead>\n",
       "    <tr style=\"text-align: right;\">\n",
       "      <th></th>\n",
       "      <th>AGE</th>\n",
       "      <th>SYSBP</th>\n",
       "      <th>DIABP</th>\n",
       "      <th>CURSMOKE</th>\n",
       "      <th>CIGPDAY</th>\n",
       "      <th>TOTCHOL</th>\n",
       "      <th>BMI</th>\n",
       "      <th>HEARTRTE</th>\n",
       "      <th>ANYCHD</th>\n",
       "      <th>STROKE</th>\n",
       "      <th>DEATH</th>\n",
       "    </tr>\n",
       "    <tr>\n",
       "      <th>Group</th>\n",
       "      <th></th>\n",
       "      <th></th>\n",
       "      <th></th>\n",
       "      <th></th>\n",
       "      <th></th>\n",
       "      <th></th>\n",
       "      <th></th>\n",
       "      <th></th>\n",
       "      <th></th>\n",
       "      <th></th>\n",
       "      <th></th>\n",
       "    </tr>\n",
       "  </thead>\n",
       "  <tbody>\n",
       "    <tr>\n",
       "      <th>0</th>\n",
       "      <td>55.611995</td>\n",
       "      <td>159.323133</td>\n",
       "      <td>95.809058</td>\n",
       "      <td>0.293758</td>\n",
       "      <td>4.119951</td>\n",
       "      <td>259.097919</td>\n",
       "      <td>28.496353</td>\n",
       "      <td>80.088127</td>\n",
       "      <td>0.490820</td>\n",
       "      <td>0.002448</td>\n",
       "      <td>0.538556</td>\n",
       "    </tr>\n",
       "    <tr>\n",
       "      <th>1</th>\n",
       "      <td>48.819567</td>\n",
       "      <td>123.490778</td>\n",
       "      <td>78.714114</td>\n",
       "      <td>0.000000</td>\n",
       "      <td>0.000000</td>\n",
       "      <td>230.354451</td>\n",
       "      <td>25.373601</td>\n",
       "      <td>73.254210</td>\n",
       "      <td>0.159583</td>\n",
       "      <td>0.000000</td>\n",
       "      <td>0.221331</td>\n",
       "    </tr>\n",
       "    <tr>\n",
       "      <th>2</th>\n",
       "      <td>55.446866</td>\n",
       "      <td>145.727520</td>\n",
       "      <td>88.761580</td>\n",
       "      <td>0.471390</td>\n",
       "      <td>8.613079</td>\n",
       "      <td>241.705722</td>\n",
       "      <td>26.889564</td>\n",
       "      <td>74.792916</td>\n",
       "      <td>0.416894</td>\n",
       "      <td>1.000000</td>\n",
       "      <td>0.645777</td>\n",
       "    </tr>\n",
       "    <tr>\n",
       "      <th>3</th>\n",
       "      <td>46.397059</td>\n",
       "      <td>123.290775</td>\n",
       "      <td>78.508021</td>\n",
       "      <td>1.000000</td>\n",
       "      <td>19.195856</td>\n",
       "      <td>229.859626</td>\n",
       "      <td>24.552587</td>\n",
       "      <td>75.662433</td>\n",
       "      <td>0.232620</td>\n",
       "      <td>0.000668</td>\n",
       "      <td>0.282086</td>\n",
       "    </tr>\n",
       "  </tbody>\n",
       "</table>\n",
       "</div>"
      ],
      "text/plain": [
       "             AGE       SYSBP      DIABP  CURSMOKE    CIGPDAY     TOTCHOL  \\\n",
       "Group                                                                      \n",
       "0      55.611995  159.323133  95.809058  0.293758   4.119951  259.097919   \n",
       "1      48.819567  123.490778  78.714114  0.000000   0.000000  230.354451   \n",
       "2      55.446866  145.727520  88.761580  0.471390   8.613079  241.705722   \n",
       "3      46.397059  123.290775  78.508021  1.000000  19.195856  229.859626   \n",
       "\n",
       "             BMI   HEARTRTE    ANYCHD    STROKE     DEATH  \n",
       "Group                                                      \n",
       "0      28.496353  80.088127  0.490820  0.002448  0.538556  \n",
       "1      25.373601  73.254210  0.159583  0.000000  0.221331  \n",
       "2      26.889564  74.792916  0.416894  1.000000  0.645777  \n",
       "3      24.552587  75.662433  0.232620  0.000668  0.282086  "
      ]
     },
     "execution_count": 70,
     "metadata": {},
     "output_type": "execute_result"
    }
   ],
   "source": [
    "frmgP1TrimmedDTH.groupby('Group').mean()"
   ]
  },
  {
   "cell_type": "markdown",
   "metadata": {},
   "source": [
    "***The major differences between the groups are average age, systolic blood pressure, prevalence of any CHD, and prevalence of stroke. The incidence of death is significantly higher in 2 of the groups, and highest in the group with incidence of stroke.***"
   ]
  },
  {
   "cell_type": "markdown",
   "metadata": {},
   "source": [
    "### Period 1 (DEATH): Investigating Age"
   ]
  },
  {
   "cell_type": "code",
   "execution_count": 71,
   "metadata": {},
   "outputs": [
    {
     "data": {
      "text/plain": [
       "<AxesSubplot:xlabel='Group', ylabel='AGE'>"
      ]
     },
     "execution_count": 71,
     "metadata": {},
     "output_type": "execute_result"
    },
    {
     "data": {
      "image/png": "[encoded data removed]",
      "text/plain": [
       "<Figure size 864x504 with 1 Axes>"
      ]
     },
     "metadata": {
      "needs_background": "light"
     },
     "output_type": "display_data"
    }
   ],
   "source": [
    "plt.figure(figsize = (12, 7))\n",
    "sns.violinplot(x=\"Group\", y=\"AGE\", data=frmgP1TrimmedDTH, hue = \"DEATH\", split = True)"
   ]
  },
  {
   "cell_type": "code",
   "execution_count": 72,
   "metadata": {},
   "outputs": [
    {
     "data": {
      "text/plain": [
       "<AxesSubplot:xlabel='Group', ylabel='AGE'>"
      ]
     },
     "execution_count": 72,
     "metadata": {},
     "output_type": "execute_result"
    },
    {
     "data": {
      "image/png": "[encoded data removed]",
      "text/plain": [
       "<Figure size 864x504 with 1 Axes>"
      ]
     },
     "metadata": {
      "needs_background": "light"
     },
     "output_type": "display_data"
    }
   ],
   "source": [
    "plt.figure(figsize = (12, 7))\n",
    "sns.boxplot(x=\"Group\", y=\"AGE\", data=frmgP1TrimmedDTH, hue = \"DEATH\")"
   ]
  },
  {
   "cell_type": "markdown",
   "metadata": {},
   "source": [
    "***Incidence of death occurred in older people regardless of the group they were assigned to. In groups 0, 1, 2 most people who died were older on average.***"
   ]
  },
  {
   "cell_type": "markdown",
   "metadata": {},
   "source": [
    "### Period 1 (DEATH): Investigating Systolic Blood Pressure"
   ]
  },
  {
   "cell_type": "code",
   "execution_count": 73,
   "metadata": {},
   "outputs": [
    {
     "data": {
      "text/plain": [
       "<AxesSubplot:xlabel='Group', ylabel='SYSBP'>"
      ]
     },
     "execution_count": 73,
     "metadata": {},
     "output_type": "execute_result"
    },
    {
     "data": {
      "image/png": "[encoded data removed]",
      "text/plain": [
       "<Figure size 720x360 with 1 Axes>"
      ]
     },
     "metadata": {
      "needs_background": "light"
     },
     "output_type": "display_data"
    }
   ],
   "source": [
    "plt.figure(figsize = (10, 5))\n",
    "sns.violinplot(x=\"Group\", y=\"SYSBP\", data=frmgP1TrimmedDTH, hue = 'DEATH')"
   ]
  },
  {
   "cell_type": "code",
   "execution_count": 74,
   "metadata": {},
   "outputs": [
    {
     "data": {
      "text/plain": [
       "<AxesSubplot:xlabel='Group', ylabel='SYSBP'>"
      ]
     },
     "execution_count": 74,
     "metadata": {},
     "output_type": "execute_result"
    },
    {
     "data": {
      "image/png": "[encoded data removed]",
      "text/plain": [
       "<Figure size 720x360 with 1 Axes>"
      ]
     },
     "metadata": {
      "needs_background": "light"
     },
     "output_type": "display_data"
    }
   ],
   "source": [
    "plt.figure(figsize = (10, 5))\n",
    "sns.boxplot(x=\"Group\", y=\"SYSBP\", data=frmgP1TrimmedDTH, hue = \"DEATH\")"
   ]
  },
  {
   "cell_type": "markdown",
   "metadata": {},
   "source": [
    "***Groups 0 and 2 seem to have a higher systolic blood pressure, but there only a noticeable difference in systolic blood pressure between those who died and those who didn't die in group 2. Group 0 includes most of the highest values.***"
   ]
  },
  {
   "cell_type": "markdown",
   "metadata": {},
   "source": [
    "### Period 1 (DEATH): Investigating Prevalence of CHD"
   ]
  },
  {
   "cell_type": "code",
   "execution_count": 75,
   "metadata": {},
   "outputs": [
    {
     "data": {
      "text/plain": [
       "<AxesSubplot:xlabel='Group', ylabel='ANYCHD'>"
      ]
     },
     "execution_count": 75,
     "metadata": {},
     "output_type": "execute_result"
    },
    {
     "data": {
      "image/png": "[encoded data removed]",
      "text/plain": [
       "<Figure size 720x360 with 1 Axes>"
      ]
     },
     "metadata": {
      "needs_background": "light"
     },
     "output_type": "display_data"
    }
   ],
   "source": [
    "plt.figure(figsize = (10, 5))\n",
    "sns.barplot(x=\"Group\", y=\"ANYCHD\", data=frmgP1TrimmedDTH)"
   ]
  },
  {
   "cell_type": "code",
   "execution_count": 76,
   "metadata": {},
   "outputs": [
    {
     "data": {
      "text/plain": [
       "<AxesSubplot:xlabel='Group', ylabel='ANYCHD'>"
      ]
     },
     "execution_count": 76,
     "metadata": {},
     "output_type": "execute_result"
    },
    {
     "data": {
      "image/png": "[encoded data removed]",
      "text/plain": [
       "<Figure size 720x360 with 1 Axes>"
      ]
     },
     "metadata": {
      "needs_background": "light"
     },
     "output_type": "display_data"
    }
   ],
   "source": [
    "plt.figure(figsize = (10, 5))\n",
    "sns.barplot(x=\"Group\", y=\"ANYCHD\", data=frmgP1TrimmedDTH, hue='DEATH')"
   ]
  },
  {
   "cell_type": "markdown",
   "metadata": {},
   "source": [
    "***Incidence of CHD is higher in groups 0 and 2, but it seems to be spread out in all four groups, indicating that incidence of CHD wasn't characteristic of a single group. In all groups there were more individuals who died than those who didn't***\n",
    "### Period 1 (DEATH): Investigating Prevalence of Stroke"
   ]
  },
  {
   "cell_type": "code",
   "execution_count": 77,
   "metadata": {},
   "outputs": [
    {
     "data": {
      "text/plain": [
       "<AxesSubplot:xlabel='Group', ylabel='STROKE'>"
      ]
     },
     "execution_count": 77,
     "metadata": {},
     "output_type": "execute_result"
    },
    {
     "data": {
      "image/png": "[encoded data removed]",
      "text/plain": [
       "<Figure size 720x360 with 1 Axes>"
      ]
     },
     "metadata": {
      "needs_background": "light"
     },
     "output_type": "display_data"
    }
   ],
   "source": [
    "plt.figure(figsize = (10, 5))\n",
    "sns.barplot(x=\"Group\", y=\"STROKE\", data=frmgP1TrimmedDTH, hue = \"DEATH\")"
   ]
  },
  {
   "cell_type": "markdown",
   "metadata": {},
   "source": [
    "***Most of the individuals who had a stroke are in Group 2, and of those are equally split between those who died and those who didn't.***"
   ]
  },
  {
   "cell_type": "markdown",
   "metadata": {},
   "source": [
    "## Perform k-Means Clustering for Period 2"
   ]
  },
  {
   "cell_type": "markdown",
   "metadata": {},
   "source": [
    "### Scale Data"
   ]
  },
  {
   "cell_type": "code",
   "execution_count": 79,
   "metadata": {},
   "outputs": [
    {
     "data": {
      "text/html": [
       "<div>\n",
       "<style scoped>\n",
       "    .dataframe tbody tr th:only-of-type {\n",
       "        vertical-align: middle;\n",
       "    }\n",
       "\n",
       "    .dataframe tbody tr th {\n",
       "        vertical-align: top;\n",
       "    }\n",
       "\n",
       "    .dataframe thead th {\n",
       "        text-align: right;\n",
       "    }\n",
       "</style>\n",
       "<table border=\"1\" class=\"dataframe\">\n",
       "  <thead>\n",
       "    <tr style=\"text-align: right;\">\n",
       "      <th></th>\n",
       "      <th>AGE</th>\n",
       "      <th>SYSBP</th>\n",
       "      <th>DIABP</th>\n",
       "      <th>CURSMOKE</th>\n",
       "      <th>CIGPDAY</th>\n",
       "      <th>TOTCHOL</th>\n",
       "      <th>BMI</th>\n",
       "      <th>HEARTRTE</th>\n",
       "      <th>ANYCHD</th>\n",
       "      <th>STROKE</th>\n",
       "    </tr>\n",
       "  </thead>\n",
       "  <tbody>\n",
       "    <tr>\n",
       "      <th>0</th>\n",
       "      <td>-0.389058</td>\n",
       "      <td>-1.408993</td>\n",
       "      <td>-1.269856</td>\n",
       "      <td>-0.883170</td>\n",
       "      <td>-0.682564</td>\n",
       "      <td>0.228697</td>\n",
       "      <td>0.879282</td>\n",
       "      <td>0.220747</td>\n",
       "      <td>-0.609828</td>\n",
       "      <td>-0.323222</td>\n",
       "    </tr>\n",
       "    <tr>\n",
       "      <th>1</th>\n",
       "      <td>-0.155305</td>\n",
       "      <td>0.191885</td>\n",
       "      <td>0.439895</td>\n",
       "      <td>1.132285</td>\n",
       "      <td>1.637841</td>\n",
       "      <td>0.734979</td>\n",
       "      <td>-0.126882</td>\n",
       "      <td>-0.179019</td>\n",
       "      <td>-0.609828</td>\n",
       "      <td>-0.323222</td>\n",
       "    </tr>\n",
       "    <tr>\n",
       "      <th>2</th>\n",
       "      <td>1.364088</td>\n",
       "      <td>2.059577</td>\n",
       "      <td>2.193485</td>\n",
       "      <td>1.132285</td>\n",
       "      <td>0.864372</td>\n",
       "      <td>-0.387646</td>\n",
       "      <td>1.063787</td>\n",
       "      <td>-1.378318</td>\n",
       "      <td>-0.609828</td>\n",
       "      <td>3.093846</td>\n",
       "    </tr>\n",
       "    <tr>\n",
       "      <th>3</th>\n",
       "      <td>-0.505935</td>\n",
       "      <td>-1.231118</td>\n",
       "      <td>-0.612260</td>\n",
       "      <td>1.132285</td>\n",
       "      <td>1.637841</td>\n",
       "      <td>2.055713</td>\n",
       "      <td>-0.584454</td>\n",
       "      <td>1.020280</td>\n",
       "      <td>-0.609828</td>\n",
       "      <td>-0.323222</td>\n",
       "    </tr>\n",
       "    <tr>\n",
       "      <th>4</th>\n",
       "      <td>-0.739688</td>\n",
       "      <td>1.792764</td>\n",
       "      <td>1.579729</td>\n",
       "      <td>-0.883170</td>\n",
       "      <td>-0.682564</td>\n",
       "      <td>-0.431670</td>\n",
       "      <td>1.354074</td>\n",
       "      <td>3.418878</td>\n",
       "      <td>1.639806</td>\n",
       "      <td>-0.323222</td>\n",
       "    </tr>\n",
       "  </tbody>\n",
       "</table>\n",
       "</div>"
      ],
      "text/plain": [
       "        AGE     SYSBP     DIABP  CURSMOKE   CIGPDAY   TOTCHOL       BMI  \\\n",
       "0 -0.389058 -1.408993 -1.269856 -0.883170 -0.682564  0.228697  0.879282   \n",
       "1 -0.155305  0.191885  0.439895  1.132285  1.637841  0.734979 -0.126882   \n",
       "2  1.364088  2.059577  2.193485  1.132285  0.864372 -0.387646  1.063787   \n",
       "3 -0.505935 -1.231118 -0.612260  1.132285  1.637841  2.055713 -0.584454   \n",
       "4 -0.739688  1.792764  1.579729 -0.883170 -0.682564 -0.431670  1.354074   \n",
       "\n",
       "   HEARTRTE    ANYCHD    STROKE  \n",
       "0  0.220747 -0.609828 -0.323222  \n",
       "1 -0.179019 -0.609828 -0.323222  \n",
       "2 -1.378318 -0.609828  3.093846  \n",
       "3  1.020280 -0.609828 -0.323222  \n",
       "4  3.418878  1.639806 -0.323222  "
      ]
     },
     "execution_count": 79,
     "metadata": {},
     "output_type": "execute_result"
    }
   ],
   "source": [
    "scaler = StandardScaler()\n",
    "scaler.fit(frmgP2TrimmedDTH.drop('DEATH',axis=1))\n",
    "scaledVariables = scaler.transform(frmgP2TrimmedDTH.drop('DEATH',axis=1))\n",
    "frmgP2ScaledDTH = pd.DataFrame(scaledVariables, columns=frmgP2TrimmedDTH.columns[:-1]) # leaves out predictor variable\n",
    "frmgP2ScaledDTH.head()"
   ]
  },
  {
   "cell_type": "markdown",
   "metadata": {},
   "source": [
    "## Period 2 (DEATH): Selecting the number of clusters with silhouette analysis on KMeans clustering\n",
    "Source: [scikit-learn.org/stable/auto_examples/cluster/plot_kmeans_silhouette_analysis](https://scikit-learn.org/stable/auto_examples/cluster/plot_kmeans_silhouette_analysis.html#selecting-the-number-of-clusters-with-silhouette-analysis-on-kmeans-clustering)\n",
    "### Additional Packages"
   ]
  },
  {
   "cell_type": "code",
   "execution_count": 80,
   "metadata": {},
   "outputs": [],
   "source": [
    "from sklearn.metrics import silhouette_samples, silhouette_score\n",
    "import matplotlib.cm as cm"
   ]
  },
  {
   "cell_type": "code",
   "execution_count": 81,
   "metadata": {},
   "outputs": [],
   "source": [
    "range_n_clusters = [2, 3, 4, 5, 6, 7, 8, 9, 10]"
   ]
  },
  {
   "cell_type": "code",
   "execution_count": 82,
   "metadata": {},
   "outputs": [
    {
     "name": "stdout",
     "output_type": "stream",
     "text": [
      "For n_clusters = 2 The average silhouette_score is : 0.18410305416098227\n",
      "For n_clusters = 3 The average silhouette_score is : 0.1636356648575765\n",
      "For n_clusters = 4 The average silhouette_score is : 0.17259485589872406\n",
      "For n_clusters = 5 The average silhouette_score is : 0.1547065176213424\n",
      "For n_clusters = 6 The average silhouette_score is : 0.15728861001088576\n",
      "For n_clusters = 7 The average silhouette_score is : 0.14591546706064723\n",
      "For n_clusters = 8 The average silhouette_score is : 0.15136933410355993\n",
      "For n_clusters = 9 The average silhouette_score is : 0.14368513438601224\n",
      "For n_clusters = 10 The average silhouette_score is : 0.14610410732408036\n"
     ]
    }
   ],
   "source": [
    "for n_clusters in range_n_clusters:\n",
    "    clusterer = KMeans(n_clusters=n_clusters, random_state=10)\n",
    "    cluster_labels = clusterer.fit_predict(frmgP2ScaledDTH)\n",
    "\n",
    "    # The silhouette_score gives the average value for all the samples.\n",
    "    # This gives a perspective into the density and separation of the formed clusters\n",
    "    silhouette_avg = silhouette_score(frmgP2ScaledDTH, cluster_labels)\n",
    "    print(\"For n_clusters =\", n_clusters,\n",
    "          \"The average silhouette_score is :\", silhouette_avg)"
   ]
  },
  {
   "cell_type": "markdown",
   "metadata": {},
   "source": [
    "__*Using the silhouette score to check the optimal number of clusters shows that the optimal number of clusters is 2. <br> [Source: Silhouette Coefficient, Towards Data Science](https://towardsdatascience.com/silhouette-coefficient-validating-clustering-techniques-e976bb81d10c)*__"
   ]
  },
  {
   "cell_type": "markdown",
   "metadata": {},
   "source": [
    "### Period 2 (DEATH): Testing 2 clusters"
   ]
  },
  {
   "cell_type": "code",
   "execution_count": 83,
   "metadata": {},
   "outputs": [
    {
     "data": {
      "text/plain": [
       "KMeans(n_clusters=2)"
      ]
     },
     "execution_count": 83,
     "metadata": {},
     "output_type": "execute_result"
    }
   ],
   "source": [
    "kmeans = KMeans(n_clusters=2)\n",
    "kmeans.fit(frmgP2ScaledDTH)"
   ]
  },
  {
   "cell_type": "code",
   "execution_count": 84,
   "metadata": {},
   "outputs": [
    {
     "data": {
      "text/html": [
       "<div>\n",
       "<style scoped>\n",
       "    .dataframe tbody tr th:only-of-type {\n",
       "        vertical-align: middle;\n",
       "    }\n",
       "\n",
       "    .dataframe tbody tr th {\n",
       "        vertical-align: top;\n",
       "    }\n",
       "\n",
       "    .dataframe thead th {\n",
       "        text-align: right;\n",
       "    }\n",
       "</style>\n",
       "<table border=\"1\" class=\"dataframe\">\n",
       "  <thead>\n",
       "    <tr style=\"text-align: right;\">\n",
       "      <th></th>\n",
       "      <th>AGE</th>\n",
       "      <th>SYSBP</th>\n",
       "      <th>DIABP</th>\n",
       "      <th>CURSMOKE</th>\n",
       "      <th>CIGPDAY</th>\n",
       "      <th>TOTCHOL</th>\n",
       "      <th>BMI</th>\n",
       "      <th>HEARTRTE</th>\n",
       "      <th>ANYCHD</th>\n",
       "      <th>STROKE</th>\n",
       "      <th>DEATH</th>\n",
       "      <th>Group</th>\n",
       "    </tr>\n",
       "  </thead>\n",
       "  <tbody>\n",
       "    <tr>\n",
       "      <th>0</th>\n",
       "      <td>52</td>\n",
       "      <td>105.0</td>\n",
       "      <td>69.5</td>\n",
       "      <td>0</td>\n",
       "      <td>0</td>\n",
       "      <td>260</td>\n",
       "      <td>29.43</td>\n",
       "      <td>80</td>\n",
       "      <td>0</td>\n",
       "      <td>0</td>\n",
       "      <td>0</td>\n",
       "      <td>0</td>\n",
       "    </tr>\n",
       "    <tr>\n",
       "      <th>1</th>\n",
       "      <td>54</td>\n",
       "      <td>141.0</td>\n",
       "      <td>89.0</td>\n",
       "      <td>1</td>\n",
       "      <td>30</td>\n",
       "      <td>283</td>\n",
       "      <td>25.34</td>\n",
       "      <td>75</td>\n",
       "      <td>0</td>\n",
       "      <td>0</td>\n",
       "      <td>0</td>\n",
       "      <td>1</td>\n",
       "    </tr>\n",
       "    <tr>\n",
       "      <th>2</th>\n",
       "      <td>67</td>\n",
       "      <td>183.0</td>\n",
       "      <td>109.0</td>\n",
       "      <td>1</td>\n",
       "      <td>20</td>\n",
       "      <td>232</td>\n",
       "      <td>30.18</td>\n",
       "      <td>60</td>\n",
       "      <td>0</td>\n",
       "      <td>1</td>\n",
       "      <td>1</td>\n",
       "      <td>1</td>\n",
       "    </tr>\n",
       "    <tr>\n",
       "      <th>3</th>\n",
       "      <td>51</td>\n",
       "      <td>109.0</td>\n",
       "      <td>77.0</td>\n",
       "      <td>1</td>\n",
       "      <td>30</td>\n",
       "      <td>343</td>\n",
       "      <td>23.48</td>\n",
       "      <td>90</td>\n",
       "      <td>0</td>\n",
       "      <td>0</td>\n",
       "      <td>0</td>\n",
       "      <td>1</td>\n",
       "    </tr>\n",
       "    <tr>\n",
       "      <th>4</th>\n",
       "      <td>49</td>\n",
       "      <td>177.0</td>\n",
       "      <td>102.0</td>\n",
       "      <td>0</td>\n",
       "      <td>0</td>\n",
       "      <td>230</td>\n",
       "      <td>31.36</td>\n",
       "      <td>120</td>\n",
       "      <td>1</td>\n",
       "      <td>0</td>\n",
       "      <td>0</td>\n",
       "      <td>0</td>\n",
       "    </tr>\n",
       "  </tbody>\n",
       "</table>\n",
       "</div>"
      ],
      "text/plain": [
       "   AGE  SYSBP  DIABP  CURSMOKE  CIGPDAY  TOTCHOL    BMI  HEARTRTE  ANYCHD  \\\n",
       "0   52  105.0   69.5         0        0      260  29.43        80       0   \n",
       "1   54  141.0   89.0         1       30      283  25.34        75       0   \n",
       "2   67  183.0  109.0         1       20      232  30.18        60       0   \n",
       "3   51  109.0   77.0         1       30      343  23.48        90       0   \n",
       "4   49  177.0  102.0         0        0      230  31.36       120       1   \n",
       "\n",
       "   STROKE  DEATH  Group  \n",
       "0       0      0      0  \n",
       "1       0      0      1  \n",
       "2       1      1      1  \n",
       "3       0      0      1  \n",
       "4       0      0      0  "
      ]
     },
     "execution_count": 84,
     "metadata": {},
     "output_type": "execute_result"
    }
   ],
   "source": [
    "frmgP2TrimmedDTH['Group'] = kmeans.labels_\n",
    "frmgP2TrimmedDTH.head()"
   ]
  },
  {
   "cell_type": "markdown",
   "metadata": {},
   "source": [
    "### Period 2 (DEATH): Investigate Means by Category"
   ]
  },
  {
   "cell_type": "code",
   "execution_count": 85,
   "metadata": {},
   "outputs": [
    {
     "data": {
      "text/html": [
       "<div>\n",
       "<style scoped>\n",
       "    .dataframe tbody tr th:only-of-type {\n",
       "        vertical-align: middle;\n",
       "    }\n",
       "\n",
       "    .dataframe tbody tr th {\n",
       "        vertical-align: top;\n",
       "    }\n",
       "\n",
       "    .dataframe thead th {\n",
       "        text-align: right;\n",
       "    }\n",
       "</style>\n",
       "<table border=\"1\" class=\"dataframe\">\n",
       "  <thead>\n",
       "    <tr style=\"text-align: right;\">\n",
       "      <th></th>\n",
       "      <th>AGE</th>\n",
       "      <th>SYSBP</th>\n",
       "      <th>DIABP</th>\n",
       "      <th>CURSMOKE</th>\n",
       "      <th>CIGPDAY</th>\n",
       "      <th>TOTCHOL</th>\n",
       "      <th>BMI</th>\n",
       "      <th>HEARTRTE</th>\n",
       "      <th>ANYCHD</th>\n",
       "      <th>STROKE</th>\n",
       "      <th>DEATH</th>\n",
       "    </tr>\n",
       "    <tr>\n",
       "      <th>Group</th>\n",
       "      <th></th>\n",
       "      <th></th>\n",
       "      <th></th>\n",
       "      <th></th>\n",
       "      <th></th>\n",
       "      <th></th>\n",
       "      <th></th>\n",
       "      <th></th>\n",
       "      <th></th>\n",
       "      <th></th>\n",
       "      <th></th>\n",
       "    </tr>\n",
       "  </thead>\n",
       "  <tbody>\n",
       "    <tr>\n",
       "      <th>0</th>\n",
       "      <td>57.267120</td>\n",
       "      <td>140.059592</td>\n",
       "      <td>85.191323</td>\n",
       "      <td>0.028228</td>\n",
       "      <td>0.124412</td>\n",
       "      <td>251.756926</td>\n",
       "      <td>26.505295</td>\n",
       "      <td>76.419760</td>\n",
       "      <td>0.276006</td>\n",
       "      <td>0.104025</td>\n",
       "      <td>0.307893</td>\n",
       "    </tr>\n",
       "    <tr>\n",
       "      <th>1</th>\n",
       "      <td>52.672636</td>\n",
       "      <td>132.060530</td>\n",
       "      <td>82.327006</td>\n",
       "      <td>1.000000</td>\n",
       "      <td>20.747135</td>\n",
       "      <td>246.669054</td>\n",
       "      <td>24.965695</td>\n",
       "      <td>78.361748</td>\n",
       "      <td>0.264327</td>\n",
       "      <td>0.081662</td>\n",
       "      <td>0.289398</td>\n",
       "    </tr>\n",
       "  </tbody>\n",
       "</table>\n",
       "</div>"
      ],
      "text/plain": [
       "             AGE       SYSBP      DIABP  CURSMOKE    CIGPDAY     TOTCHOL  \\\n",
       "Group                                                                      \n",
       "0      57.267120  140.059592  85.191323  0.028228   0.124412  251.756926   \n",
       "1      52.672636  132.060530  82.327006  1.000000  20.747135  246.669054   \n",
       "\n",
       "             BMI   HEARTRTE    ANYCHD    STROKE     DEATH  \n",
       "Group                                                      \n",
       "0      26.505295  76.419760  0.276006  0.104025  0.307893  \n",
       "1      24.965695  78.361748  0.264327  0.081662  0.289398  "
      ]
     },
     "execution_count": 85,
     "metadata": {},
     "output_type": "execute_result"
    }
   ],
   "source": [
    "frmgP2TrimmedDTH.groupby('Group').mean()"
   ]
  },
  {
   "cell_type": "markdown",
   "metadata": {},
   "source": [
    "***The major differences between the groups are average age, systolic blood pressure, current smoker, andnumber of cigarettes per day. There isn't a significant difference in incidence of death between the two groups.***"
   ]
  },
  {
   "cell_type": "markdown",
   "metadata": {},
   "source": [
    "### Period 2 (DEATH): Investigating Age"
   ]
  },
  {
   "cell_type": "code",
   "execution_count": 86,
   "metadata": {},
   "outputs": [
    {
     "data": {
      "text/plain": [
       "<AxesSubplot:xlabel='Group', ylabel='AGE'>"
      ]
     },
     "execution_count": 86,
     "metadata": {},
     "output_type": "execute_result"
    },
    {
     "data": {
      "image/png": "[encoded data removed]",
      "text/plain": [
       "<Figure size 864x504 with 1 Axes>"
      ]
     },
     "metadata": {
      "needs_background": "light"
     },
     "output_type": "display_data"
    }
   ],
   "source": [
    "plt.figure(figsize = (12, 7))\n",
    "sns.violinplot(x=\"Group\", y=\"AGE\", data=frmgP2TrimmedDTH, hue = \"DEATH\", split = True)"
   ]
  },
  {
   "cell_type": "code",
   "execution_count": 87,
   "metadata": {},
   "outputs": [
    {
     "data": {
      "text/plain": [
       "<AxesSubplot:xlabel='Group', ylabel='AGE'>"
      ]
     },
     "execution_count": 87,
     "metadata": {},
     "output_type": "execute_result"
    },
    {
     "data": {
      "image/png": "[encoded data removed]",
      "text/plain": [
       "<Figure size 864x504 with 1 Axes>"
      ]
     },
     "metadata": {
      "needs_background": "light"
     },
     "output_type": "display_data"
    }
   ],
   "source": [
    "plt.figure(figsize = (12, 7))\n",
    "sns.boxplot(x=\"Group\", y=\"AGE\", data=frmgP2TrimmedDTH, hue = \"DEATH\")"
   ]
  },
  {
   "cell_type": "markdown",
   "metadata": {},
   "source": [
    "***Incidence of death occurred in older people regardless of the group they were assigned to. In the nonsmoker group (0) death occurred at an older age than in the smoker group.***"
   ]
  },
  {
   "cell_type": "markdown",
   "metadata": {},
   "source": [
    "### Period 2 (DEATH): Investigating Systolic Blood Pressure"
   ]
  },
  {
   "cell_type": "code",
   "execution_count": 88,
   "metadata": {},
   "outputs": [
    {
     "data": {
      "text/plain": [
       "<AxesSubplot:xlabel='Group', ylabel='SYSBP'>"
      ]
     },
     "execution_count": 88,
     "metadata": {},
     "output_type": "execute_result"
    },
    {
     "data": {
      "image/png": "[encoded data removed]",
      "text/plain": [
       "<Figure size 720x360 with 1 Axes>"
      ]
     },
     "metadata": {
      "needs_background": "light"
     },
     "output_type": "display_data"
    }
   ],
   "source": [
    "plt.figure(figsize = (10, 5))\n",
    "sns.violinplot(x=\"Group\", y=\"SYSBP\", data=frmgP2TrimmedDTH, hue = 'DEATH')"
   ]
  },
  {
   "cell_type": "code",
   "execution_count": 89,
   "metadata": {},
   "outputs": [
    {
     "data": {
      "text/plain": [
       "<AxesSubplot:xlabel='Group', ylabel='SYSBP'>"
      ]
     },
     "execution_count": 89,
     "metadata": {},
     "output_type": "execute_result"
    },
    {
     "data": {
      "image/png": "[encoded data removed]",
      "text/plain": [
       "<Figure size 720x360 with 1 Axes>"
      ]
     },
     "metadata": {
      "needs_background": "light"
     },
     "output_type": "display_data"
    }
   ],
   "source": [
    "plt.figure(figsize = (10, 5))\n",
    "sns.boxplot(x=\"Group\", y=\"SYSBP\", data=frmgP2TrimmedDTH, hue = \"DEATH\")"
   ]
  },
  {
   "cell_type": "markdown",
   "metadata": {},
   "source": [
    "***Group 0 includes most of the extreme values. People who died tended to have a slightly higher systolic blood pressure, when compared to those who didn't die.***"
   ]
  },
  {
   "cell_type": "markdown",
   "metadata": {},
   "source": [
    "### Period 2 (DEATH): Investigating Smoking Status"
   ]
  },
  {
   "cell_type": "code",
   "execution_count": 90,
   "metadata": {},
   "outputs": [
    {
     "data": {
      "text/plain": [
       "<AxesSubplot:xlabel='Group', ylabel='CURSMOKE'>"
      ]
     },
     "execution_count": 90,
     "metadata": {},
     "output_type": "execute_result"
    },
    {
     "data": {
      "image/png": "[encoded data removed]",
      "text/plain": [
       "<Figure size 720x360 with 1 Axes>"
      ]
     },
     "metadata": {
      "needs_background": "light"
     },
     "output_type": "display_data"
    }
   ],
   "source": [
    "plt.figure(figsize = (10, 5))\n",
    "sns.barplot(x=\"Group\", y=\"CURSMOKE\", data=frmgP2TrimmedDTH, hue = 'DEATH')"
   ]
  },
  {
   "cell_type": "markdown",
   "metadata": {},
   "source": [
    "***Most smokers were included in group 1. In that group, people who died and people who didn't die are split evenly.***\n",
    "### Period 2 (DEATH): Investigating Cigarettes per Day"
   ]
  },
  {
   "cell_type": "code",
   "execution_count": 91,
   "metadata": {},
   "outputs": [
    {
     "data": {
      "text/plain": [
       "<AxesSubplot:xlabel='Group', ylabel='CIGPDAY'>"
      ]
     },
     "execution_count": 91,
     "metadata": {},
     "output_type": "execute_result"
    },
    {
     "data": {
      "image/png": "[encoded data removed]",
      "text/plain": [
       "<Figure size 720x360 with 1 Axes>"
      ]
     },
     "metadata": {
      "needs_background": "light"
     },
     "output_type": "display_data"
    }
   ],
   "source": [
    "plt.figure(figsize = (10, 5))\n",
    "sns.boxplot(x=\"Group\", y=\"CIGPDAY\", data=frmgP2TrimmedDTH, hue = \"DEATH\")"
   ]
  },
  {
   "cell_type": "markdown",
   "metadata": {},
   "source": [
    "***Most of the individuals who smoke more than 10 cigarretes per day were included in group 2, which included the extreme values for both people who died and people who didn't.***"
   ]
  },
  {
   "cell_type": "markdown",
   "metadata": {},
   "source": [
    "## Perform k-Means Clustering for Period 3"
   ]
  },
  {
   "cell_type": "markdown",
   "metadata": {},
   "source": [
    "### Scale Data"
   ]
  },
  {
   "cell_type": "code",
   "execution_count": 92,
   "metadata": {},
   "outputs": [
    {
     "data": {
      "text/html": [
       "<div>\n",
       "<style scoped>\n",
       "    .dataframe tbody tr th:only-of-type {\n",
       "        vertical-align: middle;\n",
       "    }\n",
       "\n",
       "    .dataframe tbody tr th {\n",
       "        vertical-align: top;\n",
       "    }\n",
       "\n",
       "    .dataframe thead th {\n",
       "        text-align: right;\n",
       "    }\n",
       "</style>\n",
       "<table border=\"1\" class=\"dataframe\">\n",
       "  <thead>\n",
       "    <tr style=\"text-align: right;\">\n",
       "      <th></th>\n",
       "      <th>AGE</th>\n",
       "      <th>SYSBP</th>\n",
       "      <th>DIABP</th>\n",
       "      <th>CURSMOKE</th>\n",
       "      <th>CIGPDAY</th>\n",
       "      <th>TOTCHOL</th>\n",
       "      <th>BMI</th>\n",
       "      <th>HEARTRTE</th>\n",
       "      <th>ANYCHD</th>\n",
       "      <th>STROKE</th>\n",
       "    </tr>\n",
       "  </thead>\n",
       "  <tbody>\n",
       "    <tr>\n",
       "      <th>0</th>\n",
       "      <td>-0.268097</td>\n",
       "      <td>-1.395398</td>\n",
       "      <td>-1.330160</td>\n",
       "      <td>-0.730236</td>\n",
       "      <td>-0.589921</td>\n",
       "      <td>-0.016812</td>\n",
       "      <td>0.698759</td>\n",
       "      <td>0.192369</td>\n",
       "      <td>-0.587700</td>\n",
       "      <td>-0.301369</td>\n",
       "    </tr>\n",
       "    <tr>\n",
       "      <th>1</th>\n",
       "      <td>-0.629002</td>\n",
       "      <td>1.821608</td>\n",
       "      <td>2.201516</td>\n",
       "      <td>-0.730236</td>\n",
       "      <td>-0.589921</td>\n",
       "      <td>-0.393216</td>\n",
       "      <td>1.383784</td>\n",
       "      <td>0.674897</td>\n",
       "      <td>1.701549</td>\n",
       "      <td>-0.301369</td>\n",
       "    </tr>\n",
       "    <tr>\n",
       "      <th>2</th>\n",
       "      <td>-0.388398</td>\n",
       "      <td>-1.306037</td>\n",
       "      <td>-3.095999</td>\n",
       "      <td>1.369420</td>\n",
       "      <td>1.997623</td>\n",
       "      <td>1.820924</td>\n",
       "      <td>-0.963774</td>\n",
       "      <td>-0.209737</td>\n",
       "      <td>-0.587700</td>\n",
       "      <td>-0.301369</td>\n",
       "    </tr>\n",
       "    <tr>\n",
       "      <th>3</th>\n",
       "      <td>0.453714</td>\n",
       "      <td>1.285440</td>\n",
       "      <td>1.671765</td>\n",
       "      <td>-0.730236</td>\n",
       "      <td>-0.589921</td>\n",
       "      <td>0.935268</td>\n",
       "      <td>-0.014488</td>\n",
       "      <td>1.157424</td>\n",
       "      <td>-0.587700</td>\n",
       "      <td>-0.301369</td>\n",
       "    </tr>\n",
       "    <tr>\n",
       "      <th>4</th>\n",
       "      <td>-0.629002</td>\n",
       "      <td>1.508844</td>\n",
       "      <td>3.702479</td>\n",
       "      <td>-0.730236</td>\n",
       "      <td>-0.589921</td>\n",
       "      <td>-0.592489</td>\n",
       "      <td>0.855263</td>\n",
       "      <td>-0.209737</td>\n",
       "      <td>-0.587700</td>\n",
       "      <td>-0.301369</td>\n",
       "    </tr>\n",
       "  </tbody>\n",
       "</table>\n",
       "</div>"
      ],
      "text/plain": [
       "        AGE     SYSBP     DIABP  CURSMOKE   CIGPDAY   TOTCHOL       BMI  \\\n",
       "0 -0.268097 -1.395398 -1.330160 -0.730236 -0.589921 -0.016812  0.698759   \n",
       "1 -0.629002  1.821608  2.201516 -0.730236 -0.589921 -0.393216  1.383784   \n",
       "2 -0.388398 -1.306037 -3.095999  1.369420  1.997623  1.820924 -0.963774   \n",
       "3  0.453714  1.285440  1.671765 -0.730236 -0.589921  0.935268 -0.014488   \n",
       "4 -0.629002  1.508844  3.702479 -0.730236 -0.589921 -0.592489  0.855263   \n",
       "\n",
       "   HEARTRTE    ANYCHD    STROKE  \n",
       "0  0.192369 -0.587700 -0.301369  \n",
       "1  0.674897  1.701549 -0.301369  \n",
       "2 -0.209737 -0.587700 -0.301369  \n",
       "3  1.157424 -0.587700 -0.301369  \n",
       "4 -0.209737 -0.587700 -0.301369  "
      ]
     },
     "execution_count": 92,
     "metadata": {},
     "output_type": "execute_result"
    }
   ],
   "source": [
    "scaler = StandardScaler()\n",
    "scaler.fit(frmgP3TrimmedDTH.drop('DEATH',axis=1))\n",
    "scaledVariables = scaler.transform(frmgP3TrimmedDTH.drop('DEATH',axis=1))\n",
    "frmgP3ScaledDTH = pd.DataFrame(scaledVariables, columns=frmgP3TrimmedDTH.columns[:-1]) # leaves out predictor variable\n",
    "frmgP3ScaledDTH.head()"
   ]
  },
  {
   "cell_type": "markdown",
   "metadata": {},
   "source": [
    "## Period 3 (DEATH): Selecting the number of clusters with silhouette analysis on KMeans clustering\n",
    "Source: [scikit-learn.org/stable/auto_examples/cluster/plot_kmeans_silhouette_analysis](https://scikit-learn.org/stable/auto_examples/cluster/plot_kmeans_silhouette_analysis.html#selecting-the-number-of-clusters-with-silhouette-analysis-on-kmeans-clustering)\n",
    "### Additional Packages"
   ]
  },
  {
   "cell_type": "code",
   "execution_count": 93,
   "metadata": {},
   "outputs": [],
   "source": [
    "from sklearn.metrics import silhouette_samples, silhouette_score\n",
    "import matplotlib.cm as cm"
   ]
  },
  {
   "cell_type": "code",
   "execution_count": 94,
   "metadata": {},
   "outputs": [],
   "source": [
    "range_n_clusters = [2, 3, 4, 5, 6, 7, 8, 9, 10]"
   ]
  },
  {
   "cell_type": "code",
   "execution_count": 95,
   "metadata": {},
   "outputs": [
    {
     "name": "stdout",
     "output_type": "stream",
     "text": [
      "For n_clusters = 2 The average silhouette_score is : 0.20172124492514595\n",
      "For n_clusters = 3 The average silhouette_score is : 0.22090059898270717\n",
      "For n_clusters = 4 The average silhouette_score is : 0.17735734699002634\n",
      "For n_clusters = 5 The average silhouette_score is : 0.18363381314932445\n",
      "For n_clusters = 6 The average silhouette_score is : 0.14835273492698436\n",
      "For n_clusters = 7 The average silhouette_score is : 0.14476000830229965\n",
      "For n_clusters = 8 The average silhouette_score is : 0.15192463558730665\n",
      "For n_clusters = 9 The average silhouette_score is : 0.1438464335785367\n",
      "For n_clusters = 10 The average silhouette_score is : 0.14196901421779246\n"
     ]
    }
   ],
   "source": [
    "for n_clusters in range_n_clusters:\n",
    "    clusterer = KMeans(n_clusters=n_clusters, random_state=10)\n",
    "    cluster_labels = clusterer.fit_predict(frmgP3ScaledDTH)\n",
    "\n",
    "    # The silhouette_score gives the average value for all the samples.\n",
    "    # This gives a perspective into the density and separation of the formed clusters\n",
    "    silhouette_avg = silhouette_score(frmgP3ScaledDTH, cluster_labels)\n",
    "    print(\"For n_clusters =\", n_clusters,\n",
    "          \"The average silhouette_score is :\", silhouette_avg)"
   ]
  },
  {
   "cell_type": "markdown",
   "metadata": {},
   "source": [
    "__*Using the silhouette score to check the optimal number of clusters shows that the optimal number of clusters is 3. <br> [Source: Silhouette Coefficient, Towards Data Science](https://towardsdatascience.com/silhouette-coefficient-validating-clustering-techniques-e976bb81d10c)*__"
   ]
  },
  {
   "cell_type": "markdown",
   "metadata": {},
   "source": [
    "### Period 3 (DEATH): Testing 3 clusters"
   ]
  },
  {
   "cell_type": "code",
   "execution_count": 96,
   "metadata": {},
   "outputs": [
    {
     "data": {
      "text/plain": [
       "KMeans(n_clusters=3)"
      ]
     },
     "execution_count": 96,
     "metadata": {},
     "output_type": "execute_result"
    }
   ],
   "source": [
    "kmeans = KMeans(n_clusters=3)\n",
    "kmeans.fit(frmgP3ScaledDTH)"
   ]
  },
  {
   "cell_type": "code",
   "execution_count": 97,
   "metadata": {},
   "outputs": [
    {
     "data": {
      "text/html": [
       "<div>\n",
       "<style scoped>\n",
       "    .dataframe tbody tr th:only-of-type {\n",
       "        vertical-align: middle;\n",
       "    }\n",
       "\n",
       "    .dataframe tbody tr th {\n",
       "        vertical-align: top;\n",
       "    }\n",
       "\n",
       "    .dataframe thead th {\n",
       "        text-align: right;\n",
       "    }\n",
       "</style>\n",
       "<table border=\"1\" class=\"dataframe\">\n",
       "  <thead>\n",
       "    <tr style=\"text-align: right;\">\n",
       "      <th></th>\n",
       "      <th>AGE</th>\n",
       "      <th>SYSBP</th>\n",
       "      <th>DIABP</th>\n",
       "      <th>CURSMOKE</th>\n",
       "      <th>CIGPDAY</th>\n",
       "      <th>TOTCHOL</th>\n",
       "      <th>BMI</th>\n",
       "      <th>HEARTRTE</th>\n",
       "      <th>ANYCHD</th>\n",
       "      <th>STROKE</th>\n",
       "      <th>DEATH</th>\n",
       "      <th>Group</th>\n",
       "    </tr>\n",
       "  </thead>\n",
       "  <tbody>\n",
       "    <tr>\n",
       "      <th>0</th>\n",
       "      <td>58</td>\n",
       "      <td>108.0</td>\n",
       "      <td>66.0</td>\n",
       "      <td>0</td>\n",
       "      <td>0</td>\n",
       "      <td>237</td>\n",
       "      <td>28.50</td>\n",
       "      <td>80</td>\n",
       "      <td>0</td>\n",
       "      <td>0</td>\n",
       "      <td>0</td>\n",
       "      <td>2</td>\n",
       "    </tr>\n",
       "    <tr>\n",
       "      <th>1</th>\n",
       "      <td>55</td>\n",
       "      <td>180.0</td>\n",
       "      <td>106.0</td>\n",
       "      <td>0</td>\n",
       "      <td>0</td>\n",
       "      <td>220</td>\n",
       "      <td>31.17</td>\n",
       "      <td>86</td>\n",
       "      <td>1</td>\n",
       "      <td>0</td>\n",
       "      <td>0</td>\n",
       "      <td>2</td>\n",
       "    </tr>\n",
       "    <tr>\n",
       "      <th>2</th>\n",
       "      <td>57</td>\n",
       "      <td>110.0</td>\n",
       "      <td>46.0</td>\n",
       "      <td>1</td>\n",
       "      <td>30</td>\n",
       "      <td>320</td>\n",
       "      <td>22.02</td>\n",
       "      <td>75</td>\n",
       "      <td>0</td>\n",
       "      <td>0</td>\n",
       "      <td>0</td>\n",
       "      <td>1</td>\n",
       "    </tr>\n",
       "    <tr>\n",
       "      <th>3</th>\n",
       "      <td>64</td>\n",
       "      <td>168.0</td>\n",
       "      <td>100.0</td>\n",
       "      <td>0</td>\n",
       "      <td>0</td>\n",
       "      <td>280</td>\n",
       "      <td>25.72</td>\n",
       "      <td>92</td>\n",
       "      <td>0</td>\n",
       "      <td>0</td>\n",
       "      <td>0</td>\n",
       "      <td>2</td>\n",
       "    </tr>\n",
       "    <tr>\n",
       "      <th>4</th>\n",
       "      <td>55</td>\n",
       "      <td>173.0</td>\n",
       "      <td>123.0</td>\n",
       "      <td>0</td>\n",
       "      <td>0</td>\n",
       "      <td>211</td>\n",
       "      <td>29.11</td>\n",
       "      <td>75</td>\n",
       "      <td>0</td>\n",
       "      <td>0</td>\n",
       "      <td>0</td>\n",
       "      <td>2</td>\n",
       "    </tr>\n",
       "  </tbody>\n",
       "</table>\n",
       "</div>"
      ],
      "text/plain": [
       "   AGE  SYSBP  DIABP  CURSMOKE  CIGPDAY  TOTCHOL    BMI  HEARTRTE  ANYCHD  \\\n",
       "0   58  108.0   66.0         0        0      237  28.50        80       0   \n",
       "1   55  180.0  106.0         0        0      220  31.17        86       1   \n",
       "2   57  110.0   46.0         1       30      320  22.02        75       0   \n",
       "3   64  168.0  100.0         0        0      280  25.72        92       0   \n",
       "4   55  173.0  123.0         0        0      211  29.11        75       0   \n",
       "\n",
       "   STROKE  DEATH  Group  \n",
       "0       0      0      2  \n",
       "1       0      0      2  \n",
       "2       0      0      1  \n",
       "3       0      0      2  \n",
       "4       0      0      2  "
      ]
     },
     "execution_count": 97,
     "metadata": {},
     "output_type": "execute_result"
    }
   ],
   "source": [
    "frmgP3TrimmedDTH['Group'] = kmeans.labels_\n",
    "frmgP3TrimmedDTH.head()"
   ]
  },
  {
   "cell_type": "markdown",
   "metadata": {},
   "source": [
    "### Period 3 (DEATH): Investigating Category by Looking at the Means"
   ]
  },
  {
   "cell_type": "code",
   "execution_count": 98,
   "metadata": {},
   "outputs": [
    {
     "data": {
      "text/html": [
       "<div>\n",
       "<style scoped>\n",
       "    .dataframe tbody tr th:only-of-type {\n",
       "        vertical-align: middle;\n",
       "    }\n",
       "\n",
       "    .dataframe tbody tr th {\n",
       "        vertical-align: top;\n",
       "    }\n",
       "\n",
       "    .dataframe thead th {\n",
       "        text-align: right;\n",
       "    }\n",
       "</style>\n",
       "<table border=\"1\" class=\"dataframe\">\n",
       "  <thead>\n",
       "    <tr style=\"text-align: right;\">\n",
       "      <th></th>\n",
       "      <th>AGE</th>\n",
       "      <th>SYSBP</th>\n",
       "      <th>DIABP</th>\n",
       "      <th>CURSMOKE</th>\n",
       "      <th>CIGPDAY</th>\n",
       "      <th>TOTCHOL</th>\n",
       "      <th>BMI</th>\n",
       "      <th>HEARTRTE</th>\n",
       "      <th>ANYCHD</th>\n",
       "      <th>STROKE</th>\n",
       "      <th>DEATH</th>\n",
       "    </tr>\n",
       "    <tr>\n",
       "      <th>Group</th>\n",
       "      <th></th>\n",
       "      <th></th>\n",
       "      <th></th>\n",
       "      <th></th>\n",
       "      <th></th>\n",
       "      <th></th>\n",
       "      <th></th>\n",
       "      <th></th>\n",
       "      <th></th>\n",
       "      <th></th>\n",
       "      <th></th>\n",
       "    </tr>\n",
       "  </thead>\n",
       "  <tbody>\n",
       "    <tr>\n",
       "      <th>0</th>\n",
       "      <td>66.465969</td>\n",
       "      <td>152.945026</td>\n",
       "      <td>83.879581</td>\n",
       "      <td>0.335079</td>\n",
       "      <td>5.753927</td>\n",
       "      <td>237.078534</td>\n",
       "      <td>25.948429</td>\n",
       "      <td>78.691099</td>\n",
       "      <td>0.408377</td>\n",
       "      <td>1.000000</td>\n",
       "      <td>0.518325</td>\n",
       "    </tr>\n",
       "    <tr>\n",
       "      <th>1</th>\n",
       "      <td>56.630495</td>\n",
       "      <td>133.214973</td>\n",
       "      <td>79.811126</td>\n",
       "      <td>1.000000</td>\n",
       "      <td>20.112637</td>\n",
       "      <td>234.332418</td>\n",
       "      <td>24.954025</td>\n",
       "      <td>78.270604</td>\n",
       "      <td>0.219780</td>\n",
       "      <td>0.001374</td>\n",
       "      <td>0.195055</td>\n",
       "    </tr>\n",
       "    <tr>\n",
       "      <th>2</th>\n",
       "      <td>61.258111</td>\n",
       "      <td>140.499279</td>\n",
       "      <td>81.336337</td>\n",
       "      <td>0.007210</td>\n",
       "      <td>0.022350</td>\n",
       "      <td>239.651766</td>\n",
       "      <td>26.184470</td>\n",
       "      <td>77.111031</td>\n",
       "      <td>0.255227</td>\n",
       "      <td>0.000000</td>\n",
       "      <td>0.186734</td>\n",
       "    </tr>\n",
       "  </tbody>\n",
       "</table>\n",
       "</div>"
      ],
      "text/plain": [
       "             AGE       SYSBP      DIABP  CURSMOKE    CIGPDAY     TOTCHOL  \\\n",
       "Group                                                                      \n",
       "0      66.465969  152.945026  83.879581  0.335079   5.753927  237.078534   \n",
       "1      56.630495  133.214973  79.811126  1.000000  20.112637  234.332418   \n",
       "2      61.258111  140.499279  81.336337  0.007210   0.022350  239.651766   \n",
       "\n",
       "             BMI   HEARTRTE    ANYCHD    STROKE     DEATH  \n",
       "Group                                                      \n",
       "0      25.948429  78.691099  0.408377  1.000000  0.518325  \n",
       "1      24.954025  78.270604  0.219780  0.001374  0.195055  \n",
       "2      26.184470  77.111031  0.255227  0.000000  0.186734  "
      ]
     },
     "execution_count": 98,
     "metadata": {},
     "output_type": "execute_result"
    }
   ],
   "source": [
    "frmgP3TrimmedDTH.groupby('Group').mean()"
   ]
  },
  {
   "cell_type": "markdown",
   "metadata": {},
   "source": [
    "***The major differences between the groups are average age, systolic blood pressure, current smoker, number of cigarettes per day, incidence of CHD and stroke. There is a significant difference in incidence of death between the three groups, with group 0 having a 51.8% incidence of death, with the highest average systolic blood pressure, smoked 6 cigarettes per day, and had 100% incidence of stroke. ***"
   ]
  },
  {
   "cell_type": "markdown",
   "metadata": {},
   "source": [
    "### Period 3 (DEATH): Investigating Age"
   ]
  },
  {
   "cell_type": "code",
   "execution_count": 99,
   "metadata": {},
   "outputs": [
    {
     "data": {
      "text/plain": [
       "<AxesSubplot:xlabel='Group', ylabel='AGE'>"
      ]
     },
     "execution_count": 99,
     "metadata": {},
     "output_type": "execute_result"
    },
    {
     "data": {
      "image/png": "[encoded data removed]",
      "text/plain": [
       "<Figure size 720x360 with 1 Axes>"
      ]
     },
     "metadata": {
      "needs_background": "light"
     },
     "output_type": "display_data"
    }
   ],
   "source": [
    "plt.figure(figsize = (10, 5))\n",
    "sns.violinplot(x=\"Group\", y=\"AGE\", data=frmgP3TrimmedDTH, hue = \"DEATH\", split = True)"
   ]
  },
  {
   "cell_type": "code",
   "execution_count": 100,
   "metadata": {},
   "outputs": [
    {
     "data": {
      "text/plain": [
       "<AxesSubplot:xlabel='Group', ylabel='AGE'>"
      ]
     },
     "execution_count": 100,
     "metadata": {},
     "output_type": "execute_result"
    },
    {
     "data": {
      "image/png": "[encoded data removed]",
      "text/plain": [
       "<Figure size 720x360 with 1 Axes>"
      ]
     },
     "metadata": {
      "needs_background": "light"
     },
     "output_type": "display_data"
    }
   ],
   "source": [
    "plt.figure(figsize = (10, 5))\n",
    "sns.boxplot(x=\"Group\", y=\"AGE\", data=frmgP3TrimmedDTH, hue = \"DEATH\")"
   ]
  },
  {
   "cell_type": "markdown",
   "metadata": {},
   "source": [
    "***Incidence of death occurred in older people regardless of the group they were assigned to.***"
   ]
  },
  {
   "cell_type": "markdown",
   "metadata": {},
   "source": [
    "### Period 3 (DEATH): Investigating Systolic Blood Pressure"
   ]
  },
  {
   "cell_type": "code",
   "execution_count": 101,
   "metadata": {},
   "outputs": [
    {
     "data": {
      "text/plain": [
       "<AxesSubplot:xlabel='Group', ylabel='SYSBP'>"
      ]
     },
     "execution_count": 101,
     "metadata": {},
     "output_type": "execute_result"
    },
    {
     "data": {
      "image/png": "[encoded data removed]",
      "text/plain": [
       "<Figure size 720x360 with 1 Axes>"
      ]
     },
     "metadata": {
      "needs_background": "light"
     },
     "output_type": "display_data"
    }
   ],
   "source": [
    "plt.figure(figsize = (10, 5))\n",
    "sns.violinplot(x=\"Group\", y=\"SYSBP\", data=frmgP3TrimmedDTH, hue = 'DEATH')"
   ]
  },
  {
   "cell_type": "code",
   "execution_count": 102,
   "metadata": {},
   "outputs": [
    {
     "data": {
      "text/plain": [
       "<AxesSubplot:xlabel='Group', ylabel='SYSBP'>"
      ]
     },
     "execution_count": 102,
     "metadata": {},
     "output_type": "execute_result"
    },
    {
     "data": {
      "image/png": "[encoded data removed]",
      "text/plain": [
       "<Figure size 720x360 with 1 Axes>"
      ]
     },
     "metadata": {
      "needs_background": "light"
     },
     "output_type": "display_data"
    }
   ],
   "source": [
    "plt.figure(figsize = (10, 5))\n",
    "sns.boxplot(x=\"Group\", y=\"SYSBP\", data=frmgP3TrimmedDTH, hue = \"DEATH\")"
   ]
  },
  {
   "cell_type": "markdown",
   "metadata": {},
   "source": [
    "***Group 0 has more than 75% of people with stage 1 hypertention or worse.***"
   ]
  },
  {
   "cell_type": "markdown",
   "metadata": {},
   "source": [
    "### Period 3 (DEATH): Investigating Smoking Status"
   ]
  },
  {
   "cell_type": "code",
   "execution_count": 103,
   "metadata": {},
   "outputs": [
    {
     "data": {
      "text/plain": [
       "<AxesSubplot:xlabel='Group', ylabel='CURSMOKE'>"
      ]
     },
     "execution_count": 103,
     "metadata": {},
     "output_type": "execute_result"
    },
    {
     "data": {
      "image/png": "[encoded data removed]",
      "text/plain": [
       "<Figure size 720x360 with 1 Axes>"
      ]
     },
     "metadata": {
      "needs_background": "light"
     },
     "output_type": "display_data"
    }
   ],
   "source": [
    "plt.figure(figsize = (10, 5))\n",
    "sns.barplot(x=\"Group\", y=\"CURSMOKE\", data=frmgP3TrimmedDTH, hue = 'DEATH')"
   ]
  },
  {
   "cell_type": "markdown",
   "metadata": {},
   "source": [
    "***Most smokers were included in group 1. In that group, people who died and people who didn't are split evenly and the incidence of death was 19.5%.***\n",
    "### Period 3 (DEATH): Investigating Cigarettes per Day"
   ]
  },
  {
   "cell_type": "code",
   "execution_count": 105,
   "metadata": {},
   "outputs": [
    {
     "data": {
      "text/plain": [
       "<AxesSubplot:xlabel='Group', ylabel='CIGPDAY'>"
      ]
     },
     "execution_count": 105,
     "metadata": {},
     "output_type": "execute_result"
    },
    {
     "data": {
      "image/png": "[encoded data removed]",
      "text/plain": [
       "<Figure size 720x360 with 1 Axes>"
      ]
     },
     "metadata": {
      "needs_background": "light"
     },
     "output_type": "display_data"
    }
   ],
   "source": [
    "plt.figure(figsize = (10, 5))\n",
    "sns.boxplot(x=\"Group\", y=\"CIGPDAY\", data=frmgP3TrimmedDTH, hue = \"DEATH\")"
   ]
  },
  {
   "cell_type": "markdown",
   "metadata": {},
   "source": [
    "***Most of the nonsmokers were included in group 2. This is also the group that has the highest incidence of death (18.7%).***"
   ]
  },
  {
   "cell_type": "markdown",
   "metadata": {},
   "source": [
    "## Conclusions\n",
    "A few themes emerge from applying the k-Means algorithm to the different periods\n",
    "* Age is an influencial factor in both the incidence of coronary heart disease and death\n",
    "* Incidence of stroke is likely a contributor to premature death\n",
    "* Smoking is a differentiator in terms of grouping, and likely a contributor to premature death"
   ]
  }
 ],
 "metadata": {
  "kernelspec": {
   "display_name": "Python 3",
   "language": "python",
   "name": "python3"
  },
  "language_info": {
   "codemirror_mode": {
    "name": "ipython",
    "version": 3
   },
   "file_extension": ".py",
   "mimetype": "text/x-python",
   "name": "python",
   "nbconvert_exporter": "python",
   "pygments_lexer": "ipython3",
   "version": "3.8.5"
  }
 },
 "nbformat": 4,
 "nbformat_minor": 4
}
