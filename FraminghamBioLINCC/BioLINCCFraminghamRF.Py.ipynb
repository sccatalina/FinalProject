{
 "cells": [
  {
   "cell_type": "markdown",
   "metadata": {},
   "source": [
    "# Import Packages"
   ]
  },
  {
   "cell_type": "code",
   "execution_count": 2,
   "metadata": {},
   "outputs": [],
   "source": [
    "import pandas as pd\n",
    "import numpy as np\n",
    "import seaborn as sns\n",
    "import matplotlib.pyplot as plt\n",
    "%matplotlib inline"
   ]
  },
  {
   "cell_type": "markdown",
   "metadata": {},
   "source": [
    "# Import Data"
   ]
  },
  {
   "cell_type": "markdown",
   "metadata": {},
   "source": [
    "\n",
    "* The data was retrieved from the [BioLINCC](https://biolincc.nhlbi.nih.gov/teaching/) website\n",
    "* Data was obtained from an ongoing cardiovascular study on residents of the town of Framingham, Massachusetts which was collected during three examination periods, approximately 6 years apart, from roughly 1956 to 1968\n",
    "* Missing values in the dataset are indicated by a period (.)\n",
    "* Disclaimer: This is teaching data that has been rendered anonymous through the application of certain statistical processes such as permutations and/or random visit selection. We cannot claim or imply that any inferences derived from the teaching datasets are valid estimates\n",
    "\n",
    "## Data Dictionary\n",
    "\n",
    "|Variable|Description|Variable Type|Levels (if applicable)/<br> Notes|\n",
    "| --- | --- |---|---|\n",
    "|RANDID | Unique identification number for each participant|NA||\n",
    "|SEX | Participant sex|Categorical|1=Men <br> 2=Women|\n",
    "|PERIOD|Examination Cycle|Categorical|1=Period 1 <br> 2=Period 2 <br> 3=Period 3|\n",
    "|AGE|Age at exam (years)|Continuous|\n",
    "|SYSBP|Systolic Blood Pressure (mean of last two of three <br> measurements) (mmHg)|Continuous|\n",
    "|DIABP|Diastolic Blood Pressure (mean of last two of three <br> measurements) (mmHg)|Continuous|\n",
    "|BPMEDS|Use of Anti-hypertensive medication at exam|Categorical|0=Not currently used <br> 1=Current Use|\n",
    "|CURSMOKE|Current cigarette smoking at exam|Categorical|0=Not current smoker <br> 1=Current smoker|\n",
    "|CIGPDAY|Number of cigarettes smoked each day|Continuous|0=Not current smoker <br> 1-90 cigarettes per day|\n",
    "|TOTCHOL|Serum Total Cholesterol (mg/dL)|Continuous|\n",
    "|HDLC|High Density Lipoprotein Cholesterol (mg/dL)|Continuous|Available for period 3 only|\n",
    "|LDLC|Low Density Lipoprotein Cholesterol (mg/dL)|Continuous|Available for period 3 only|\n",
    "|BMI|Body Mass Index, weight in kilograms/height <br> meters squared|Continuous|\n",
    "|GLUCOSE|Casual serum glucose (mg/dL)|Continuous|\n",
    "|DIABETES|Diabetic according to criteria of first exam <br> treated or first exam with casual glucose <br> of 200 mg/dL or more|Categorical|0=Not a diabetic <br> 1=Diabetic|\n",
    "|HEARTRTE|Heart rate (Ventricular rate) in beats/min|Continuous|\n",
    "|PREVHYP|Prevalent Hypertensive. Subject was defined as <br> hypertensive if treated or if second exam at <br>which mean systolic was >=140 mmHg or mean<br>  Diastolic >=90 mmHg|Categorical|0=Free of disease <br> 1=Prevalent disease|\n",
    "|ANYCHD|Angina Pectoris, <br> Myocardial infarction (Hospitalized and silent or unrecognized), <br>Coronary Insufficiency (Unstable Angina), <br> or Fatal Coronary Heart Disease|Categorical|0=Event did not occur during follow up <br> 1=Event occurred during followup|\n",
    "|STROKE|Atherothrombotic infarction, <br>Cerebral Embolism, <br>Intracerebral Hemorrhage, <br> or Subarachnoid Hemorrhage, <br> or Fatal Cerebrovascular Disease|Categorical|0=Event did not occur during follow up <br> 1=Event occurred during followup|\n",
    "|DEATH|Death from any cause|Categorical|0=Event did not occur during follow up <br> 1=Event occurred during followup|"
   ]
  },
  {
   "cell_type": "code",
   "execution_count": 3,
   "metadata": {},
   "outputs": [
    {
     "data": {
      "text/html": [
       "<div>\n",
       "<style scoped>\n",
       "    .dataframe tbody tr th:only-of-type {\n",
       "        vertical-align: middle;\n",
       "    }\n",
       "\n",
       "    .dataframe tbody tr th {\n",
       "        vertical-align: top;\n",
       "    }\n",
       "\n",
       "    .dataframe thead th {\n",
       "        text-align: right;\n",
       "    }\n",
       "</style>\n",
       "<table border=\"1\" class=\"dataframe\">\n",
       "  <thead>\n",
       "    <tr style=\"text-align: right;\">\n",
       "      <th></th>\n",
       "      <th>RANDID</th>\n",
       "      <th>SEX</th>\n",
       "      <th>TOTCHOL</th>\n",
       "      <th>AGE</th>\n",
       "      <th>SYSBP</th>\n",
       "      <th>DIABP</th>\n",
       "      <th>CURSMOKE</th>\n",
       "      <th>CIGPDAY</th>\n",
       "      <th>BMI</th>\n",
       "      <th>DIABETES</th>\n",
       "      <th>BPMEDS</th>\n",
       "      <th>HEARTRTE</th>\n",
       "      <th>GLUCOSE</th>\n",
       "      <th>educ</th>\n",
       "      <th>PREVCHD</th>\n",
       "      <th>PREVAP</th>\n",
       "      <th>PREVMI</th>\n",
       "      <th>PREVSTRK</th>\n",
       "      <th>PREVHYP</th>\n",
       "      <th>TIME</th>\n",
       "      <th>PERIOD</th>\n",
       "      <th>HDLC</th>\n",
       "      <th>LDLC</th>\n",
       "      <th>DEATH</th>\n",
       "      <th>ANGINA</th>\n",
       "      <th>HOSPMI</th>\n",
       "      <th>MI_FCHD</th>\n",
       "      <th>ANYCHD</th>\n",
       "      <th>STROKE</th>\n",
       "      <th>CVD</th>\n",
       "      <th>HYPERTEN</th>\n",
       "      <th>TIMEAP</th>\n",
       "      <th>TIMEMI</th>\n",
       "      <th>TIMEMIFC</th>\n",
       "      <th>TIMECHD</th>\n",
       "      <th>TIMESTRK</th>\n",
       "      <th>TIMECVD</th>\n",
       "      <th>TIMEDTH</th>\n",
       "      <th>TIMEHYP</th>\n",
       "    </tr>\n",
       "  </thead>\n",
       "  <tbody>\n",
       "    <tr>\n",
       "      <th>0</th>\n",
       "      <td>2448</td>\n",
       "      <td>1</td>\n",
       "      <td>195.0</td>\n",
       "      <td>39</td>\n",
       "      <td>106.0</td>\n",
       "      <td>70.0</td>\n",
       "      <td>0</td>\n",
       "      <td>0.0</td>\n",
       "      <td>26.97</td>\n",
       "      <td>0</td>\n",
       "      <td>0.0</td>\n",
       "      <td>80.0</td>\n",
       "      <td>77.0</td>\n",
       "      <td>4.0</td>\n",
       "      <td>0</td>\n",
       "      <td>0</td>\n",
       "      <td>0</td>\n",
       "      <td>0</td>\n",
       "      <td>0</td>\n",
       "      <td>0</td>\n",
       "      <td>1</td>\n",
       "      <td>NaN</td>\n",
       "      <td>NaN</td>\n",
       "      <td>0</td>\n",
       "      <td>0</td>\n",
       "      <td>1</td>\n",
       "      <td>1</td>\n",
       "      <td>1</td>\n",
       "      <td>0</td>\n",
       "      <td>1</td>\n",
       "      <td>0</td>\n",
       "      <td>8766</td>\n",
       "      <td>6438</td>\n",
       "      <td>6438</td>\n",
       "      <td>6438</td>\n",
       "      <td>8766</td>\n",
       "      <td>6438</td>\n",
       "      <td>8766</td>\n",
       "      <td>8766</td>\n",
       "    </tr>\n",
       "    <tr>\n",
       "      <th>1</th>\n",
       "      <td>2448</td>\n",
       "      <td>1</td>\n",
       "      <td>209.0</td>\n",
       "      <td>52</td>\n",
       "      <td>121.0</td>\n",
       "      <td>66.0</td>\n",
       "      <td>0</td>\n",
       "      <td>0.0</td>\n",
       "      <td>NaN</td>\n",
       "      <td>0</td>\n",
       "      <td>0.0</td>\n",
       "      <td>69.0</td>\n",
       "      <td>92.0</td>\n",
       "      <td>4.0</td>\n",
       "      <td>0</td>\n",
       "      <td>0</td>\n",
       "      <td>0</td>\n",
       "      <td>0</td>\n",
       "      <td>0</td>\n",
       "      <td>4628</td>\n",
       "      <td>3</td>\n",
       "      <td>31.0</td>\n",
       "      <td>178.0</td>\n",
       "      <td>0</td>\n",
       "      <td>0</td>\n",
       "      <td>1</td>\n",
       "      <td>1</td>\n",
       "      <td>1</td>\n",
       "      <td>0</td>\n",
       "      <td>1</td>\n",
       "      <td>0</td>\n",
       "      <td>8766</td>\n",
       "      <td>6438</td>\n",
       "      <td>6438</td>\n",
       "      <td>6438</td>\n",
       "      <td>8766</td>\n",
       "      <td>6438</td>\n",
       "      <td>8766</td>\n",
       "      <td>8766</td>\n",
       "    </tr>\n",
       "    <tr>\n",
       "      <th>2</th>\n",
       "      <td>6238</td>\n",
       "      <td>2</td>\n",
       "      <td>250.0</td>\n",
       "      <td>46</td>\n",
       "      <td>121.0</td>\n",
       "      <td>81.0</td>\n",
       "      <td>0</td>\n",
       "      <td>0.0</td>\n",
       "      <td>28.73</td>\n",
       "      <td>0</td>\n",
       "      <td>0.0</td>\n",
       "      <td>95.0</td>\n",
       "      <td>76.0</td>\n",
       "      <td>2.0</td>\n",
       "      <td>0</td>\n",
       "      <td>0</td>\n",
       "      <td>0</td>\n",
       "      <td>0</td>\n",
       "      <td>0</td>\n",
       "      <td>0</td>\n",
       "      <td>1</td>\n",
       "      <td>NaN</td>\n",
       "      <td>NaN</td>\n",
       "      <td>0</td>\n",
       "      <td>0</td>\n",
       "      <td>0</td>\n",
       "      <td>0</td>\n",
       "      <td>0</td>\n",
       "      <td>0</td>\n",
       "      <td>0</td>\n",
       "      <td>0</td>\n",
       "      <td>8766</td>\n",
       "      <td>8766</td>\n",
       "      <td>8766</td>\n",
       "      <td>8766</td>\n",
       "      <td>8766</td>\n",
       "      <td>8766</td>\n",
       "      <td>8766</td>\n",
       "      <td>8766</td>\n",
       "    </tr>\n",
       "    <tr>\n",
       "      <th>3</th>\n",
       "      <td>6238</td>\n",
       "      <td>2</td>\n",
       "      <td>260.0</td>\n",
       "      <td>52</td>\n",
       "      <td>105.0</td>\n",
       "      <td>69.5</td>\n",
       "      <td>0</td>\n",
       "      <td>0.0</td>\n",
       "      <td>29.43</td>\n",
       "      <td>0</td>\n",
       "      <td>0.0</td>\n",
       "      <td>80.0</td>\n",
       "      <td>86.0</td>\n",
       "      <td>2.0</td>\n",
       "      <td>0</td>\n",
       "      <td>0</td>\n",
       "      <td>0</td>\n",
       "      <td>0</td>\n",
       "      <td>0</td>\n",
       "      <td>2156</td>\n",
       "      <td>2</td>\n",
       "      <td>NaN</td>\n",
       "      <td>NaN</td>\n",
       "      <td>0</td>\n",
       "      <td>0</td>\n",
       "      <td>0</td>\n",
       "      <td>0</td>\n",
       "      <td>0</td>\n",
       "      <td>0</td>\n",
       "      <td>0</td>\n",
       "      <td>0</td>\n",
       "      <td>8766</td>\n",
       "      <td>8766</td>\n",
       "      <td>8766</td>\n",
       "      <td>8766</td>\n",
       "      <td>8766</td>\n",
       "      <td>8766</td>\n",
       "      <td>8766</td>\n",
       "      <td>8766</td>\n",
       "    </tr>\n",
       "    <tr>\n",
       "      <th>4</th>\n",
       "      <td>6238</td>\n",
       "      <td>2</td>\n",
       "      <td>237.0</td>\n",
       "      <td>58</td>\n",
       "      <td>108.0</td>\n",
       "      <td>66.0</td>\n",
       "      <td>0</td>\n",
       "      <td>0.0</td>\n",
       "      <td>28.50</td>\n",
       "      <td>0</td>\n",
       "      <td>0.0</td>\n",
       "      <td>80.0</td>\n",
       "      <td>71.0</td>\n",
       "      <td>2.0</td>\n",
       "      <td>0</td>\n",
       "      <td>0</td>\n",
       "      <td>0</td>\n",
       "      <td>0</td>\n",
       "      <td>0</td>\n",
       "      <td>4344</td>\n",
       "      <td>3</td>\n",
       "      <td>54.0</td>\n",
       "      <td>141.0</td>\n",
       "      <td>0</td>\n",
       "      <td>0</td>\n",
       "      <td>0</td>\n",
       "      <td>0</td>\n",
       "      <td>0</td>\n",
       "      <td>0</td>\n",
       "      <td>0</td>\n",
       "      <td>0</td>\n",
       "      <td>8766</td>\n",
       "      <td>8766</td>\n",
       "      <td>8766</td>\n",
       "      <td>8766</td>\n",
       "      <td>8766</td>\n",
       "      <td>8766</td>\n",
       "      <td>8766</td>\n",
       "      <td>8766</td>\n",
       "    </tr>\n",
       "  </tbody>\n",
       "</table>\n",
       "</div>"
      ],
      "text/plain": [
       "   RANDID  SEX  TOTCHOL  AGE  SYSBP  DIABP  CURSMOKE  CIGPDAY    BMI  \\\n",
       "0    2448    1    195.0   39  106.0   70.0         0      0.0  26.97   \n",
       "1    2448    1    209.0   52  121.0   66.0         0      0.0    NaN   \n",
       "2    6238    2    250.0   46  121.0   81.0         0      0.0  28.73   \n",
       "3    6238    2    260.0   52  105.0   69.5         0      0.0  29.43   \n",
       "4    6238    2    237.0   58  108.0   66.0         0      0.0  28.50   \n",
       "\n",
       "   DIABETES  BPMEDS  HEARTRTE  GLUCOSE  educ  PREVCHD  PREVAP  PREVMI  \\\n",
       "0         0     0.0      80.0     77.0   4.0        0       0       0   \n",
       "1         0     0.0      69.0     92.0   4.0        0       0       0   \n",
       "2         0     0.0      95.0     76.0   2.0        0       0       0   \n",
       "3         0     0.0      80.0     86.0   2.0        0       0       0   \n",
       "4         0     0.0      80.0     71.0   2.0        0       0       0   \n",
       "\n",
       "   PREVSTRK  PREVHYP  TIME  PERIOD  HDLC   LDLC  DEATH  ANGINA  HOSPMI  \\\n",
       "0         0        0     0       1   NaN    NaN      0       0       1   \n",
       "1         0        0  4628       3  31.0  178.0      0       0       1   \n",
       "2         0        0     0       1   NaN    NaN      0       0       0   \n",
       "3         0        0  2156       2   NaN    NaN      0       0       0   \n",
       "4         0        0  4344       3  54.0  141.0      0       0       0   \n",
       "\n",
       "   MI_FCHD  ANYCHD  STROKE  CVD  HYPERTEN  TIMEAP  TIMEMI  TIMEMIFC  TIMECHD  \\\n",
       "0        1       1       0    1         0    8766    6438      6438     6438   \n",
       "1        1       1       0    1         0    8766    6438      6438     6438   \n",
       "2        0       0       0    0         0    8766    8766      8766     8766   \n",
       "3        0       0       0    0         0    8766    8766      8766     8766   \n",
       "4        0       0       0    0         0    8766    8766      8766     8766   \n",
       "\n",
       "   TIMESTRK  TIMECVD  TIMEDTH  TIMEHYP  \n",
       "0      8766     6438     8766     8766  \n",
       "1      8766     6438     8766     8766  \n",
       "2      8766     8766     8766     8766  \n",
       "3      8766     8766     8766     8766  \n",
       "4      8766     8766     8766     8766  "
      ]
     },
     "execution_count": 3,
     "metadata": {},
     "output_type": "execute_result"
    }
   ],
   "source": [
    "framingham = pd.read_csv('/Users/silviacatalina/Google Drive/BethelTech/GitHub/wozU-DataSci/DS0110-FinalProject/Framingham/Data/csv/frmgham2.csv', na_values=\".\")\n",
    "pd.options.display.max_columns = None\n",
    "framingham.head()"
   ]
  },
  {
   "cell_type": "code",
   "execution_count": 4,
   "metadata": {},
   "outputs": [
    {
     "name": "stdout",
     "output_type": "stream",
     "text": [
      "<class 'pandas.core.frame.DataFrame'>\n",
      "RangeIndex: 11627 entries, 0 to 11626\n",
      "Data columns (total 39 columns):\n",
      " #   Column    Non-Null Count  Dtype  \n",
      "---  ------    --------------  -----  \n",
      " 0   RANDID    11627 non-null  int64  \n",
      " 1   SEX       11627 non-null  int64  \n",
      " 2   TOTCHOL   11218 non-null  float64\n",
      " 3   AGE       11627 non-null  int64  \n",
      " 4   SYSBP     11627 non-null  float64\n",
      " 5   DIABP     11627 non-null  float64\n",
      " 6   CURSMOKE  11627 non-null  int64  \n",
      " 7   CIGPDAY   11548 non-null  float64\n",
      " 8   BMI       11575 non-null  float64\n",
      " 9   DIABETES  11627 non-null  int64  \n",
      " 10  BPMEDS    11034 non-null  float64\n",
      " 11  HEARTRTE  11621 non-null  float64\n",
      " 12  GLUCOSE   10187 non-null  float64\n",
      " 13  educ      11332 non-null  float64\n",
      " 14  PREVCHD   11627 non-null  int64  \n",
      " 15  PREVAP    11627 non-null  int64  \n",
      " 16  PREVMI    11627 non-null  int64  \n",
      " 17  PREVSTRK  11627 non-null  int64  \n",
      " 18  PREVHYP   11627 non-null  int64  \n",
      " 19  TIME      11627 non-null  int64  \n",
      " 20  PERIOD    11627 non-null  int64  \n",
      " 21  HDLC      3027 non-null   float64\n",
      " 22  LDLC      3026 non-null   float64\n",
      " 23  DEATH     11627 non-null  int64  \n",
      " 24  ANGINA    11627 non-null  int64  \n",
      " 25  HOSPMI    11627 non-null  int64  \n",
      " 26  MI_FCHD   11627 non-null  int64  \n",
      " 27  ANYCHD    11627 non-null  int64  \n",
      " 28  STROKE    11627 non-null  int64  \n",
      " 29  CVD       11627 non-null  int64  \n",
      " 30  HYPERTEN  11627 non-null  int64  \n",
      " 31  TIMEAP    11627 non-null  int64  \n",
      " 32  TIMEMI    11627 non-null  int64  \n",
      " 33  TIMEMIFC  11627 non-null  int64  \n",
      " 34  TIMECHD   11627 non-null  int64  \n",
      " 35  TIMESTRK  11627 non-null  int64  \n",
      " 36  TIMECVD   11627 non-null  int64  \n",
      " 37  TIMEDTH   11627 non-null  int64  \n",
      " 38  TIMEHYP   11627 non-null  int64  \n",
      "dtypes: float64(11), int64(28)\n",
      "memory usage: 3.5 MB\n"
     ]
    }
   ],
   "source": [
    "framingham.info()"
   ]
  },
  {
   "cell_type": "markdown",
   "metadata": {},
   "source": [
    "# Data Wrangling"
   ]
  },
  {
   "cell_type": "markdown",
   "metadata": {},
   "source": [
    "## Selecting Columns of Interest"
   ]
  },
  {
   "cell_type": "markdown",
   "metadata": {},
   "source": [
    "### List of original columns\n",
    "RANDID,SEX,TOTCHOL,AGE,SYSBP,DIABP,CURSMOKE,CIGPDAY,BMI,DIABETES,BPMEDS,HEARTRTE,GLUCOSE,educ,PREVCHD,PREVAP,\n",
    "PREVMI,PREVSTRK,PREVHYP,TIME,PERIOD,HDLC,LDLC,DEATH,ANGINA,HOSPMI,MI_FCHD,ANYCHD,STROKE,CVD,HYPERTEN,TIMEAP,\n",
    "TIMEMI,TIMEMIFC,TIMECHD,TIMESTRK,TIMECVD,TIMEDTH,TIMEHYP"
   ]
  },
  {
   "cell_type": "code",
   "execution_count": 5,
   "metadata": {},
   "outputs": [
    {
     "data": {
      "text/html": [
       "<div>\n",
       "<style scoped>\n",
       "    .dataframe tbody tr th:only-of-type {\n",
       "        vertical-align: middle;\n",
       "    }\n",
       "\n",
       "    .dataframe tbody tr th {\n",
       "        vertical-align: top;\n",
       "    }\n",
       "\n",
       "    .dataframe thead th {\n",
       "        text-align: right;\n",
       "    }\n",
       "</style>\n",
       "<table border=\"1\" class=\"dataframe\">\n",
       "  <thead>\n",
       "    <tr style=\"text-align: right;\">\n",
       "      <th></th>\n",
       "      <th>RANDID</th>\n",
       "      <th>SEX</th>\n",
       "      <th>PERIOD</th>\n",
       "      <th>AGE</th>\n",
       "      <th>SYSBP</th>\n",
       "      <th>DIABP</th>\n",
       "      <th>BPMEDS</th>\n",
       "      <th>CURSMOKE</th>\n",
       "      <th>CIGPDAY</th>\n",
       "      <th>TOTCHOL</th>\n",
       "      <th>HDLC</th>\n",
       "      <th>LDLC</th>\n",
       "      <th>BMI</th>\n",
       "      <th>GLUCOSE</th>\n",
       "      <th>DIABETES</th>\n",
       "      <th>HEARTRTE</th>\n",
       "      <th>PREVHYP</th>\n",
       "      <th>ANYCHD</th>\n",
       "      <th>STROKE</th>\n",
       "      <th>DEATH</th>\n",
       "    </tr>\n",
       "  </thead>\n",
       "  <tbody>\n",
       "    <tr>\n",
       "      <th>0</th>\n",
       "      <td>2448</td>\n",
       "      <td>1</td>\n",
       "      <td>1</td>\n",
       "      <td>39</td>\n",
       "      <td>106.0</td>\n",
       "      <td>70.0</td>\n",
       "      <td>0.0</td>\n",
       "      <td>0</td>\n",
       "      <td>0.0</td>\n",
       "      <td>195.0</td>\n",
       "      <td>NaN</td>\n",
       "      <td>NaN</td>\n",
       "      <td>26.97</td>\n",
       "      <td>77.0</td>\n",
       "      <td>0</td>\n",
       "      <td>80.0</td>\n",
       "      <td>0</td>\n",
       "      <td>1</td>\n",
       "      <td>0</td>\n",
       "      <td>0</td>\n",
       "    </tr>\n",
       "    <tr>\n",
       "      <th>1</th>\n",
       "      <td>2448</td>\n",
       "      <td>1</td>\n",
       "      <td>3</td>\n",
       "      <td>52</td>\n",
       "      <td>121.0</td>\n",
       "      <td>66.0</td>\n",
       "      <td>0.0</td>\n",
       "      <td>0</td>\n",
       "      <td>0.0</td>\n",
       "      <td>209.0</td>\n",
       "      <td>31.0</td>\n",
       "      <td>178.0</td>\n",
       "      <td>NaN</td>\n",
       "      <td>92.0</td>\n",
       "      <td>0</td>\n",
       "      <td>69.0</td>\n",
       "      <td>0</td>\n",
       "      <td>1</td>\n",
       "      <td>0</td>\n",
       "      <td>0</td>\n",
       "    </tr>\n",
       "    <tr>\n",
       "      <th>2</th>\n",
       "      <td>6238</td>\n",
       "      <td>2</td>\n",
       "      <td>1</td>\n",
       "      <td>46</td>\n",
       "      <td>121.0</td>\n",
       "      <td>81.0</td>\n",
       "      <td>0.0</td>\n",
       "      <td>0</td>\n",
       "      <td>0.0</td>\n",
       "      <td>250.0</td>\n",
       "      <td>NaN</td>\n",
       "      <td>NaN</td>\n",
       "      <td>28.73</td>\n",
       "      <td>76.0</td>\n",
       "      <td>0</td>\n",
       "      <td>95.0</td>\n",
       "      <td>0</td>\n",
       "      <td>0</td>\n",
       "      <td>0</td>\n",
       "      <td>0</td>\n",
       "    </tr>\n",
       "    <tr>\n",
       "      <th>3</th>\n",
       "      <td>6238</td>\n",
       "      <td>2</td>\n",
       "      <td>2</td>\n",
       "      <td>52</td>\n",
       "      <td>105.0</td>\n",
       "      <td>69.5</td>\n",
       "      <td>0.0</td>\n",
       "      <td>0</td>\n",
       "      <td>0.0</td>\n",
       "      <td>260.0</td>\n",
       "      <td>NaN</td>\n",
       "      <td>NaN</td>\n",
       "      <td>29.43</td>\n",
       "      <td>86.0</td>\n",
       "      <td>0</td>\n",
       "      <td>80.0</td>\n",
       "      <td>0</td>\n",
       "      <td>0</td>\n",
       "      <td>0</td>\n",
       "      <td>0</td>\n",
       "    </tr>\n",
       "    <tr>\n",
       "      <th>4</th>\n",
       "      <td>6238</td>\n",
       "      <td>2</td>\n",
       "      <td>3</td>\n",
       "      <td>58</td>\n",
       "      <td>108.0</td>\n",
       "      <td>66.0</td>\n",
       "      <td>0.0</td>\n",
       "      <td>0</td>\n",
       "      <td>0.0</td>\n",
       "      <td>237.0</td>\n",
       "      <td>54.0</td>\n",
       "      <td>141.0</td>\n",
       "      <td>28.50</td>\n",
       "      <td>71.0</td>\n",
       "      <td>0</td>\n",
       "      <td>80.0</td>\n",
       "      <td>0</td>\n",
       "      <td>0</td>\n",
       "      <td>0</td>\n",
       "      <td>0</td>\n",
       "    </tr>\n",
       "  </tbody>\n",
       "</table>\n",
       "</div>"
      ],
      "text/plain": [
       "   RANDID  SEX  PERIOD  AGE  SYSBP  DIABP  BPMEDS  CURSMOKE  CIGPDAY  TOTCHOL  \\\n",
       "0    2448    1       1   39  106.0   70.0     0.0         0      0.0    195.0   \n",
       "1    2448    1       3   52  121.0   66.0     0.0         0      0.0    209.0   \n",
       "2    6238    2       1   46  121.0   81.0     0.0         0      0.0    250.0   \n",
       "3    6238    2       2   52  105.0   69.5     0.0         0      0.0    260.0   \n",
       "4    6238    2       3   58  108.0   66.0     0.0         0      0.0    237.0   \n",
       "\n",
       "   HDLC   LDLC    BMI  GLUCOSE  DIABETES  HEARTRTE  PREVHYP  ANYCHD  STROKE  \\\n",
       "0   NaN    NaN  26.97     77.0         0      80.0        0       1       0   \n",
       "1  31.0  178.0    NaN     92.0         0      69.0        0       1       0   \n",
       "2   NaN    NaN  28.73     76.0         0      95.0        0       0       0   \n",
       "3   NaN    NaN  29.43     86.0         0      80.0        0       0       0   \n",
       "4  54.0  141.0  28.50     71.0         0      80.0        0       0       0   \n",
       "\n",
       "   DEATH  \n",
       "0      0  \n",
       "1      0  \n",
       "2      0  \n",
       "3      0  \n",
       "4      0  "
      ]
     },
     "execution_count": 5,
     "metadata": {},
     "output_type": "execute_result"
    }
   ],
   "source": [
    "framingham1 = framingham[['RANDID', 'SEX', 'PERIOD', 'AGE', 'SYSBP', 'DIABP', 'BPMEDS', 'CURSMOKE', \n",
    "                          'CIGPDAY', 'TOTCHOL', 'HDLC', 'LDLC', 'BMI', 'GLUCOSE', 'DIABETES', 'HEARTRTE', \n",
    "                          'PREVHYP', 'ANYCHD', 'STROKE', 'DEATH']]\n",
    "framingham1.head()"
   ]
  },
  {
   "cell_type": "code",
   "execution_count": 6,
   "metadata": {},
   "outputs": [
    {
     "name": "stdout",
     "output_type": "stream",
     "text": [
      "<class 'pandas.core.frame.DataFrame'>\n",
      "RangeIndex: 11627 entries, 0 to 11626\n",
      "Data columns (total 20 columns):\n",
      " #   Column    Non-Null Count  Dtype  \n",
      "---  ------    --------------  -----  \n",
      " 0   RANDID    11627 non-null  int64  \n",
      " 1   SEX       11627 non-null  int64  \n",
      " 2   PERIOD    11627 non-null  int64  \n",
      " 3   AGE       11627 non-null  int64  \n",
      " 4   SYSBP     11627 non-null  float64\n",
      " 5   DIABP     11627 non-null  float64\n",
      " 6   BPMEDS    11034 non-null  float64\n",
      " 7   CURSMOKE  11627 non-null  int64  \n",
      " 8   CIGPDAY   11548 non-null  float64\n",
      " 9   TOTCHOL   11218 non-null  float64\n",
      " 10  HDLC      3027 non-null   float64\n",
      " 11  LDLC      3026 non-null   float64\n",
      " 12  BMI       11575 non-null  float64\n",
      " 13  GLUCOSE   10187 non-null  float64\n",
      " 14  DIABETES  11627 non-null  int64  \n",
      " 15  HEARTRTE  11621 non-null  float64\n",
      " 16  PREVHYP   11627 non-null  int64  \n",
      " 17  ANYCHD    11627 non-null  int64  \n",
      " 18  STROKE    11627 non-null  int64  \n",
      " 19  DEATH     11627 non-null  int64  \n",
      "dtypes: float64(10), int64(10)\n",
      "memory usage: 1.8 MB\n"
     ]
    }
   ],
   "source": [
    "framingham1.info()"
   ]
  },
  {
   "cell_type": "markdown",
   "metadata": {},
   "source": [
    "### Subset data to periods 1, 2, 3; Remove NAs; Reset indexes\n",
    "* Variables removed: PERIOD and HDLC, LDLC for periods 1 and 2"
   ]
  },
  {
   "cell_type": "code",
   "execution_count": 7,
   "metadata": {},
   "outputs": [
    {
     "data": {
      "text/html": [
       "<div>\n",
       "<style scoped>\n",
       "    .dataframe tbody tr th:only-of-type {\n",
       "        vertical-align: middle;\n",
       "    }\n",
       "\n",
       "    .dataframe tbody tr th {\n",
       "        vertical-align: top;\n",
       "    }\n",
       "\n",
       "    .dataframe thead th {\n",
       "        text-align: right;\n",
       "    }\n",
       "</style>\n",
       "<table border=\"1\" class=\"dataframe\">\n",
       "  <thead>\n",
       "    <tr style=\"text-align: right;\">\n",
       "      <th></th>\n",
       "      <th>RANDID</th>\n",
       "      <th>SEX</th>\n",
       "      <th>PERIOD</th>\n",
       "      <th>AGE</th>\n",
       "      <th>SYSBP</th>\n",
       "      <th>DIABP</th>\n",
       "      <th>BPMEDS</th>\n",
       "      <th>CURSMOKE</th>\n",
       "      <th>CIGPDAY</th>\n",
       "      <th>TOTCHOL</th>\n",
       "      <th>HDLC</th>\n",
       "      <th>LDLC</th>\n",
       "      <th>BMI</th>\n",
       "      <th>GLUCOSE</th>\n",
       "      <th>DIABETES</th>\n",
       "      <th>HEARTRTE</th>\n",
       "      <th>PREVHYP</th>\n",
       "      <th>ANYCHD</th>\n",
       "      <th>STROKE</th>\n",
       "      <th>DEATH</th>\n",
       "    </tr>\n",
       "  </thead>\n",
       "  <tbody>\n",
       "    <tr>\n",
       "      <th>0</th>\n",
       "      <td>2448</td>\n",
       "      <td>1</td>\n",
       "      <td>1</td>\n",
       "      <td>39</td>\n",
       "      <td>106.0</td>\n",
       "      <td>70.0</td>\n",
       "      <td>0.0</td>\n",
       "      <td>0</td>\n",
       "      <td>0.0</td>\n",
       "      <td>195.0</td>\n",
       "      <td>NaN</td>\n",
       "      <td>NaN</td>\n",
       "      <td>26.97</td>\n",
       "      <td>77.0</td>\n",
       "      <td>0</td>\n",
       "      <td>80.0</td>\n",
       "      <td>0</td>\n",
       "      <td>1</td>\n",
       "      <td>0</td>\n",
       "      <td>0</td>\n",
       "    </tr>\n",
       "    <tr>\n",
       "      <th>2</th>\n",
       "      <td>6238</td>\n",
       "      <td>2</td>\n",
       "      <td>1</td>\n",
       "      <td>46</td>\n",
       "      <td>121.0</td>\n",
       "      <td>81.0</td>\n",
       "      <td>0.0</td>\n",
       "      <td>0</td>\n",
       "      <td>0.0</td>\n",
       "      <td>250.0</td>\n",
       "      <td>NaN</td>\n",
       "      <td>NaN</td>\n",
       "      <td>28.73</td>\n",
       "      <td>76.0</td>\n",
       "      <td>0</td>\n",
       "      <td>95.0</td>\n",
       "      <td>0</td>\n",
       "      <td>0</td>\n",
       "      <td>0</td>\n",
       "      <td>0</td>\n",
       "    </tr>\n",
       "    <tr>\n",
       "      <th>5</th>\n",
       "      <td>9428</td>\n",
       "      <td>1</td>\n",
       "      <td>1</td>\n",
       "      <td>48</td>\n",
       "      <td>127.5</td>\n",
       "      <td>80.0</td>\n",
       "      <td>0.0</td>\n",
       "      <td>1</td>\n",
       "      <td>20.0</td>\n",
       "      <td>245.0</td>\n",
       "      <td>NaN</td>\n",
       "      <td>NaN</td>\n",
       "      <td>25.34</td>\n",
       "      <td>70.0</td>\n",
       "      <td>0</td>\n",
       "      <td>75.0</td>\n",
       "      <td>0</td>\n",
       "      <td>0</td>\n",
       "      <td>0</td>\n",
       "      <td>0</td>\n",
       "    </tr>\n",
       "    <tr>\n",
       "      <th>7</th>\n",
       "      <td>10552</td>\n",
       "      <td>2</td>\n",
       "      <td>1</td>\n",
       "      <td>61</td>\n",
       "      <td>150.0</td>\n",
       "      <td>95.0</td>\n",
       "      <td>0.0</td>\n",
       "      <td>1</td>\n",
       "      <td>30.0</td>\n",
       "      <td>225.0</td>\n",
       "      <td>NaN</td>\n",
       "      <td>NaN</td>\n",
       "      <td>28.58</td>\n",
       "      <td>103.0</td>\n",
       "      <td>0</td>\n",
       "      <td>65.0</td>\n",
       "      <td>1</td>\n",
       "      <td>0</td>\n",
       "      <td>1</td>\n",
       "      <td>1</td>\n",
       "    </tr>\n",
       "    <tr>\n",
       "      <th>9</th>\n",
       "      <td>11252</td>\n",
       "      <td>2</td>\n",
       "      <td>1</td>\n",
       "      <td>46</td>\n",
       "      <td>130.0</td>\n",
       "      <td>84.0</td>\n",
       "      <td>0.0</td>\n",
       "      <td>1</td>\n",
       "      <td>23.0</td>\n",
       "      <td>285.0</td>\n",
       "      <td>NaN</td>\n",
       "      <td>NaN</td>\n",
       "      <td>23.10</td>\n",
       "      <td>85.0</td>\n",
       "      <td>0</td>\n",
       "      <td>85.0</td>\n",
       "      <td>0</td>\n",
       "      <td>0</td>\n",
       "      <td>0</td>\n",
       "      <td>0</td>\n",
       "    </tr>\n",
       "  </tbody>\n",
       "</table>\n",
       "</div>"
      ],
      "text/plain": [
       "   RANDID  SEX  PERIOD  AGE  SYSBP  DIABP  BPMEDS  CURSMOKE  CIGPDAY  TOTCHOL  \\\n",
       "0    2448    1       1   39  106.0   70.0     0.0         0      0.0    195.0   \n",
       "2    6238    2       1   46  121.0   81.0     0.0         0      0.0    250.0   \n",
       "5    9428    1       1   48  127.5   80.0     0.0         1     20.0    245.0   \n",
       "7   10552    2       1   61  150.0   95.0     0.0         1     30.0    225.0   \n",
       "9   11252    2       1   46  130.0   84.0     0.0         1     23.0    285.0   \n",
       "\n",
       "   HDLC  LDLC    BMI  GLUCOSE  DIABETES  HEARTRTE  PREVHYP  ANYCHD  STROKE  \\\n",
       "0   NaN   NaN  26.97     77.0         0      80.0        0       1       0   \n",
       "2   NaN   NaN  28.73     76.0         0      95.0        0       0       0   \n",
       "5   NaN   NaN  25.34     70.0         0      75.0        0       0       0   \n",
       "7   NaN   NaN  28.58    103.0         0      65.0        1       0       1   \n",
       "9   NaN   NaN  23.10     85.0         0      85.0        0       0       0   \n",
       "\n",
       "   DEATH  \n",
       "0      0  \n",
       "2      0  \n",
       "5      0  \n",
       "7      1  \n",
       "9      0  "
      ]
     },
     "execution_count": 7,
     "metadata": {},
     "output_type": "execute_result"
    }
   ],
   "source": [
    "framinghamP1 = framingham1[framingham1['PERIOD'] == 1].copy()\n",
    "framinghamP1.head()"
   ]
  },
  {
   "cell_type": "code",
   "execution_count": 8,
   "metadata": {},
   "outputs": [
    {
     "data": {
      "text/html": [
       "<div>\n",
       "<style scoped>\n",
       "    .dataframe tbody tr th:only-of-type {\n",
       "        vertical-align: middle;\n",
       "    }\n",
       "\n",
       "    .dataframe tbody tr th {\n",
       "        vertical-align: top;\n",
       "    }\n",
       "\n",
       "    .dataframe thead th {\n",
       "        text-align: right;\n",
       "    }\n",
       "</style>\n",
       "<table border=\"1\" class=\"dataframe\">\n",
       "  <thead>\n",
       "    <tr style=\"text-align: right;\">\n",
       "      <th></th>\n",
       "      <th>RANDID</th>\n",
       "      <th>SEX</th>\n",
       "      <th>AGE</th>\n",
       "      <th>SYSBP</th>\n",
       "      <th>DIABP</th>\n",
       "      <th>BPMEDS</th>\n",
       "      <th>CURSMOKE</th>\n",
       "      <th>CIGPDAY</th>\n",
       "      <th>TOTCHOL</th>\n",
       "      <th>BMI</th>\n",
       "      <th>GLUCOSE</th>\n",
       "      <th>DIABETES</th>\n",
       "      <th>HEARTRTE</th>\n",
       "      <th>PREVHYP</th>\n",
       "      <th>ANYCHD</th>\n",
       "      <th>STROKE</th>\n",
       "      <th>DEATH</th>\n",
       "    </tr>\n",
       "  </thead>\n",
       "  <tbody>\n",
       "    <tr>\n",
       "      <th>0</th>\n",
       "      <td>2448</td>\n",
       "      <td>1</td>\n",
       "      <td>39</td>\n",
       "      <td>106.0</td>\n",
       "      <td>70.0</td>\n",
       "      <td>0.0</td>\n",
       "      <td>0</td>\n",
       "      <td>0.0</td>\n",
       "      <td>195.0</td>\n",
       "      <td>26.97</td>\n",
       "      <td>77.0</td>\n",
       "      <td>0</td>\n",
       "      <td>80.0</td>\n",
       "      <td>0</td>\n",
       "      <td>1</td>\n",
       "      <td>0</td>\n",
       "      <td>0</td>\n",
       "    </tr>\n",
       "    <tr>\n",
       "      <th>1</th>\n",
       "      <td>6238</td>\n",
       "      <td>2</td>\n",
       "      <td>46</td>\n",
       "      <td>121.0</td>\n",
       "      <td>81.0</td>\n",
       "      <td>0.0</td>\n",
       "      <td>0</td>\n",
       "      <td>0.0</td>\n",
       "      <td>250.0</td>\n",
       "      <td>28.73</td>\n",
       "      <td>76.0</td>\n",
       "      <td>0</td>\n",
       "      <td>95.0</td>\n",
       "      <td>0</td>\n",
       "      <td>0</td>\n",
       "      <td>0</td>\n",
       "      <td>0</td>\n",
       "    </tr>\n",
       "    <tr>\n",
       "      <th>2</th>\n",
       "      <td>9428</td>\n",
       "      <td>1</td>\n",
       "      <td>48</td>\n",
       "      <td>127.5</td>\n",
       "      <td>80.0</td>\n",
       "      <td>0.0</td>\n",
       "      <td>1</td>\n",
       "      <td>20.0</td>\n",
       "      <td>245.0</td>\n",
       "      <td>25.34</td>\n",
       "      <td>70.0</td>\n",
       "      <td>0</td>\n",
       "      <td>75.0</td>\n",
       "      <td>0</td>\n",
       "      <td>0</td>\n",
       "      <td>0</td>\n",
       "      <td>0</td>\n",
       "    </tr>\n",
       "    <tr>\n",
       "      <th>3</th>\n",
       "      <td>10552</td>\n",
       "      <td>2</td>\n",
       "      <td>61</td>\n",
       "      <td>150.0</td>\n",
       "      <td>95.0</td>\n",
       "      <td>0.0</td>\n",
       "      <td>1</td>\n",
       "      <td>30.0</td>\n",
       "      <td>225.0</td>\n",
       "      <td>28.58</td>\n",
       "      <td>103.0</td>\n",
       "      <td>0</td>\n",
       "      <td>65.0</td>\n",
       "      <td>1</td>\n",
       "      <td>0</td>\n",
       "      <td>1</td>\n",
       "      <td>1</td>\n",
       "    </tr>\n",
       "    <tr>\n",
       "      <th>4</th>\n",
       "      <td>11252</td>\n",
       "      <td>2</td>\n",
       "      <td>46</td>\n",
       "      <td>130.0</td>\n",
       "      <td>84.0</td>\n",
       "      <td>0.0</td>\n",
       "      <td>1</td>\n",
       "      <td>23.0</td>\n",
       "      <td>285.0</td>\n",
       "      <td>23.10</td>\n",
       "      <td>85.0</td>\n",
       "      <td>0</td>\n",
       "      <td>85.0</td>\n",
       "      <td>0</td>\n",
       "      <td>0</td>\n",
       "      <td>0</td>\n",
       "      <td>0</td>\n",
       "    </tr>\n",
       "  </tbody>\n",
       "</table>\n",
       "</div>"
      ],
      "text/plain": [
       "   RANDID  SEX  AGE  SYSBP  DIABP  BPMEDS  CURSMOKE  CIGPDAY  TOTCHOL    BMI  \\\n",
       "0    2448    1   39  106.0   70.0     0.0         0      0.0    195.0  26.97   \n",
       "1    6238    2   46  121.0   81.0     0.0         0      0.0    250.0  28.73   \n",
       "2    9428    1   48  127.5   80.0     0.0         1     20.0    245.0  25.34   \n",
       "3   10552    2   61  150.0   95.0     0.0         1     30.0    225.0  28.58   \n",
       "4   11252    2   46  130.0   84.0     0.0         1     23.0    285.0  23.10   \n",
       "\n",
       "   GLUCOSE  DIABETES  HEARTRTE  PREVHYP  ANYCHD  STROKE  DEATH  \n",
       "0     77.0         0      80.0        0       1       0      0  \n",
       "1     76.0         0      95.0        0       0       0      0  \n",
       "2     70.0         0      75.0        0       0       0      0  \n",
       "3    103.0         0      65.0        1       0       1      1  \n",
       "4     85.0         0      85.0        0       0       0      0  "
      ]
     },
     "execution_count": 8,
     "metadata": {},
     "output_type": "execute_result"
    }
   ],
   "source": [
    "framinghamP1.drop(['PERIOD', 'HDLC', 'LDLC'], axis=1, inplace=True)\n",
    "framinghamP1.dropna(inplace=True)\n",
    "framinghamP1.reset_index(drop=True, inplace = True)\n",
    "framinghamP1.head()"
   ]
  },
  {
   "cell_type": "code",
   "execution_count": 9,
   "metadata": {},
   "outputs": [
    {
     "data": {
      "text/html": [
       "<div>\n",
       "<style scoped>\n",
       "    .dataframe tbody tr th:only-of-type {\n",
       "        vertical-align: middle;\n",
       "    }\n",
       "\n",
       "    .dataframe tbody tr th {\n",
       "        vertical-align: top;\n",
       "    }\n",
       "\n",
       "    .dataframe thead th {\n",
       "        text-align: right;\n",
       "    }\n",
       "</style>\n",
       "<table border=\"1\" class=\"dataframe\">\n",
       "  <thead>\n",
       "    <tr style=\"text-align: right;\">\n",
       "      <th></th>\n",
       "      <th>RANDID</th>\n",
       "      <th>SEX</th>\n",
       "      <th>PERIOD</th>\n",
       "      <th>AGE</th>\n",
       "      <th>SYSBP</th>\n",
       "      <th>DIABP</th>\n",
       "      <th>BPMEDS</th>\n",
       "      <th>CURSMOKE</th>\n",
       "      <th>CIGPDAY</th>\n",
       "      <th>TOTCHOL</th>\n",
       "      <th>HDLC</th>\n",
       "      <th>LDLC</th>\n",
       "      <th>BMI</th>\n",
       "      <th>GLUCOSE</th>\n",
       "      <th>DIABETES</th>\n",
       "      <th>HEARTRTE</th>\n",
       "      <th>PREVHYP</th>\n",
       "      <th>ANYCHD</th>\n",
       "      <th>STROKE</th>\n",
       "      <th>DEATH</th>\n",
       "    </tr>\n",
       "  </thead>\n",
       "  <tbody>\n",
       "    <tr>\n",
       "      <th>3</th>\n",
       "      <td>6238</td>\n",
       "      <td>2</td>\n",
       "      <td>2</td>\n",
       "      <td>52</td>\n",
       "      <td>105.0</td>\n",
       "      <td>69.5</td>\n",
       "      <td>0.0</td>\n",
       "      <td>0</td>\n",
       "      <td>0.0</td>\n",
       "      <td>260.0</td>\n",
       "      <td>NaN</td>\n",
       "      <td>NaN</td>\n",
       "      <td>29.43</td>\n",
       "      <td>86.0</td>\n",
       "      <td>0</td>\n",
       "      <td>80.0</td>\n",
       "      <td>0</td>\n",
       "      <td>0</td>\n",
       "      <td>0</td>\n",
       "      <td>0</td>\n",
       "    </tr>\n",
       "    <tr>\n",
       "      <th>6</th>\n",
       "      <td>9428</td>\n",
       "      <td>1</td>\n",
       "      <td>2</td>\n",
       "      <td>54</td>\n",
       "      <td>141.0</td>\n",
       "      <td>89.0</td>\n",
       "      <td>0.0</td>\n",
       "      <td>1</td>\n",
       "      <td>30.0</td>\n",
       "      <td>283.0</td>\n",
       "      <td>NaN</td>\n",
       "      <td>NaN</td>\n",
       "      <td>25.34</td>\n",
       "      <td>87.0</td>\n",
       "      <td>0</td>\n",
       "      <td>75.0</td>\n",
       "      <td>0</td>\n",
       "      <td>0</td>\n",
       "      <td>0</td>\n",
       "      <td>0</td>\n",
       "    </tr>\n",
       "    <tr>\n",
       "      <th>8</th>\n",
       "      <td>10552</td>\n",
       "      <td>2</td>\n",
       "      <td>2</td>\n",
       "      <td>67</td>\n",
       "      <td>183.0</td>\n",
       "      <td>109.0</td>\n",
       "      <td>0.0</td>\n",
       "      <td>1</td>\n",
       "      <td>20.0</td>\n",
       "      <td>232.0</td>\n",
       "      <td>NaN</td>\n",
       "      <td>NaN</td>\n",
       "      <td>30.18</td>\n",
       "      <td>89.0</td>\n",
       "      <td>0</td>\n",
       "      <td>60.0</td>\n",
       "      <td>1</td>\n",
       "      <td>0</td>\n",
       "      <td>1</td>\n",
       "      <td>1</td>\n",
       "    </tr>\n",
       "    <tr>\n",
       "      <th>10</th>\n",
       "      <td>11252</td>\n",
       "      <td>2</td>\n",
       "      <td>2</td>\n",
       "      <td>51</td>\n",
       "      <td>109.0</td>\n",
       "      <td>77.0</td>\n",
       "      <td>0.0</td>\n",
       "      <td>1</td>\n",
       "      <td>30.0</td>\n",
       "      <td>343.0</td>\n",
       "      <td>NaN</td>\n",
       "      <td>NaN</td>\n",
       "      <td>23.48</td>\n",
       "      <td>72.0</td>\n",
       "      <td>0</td>\n",
       "      <td>90.0</td>\n",
       "      <td>0</td>\n",
       "      <td>0</td>\n",
       "      <td>0</td>\n",
       "      <td>0</td>\n",
       "    </tr>\n",
       "    <tr>\n",
       "      <th>13</th>\n",
       "      <td>11263</td>\n",
       "      <td>2</td>\n",
       "      <td>2</td>\n",
       "      <td>49</td>\n",
       "      <td>177.0</td>\n",
       "      <td>102.0</td>\n",
       "      <td>1.0</td>\n",
       "      <td>0</td>\n",
       "      <td>0.0</td>\n",
       "      <td>230.0</td>\n",
       "      <td>NaN</td>\n",
       "      <td>NaN</td>\n",
       "      <td>31.36</td>\n",
       "      <td>86.0</td>\n",
       "      <td>0</td>\n",
       "      <td>120.0</td>\n",
       "      <td>1</td>\n",
       "      <td>1</td>\n",
       "      <td>0</td>\n",
       "      <td>0</td>\n",
       "    </tr>\n",
       "  </tbody>\n",
       "</table>\n",
       "</div>"
      ],
      "text/plain": [
       "    RANDID  SEX  PERIOD  AGE  SYSBP  DIABP  BPMEDS  CURSMOKE  CIGPDAY  \\\n",
       "3     6238    2       2   52  105.0   69.5     0.0         0      0.0   \n",
       "6     9428    1       2   54  141.0   89.0     0.0         1     30.0   \n",
       "8    10552    2       2   67  183.0  109.0     0.0         1     20.0   \n",
       "10   11252    2       2   51  109.0   77.0     0.0         1     30.0   \n",
       "13   11263    2       2   49  177.0  102.0     1.0         0      0.0   \n",
       "\n",
       "    TOTCHOL  HDLC  LDLC    BMI  GLUCOSE  DIABETES  HEARTRTE  PREVHYP  ANYCHD  \\\n",
       "3     260.0   NaN   NaN  29.43     86.0         0      80.0        0       0   \n",
       "6     283.0   NaN   NaN  25.34     87.0         0      75.0        0       0   \n",
       "8     232.0   NaN   NaN  30.18     89.0         0      60.0        1       0   \n",
       "10    343.0   NaN   NaN  23.48     72.0         0      90.0        0       0   \n",
       "13    230.0   NaN   NaN  31.36     86.0         0     120.0        1       1   \n",
       "\n",
       "    STROKE  DEATH  \n",
       "3        0      0  \n",
       "6        0      0  \n",
       "8        1      1  \n",
       "10       0      0  \n",
       "13       0      0  "
      ]
     },
     "execution_count": 9,
     "metadata": {},
     "output_type": "execute_result"
    }
   ],
   "source": [
    "framinghamP2 = framingham1[framingham1['PERIOD'] == 2].copy()\n",
    "framinghamP2.head()"
   ]
  },
  {
   "cell_type": "code",
   "execution_count": 10,
   "metadata": {},
   "outputs": [
    {
     "data": {
      "text/html": [
       "<div>\n",
       "<style scoped>\n",
       "    .dataframe tbody tr th:only-of-type {\n",
       "        vertical-align: middle;\n",
       "    }\n",
       "\n",
       "    .dataframe tbody tr th {\n",
       "        vertical-align: top;\n",
       "    }\n",
       "\n",
       "    .dataframe thead th {\n",
       "        text-align: right;\n",
       "    }\n",
       "</style>\n",
       "<table border=\"1\" class=\"dataframe\">\n",
       "  <thead>\n",
       "    <tr style=\"text-align: right;\">\n",
       "      <th></th>\n",
       "      <th>RANDID</th>\n",
       "      <th>SEX</th>\n",
       "      <th>AGE</th>\n",
       "      <th>SYSBP</th>\n",
       "      <th>DIABP</th>\n",
       "      <th>BPMEDS</th>\n",
       "      <th>CURSMOKE</th>\n",
       "      <th>CIGPDAY</th>\n",
       "      <th>TOTCHOL</th>\n",
       "      <th>BMI</th>\n",
       "      <th>GLUCOSE</th>\n",
       "      <th>DIABETES</th>\n",
       "      <th>HEARTRTE</th>\n",
       "      <th>PREVHYP</th>\n",
       "      <th>ANYCHD</th>\n",
       "      <th>STROKE</th>\n",
       "      <th>DEATH</th>\n",
       "    </tr>\n",
       "  </thead>\n",
       "  <tbody>\n",
       "    <tr>\n",
       "      <th>0</th>\n",
       "      <td>6238</td>\n",
       "      <td>2</td>\n",
       "      <td>52</td>\n",
       "      <td>105.0</td>\n",
       "      <td>69.5</td>\n",
       "      <td>0.0</td>\n",
       "      <td>0</td>\n",
       "      <td>0.0</td>\n",
       "      <td>260.0</td>\n",
       "      <td>29.43</td>\n",
       "      <td>86.0</td>\n",
       "      <td>0</td>\n",
       "      <td>80.0</td>\n",
       "      <td>0</td>\n",
       "      <td>0</td>\n",
       "      <td>0</td>\n",
       "      <td>0</td>\n",
       "    </tr>\n",
       "    <tr>\n",
       "      <th>1</th>\n",
       "      <td>9428</td>\n",
       "      <td>1</td>\n",
       "      <td>54</td>\n",
       "      <td>141.0</td>\n",
       "      <td>89.0</td>\n",
       "      <td>0.0</td>\n",
       "      <td>1</td>\n",
       "      <td>30.0</td>\n",
       "      <td>283.0</td>\n",
       "      <td>25.34</td>\n",
       "      <td>87.0</td>\n",
       "      <td>0</td>\n",
       "      <td>75.0</td>\n",
       "      <td>0</td>\n",
       "      <td>0</td>\n",
       "      <td>0</td>\n",
       "      <td>0</td>\n",
       "    </tr>\n",
       "    <tr>\n",
       "      <th>2</th>\n",
       "      <td>10552</td>\n",
       "      <td>2</td>\n",
       "      <td>67</td>\n",
       "      <td>183.0</td>\n",
       "      <td>109.0</td>\n",
       "      <td>0.0</td>\n",
       "      <td>1</td>\n",
       "      <td>20.0</td>\n",
       "      <td>232.0</td>\n",
       "      <td>30.18</td>\n",
       "      <td>89.0</td>\n",
       "      <td>0</td>\n",
       "      <td>60.0</td>\n",
       "      <td>1</td>\n",
       "      <td>0</td>\n",
       "      <td>1</td>\n",
       "      <td>1</td>\n",
       "    </tr>\n",
       "    <tr>\n",
       "      <th>3</th>\n",
       "      <td>11252</td>\n",
       "      <td>2</td>\n",
       "      <td>51</td>\n",
       "      <td>109.0</td>\n",
       "      <td>77.0</td>\n",
       "      <td>0.0</td>\n",
       "      <td>1</td>\n",
       "      <td>30.0</td>\n",
       "      <td>343.0</td>\n",
       "      <td>23.48</td>\n",
       "      <td>72.0</td>\n",
       "      <td>0</td>\n",
       "      <td>90.0</td>\n",
       "      <td>0</td>\n",
       "      <td>0</td>\n",
       "      <td>0</td>\n",
       "      <td>0</td>\n",
       "    </tr>\n",
       "    <tr>\n",
       "      <th>4</th>\n",
       "      <td>11263</td>\n",
       "      <td>2</td>\n",
       "      <td>49</td>\n",
       "      <td>177.0</td>\n",
       "      <td>102.0</td>\n",
       "      <td>1.0</td>\n",
       "      <td>0</td>\n",
       "      <td>0.0</td>\n",
       "      <td>230.0</td>\n",
       "      <td>31.36</td>\n",
       "      <td>86.0</td>\n",
       "      <td>0</td>\n",
       "      <td>120.0</td>\n",
       "      <td>1</td>\n",
       "      <td>1</td>\n",
       "      <td>0</td>\n",
       "      <td>0</td>\n",
       "    </tr>\n",
       "  </tbody>\n",
       "</table>\n",
       "</div>"
      ],
      "text/plain": [
       "   RANDID  SEX  AGE  SYSBP  DIABP  BPMEDS  CURSMOKE  CIGPDAY  TOTCHOL    BMI  \\\n",
       "0    6238    2   52  105.0   69.5     0.0         0      0.0    260.0  29.43   \n",
       "1    9428    1   54  141.0   89.0     0.0         1     30.0    283.0  25.34   \n",
       "2   10552    2   67  183.0  109.0     0.0         1     20.0    232.0  30.18   \n",
       "3   11252    2   51  109.0   77.0     0.0         1     30.0    343.0  23.48   \n",
       "4   11263    2   49  177.0  102.0     1.0         0      0.0    230.0  31.36   \n",
       "\n",
       "   GLUCOSE  DIABETES  HEARTRTE  PREVHYP  ANYCHD  STROKE  DEATH  \n",
       "0     86.0         0      80.0        0       0       0      0  \n",
       "1     87.0         0      75.0        0       0       0      0  \n",
       "2     89.0         0      60.0        1       0       1      1  \n",
       "3     72.0         0      90.0        0       0       0      0  \n",
       "4     86.0         0     120.0        1       1       0      0  "
      ]
     },
     "execution_count": 10,
     "metadata": {},
     "output_type": "execute_result"
    }
   ],
   "source": [
    "framinghamP2.drop(['PERIOD', 'HDLC', 'LDLC'], axis=1, inplace=True)\n",
    "framinghamP2.dropna(inplace=True)\n",
    "framinghamP2.reset_index(drop=True, inplace = True)\n",
    "framinghamP2.head()"
   ]
  },
  {
   "cell_type": "code",
   "execution_count": 11,
   "metadata": {},
   "outputs": [
    {
     "data": {
      "text/html": [
       "<div>\n",
       "<style scoped>\n",
       "    .dataframe tbody tr th:only-of-type {\n",
       "        vertical-align: middle;\n",
       "    }\n",
       "\n",
       "    .dataframe tbody tr th {\n",
       "        vertical-align: top;\n",
       "    }\n",
       "\n",
       "    .dataframe thead th {\n",
       "        text-align: right;\n",
       "    }\n",
       "</style>\n",
       "<table border=\"1\" class=\"dataframe\">\n",
       "  <thead>\n",
       "    <tr style=\"text-align: right;\">\n",
       "      <th></th>\n",
       "      <th>RANDID</th>\n",
       "      <th>SEX</th>\n",
       "      <th>PERIOD</th>\n",
       "      <th>AGE</th>\n",
       "      <th>SYSBP</th>\n",
       "      <th>DIABP</th>\n",
       "      <th>BPMEDS</th>\n",
       "      <th>CURSMOKE</th>\n",
       "      <th>CIGPDAY</th>\n",
       "      <th>TOTCHOL</th>\n",
       "      <th>HDLC</th>\n",
       "      <th>LDLC</th>\n",
       "      <th>BMI</th>\n",
       "      <th>GLUCOSE</th>\n",
       "      <th>DIABETES</th>\n",
       "      <th>HEARTRTE</th>\n",
       "      <th>PREVHYP</th>\n",
       "      <th>ANYCHD</th>\n",
       "      <th>STROKE</th>\n",
       "      <th>DEATH</th>\n",
       "    </tr>\n",
       "  </thead>\n",
       "  <tbody>\n",
       "    <tr>\n",
       "      <th>1</th>\n",
       "      <td>2448</td>\n",
       "      <td>1</td>\n",
       "      <td>3</td>\n",
       "      <td>52</td>\n",
       "      <td>121.0</td>\n",
       "      <td>66.0</td>\n",
       "      <td>0.0</td>\n",
       "      <td>0</td>\n",
       "      <td>0.0</td>\n",
       "      <td>209.0</td>\n",
       "      <td>31.0</td>\n",
       "      <td>178.0</td>\n",
       "      <td>NaN</td>\n",
       "      <td>92.0</td>\n",
       "      <td>0</td>\n",
       "      <td>69.0</td>\n",
       "      <td>0</td>\n",
       "      <td>1</td>\n",
       "      <td>0</td>\n",
       "      <td>0</td>\n",
       "    </tr>\n",
       "    <tr>\n",
       "      <th>4</th>\n",
       "      <td>6238</td>\n",
       "      <td>2</td>\n",
       "      <td>3</td>\n",
       "      <td>58</td>\n",
       "      <td>108.0</td>\n",
       "      <td>66.0</td>\n",
       "      <td>0.0</td>\n",
       "      <td>0</td>\n",
       "      <td>0.0</td>\n",
       "      <td>237.0</td>\n",
       "      <td>54.0</td>\n",
       "      <td>141.0</td>\n",
       "      <td>28.50</td>\n",
       "      <td>71.0</td>\n",
       "      <td>0</td>\n",
       "      <td>80.0</td>\n",
       "      <td>0</td>\n",
       "      <td>0</td>\n",
       "      <td>0</td>\n",
       "      <td>0</td>\n",
       "    </tr>\n",
       "    <tr>\n",
       "      <th>11</th>\n",
       "      <td>11252</td>\n",
       "      <td>2</td>\n",
       "      <td>3</td>\n",
       "      <td>58</td>\n",
       "      <td>155.0</td>\n",
       "      <td>90.0</td>\n",
       "      <td>0.0</td>\n",
       "      <td>1</td>\n",
       "      <td>30.0</td>\n",
       "      <td>NaN</td>\n",
       "      <td>NaN</td>\n",
       "      <td>NaN</td>\n",
       "      <td>24.61</td>\n",
       "      <td>NaN</td>\n",
       "      <td>0</td>\n",
       "      <td>74.0</td>\n",
       "      <td>1</td>\n",
       "      <td>0</td>\n",
       "      <td>0</td>\n",
       "      <td>0</td>\n",
       "    </tr>\n",
       "    <tr>\n",
       "      <th>14</th>\n",
       "      <td>11263</td>\n",
       "      <td>2</td>\n",
       "      <td>3</td>\n",
       "      <td>55</td>\n",
       "      <td>180.0</td>\n",
       "      <td>106.0</td>\n",
       "      <td>1.0</td>\n",
       "      <td>0</td>\n",
       "      <td>0.0</td>\n",
       "      <td>220.0</td>\n",
       "      <td>46.0</td>\n",
       "      <td>135.0</td>\n",
       "      <td>31.17</td>\n",
       "      <td>81.0</td>\n",
       "      <td>1</td>\n",
       "      <td>86.0</td>\n",
       "      <td>1</td>\n",
       "      <td>1</td>\n",
       "      <td>0</td>\n",
       "      <td>0</td>\n",
       "    </tr>\n",
       "    <tr>\n",
       "      <th>19</th>\n",
       "      <td>12806</td>\n",
       "      <td>2</td>\n",
       "      <td>3</td>\n",
       "      <td>57</td>\n",
       "      <td>110.0</td>\n",
       "      <td>46.0</td>\n",
       "      <td>0.0</td>\n",
       "      <td>1</td>\n",
       "      <td>30.0</td>\n",
       "      <td>320.0</td>\n",
       "      <td>34.0</td>\n",
       "      <td>286.0</td>\n",
       "      <td>22.02</td>\n",
       "      <td>87.0</td>\n",
       "      <td>0</td>\n",
       "      <td>75.0</td>\n",
       "      <td>0</td>\n",
       "      <td>0</td>\n",
       "      <td>0</td>\n",
       "      <td>0</td>\n",
       "    </tr>\n",
       "  </tbody>\n",
       "</table>\n",
       "</div>"
      ],
      "text/plain": [
       "    RANDID  SEX  PERIOD  AGE  SYSBP  DIABP  BPMEDS  CURSMOKE  CIGPDAY  \\\n",
       "1     2448    1       3   52  121.0   66.0     0.0         0      0.0   \n",
       "4     6238    2       3   58  108.0   66.0     0.0         0      0.0   \n",
       "11   11252    2       3   58  155.0   90.0     0.0         1     30.0   \n",
       "14   11263    2       3   55  180.0  106.0     1.0         0      0.0   \n",
       "19   12806    2       3   57  110.0   46.0     0.0         1     30.0   \n",
       "\n",
       "    TOTCHOL  HDLC   LDLC    BMI  GLUCOSE  DIABETES  HEARTRTE  PREVHYP  ANYCHD  \\\n",
       "1     209.0  31.0  178.0    NaN     92.0         0      69.0        0       1   \n",
       "4     237.0  54.0  141.0  28.50     71.0         0      80.0        0       0   \n",
       "11      NaN   NaN    NaN  24.61      NaN         0      74.0        1       0   \n",
       "14    220.0  46.0  135.0  31.17     81.0         1      86.0        1       1   \n",
       "19    320.0  34.0  286.0  22.02     87.0         0      75.0        0       0   \n",
       "\n",
       "    STROKE  DEATH  \n",
       "1        0      0  \n",
       "4        0      0  \n",
       "11       0      0  \n",
       "14       0      0  \n",
       "19       0      0  "
      ]
     },
     "execution_count": 11,
     "metadata": {},
     "output_type": "execute_result"
    }
   ],
   "source": [
    "framinghamP3 = framingham1[framingham1['PERIOD'] == 3].copy()\n",
    "framinghamP3.head()"
   ]
  },
  {
   "cell_type": "code",
   "execution_count": 12,
   "metadata": {},
   "outputs": [
    {
     "data": {
      "text/html": [
       "<div>\n",
       "<style scoped>\n",
       "    .dataframe tbody tr th:only-of-type {\n",
       "        vertical-align: middle;\n",
       "    }\n",
       "\n",
       "    .dataframe tbody tr th {\n",
       "        vertical-align: top;\n",
       "    }\n",
       "\n",
       "    .dataframe thead th {\n",
       "        text-align: right;\n",
       "    }\n",
       "</style>\n",
       "<table border=\"1\" class=\"dataframe\">\n",
       "  <thead>\n",
       "    <tr style=\"text-align: right;\">\n",
       "      <th></th>\n",
       "      <th>RANDID</th>\n",
       "      <th>SEX</th>\n",
       "      <th>AGE</th>\n",
       "      <th>SYSBP</th>\n",
       "      <th>DIABP</th>\n",
       "      <th>BPMEDS</th>\n",
       "      <th>CURSMOKE</th>\n",
       "      <th>CIGPDAY</th>\n",
       "      <th>TOTCHOL</th>\n",
       "      <th>HDLC</th>\n",
       "      <th>LDLC</th>\n",
       "      <th>BMI</th>\n",
       "      <th>GLUCOSE</th>\n",
       "      <th>DIABETES</th>\n",
       "      <th>HEARTRTE</th>\n",
       "      <th>PREVHYP</th>\n",
       "      <th>ANYCHD</th>\n",
       "      <th>STROKE</th>\n",
       "      <th>DEATH</th>\n",
       "    </tr>\n",
       "  </thead>\n",
       "  <tbody>\n",
       "    <tr>\n",
       "      <th>0</th>\n",
       "      <td>6238</td>\n",
       "      <td>2</td>\n",
       "      <td>58</td>\n",
       "      <td>108.0</td>\n",
       "      <td>66.0</td>\n",
       "      <td>0.0</td>\n",
       "      <td>0</td>\n",
       "      <td>0.0</td>\n",
       "      <td>237.0</td>\n",
       "      <td>54.0</td>\n",
       "      <td>141.0</td>\n",
       "      <td>28.50</td>\n",
       "      <td>71.0</td>\n",
       "      <td>0</td>\n",
       "      <td>80.0</td>\n",
       "      <td>0</td>\n",
       "      <td>0</td>\n",
       "      <td>0</td>\n",
       "      <td>0</td>\n",
       "    </tr>\n",
       "    <tr>\n",
       "      <th>1</th>\n",
       "      <td>11263</td>\n",
       "      <td>2</td>\n",
       "      <td>55</td>\n",
       "      <td>180.0</td>\n",
       "      <td>106.0</td>\n",
       "      <td>1.0</td>\n",
       "      <td>0</td>\n",
       "      <td>0.0</td>\n",
       "      <td>220.0</td>\n",
       "      <td>46.0</td>\n",
       "      <td>135.0</td>\n",
       "      <td>31.17</td>\n",
       "      <td>81.0</td>\n",
       "      <td>1</td>\n",
       "      <td>86.0</td>\n",
       "      <td>1</td>\n",
       "      <td>1</td>\n",
       "      <td>0</td>\n",
       "      <td>0</td>\n",
       "    </tr>\n",
       "    <tr>\n",
       "      <th>2</th>\n",
       "      <td>12806</td>\n",
       "      <td>2</td>\n",
       "      <td>57</td>\n",
       "      <td>110.0</td>\n",
       "      <td>46.0</td>\n",
       "      <td>0.0</td>\n",
       "      <td>1</td>\n",
       "      <td>30.0</td>\n",
       "      <td>320.0</td>\n",
       "      <td>34.0</td>\n",
       "      <td>286.0</td>\n",
       "      <td>22.02</td>\n",
       "      <td>87.0</td>\n",
       "      <td>0</td>\n",
       "      <td>75.0</td>\n",
       "      <td>0</td>\n",
       "      <td>0</td>\n",
       "      <td>0</td>\n",
       "      <td>0</td>\n",
       "    </tr>\n",
       "    <tr>\n",
       "      <th>3</th>\n",
       "      <td>14367</td>\n",
       "      <td>1</td>\n",
       "      <td>64</td>\n",
       "      <td>168.0</td>\n",
       "      <td>100.0</td>\n",
       "      <td>0.0</td>\n",
       "      <td>0</td>\n",
       "      <td>0.0</td>\n",
       "      <td>280.0</td>\n",
       "      <td>44.0</td>\n",
       "      <td>236.0</td>\n",
       "      <td>25.72</td>\n",
       "      <td>82.0</td>\n",
       "      <td>0</td>\n",
       "      <td>92.0</td>\n",
       "      <td>1</td>\n",
       "      <td>0</td>\n",
       "      <td>0</td>\n",
       "      <td>0</td>\n",
       "    </tr>\n",
       "    <tr>\n",
       "      <th>4</th>\n",
       "      <td>16365</td>\n",
       "      <td>1</td>\n",
       "      <td>55</td>\n",
       "      <td>173.0</td>\n",
       "      <td>123.0</td>\n",
       "      <td>1.0</td>\n",
       "      <td>0</td>\n",
       "      <td>0.0</td>\n",
       "      <td>211.0</td>\n",
       "      <td>48.0</td>\n",
       "      <td>163.0</td>\n",
       "      <td>29.11</td>\n",
       "      <td>85.0</td>\n",
       "      <td>0</td>\n",
       "      <td>75.0</td>\n",
       "      <td>1</td>\n",
       "      <td>0</td>\n",
       "      <td>0</td>\n",
       "      <td>0</td>\n",
       "    </tr>\n",
       "  </tbody>\n",
       "</table>\n",
       "</div>"
      ],
      "text/plain": [
       "   RANDID  SEX  AGE  SYSBP  DIABP  BPMEDS  CURSMOKE  CIGPDAY  TOTCHOL  HDLC  \\\n",
       "0    6238    2   58  108.0   66.0     0.0         0      0.0    237.0  54.0   \n",
       "1   11263    2   55  180.0  106.0     1.0         0      0.0    220.0  46.0   \n",
       "2   12806    2   57  110.0   46.0     0.0         1     30.0    320.0  34.0   \n",
       "3   14367    1   64  168.0  100.0     0.0         0      0.0    280.0  44.0   \n",
       "4   16365    1   55  173.0  123.0     1.0         0      0.0    211.0  48.0   \n",
       "\n",
       "    LDLC    BMI  GLUCOSE  DIABETES  HEARTRTE  PREVHYP  ANYCHD  STROKE  DEATH  \n",
       "0  141.0  28.50     71.0         0      80.0        0       0       0      0  \n",
       "1  135.0  31.17     81.0         1      86.0        1       1       0      0  \n",
       "2  286.0  22.02     87.0         0      75.0        0       0       0      0  \n",
       "3  236.0  25.72     82.0         0      92.0        1       0       0      0  \n",
       "4  163.0  29.11     85.0         0      75.0        1       0       0      0  "
      ]
     },
     "execution_count": 12,
     "metadata": {},
     "output_type": "execute_result"
    }
   ],
   "source": [
    "framinghamP3.drop(['PERIOD'], axis=1, inplace=True)\n",
    "framinghamP3.dropna(inplace=True)\n",
    "framinghamP3.reset_index(drop=True, inplace = True)\n",
    "framinghamP3.head()"
   ]
  },
  {
   "cell_type": "markdown",
   "metadata": {},
   "source": [
    "## Setting variables with whole numbers to integers"
   ]
  },
  {
   "cell_type": "code",
   "execution_count": 13,
   "metadata": {},
   "outputs": [],
   "source": [
    "framinghamP1.BPMEDS = framinghamP1.BPMEDS.astype(int)\n",
    "framinghamP1.CIGPDAY = framinghamP1.CIGPDAY.astype(int)\n",
    "framinghamP1.TOTCHOL = framinghamP1.TOTCHOL.astype(int)\n",
    "framinghamP1.GLUCOSE = framinghamP1.GLUCOSE.astype(int)\n",
    "framinghamP1.HEARTRTE = framinghamP1.HEARTRTE.astype(int)"
   ]
  },
  {
   "cell_type": "code",
   "execution_count": 14,
   "metadata": {},
   "outputs": [],
   "source": [
    "framinghamP2.BPMEDS = framinghamP2.BPMEDS.astype(int)\n",
    "framinghamP2.CIGPDAY = framinghamP2.CIGPDAY.astype(int)\n",
    "framinghamP2.TOTCHOL = framinghamP2.TOTCHOL.astype(int)\n",
    "framinghamP2.GLUCOSE = framinghamP2.GLUCOSE.astype(int)\n",
    "framinghamP2.HEARTRTE = framinghamP2.HEARTRTE.astype(int)"
   ]
  },
  {
   "cell_type": "code",
   "execution_count": 15,
   "metadata": {},
   "outputs": [],
   "source": [
    "framinghamP3.BPMEDS = framinghamP3.BPMEDS.astype(int)\n",
    "framinghamP3.CIGPDAY = framinghamP3.CIGPDAY.astype(int)\n",
    "framinghamP3.TOTCHOL = framinghamP3.TOTCHOL.astype(int)\n",
    "framinghamP3.GLUCOSE = framinghamP3.GLUCOSE.astype(int)\n",
    "framinghamP3.HEARTRTE = framinghamP3.HEARTRTE.astype(int)"
   ]
  },
  {
   "cell_type": "markdown",
   "metadata": {},
   "source": [
    "## Subset dataframes for Periods 1, 2, 3"
   ]
  },
  {
   "cell_type": "code",
   "execution_count": 16,
   "metadata": {},
   "outputs": [],
   "source": [
    "frmgP1TrimmedCHD = framinghamP1[['AGE', 'SYSBP', 'DIABP', 'CURSMOKE', 'CIGPDAY', 'TOTCHOL', 'BMI', 'GLUCOSE', 'HEARTRTE', 'ANYCHD']].copy()\n",
    "frmgP2TrimmedCHD = framinghamP2[['AGE', 'SYSBP', 'DIABP', 'CURSMOKE', 'CIGPDAY', 'TOTCHOL', 'BMI', 'GLUCOSE', 'HEARTRTE', 'ANYCHD']].copy()\n",
    "frmgP3TrimmedCHD = framinghamP3[['AGE', 'SYSBP', 'DIABP', 'CURSMOKE', 'CIGPDAY', 'TOTCHOL', 'BMI', 'GLUCOSE', 'HEARTRTE', 'ANYCHD']].copy()"
   ]
  },
  {
   "cell_type": "code",
   "execution_count": 17,
   "metadata": {},
   "outputs": [],
   "source": [
    "frmgP1TrimmedDTH = framinghamP1[['AGE', 'SYSBP', 'DIABP', 'CURSMOKE', 'CIGPDAY', 'TOTCHOL', 'BMI', 'HEARTRTE', 'ANYCHD', 'STROKE', 'DEATH']].copy()\n",
    "frmgP2TrimmedDTH = framinghamP2[['AGE', 'SYSBP', 'DIABP', 'CURSMOKE', 'CIGPDAY', 'TOTCHOL', 'BMI', 'HEARTRTE', 'ANYCHD', 'STROKE', 'DEATH']].copy()\n",
    "frmgP3TrimmedDTH = framinghamP3[['AGE', 'SYSBP', 'DIABP', 'CURSMOKE', 'CIGPDAY', 'TOTCHOL', 'BMI', 'HEARTRTE', 'ANYCHD', 'STROKE', 'DEATH']].copy()"
   ]
  },
  {
   "cell_type": "markdown",
   "metadata": {},
   "source": [
    "# Random Forests\n",
    "---"
   ]
  },
  {
   "attachments": {
    "1129912b-3660-4a35-8114-f5e6ec006a88.png": {
     "image/png": "[encoded data removed]"
    }
   },
   "cell_type": "markdown",
   "metadata": {},
   "source": [
    "![ConfusionMatrix.png](attachment:1129912b-3660-4a35-8114-f5e6ec006a88.png)"
   ]
  },
  {
   "cell_type": "markdown",
   "metadata": {},
   "source": [
    "### Confusion matrix basics:\n",
    "* False Positives (FP) are the instances that the model predicts to be positive but are actually negative, a.k.a. **Type I error**\n",
    "* False Negatives (FN) are the instances that the model predicts to be negative but are actually positive, a.k.a. **Type II error**\n",
    "* **Precision** is the percentage of true positives (TP) out of all of the positives predicted (TP + FP)\n",
    "* **Recall** is the percentage of true positives (TP) out of the total positive (TP + FN)\n",
    "* When predicting coronary heart disease and/or death, we are looking for the false negatives to be as low as possible, so we'll be focusing on getting the highest recall possible, and not necessarily the highest precision"
   ]
  },
  {
   "cell_type": "markdown",
   "metadata": {},
   "source": [
    "## Additional packages "
   ]
  },
  {
   "cell_type": "code",
   "execution_count": 18,
   "metadata": {},
   "outputs": [],
   "source": [
    "from sklearn.ensemble import RandomForestClassifier\n",
    "from sklearn.model_selection import train_test_split\n",
    "from sklearn.metrics import classification_report, confusion_matrix"
   ]
  },
  {
   "cell_type": "markdown",
   "metadata": {},
   "source": [
    "# CHD\n",
    "---\n",
    "## Random Forest for Period 1 (ANYCHD)"
   ]
  },
  {
   "cell_type": "code",
   "execution_count": 19,
   "metadata": {},
   "outputs": [
    {
     "data": {
      "text/html": [
       "<div>\n",
       "<style scoped>\n",
       "    .dataframe tbody tr th:only-of-type {\n",
       "        vertical-align: middle;\n",
       "    }\n",
       "\n",
       "    .dataframe tbody tr th {\n",
       "        vertical-align: top;\n",
       "    }\n",
       "\n",
       "    .dataframe thead th {\n",
       "        text-align: right;\n",
       "    }\n",
       "</style>\n",
       "<table border=\"1\" class=\"dataframe\">\n",
       "  <thead>\n",
       "    <tr style=\"text-align: right;\">\n",
       "      <th></th>\n",
       "      <th>RANDID</th>\n",
       "      <th>SEX</th>\n",
       "      <th>AGE</th>\n",
       "      <th>SYSBP</th>\n",
       "      <th>DIABP</th>\n",
       "      <th>BPMEDS</th>\n",
       "      <th>CURSMOKE</th>\n",
       "      <th>CIGPDAY</th>\n",
       "      <th>TOTCHOL</th>\n",
       "      <th>BMI</th>\n",
       "      <th>GLUCOSE</th>\n",
       "      <th>DIABETES</th>\n",
       "      <th>HEARTRTE</th>\n",
       "      <th>PREVHYP</th>\n",
       "      <th>ANYCHD</th>\n",
       "      <th>STROKE</th>\n",
       "      <th>DEATH</th>\n",
       "    </tr>\n",
       "  </thead>\n",
       "  <tbody>\n",
       "    <tr>\n",
       "      <th>0</th>\n",
       "      <td>2448</td>\n",
       "      <td>1</td>\n",
       "      <td>39</td>\n",
       "      <td>106.0</td>\n",
       "      <td>70.0</td>\n",
       "      <td>0</td>\n",
       "      <td>0</td>\n",
       "      <td>0</td>\n",
       "      <td>195</td>\n",
       "      <td>26.97</td>\n",
       "      <td>77</td>\n",
       "      <td>0</td>\n",
       "      <td>80</td>\n",
       "      <td>0</td>\n",
       "      <td>1</td>\n",
       "      <td>0</td>\n",
       "      <td>0</td>\n",
       "    </tr>\n",
       "    <tr>\n",
       "      <th>1</th>\n",
       "      <td>6238</td>\n",
       "      <td>2</td>\n",
       "      <td>46</td>\n",
       "      <td>121.0</td>\n",
       "      <td>81.0</td>\n",
       "      <td>0</td>\n",
       "      <td>0</td>\n",
       "      <td>0</td>\n",
       "      <td>250</td>\n",
       "      <td>28.73</td>\n",
       "      <td>76</td>\n",
       "      <td>0</td>\n",
       "      <td>95</td>\n",
       "      <td>0</td>\n",
       "      <td>0</td>\n",
       "      <td>0</td>\n",
       "      <td>0</td>\n",
       "    </tr>\n",
       "    <tr>\n",
       "      <th>2</th>\n",
       "      <td>9428</td>\n",
       "      <td>1</td>\n",
       "      <td>48</td>\n",
       "      <td>127.5</td>\n",
       "      <td>80.0</td>\n",
       "      <td>0</td>\n",
       "      <td>1</td>\n",
       "      <td>20</td>\n",
       "      <td>245</td>\n",
       "      <td>25.34</td>\n",
       "      <td>70</td>\n",
       "      <td>0</td>\n",
       "      <td>75</td>\n",
       "      <td>0</td>\n",
       "      <td>0</td>\n",
       "      <td>0</td>\n",
       "      <td>0</td>\n",
       "    </tr>\n",
       "    <tr>\n",
       "      <th>3</th>\n",
       "      <td>10552</td>\n",
       "      <td>2</td>\n",
       "      <td>61</td>\n",
       "      <td>150.0</td>\n",
       "      <td>95.0</td>\n",
       "      <td>0</td>\n",
       "      <td>1</td>\n",
       "      <td>30</td>\n",
       "      <td>225</td>\n",
       "      <td>28.58</td>\n",
       "      <td>103</td>\n",
       "      <td>0</td>\n",
       "      <td>65</td>\n",
       "      <td>1</td>\n",
       "      <td>0</td>\n",
       "      <td>1</td>\n",
       "      <td>1</td>\n",
       "    </tr>\n",
       "    <tr>\n",
       "      <th>4</th>\n",
       "      <td>11252</td>\n",
       "      <td>2</td>\n",
       "      <td>46</td>\n",
       "      <td>130.0</td>\n",
       "      <td>84.0</td>\n",
       "      <td>0</td>\n",
       "      <td>1</td>\n",
       "      <td>23</td>\n",
       "      <td>285</td>\n",
       "      <td>23.10</td>\n",
       "      <td>85</td>\n",
       "      <td>0</td>\n",
       "      <td>85</td>\n",
       "      <td>0</td>\n",
       "      <td>0</td>\n",
       "      <td>0</td>\n",
       "      <td>0</td>\n",
       "    </tr>\n",
       "  </tbody>\n",
       "</table>\n",
       "</div>"
      ],
      "text/plain": [
       "   RANDID  SEX  AGE  SYSBP  DIABP  BPMEDS  CURSMOKE  CIGPDAY  TOTCHOL    BMI  \\\n",
       "0    2448    1   39  106.0   70.0       0         0        0      195  26.97   \n",
       "1    6238    2   46  121.0   81.0       0         0        0      250  28.73   \n",
       "2    9428    1   48  127.5   80.0       0         1       20      245  25.34   \n",
       "3   10552    2   61  150.0   95.0       0         1       30      225  28.58   \n",
       "4   11252    2   46  130.0   84.0       0         1       23      285  23.10   \n",
       "\n",
       "   GLUCOSE  DIABETES  HEARTRTE  PREVHYP  ANYCHD  STROKE  DEATH  \n",
       "0       77         0        80        0       1       0      0  \n",
       "1       76         0        95        0       0       0      0  \n",
       "2       70         0        75        0       0       0      0  \n",
       "3      103         0        65        1       0       1      1  \n",
       "4       85         0        85        0       0       0      0  "
      ]
     },
     "execution_count": 19,
     "metadata": {},
     "output_type": "execute_result"
    }
   ],
   "source": [
    "framinghamP1.head()"
   ]
  },
  {
   "cell_type": "markdown",
   "metadata": {},
   "source": [
    "## Train Test Split"
   ]
  },
  {
   "cell_type": "code",
   "execution_count": 20,
   "metadata": {},
   "outputs": [],
   "source": [
    "x = framinghamP1.drop(['RANDID', 'ANYCHD', 'STROKE','DEATH'], axis = 1)\n",
    "y = framinghamP1['ANYCHD']\n",
    "x_train, x_test, y_train, y_test = train_test_split(x,y,test_size=0.3,random_state=76)"
   ]
  },
  {
   "cell_type": "markdown",
   "metadata": {},
   "source": [
    "## Initial Random Forest Model"
   ]
  },
  {
   "cell_type": "code",
   "execution_count": 21,
   "metadata": {},
   "outputs": [
    {
     "data": {
      "text/plain": [
       "RandomForestClassifier(n_estimators=500, random_state=76)"
      ]
     },
     "execution_count": 21,
     "metadata": {},
     "output_type": "execute_result"
    }
   ],
   "source": [
    "forest = RandomForestClassifier(n_estimators=500, random_state=76)\n",
    "forest.fit(x_train, y_train)"
   ]
  },
  {
   "cell_type": "markdown",
   "metadata": {},
   "source": [
    "## Evaluate Model Fit"
   ]
  },
  {
   "cell_type": "code",
   "execution_count": 22,
   "metadata": {},
   "outputs": [
    {
     "name": "stdout",
     "output_type": "stream",
     "text": [
      "[[764  80]\n",
      " [263  72]]\n",
      "              precision    recall  f1-score   support\n",
      "\n",
      "           0       0.74      0.91      0.82       844\n",
      "           1       0.47      0.21      0.30       335\n",
      "\n",
      "    accuracy                           0.71      1179\n",
      "   macro avg       0.61      0.56      0.56      1179\n",
      "weighted avg       0.67      0.71      0.67      1179\n",
      "\n"
     ]
    }
   ],
   "source": [
    "forestPredictions = forest.predict(x_test)\n",
    "print(confusion_matrix(y_test, forestPredictions))\n",
    "print(classification_report(y_test, forestPredictions))"
   ]
  },
  {
   "cell_type": "markdown",
   "metadata": {},
   "source": [
    "***The model is has an accuracy of 72%, overall precision of 67%, and a recall of 21%.***"
   ]
  },
  {
   "cell_type": "markdown",
   "metadata": {},
   "source": [
    "# Hyperparameter Tuning"
   ]
  },
  {
   "cell_type": "markdown",
   "metadata": {},
   "source": [
    "## Additional Packages"
   ]
  },
  {
   "cell_type": "code",
   "execution_count": 23,
   "metadata": {},
   "outputs": [],
   "source": [
    "from sklearn.model_selection import RandomizedSearchCV\n",
    "from sklearn.metrics import accuracy_score"
   ]
  },
  {
   "cell_type": "markdown",
   "metadata": {},
   "source": [
    "## Number of Estimators"
   ]
  },
  {
   "cell_type": "code",
   "execution_count": 24,
   "metadata": {},
   "outputs": [
    {
     "name": "stdout",
     "output_type": "stream",
     "text": [
      "1 : 0.635284139100933\n",
      "4 : 0.6980491942324003\n",
      "5 : 0.6709075487701441\n",
      "8 : 0.6921119592875318\n",
      "10 : 0.7022900763358778\n",
      "20 : 0.6972010178117048\n",
      "50 : 0.712468193384224\n",
      "75 : 0.712468193384224\n",
      "100 : 0.714164546225615\n",
      "250 : 0.7116200169635284\n",
      "500 : 0.7090754877014419\n"
     ]
    }
   ],
   "source": [
    "n_estimators_array = [1, 4, 5, 8, 10, 20, 50, 75, 100, 250, 500]\n",
    "results = []\n",
    "for n in n_estimators_array:\n",
    "    forest = RandomForestClassifier(n_estimators=n, random_state=76)\n",
    "    forest.fit(x_train, y_train)\n",
    "    result = accuracy_score(y_test, forest.predict(x_test))\n",
    "    results.append(result) \n",
    "    print(n, ':', result)"
   ]
  },
  {
   "cell_type": "code",
   "execution_count": 25,
   "metadata": {},
   "outputs": [
    {
     "data": {
      "text/plain": [
       "[<matplotlib.lines.Line2D at 0x7fdc5e6c08b0>]"
      ]
     },
     "execution_count": 25,
     "metadata": {},
     "output_type": "execute_result"
    },
    {
     "data": {
      "image/png": "[encoded data removed]",
      "text/plain": [
       "<Figure size 432x288 with 1 Axes>"
      ]
     },
     "metadata": {
      "needs_background": "light"
     },
     "output_type": "display_data"
    }
   ],
   "source": [
    "plt.plot(n_estimators_array, results)"
   ]
  },
  {
   "cell_type": "code",
   "execution_count": 26,
   "metadata": {},
   "outputs": [
    {
     "data": {
      "text/plain": [
       "0.714164546225615"
      ]
     },
     "execution_count": 26,
     "metadata": {},
     "output_type": "execute_result"
    }
   ],
   "source": [
    "max(results)"
   ]
  },
  {
   "cell_type": "code",
   "execution_count": 27,
   "metadata": {},
   "outputs": [
    {
     "data": {
      "text/plain": [
       "100"
      ]
     },
     "execution_count": 27,
     "metadata": {},
     "output_type": "execute_result"
    }
   ],
   "source": [
    "n_est = n_estimators_array[results.index(max(results))]\n",
    "n_est"
   ]
  },
  {
   "cell_type": "markdown",
   "metadata": {},
   "source": [
    "__*The optimal number of estimators is 100*__"
   ]
  },
  {
   "cell_type": "markdown",
   "metadata": {},
   "source": [
    "## Tuning the Remaing Tree Parameters"
   ]
  },
  {
   "cell_type": "code",
   "execution_count": 28,
   "metadata": {},
   "outputs": [
    {
     "name": "stdout",
     "output_type": "stream",
     "text": [
      "{'max_features': ['auto', None, 'log2', 'sqrt'], 'max_depth': [10, 20, 30, 40, 50, 60, 70, 80, 90, None], 'min_samples_leaf': [1, 2, 4]}\n"
     ]
    }
   ],
   "source": [
    "# Number of features to consider at every split\n",
    "max_features = ['auto', None, 'log2', 'sqrt']\n",
    "# Maximum number of levels in tree\n",
    "max_depth = [10, 20, 30, 40, 50, 60, 70, 80, 90, None]\n",
    "# Minimum number of samples required at each leaf node\n",
    "min_samples_leaf = [1, 2, 4]\n",
    "# Method of selecting samples for training each tree\n",
    "random_grid = {'max_features': max_features,\n",
    "               'max_depth': max_depth,\n",
    "               'min_samples_leaf': min_samples_leaf}\n",
    "print(random_grid)"
   ]
  },
  {
   "cell_type": "code",
   "execution_count": 29,
   "metadata": {},
   "outputs": [
    {
     "data": {
      "text/plain": [
       "RandomizedSearchCV(cv=3, estimator=RandomForestClassifier(), n_iter=90,\n",
       "                   param_distributions={'max_depth': [10, 20, 30, 40, 50, 60,\n",
       "                                                      70, 80, 90, None],\n",
       "                                        'max_features': ['auto', None, 'log2',\n",
       "                                                         'sqrt'],\n",
       "                                        'min_samples_leaf': [1, 2, 4]},\n",
       "                   random_state=42)"
      ]
     },
     "execution_count": 29,
     "metadata": {},
     "output_type": "execute_result"
    }
   ],
   "source": [
    "rf = RandomForestClassifier(n_estimators=n_est)\n",
    "rf_random = RandomizedSearchCV(estimator = rf, param_distributions = random_grid, n_iter = 90, cv = 3, random_state=42)\n",
    "rf_random.fit(x_train, y_train)"
   ]
  },
  {
   "cell_type": "code",
   "execution_count": 30,
   "metadata": {},
   "outputs": [
    {
     "data": {
      "text/plain": [
       "{'min_samples_leaf': 4, 'max_features': 'auto', 'max_depth': 50}"
      ]
     },
     "execution_count": 30,
     "metadata": {},
     "output_type": "execute_result"
    }
   ],
   "source": [
    "params = rf_random.best_params_\n",
    "params"
   ]
  },
  {
   "cell_type": "markdown",
   "metadata": {},
   "source": [
    "## Tuned Random Forest"
   ]
  },
  {
   "cell_type": "code",
   "execution_count": 31,
   "metadata": {},
   "outputs": [
    {
     "data": {
      "text/plain": [
       "RandomForestClassifier(max_depth=50, min_samples_leaf=4)"
      ]
     },
     "execution_count": 31,
     "metadata": {},
     "output_type": "execute_result"
    }
   ],
   "source": [
    "forest = RandomForestClassifier(n_estimators=n_est,min_samples_leaf=params.get('min_samples_leaf'), \n",
    "                                max_features=params.get('max_features'), max_depth=params.get('max_depth'))\n",
    "forest.fit(x_train, y_train)"
   ]
  },
  {
   "cell_type": "code",
   "execution_count": 32,
   "metadata": {},
   "outputs": [
    {
     "name": "stdout",
     "output_type": "stream",
     "text": [
      "[[776  68]\n",
      " [274  61]]\n",
      "              precision    recall  f1-score   support\n",
      "\n",
      "           0       0.74      0.92      0.82       844\n",
      "           1       0.47      0.18      0.26       335\n",
      "\n",
      "    accuracy                           0.71      1179\n",
      "   macro avg       0.61      0.55      0.54      1179\n",
      "weighted avg       0.66      0.71      0.66      1179\n",
      "\n"
     ]
    }
   ],
   "source": [
    "forestPredictions = forest.predict(x_test)\n",
    "print(confusion_matrix(y_test, forestPredictions))\n",
    "print(classification_report(y_test, forestPredictions))"
   ]
  },
  {
   "cell_type": "markdown",
   "metadata": {},
   "source": [
    "__*The tunned model has a 71% overall accuracy, 66% overall precision and 18% recall, which is slightly worse than the original model.*__"
   ]
  },
  {
   "cell_type": "markdown",
   "metadata": {},
   "source": [
    "## Feature Importance"
   ]
  },
  {
   "cell_type": "code",
   "execution_count": 33,
   "metadata": {},
   "outputs": [],
   "source": [
    "feature_importances = pd.Series(forest.feature_importances_, index=x.columns)"
   ]
  },
  {
   "cell_type": "code",
   "execution_count": 34,
   "metadata": {},
   "outputs": [
    {
     "name": "stdout",
     "output_type": "stream",
     "text": [
      "SYSBP       0.141575\n",
      "BMI         0.139025\n",
      "TOTCHOL     0.135449\n",
      "AGE         0.122459\n",
      "DIABP       0.113292\n",
      "GLUCOSE     0.110316\n",
      "HEARTRTE    0.087904\n",
      "SEX         0.060915\n",
      "CIGPDAY     0.044297\n",
      "PREVHYP     0.019911\n",
      "CURSMOKE    0.011133\n",
      "DIABETES    0.007966\n",
      "BPMEDS      0.005759\n",
      "dtype: float64\n"
     ]
    }
   ],
   "source": [
    "feature_importances.sort_values(inplace=True, ascending=False)\n",
    "print(feature_importances)"
   ]
  },
  {
   "cell_type": "code",
   "execution_count": 35,
   "metadata": {},
   "outputs": [
    {
     "data": {
      "text/plain": [
       "<AxesSubplot:>"
      ]
     },
     "execution_count": 35,
     "metadata": {},
     "output_type": "execute_result"
    },
    {
     "data": {
      "image/png": "[encoded data removed]",
      "text/plain": [
       "<Figure size 504x432 with 1 Axes>"
      ]
     },
     "metadata": {
      "needs_background": "light"
     },
     "output_type": "display_data"
    }
   ],
   "source": [
    "feature_importances.plot(kind='barh', figsize=(7,6))"
   ]
  },
  {
   "cell_type": "markdown",
   "metadata": {},
   "source": [
    "## Random Forest for Period 2 (ANYCHD)"
   ]
  },
  {
   "cell_type": "code",
   "execution_count": 37,
   "metadata": {},
   "outputs": [
    {
     "data": {
      "text/html": [
       "<div>\n",
       "<style scoped>\n",
       "    .dataframe tbody tr th:only-of-type {\n",
       "        vertical-align: middle;\n",
       "    }\n",
       "\n",
       "    .dataframe tbody tr th {\n",
       "        vertical-align: top;\n",
       "    }\n",
       "\n",
       "    .dataframe thead th {\n",
       "        text-align: right;\n",
       "    }\n",
       "</style>\n",
       "<table border=\"1\" class=\"dataframe\">\n",
       "  <thead>\n",
       "    <tr style=\"text-align: right;\">\n",
       "      <th></th>\n",
       "      <th>RANDID</th>\n",
       "      <th>SEX</th>\n",
       "      <th>AGE</th>\n",
       "      <th>SYSBP</th>\n",
       "      <th>DIABP</th>\n",
       "      <th>BPMEDS</th>\n",
       "      <th>CURSMOKE</th>\n",
       "      <th>CIGPDAY</th>\n",
       "      <th>TOTCHOL</th>\n",
       "      <th>BMI</th>\n",
       "      <th>GLUCOSE</th>\n",
       "      <th>DIABETES</th>\n",
       "      <th>HEARTRTE</th>\n",
       "      <th>PREVHYP</th>\n",
       "      <th>ANYCHD</th>\n",
       "      <th>STROKE</th>\n",
       "      <th>DEATH</th>\n",
       "    </tr>\n",
       "  </thead>\n",
       "  <tbody>\n",
       "    <tr>\n",
       "      <th>0</th>\n",
       "      <td>6238</td>\n",
       "      <td>2</td>\n",
       "      <td>52</td>\n",
       "      <td>105.0</td>\n",
       "      <td>69.5</td>\n",
       "      <td>0</td>\n",
       "      <td>0</td>\n",
       "      <td>0</td>\n",
       "      <td>260</td>\n",
       "      <td>29.43</td>\n",
       "      <td>86</td>\n",
       "      <td>0</td>\n",
       "      <td>80</td>\n",
       "      <td>0</td>\n",
       "      <td>0</td>\n",
       "      <td>0</td>\n",
       "      <td>0</td>\n",
       "    </tr>\n",
       "    <tr>\n",
       "      <th>1</th>\n",
       "      <td>9428</td>\n",
       "      <td>1</td>\n",
       "      <td>54</td>\n",
       "      <td>141.0</td>\n",
       "      <td>89.0</td>\n",
       "      <td>0</td>\n",
       "      <td>1</td>\n",
       "      <td>30</td>\n",
       "      <td>283</td>\n",
       "      <td>25.34</td>\n",
       "      <td>87</td>\n",
       "      <td>0</td>\n",
       "      <td>75</td>\n",
       "      <td>0</td>\n",
       "      <td>0</td>\n",
       "      <td>0</td>\n",
       "      <td>0</td>\n",
       "    </tr>\n",
       "    <tr>\n",
       "      <th>2</th>\n",
       "      <td>10552</td>\n",
       "      <td>2</td>\n",
       "      <td>67</td>\n",
       "      <td>183.0</td>\n",
       "      <td>109.0</td>\n",
       "      <td>0</td>\n",
       "      <td>1</td>\n",
       "      <td>20</td>\n",
       "      <td>232</td>\n",
       "      <td>30.18</td>\n",
       "      <td>89</td>\n",
       "      <td>0</td>\n",
       "      <td>60</td>\n",
       "      <td>1</td>\n",
       "      <td>0</td>\n",
       "      <td>1</td>\n",
       "      <td>1</td>\n",
       "    </tr>\n",
       "    <tr>\n",
       "      <th>3</th>\n",
       "      <td>11252</td>\n",
       "      <td>2</td>\n",
       "      <td>51</td>\n",
       "      <td>109.0</td>\n",
       "      <td>77.0</td>\n",
       "      <td>0</td>\n",
       "      <td>1</td>\n",
       "      <td>30</td>\n",
       "      <td>343</td>\n",
       "      <td>23.48</td>\n",
       "      <td>72</td>\n",
       "      <td>0</td>\n",
       "      <td>90</td>\n",
       "      <td>0</td>\n",
       "      <td>0</td>\n",
       "      <td>0</td>\n",
       "      <td>0</td>\n",
       "    </tr>\n",
       "    <tr>\n",
       "      <th>4</th>\n",
       "      <td>11263</td>\n",
       "      <td>2</td>\n",
       "      <td>49</td>\n",
       "      <td>177.0</td>\n",
       "      <td>102.0</td>\n",
       "      <td>1</td>\n",
       "      <td>0</td>\n",
       "      <td>0</td>\n",
       "      <td>230</td>\n",
       "      <td>31.36</td>\n",
       "      <td>86</td>\n",
       "      <td>0</td>\n",
       "      <td>120</td>\n",
       "      <td>1</td>\n",
       "      <td>1</td>\n",
       "      <td>0</td>\n",
       "      <td>0</td>\n",
       "    </tr>\n",
       "  </tbody>\n",
       "</table>\n",
       "</div>"
      ],
      "text/plain": [
       "   RANDID  SEX  AGE  SYSBP  DIABP  BPMEDS  CURSMOKE  CIGPDAY  TOTCHOL    BMI  \\\n",
       "0    6238    2   52  105.0   69.5       0         0        0      260  29.43   \n",
       "1    9428    1   54  141.0   89.0       0         1       30      283  25.34   \n",
       "2   10552    2   67  183.0  109.0       0         1       20      232  30.18   \n",
       "3   11252    2   51  109.0   77.0       0         1       30      343  23.48   \n",
       "4   11263    2   49  177.0  102.0       1         0        0      230  31.36   \n",
       "\n",
       "   GLUCOSE  DIABETES  HEARTRTE  PREVHYP  ANYCHD  STROKE  DEATH  \n",
       "0       86         0        80        0       0       0      0  \n",
       "1       87         0        75        0       0       0      0  \n",
       "2       89         0        60        1       0       1      1  \n",
       "3       72         0        90        0       0       0      0  \n",
       "4       86         0       120        1       1       0      0  "
      ]
     },
     "execution_count": 37,
     "metadata": {},
     "output_type": "execute_result"
    }
   ],
   "source": [
    "framinghamP2.head()"
   ]
  },
  {
   "cell_type": "markdown",
   "metadata": {},
   "source": [
    "## Train Test Split"
   ]
  },
  {
   "cell_type": "code",
   "execution_count": 38,
   "metadata": {},
   "outputs": [],
   "source": [
    "x = framinghamP2.drop(['RANDID', 'ANYCHD', 'STROKE','DEATH'], axis = 1)\n",
    "y = framinghamP2['ANYCHD']\n",
    "x_train, x_test, y_train, y_test = train_test_split(x,y,test_size=0.3,random_state=76)"
   ]
  },
  {
   "cell_type": "markdown",
   "metadata": {},
   "source": [
    "## Initial Random Forest Model"
   ]
  },
  {
   "cell_type": "code",
   "execution_count": 39,
   "metadata": {},
   "outputs": [
    {
     "data": {
      "text/plain": [
       "RandomForestClassifier(n_estimators=500, random_state=76)"
      ]
     },
     "execution_count": 39,
     "metadata": {},
     "output_type": "execute_result"
    }
   ],
   "source": [
    "forest = RandomForestClassifier(n_estimators=500, random_state=76)\n",
    "forest.fit(x_train, y_train)"
   ]
  },
  {
   "cell_type": "markdown",
   "metadata": {},
   "source": [
    "## Evaluate Model Fit"
   ]
  },
  {
   "cell_type": "code",
   "execution_count": 40,
   "metadata": {},
   "outputs": [
    {
     "name": "stdout",
     "output_type": "stream",
     "text": [
      "[[650  68]\n",
      " [221  54]]\n",
      "              precision    recall  f1-score   support\n",
      "\n",
      "           0       0.75      0.91      0.82       718\n",
      "           1       0.44      0.20      0.27       275\n",
      "\n",
      "    accuracy                           0.71       993\n",
      "   macro avg       0.59      0.55      0.55       993\n",
      "weighted avg       0.66      0.71      0.67       993\n",
      "\n"
     ]
    }
   ],
   "source": [
    "forestPredictions = forest.predict(x_test)\n",
    "print(confusion_matrix(y_test, forestPredictions))\n",
    "print(classification_report(y_test, forestPredictions))"
   ]
  },
  {
   "cell_type": "markdown",
   "metadata": {},
   "source": [
    "***The model is has an accuracy of 71%, overall precision of 66%, and a recall of 20%.***"
   ]
  },
  {
   "cell_type": "markdown",
   "metadata": {},
   "source": [
    "# Hyperparameter Tuning"
   ]
  },
  {
   "cell_type": "markdown",
   "metadata": {},
   "source": [
    "## Additional Packages"
   ]
  },
  {
   "cell_type": "code",
   "execution_count": 41,
   "metadata": {},
   "outputs": [],
   "source": [
    "from sklearn.model_selection import RandomizedSearchCV\n",
    "from sklearn.metrics import accuracy_score"
   ]
  },
  {
   "cell_type": "markdown",
   "metadata": {},
   "source": [
    "## Number of Estimators"
   ]
  },
  {
   "cell_type": "code",
   "execution_count": 42,
   "metadata": {},
   "outputs": [
    {
     "name": "stdout",
     "output_type": "stream",
     "text": [
      "1 : 0.6797583081570997\n",
      "4 : 0.7170191339375629\n",
      "5 : 0.6958710976837865\n",
      "8 : 0.7049345417925479\n",
      "10 : 0.7129909365558912\n",
      "20 : 0.7139979859013091\n",
      "50 : 0.7129909365558912\n",
      "75 : 0.7069486404833837\n",
      "100 : 0.7069486404833837\n",
      "250 : 0.7049345417925479\n",
      "500 : 0.7089627391742196\n"
     ]
    }
   ],
   "source": [
    "n_estimators_array = [1, 4, 5, 8, 10, 20, 50, 75, 100, 250, 500]\n",
    "results = []\n",
    "for n in n_estimators_array:\n",
    "    forest = RandomForestClassifier(n_estimators=n, random_state=76)\n",
    "    forest.fit(x_train, y_train)\n",
    "    result = accuracy_score(y_test, forest.predict(x_test))\n",
    "    results.append(result) \n",
    "    print(n, ':', result)"
   ]
  },
  {
   "cell_type": "code",
   "execution_count": 43,
   "metadata": {},
   "outputs": [
    {
     "data": {
      "text/plain": [
       "[<matplotlib.lines.Line2D at 0x7fdc61836e50>]"
      ]
     },
     "execution_count": 43,
     "metadata": {},
     "output_type": "execute_result"
    },
    {
     "data": {
      "image/png": "[encoded data removed]",
      "text/plain": [
       "<Figure size 432x288 with 1 Axes>"
      ]
     },
     "metadata": {
      "needs_background": "light"
     },
     "output_type": "display_data"
    }
   ],
   "source": [
    "plt.plot(n_estimators_array, results)"
   ]
  },
  {
   "cell_type": "code",
   "execution_count": 44,
   "metadata": {},
   "outputs": [
    {
     "data": {
      "text/plain": [
       "0.7170191339375629"
      ]
     },
     "execution_count": 44,
     "metadata": {},
     "output_type": "execute_result"
    }
   ],
   "source": [
    "max(results)"
   ]
  },
  {
   "cell_type": "code",
   "execution_count": 45,
   "metadata": {},
   "outputs": [
    {
     "data": {
      "text/plain": [
       "4"
      ]
     },
     "execution_count": 45,
     "metadata": {},
     "output_type": "execute_result"
    }
   ],
   "source": [
    "n_est = n_estimators_array[results.index(max(results))]\n",
    "n_est"
   ]
  },
  {
   "cell_type": "markdown",
   "metadata": {},
   "source": [
    "__*The optimal number of estimators is 4*__"
   ]
  },
  {
   "cell_type": "markdown",
   "metadata": {},
   "source": [
    "## Tuning the Remaing Tree Parameters"
   ]
  },
  {
   "cell_type": "code",
   "execution_count": 46,
   "metadata": {},
   "outputs": [
    {
     "name": "stdout",
     "output_type": "stream",
     "text": [
      "{'max_features': ['auto', None, 'log2', 'sqrt'], 'max_depth': [10, 20, 30, 40, 50, 60, 70, 80, 90, None], 'min_samples_leaf': [1, 2, 4]}\n"
     ]
    }
   ],
   "source": [
    "# Number of features to consider at every split\n",
    "max_features = ['auto', None, 'log2', 'sqrt']\n",
    "# Maximum number of levels in tree\n",
    "max_depth = [10, 20, 30, 40, 50, 60, 70, 80, 90, None]\n",
    "# Minimum number of samples required at each leaf node\n",
    "min_samples_leaf = [1, 2, 4]\n",
    "# Method of selecting samples for training each tree\n",
    "random_grid = {'max_features': max_features,\n",
    "               'max_depth': max_depth,\n",
    "               'min_samples_leaf': min_samples_leaf}\n",
    "print(random_grid)"
   ]
  },
  {
   "cell_type": "code",
   "execution_count": 47,
   "metadata": {},
   "outputs": [
    {
     "data": {
      "text/plain": [
       "RandomizedSearchCV(cv=3, estimator=RandomForestClassifier(n_estimators=4),\n",
       "                   n_iter=90,\n",
       "                   param_distributions={'max_depth': [10, 20, 30, 40, 50, 60,\n",
       "                                                      70, 80, 90, None],\n",
       "                                        'max_features': ['auto', None, 'log2',\n",
       "                                                         'sqrt'],\n",
       "                                        'min_samples_leaf': [1, 2, 4]},\n",
       "                   random_state=42)"
      ]
     },
     "execution_count": 47,
     "metadata": {},
     "output_type": "execute_result"
    }
   ],
   "source": [
    "rf = RandomForestClassifier(n_estimators=n_est)\n",
    "rf_random = RandomizedSearchCV(estimator = rf, param_distributions = random_grid, n_iter = 90, cv = 3, random_state=42)\n",
    "rf_random.fit(x_train, y_train)"
   ]
  },
  {
   "cell_type": "code",
   "execution_count": 48,
   "metadata": {},
   "outputs": [
    {
     "data": {
      "text/plain": [
       "{'min_samples_leaf': 1, 'max_features': 'auto', 'max_depth': 80}"
      ]
     },
     "execution_count": 48,
     "metadata": {},
     "output_type": "execute_result"
    }
   ],
   "source": [
    "params = rf_random.best_params_\n",
    "params"
   ]
  },
  {
   "cell_type": "markdown",
   "metadata": {},
   "source": [
    "## Tuned Random Forest"
   ]
  },
  {
   "cell_type": "code",
   "execution_count": 49,
   "metadata": {},
   "outputs": [
    {
     "data": {
      "text/plain": [
       "RandomForestClassifier(max_depth=80, n_estimators=4)"
      ]
     },
     "execution_count": 49,
     "metadata": {},
     "output_type": "execute_result"
    }
   ],
   "source": [
    "forest = RandomForestClassifier(n_estimators=n_est,min_samples_leaf=params.get('min_samples_leaf'), \n",
    "                                max_features=params.get('max_features'), max_depth=params.get('max_depth'))\n",
    "forest.fit(x_train, y_train)"
   ]
  },
  {
   "cell_type": "code",
   "execution_count": 50,
   "metadata": {},
   "outputs": [
    {
     "name": "stdout",
     "output_type": "stream",
     "text": [
      "[[632  86]\n",
      " [233  42]]\n",
      "              precision    recall  f1-score   support\n",
      "\n",
      "           0       0.73      0.88      0.80       718\n",
      "           1       0.33      0.15      0.21       275\n",
      "\n",
      "    accuracy                           0.68       993\n",
      "   macro avg       0.53      0.52      0.50       993\n",
      "weighted avg       0.62      0.68      0.64       993\n",
      "\n"
     ]
    }
   ],
   "source": [
    "forestPredictions = forest.predict(x_test)\n",
    "print(confusion_matrix(y_test, forestPredictions))\n",
    "print(classification_report(y_test, forestPredictions))"
   ]
  },
  {
   "cell_type": "markdown",
   "metadata": {},
   "source": [
    "__*The tunned model has a 68% overall accuracy, 62% overall precision and 15% recall, which is worse than the original model.*__"
   ]
  },
  {
   "cell_type": "markdown",
   "metadata": {},
   "source": [
    "## Feature Importance"
   ]
  },
  {
   "cell_type": "code",
   "execution_count": 51,
   "metadata": {},
   "outputs": [],
   "source": [
    "feature_importances = pd.Series(forest.feature_importances_, index=x.columns)"
   ]
  },
  {
   "cell_type": "code",
   "execution_count": 52,
   "metadata": {},
   "outputs": [
    {
     "name": "stdout",
     "output_type": "stream",
     "text": [
      "SYSBP       0.140425\n",
      "BMI         0.135774\n",
      "TOTCHOL     0.126134\n",
      "DIABP       0.121801\n",
      "AGE         0.121076\n",
      "GLUCOSE     0.114948\n",
      "HEARTRTE    0.101673\n",
      "PREVHYP     0.031867\n",
      "CIGPDAY     0.030123\n",
      "SEX         0.029863\n",
      "CURSMOKE    0.018034\n",
      "DIABETES    0.014530\n",
      "BPMEDS      0.013752\n",
      "dtype: float64\n"
     ]
    }
   ],
   "source": [
    "feature_importances.sort_values(inplace=True, ascending=False)\n",
    "print(feature_importances)"
   ]
  },
  {
   "cell_type": "code",
   "execution_count": 35,
   "metadata": {},
   "outputs": [
    {
     "data": {
      "text/plain": [
       "<AxesSubplot:>"
      ]
     },
     "execution_count": 35,
     "metadata": {},
     "output_type": "execute_result"
    },
    {
     "data": {
      "image/png": "[encoded data removed]",
      "text/plain": [
       "<Figure size 504x432 with 1 Axes>"
      ]
     },
     "metadata": {
      "needs_background": "light"
     },
     "output_type": "display_data"
    }
   ],
   "source": [
    "feature_importances.plot(kind='barh', figsize=(7,6))"
   ]
  },
  {
   "cell_type": "markdown",
   "metadata": {},
   "source": [
    "## Random Forest for Period 3 (ANYCHD)"
   ]
  },
  {
   "cell_type": "code",
   "execution_count": 53,
   "metadata": {},
   "outputs": [
    {
     "data": {
      "text/html": [
       "<div>\n",
       "<style scoped>\n",
       "    .dataframe tbody tr th:only-of-type {\n",
       "        vertical-align: middle;\n",
       "    }\n",
       "\n",
       "    .dataframe tbody tr th {\n",
       "        vertical-align: top;\n",
       "    }\n",
       "\n",
       "    .dataframe thead th {\n",
       "        text-align: right;\n",
       "    }\n",
       "</style>\n",
       "<table border=\"1\" class=\"dataframe\">\n",
       "  <thead>\n",
       "    <tr style=\"text-align: right;\">\n",
       "      <th></th>\n",
       "      <th>RANDID</th>\n",
       "      <th>SEX</th>\n",
       "      <th>AGE</th>\n",
       "      <th>SYSBP</th>\n",
       "      <th>DIABP</th>\n",
       "      <th>BPMEDS</th>\n",
       "      <th>CURSMOKE</th>\n",
       "      <th>CIGPDAY</th>\n",
       "      <th>TOTCHOL</th>\n",
       "      <th>HDLC</th>\n",
       "      <th>LDLC</th>\n",
       "      <th>BMI</th>\n",
       "      <th>GLUCOSE</th>\n",
       "      <th>DIABETES</th>\n",
       "      <th>HEARTRTE</th>\n",
       "      <th>PREVHYP</th>\n",
       "      <th>ANYCHD</th>\n",
       "      <th>STROKE</th>\n",
       "      <th>DEATH</th>\n",
       "    </tr>\n",
       "  </thead>\n",
       "  <tbody>\n",
       "    <tr>\n",
       "      <th>0</th>\n",
       "      <td>6238</td>\n",
       "      <td>2</td>\n",
       "      <td>58</td>\n",
       "      <td>108.0</td>\n",
       "      <td>66.0</td>\n",
       "      <td>0</td>\n",
       "      <td>0</td>\n",
       "      <td>0</td>\n",
       "      <td>237</td>\n",
       "      <td>54.0</td>\n",
       "      <td>141.0</td>\n",
       "      <td>28.50</td>\n",
       "      <td>71</td>\n",
       "      <td>0</td>\n",
       "      <td>80</td>\n",
       "      <td>0</td>\n",
       "      <td>0</td>\n",
       "      <td>0</td>\n",
       "      <td>0</td>\n",
       "    </tr>\n",
       "    <tr>\n",
       "      <th>1</th>\n",
       "      <td>11263</td>\n",
       "      <td>2</td>\n",
       "      <td>55</td>\n",
       "      <td>180.0</td>\n",
       "      <td>106.0</td>\n",
       "      <td>1</td>\n",
       "      <td>0</td>\n",
       "      <td>0</td>\n",
       "      <td>220</td>\n",
       "      <td>46.0</td>\n",
       "      <td>135.0</td>\n",
       "      <td>31.17</td>\n",
       "      <td>81</td>\n",
       "      <td>1</td>\n",
       "      <td>86</td>\n",
       "      <td>1</td>\n",
       "      <td>1</td>\n",
       "      <td>0</td>\n",
       "      <td>0</td>\n",
       "    </tr>\n",
       "    <tr>\n",
       "      <th>2</th>\n",
       "      <td>12806</td>\n",
       "      <td>2</td>\n",
       "      <td>57</td>\n",
       "      <td>110.0</td>\n",
       "      <td>46.0</td>\n",
       "      <td>0</td>\n",
       "      <td>1</td>\n",
       "      <td>30</td>\n",
       "      <td>320</td>\n",
       "      <td>34.0</td>\n",
       "      <td>286.0</td>\n",
       "      <td>22.02</td>\n",
       "      <td>87</td>\n",
       "      <td>0</td>\n",
       "      <td>75</td>\n",
       "      <td>0</td>\n",
       "      <td>0</td>\n",
       "      <td>0</td>\n",
       "      <td>0</td>\n",
       "    </tr>\n",
       "    <tr>\n",
       "      <th>3</th>\n",
       "      <td>14367</td>\n",
       "      <td>1</td>\n",
       "      <td>64</td>\n",
       "      <td>168.0</td>\n",
       "      <td>100.0</td>\n",
       "      <td>0</td>\n",
       "      <td>0</td>\n",
       "      <td>0</td>\n",
       "      <td>280</td>\n",
       "      <td>44.0</td>\n",
       "      <td>236.0</td>\n",
       "      <td>25.72</td>\n",
       "      <td>82</td>\n",
       "      <td>0</td>\n",
       "      <td>92</td>\n",
       "      <td>1</td>\n",
       "      <td>0</td>\n",
       "      <td>0</td>\n",
       "      <td>0</td>\n",
       "    </tr>\n",
       "    <tr>\n",
       "      <th>4</th>\n",
       "      <td>16365</td>\n",
       "      <td>1</td>\n",
       "      <td>55</td>\n",
       "      <td>173.0</td>\n",
       "      <td>123.0</td>\n",
       "      <td>1</td>\n",
       "      <td>0</td>\n",
       "      <td>0</td>\n",
       "      <td>211</td>\n",
       "      <td>48.0</td>\n",
       "      <td>163.0</td>\n",
       "      <td>29.11</td>\n",
       "      <td>85</td>\n",
       "      <td>0</td>\n",
       "      <td>75</td>\n",
       "      <td>1</td>\n",
       "      <td>0</td>\n",
       "      <td>0</td>\n",
       "      <td>0</td>\n",
       "    </tr>\n",
       "  </tbody>\n",
       "</table>\n",
       "</div>"
      ],
      "text/plain": [
       "   RANDID  SEX  AGE  SYSBP  DIABP  BPMEDS  CURSMOKE  CIGPDAY  TOTCHOL  HDLC  \\\n",
       "0    6238    2   58  108.0   66.0       0         0        0      237  54.0   \n",
       "1   11263    2   55  180.0  106.0       1         0        0      220  46.0   \n",
       "2   12806    2   57  110.0   46.0       0         1       30      320  34.0   \n",
       "3   14367    1   64  168.0  100.0       0         0        0      280  44.0   \n",
       "4   16365    1   55  173.0  123.0       1         0        0      211  48.0   \n",
       "\n",
       "    LDLC    BMI  GLUCOSE  DIABETES  HEARTRTE  PREVHYP  ANYCHD  STROKE  DEATH  \n",
       "0  141.0  28.50       71         0        80        0       0       0      0  \n",
       "1  135.0  31.17       81         1        86        1       1       0      0  \n",
       "2  286.0  22.02       87         0        75        0       0       0      0  \n",
       "3  236.0  25.72       82         0        92        1       0       0      0  \n",
       "4  163.0  29.11       85         0        75        1       0       0      0  "
      ]
     },
     "execution_count": 53,
     "metadata": {},
     "output_type": "execute_result"
    }
   ],
   "source": [
    "framinghamP3.head()"
   ]
  },
  {
   "cell_type": "markdown",
   "metadata": {},
   "source": [
    "## Train Test Split"
   ]
  },
  {
   "cell_type": "code",
   "execution_count": 54,
   "metadata": {},
   "outputs": [],
   "source": [
    "x = framinghamP3.drop(['RANDID', 'ANYCHD', 'STROKE','DEATH'], axis = 1)\n",
    "y = framinghamP3['ANYCHD']\n",
    "x_train, x_test, y_train, y_test = train_test_split(x,y,test_size=0.3,random_state=76)"
   ]
  },
  {
   "cell_type": "markdown",
   "metadata": {},
   "source": [
    "## Initial Random Forest Model"
   ]
  },
  {
   "cell_type": "code",
   "execution_count": 55,
   "metadata": {},
   "outputs": [
    {
     "data": {
      "text/plain": [
       "RandomForestClassifier(n_estimators=500, random_state=76)"
      ]
     },
     "execution_count": 55,
     "metadata": {},
     "output_type": "execute_result"
    }
   ],
   "source": [
    "forest = RandomForestClassifier(n_estimators=500, random_state=76)\n",
    "forest.fit(x_train, y_train)"
   ]
  },
  {
   "cell_type": "markdown",
   "metadata": {},
   "source": [
    "## Evaluate Model Fit"
   ]
  },
  {
   "cell_type": "code",
   "execution_count": 56,
   "metadata": {},
   "outputs": [
    {
     "name": "stdout",
     "output_type": "stream",
     "text": [
      "[[506  18]\n",
      " [146  22]]\n",
      "              precision    recall  f1-score   support\n",
      "\n",
      "           0       0.78      0.97      0.86       524\n",
      "           1       0.55      0.13      0.21       168\n",
      "\n",
      "    accuracy                           0.76       692\n",
      "   macro avg       0.66      0.55      0.54       692\n",
      "weighted avg       0.72      0.76      0.70       692\n",
      "\n"
     ]
    }
   ],
   "source": [
    "forestPredictions = forest.predict(x_test)\n",
    "print(confusion_matrix(y_test, forestPredictions))\n",
    "print(classification_report(y_test, forestPredictions))"
   ]
  },
  {
   "cell_type": "markdown",
   "metadata": {},
   "source": [
    "***The model is has an accuracy of 76%, overall precision of 72%, and a recall of 13%.***"
   ]
  },
  {
   "cell_type": "markdown",
   "metadata": {},
   "source": [
    "# Hyperparameter Tuning"
   ]
  },
  {
   "cell_type": "markdown",
   "metadata": {},
   "source": [
    "## Additional Packages"
   ]
  },
  {
   "cell_type": "code",
   "execution_count": 57,
   "metadata": {},
   "outputs": [],
   "source": [
    "from sklearn.model_selection import RandomizedSearchCV\n",
    "from sklearn.metrics import accuracy_score"
   ]
  },
  {
   "cell_type": "markdown",
   "metadata": {},
   "source": [
    "## Number of Estimators"
   ]
  },
  {
   "cell_type": "code",
   "execution_count": 58,
   "metadata": {},
   "outputs": [
    {
     "name": "stdout",
     "output_type": "stream",
     "text": [
      "1 : 0.6459537572254336\n",
      "4 : 0.7297687861271677\n",
      "5 : 0.7095375722543352\n",
      "8 : 0.7384393063583815\n",
      "10 : 0.7427745664739884\n",
      "20 : 0.7543352601156069\n",
      "50 : 0.7543352601156069\n",
      "75 : 0.7586705202312138\n",
      "100 : 0.7543352601156069\n",
      "250 : 0.7514450867052023\n",
      "500 : 0.7630057803468208\n"
     ]
    }
   ],
   "source": [
    "n_estimators_array = [1, 4, 5, 8, 10, 20, 50, 75, 100, 250, 500]\n",
    "results = []\n",
    "for n in n_estimators_array:\n",
    "    forest = RandomForestClassifier(n_estimators=n, random_state=76)\n",
    "    forest.fit(x_train, y_train)\n",
    "    result = accuracy_score(y_test, forest.predict(x_test))\n",
    "    results.append(result) \n",
    "    print(n, ':', result)"
   ]
  },
  {
   "cell_type": "code",
   "execution_count": 59,
   "metadata": {},
   "outputs": [
    {
     "data": {
      "text/plain": [
       "[<matplotlib.lines.Line2D at 0x7fdc5faab100>]"
      ]
     },
     "execution_count": 59,
     "metadata": {},
     "output_type": "execute_result"
    },
    {
     "data": {
      "image/png": "[encoded data removed]",
      "text/plain": [
       "<Figure size 432x288 with 1 Axes>"
      ]
     },
     "metadata": {
      "needs_background": "light"
     },
     "output_type": "display_data"
    }
   ],
   "source": [
    "plt.plot(n_estimators_array, results)"
   ]
  },
  {
   "cell_type": "code",
   "execution_count": 60,
   "metadata": {},
   "outputs": [
    {
     "data": {
      "text/plain": [
       "0.7630057803468208"
      ]
     },
     "execution_count": 60,
     "metadata": {},
     "output_type": "execute_result"
    }
   ],
   "source": [
    "max(results)"
   ]
  },
  {
   "cell_type": "code",
   "execution_count": 61,
   "metadata": {},
   "outputs": [
    {
     "data": {
      "text/plain": [
       "500"
      ]
     },
     "execution_count": 61,
     "metadata": {},
     "output_type": "execute_result"
    }
   ],
   "source": [
    "n_est = n_estimators_array[results.index(max(results))]\n",
    "n_est"
   ]
  },
  {
   "cell_type": "markdown",
   "metadata": {},
   "source": [
    "__*The optimal number of estimators is 500*__"
   ]
  },
  {
   "cell_type": "markdown",
   "metadata": {},
   "source": [
    "## Tuning the Remaing Tree Parameters"
   ]
  },
  {
   "cell_type": "code",
   "execution_count": 62,
   "metadata": {},
   "outputs": [
    {
     "name": "stdout",
     "output_type": "stream",
     "text": [
      "{'max_features': ['auto', None, 'log2', 'sqrt'], 'max_depth': [10, 20, 30, 40, 50, 60, 70, 80, 90, None], 'min_samples_leaf': [1, 2, 4]}\n"
     ]
    }
   ],
   "source": [
    "# Number of features to consider at every split\n",
    "max_features = ['auto', None, 'log2', 'sqrt']\n",
    "# Maximum number of levels in tree\n",
    "max_depth = [10, 20, 30, 40, 50, 60, 70, 80, 90, None]\n",
    "# Minimum number of samples required at each leaf node\n",
    "min_samples_leaf = [1, 2, 4]\n",
    "# Method of selecting samples for training each tree\n",
    "random_grid = {'max_features': max_features,\n",
    "               'max_depth': max_depth,\n",
    "               'min_samples_leaf': min_samples_leaf}\n",
    "print(random_grid)"
   ]
  },
  {
   "cell_type": "code",
   "execution_count": 63,
   "metadata": {},
   "outputs": [
    {
     "data": {
      "text/plain": [
       "RandomizedSearchCV(cv=3, estimator=RandomForestClassifier(n_estimators=500),\n",
       "                   n_iter=90,\n",
       "                   param_distributions={'max_depth': [10, 20, 30, 40, 50, 60,\n",
       "                                                      70, 80, 90, None],\n",
       "                                        'max_features': ['auto', None, 'log2',\n",
       "                                                         'sqrt'],\n",
       "                                        'min_samples_leaf': [1, 2, 4]},\n",
       "                   random_state=42)"
      ]
     },
     "execution_count": 63,
     "metadata": {},
     "output_type": "execute_result"
    }
   ],
   "source": [
    "rf = RandomForestClassifier(n_estimators=n_est)\n",
    "rf_random = RandomizedSearchCV(estimator = rf, param_distributions = random_grid, n_iter = 90, cv = 3, random_state=42)\n",
    "rf_random.fit(x_train, y_train)"
   ]
  },
  {
   "cell_type": "code",
   "execution_count": 64,
   "metadata": {},
   "outputs": [
    {
     "data": {
      "text/plain": [
       "{'min_samples_leaf': 4, 'max_features': 'sqrt', 'max_depth': 10}"
      ]
     },
     "execution_count": 64,
     "metadata": {},
     "output_type": "execute_result"
    }
   ],
   "source": [
    "params = rf_random.best_params_\n",
    "params"
   ]
  },
  {
   "cell_type": "markdown",
   "metadata": {},
   "source": [
    "## Tuned Random Forest"
   ]
  },
  {
   "cell_type": "code",
   "execution_count": 65,
   "metadata": {},
   "outputs": [
    {
     "data": {
      "text/plain": [
       "RandomForestClassifier(max_depth=10, max_features='sqrt', min_samples_leaf=4,\n",
       "                       n_estimators=500)"
      ]
     },
     "execution_count": 65,
     "metadata": {},
     "output_type": "execute_result"
    }
   ],
   "source": [
    "forest = RandomForestClassifier(n_estimators=n_est,min_samples_leaf=params.get('min_samples_leaf'), \n",
    "                                max_features=params.get('max_features'), max_depth=params.get('max_depth'))\n",
    "forest.fit(x_train, y_train)"
   ]
  },
  {
   "cell_type": "code",
   "execution_count": 66,
   "metadata": {},
   "outputs": [
    {
     "name": "stdout",
     "output_type": "stream",
     "text": [
      "[[513  11]\n",
      " [155  13]]\n",
      "              precision    recall  f1-score   support\n",
      "\n",
      "           0       0.77      0.98      0.86       524\n",
      "           1       0.54      0.08      0.14       168\n",
      "\n",
      "    accuracy                           0.76       692\n",
      "   macro avg       0.65      0.53      0.50       692\n",
      "weighted avg       0.71      0.76      0.68       692\n",
      "\n"
     ]
    }
   ],
   "source": [
    "forestPredictions = forest.predict(x_test)\n",
    "print(confusion_matrix(y_test, forestPredictions))\n",
    "print(classification_report(y_test, forestPredictions))"
   ]
  },
  {
   "cell_type": "markdown",
   "metadata": {},
   "source": [
    "__*The tunned model has a 76% overall accuracy, 71% overall precision and 8% recall, which is worse than the original model.*__"
   ]
  },
  {
   "cell_type": "markdown",
   "metadata": {},
   "source": [
    "## Feature Importance"
   ]
  },
  {
   "cell_type": "code",
   "execution_count": 67,
   "metadata": {},
   "outputs": [],
   "source": [
    "feature_importances = pd.Series(forest.feature_importances_, index=x.columns)"
   ]
  },
  {
   "cell_type": "code",
   "execution_count": 68,
   "metadata": {},
   "outputs": [
    {
     "name": "stdout",
     "output_type": "stream",
     "text": [
      "HDLC        0.111003\n",
      "SYSBP       0.108331\n",
      "AGE         0.106192\n",
      "LDLC        0.099555\n",
      "GLUCOSE     0.095040\n",
      "BMI         0.090901\n",
      "DIABP       0.090466\n",
      "TOTCHOL     0.087945\n",
      "HEARTRTE    0.064949\n",
      "SEX         0.048792\n",
      "PREVHYP     0.038661\n",
      "CIGPDAY     0.025650\n",
      "DIABETES    0.016844\n",
      "CURSMOKE    0.008948\n",
      "BPMEDS      0.006723\n",
      "dtype: float64\n"
     ]
    }
   ],
   "source": [
    "feature_importances.sort_values(inplace=True, ascending=False)\n",
    "print(feature_importances)"
   ]
  },
  {
   "cell_type": "code",
   "execution_count": 69,
   "metadata": {},
   "outputs": [
    {
     "data": {
      "text/plain": [
       "<AxesSubplot:>"
      ]
     },
     "execution_count": 69,
     "metadata": {},
     "output_type": "execute_result"
    },
    {
     "data": {
      "image/png": "[encoded data removed]",
      "text/plain": [
       "<Figure size 504x432 with 1 Axes>"
      ]
     },
     "metadata": {
      "needs_background": "light"
     },
     "output_type": "display_data"
    }
   ],
   "source": [
    "feature_importances.plot(kind='barh', figsize=(7,6))"
   ]
  },
  {
   "cell_type": "markdown",
   "metadata": {},
   "source": [
    "# DEATH\n",
    "---"
   ]
  },
  {
   "cell_type": "markdown",
   "metadata": {},
   "source": [
    "## Random Forest for Period 1 (DEATH)"
   ]
  },
  {
   "cell_type": "code",
   "execution_count": 70,
   "metadata": {},
   "outputs": [
    {
     "name": "stdout",
     "output_type": "stream",
     "text": [
      "<class 'pandas.core.frame.DataFrame'>\n",
      "RangeIndex: 3927 entries, 0 to 3926\n",
      "Data columns (total 17 columns):\n",
      " #   Column    Non-Null Count  Dtype  \n",
      "---  ------    --------------  -----  \n",
      " 0   RANDID    3927 non-null   int64  \n",
      " 1   SEX       3927 non-null   int64  \n",
      " 2   AGE       3927 non-null   int64  \n",
      " 3   SYSBP     3927 non-null   float64\n",
      " 4   DIABP     3927 non-null   float64\n",
      " 5   BPMEDS    3927 non-null   int64  \n",
      " 6   CURSMOKE  3927 non-null   int64  \n",
      " 7   CIGPDAY   3927 non-null   int64  \n",
      " 8   TOTCHOL   3927 non-null   int64  \n",
      " 9   BMI       3927 non-null   float64\n",
      " 10  GLUCOSE   3927 non-null   int64  \n",
      " 11  DIABETES  3927 non-null   int64  \n",
      " 12  HEARTRTE  3927 non-null   int64  \n",
      " 13  PREVHYP   3927 non-null   int64  \n",
      " 14  ANYCHD    3927 non-null   int64  \n",
      " 15  STROKE    3927 non-null   int64  \n",
      " 16  DEATH     3927 non-null   int64  \n",
      "dtypes: float64(3), int64(14)\n",
      "memory usage: 521.7 KB\n"
     ]
    }
   ],
   "source": [
    "framinghamP1.info()"
   ]
  },
  {
   "cell_type": "markdown",
   "metadata": {},
   "source": [
    "## Train Test Split"
   ]
  },
  {
   "cell_type": "code",
   "execution_count": 71,
   "metadata": {},
   "outputs": [],
   "source": [
    "x = framinghamP1.drop(['RANDID', 'DEATH'], axis = 1)\n",
    "y = framinghamP1['DEATH']\n",
    "x_train, x_test, y_train, y_test = train_test_split(x,y, test_size=0.3, random_state=76)"
   ]
  },
  {
   "cell_type": "markdown",
   "metadata": {},
   "source": [
    "## Initial Random Forest Model"
   ]
  },
  {
   "cell_type": "code",
   "execution_count": 72,
   "metadata": {},
   "outputs": [
    {
     "data": {
      "text/plain": [
       "RandomForestClassifier(n_estimators=500, random_state=76)"
      ]
     },
     "execution_count": 72,
     "metadata": {},
     "output_type": "execute_result"
    }
   ],
   "source": [
    "forest = RandomForestClassifier(n_estimators=500, random_state=76)\n",
    "forest.fit(x_train, y_train)"
   ]
  },
  {
   "cell_type": "markdown",
   "metadata": {},
   "source": [
    "## Evaluate Model Fit"
   ]
  },
  {
   "cell_type": "code",
   "execution_count": 73,
   "metadata": {},
   "outputs": [
    {
     "name": "stdout",
     "output_type": "stream",
     "text": [
      "[[664 100]\n",
      " [180 235]]\n",
      "              precision    recall  f1-score   support\n",
      "\n",
      "           0       0.79      0.87      0.83       764\n",
      "           1       0.70      0.57      0.63       415\n",
      "\n",
      "    accuracy                           0.76      1179\n",
      "   macro avg       0.74      0.72      0.73      1179\n",
      "weighted avg       0.76      0.76      0.76      1179\n",
      "\n"
     ]
    }
   ],
   "source": [
    "forestPredictions = forest.predict(x_test)\n",
    "print(confusion_matrix(y_test, forestPredictions))\n",
    "print(classification_report(y_test, forestPredictions))"
   ]
  },
  {
   "cell_type": "markdown",
   "metadata": {},
   "source": [
    "__*This model is has an accuracy and overall precision of 76%, and 57% recall.*__"
   ]
  },
  {
   "cell_type": "markdown",
   "metadata": {},
   "source": [
    "# Hyperparameter Tuning"
   ]
  },
  {
   "cell_type": "markdown",
   "metadata": {},
   "source": [
    "## Additional Packages"
   ]
  },
  {
   "cell_type": "code",
   "execution_count": 121,
   "metadata": {},
   "outputs": [],
   "source": [
    "from sklearn.model_selection import RandomizedSearchCV\n",
    "from sklearn.metrics import accuracy_score"
   ]
  },
  {
   "cell_type": "markdown",
   "metadata": {},
   "source": [
    "## Number of Estimators"
   ]
  },
  {
   "cell_type": "code",
   "execution_count": 122,
   "metadata": {},
   "outputs": [
    {
     "name": "stdout",
     "output_type": "stream",
     "text": [
      "1 : 0.726878612716763\n",
      "4 : 0.7976878612716763\n",
      "5 : 0.7933526011560693\n",
      "8 : 0.8106936416184971\n",
      "10 : 0.8164739884393064\n",
      "20 : 0.8208092485549133\n",
      "50 : 0.8222543352601156\n",
      "75 : 0.8280346820809249\n",
      "100 : 0.8294797687861272\n",
      "250 : 0.8222543352601156\n",
      "500 : 0.8208092485549133\n"
     ]
    }
   ],
   "source": [
    "n_estimators_array = [1, 4, 5, 8, 10, 20, 50, 75, 100, 250, 500]\n",
    "results = []\n",
    "for n in n_estimators_array:\n",
    "    forest = RandomForestClassifier(n_estimators=n, random_state=76)\n",
    "    forest.fit(x_train, y_train)\n",
    "    result = accuracy_score(y_test, forest.predict(x_test))\n",
    "    results.append(result) \n",
    "    print(n, ':', result)"
   ]
  },
  {
   "cell_type": "code",
   "execution_count": 123,
   "metadata": {},
   "outputs": [
    {
     "data": {
      "text/plain": [
       "[<matplotlib.lines.Line2D at 0x7fdc579d9820>]"
      ]
     },
     "execution_count": 123,
     "metadata": {},
     "output_type": "execute_result"
    },
    {
     "data": {
      "image/png": "[encoded data removed]",
      "text/plain": [
       "<Figure size 432x288 with 1 Axes>"
      ]
     },
     "metadata": {
      "needs_background": "light"
     },
     "output_type": "display_data"
    }
   ],
   "source": [
    "plt.plot(n_estimators_array, results)"
   ]
  },
  {
   "cell_type": "code",
   "execution_count": 77,
   "metadata": {},
   "outputs": [
    {
     "data": {
      "text/plain": [
       "0.7659033078880407"
      ]
     },
     "execution_count": 77,
     "metadata": {},
     "output_type": "execute_result"
    }
   ],
   "source": [
    "max(results)"
   ]
  },
  {
   "cell_type": "code",
   "execution_count": 78,
   "metadata": {},
   "outputs": [
    {
     "data": {
      "text/plain": [
       "250"
      ]
     },
     "execution_count": 78,
     "metadata": {},
     "output_type": "execute_result"
    }
   ],
   "source": [
    "n_est = n_estimators_array[results.index(max(results))]\n",
    "n_est"
   ]
  },
  {
   "cell_type": "markdown",
   "metadata": {},
   "source": [
    "__*The optimal number of estimators is 250*__"
   ]
  },
  {
   "cell_type": "markdown",
   "metadata": {},
   "source": [
    "## Tuning the Remaing Tree Parameters"
   ]
  },
  {
   "cell_type": "code",
   "execution_count": 79,
   "metadata": {},
   "outputs": [
    {
     "name": "stdout",
     "output_type": "stream",
     "text": [
      "{'max_features': ['auto', None, 'log2', 'sqrt'], 'max_depth': [10, 20, 30, 40, 50, 60, 70, 80, 90, None], 'min_samples_leaf': [1, 2, 4]}\n"
     ]
    }
   ],
   "source": [
    "# Number of features to consider at every split\n",
    "max_features = ['auto', None, 'log2', 'sqrt']\n",
    "# Maximum number of levels in tree\n",
    "max_depth = [10, 20, 30, 40, 50, 60, 70, 80, 90, None]\n",
    "# Minimum number of samples required at each leaf node\n",
    "min_samples_leaf = [1, 2, 4]\n",
    "# Method of selecting samples for training each tree\n",
    "random_grid = {'max_features': max_features,\n",
    "               'max_depth': max_depth,\n",
    "               'min_samples_leaf': min_samples_leaf}\n",
    "print(random_grid)"
   ]
  },
  {
   "cell_type": "code",
   "execution_count": 80,
   "metadata": {},
   "outputs": [
    {
     "data": {
      "text/plain": [
       "RandomizedSearchCV(cv=3, estimator=RandomForestClassifier(n_estimators=250),\n",
       "                   n_iter=90,\n",
       "                   param_distributions={'max_depth': [10, 20, 30, 40, 50, 60,\n",
       "                                                      70, 80, 90, None],\n",
       "                                        'max_features': ['auto', None, 'log2',\n",
       "                                                         'sqrt'],\n",
       "                                        'min_samples_leaf': [1, 2, 4]},\n",
       "                   random_state=42)"
      ]
     },
     "execution_count": 80,
     "metadata": {},
     "output_type": "execute_result"
    }
   ],
   "source": [
    "rf = RandomForestClassifier(n_estimators=n_est)\n",
    "rf_random = RandomizedSearchCV(estimator = rf, param_distributions = random_grid, n_iter = 90, cv = 3, random_state=42)\n",
    "rf_random.fit(x_train, y_train)"
   ]
  },
  {
   "cell_type": "code",
   "execution_count": 81,
   "metadata": {},
   "outputs": [
    {
     "data": {
      "text/plain": [
       "{'min_samples_leaf': 4, 'max_features': 'sqrt', 'max_depth': 10}"
      ]
     },
     "execution_count": 81,
     "metadata": {},
     "output_type": "execute_result"
    }
   ],
   "source": [
    "params = rf_random.best_params_\n",
    "params"
   ]
  },
  {
   "cell_type": "markdown",
   "metadata": {},
   "source": [
    "## Tuned Random Forest"
   ]
  },
  {
   "cell_type": "code",
   "execution_count": 82,
   "metadata": {},
   "outputs": [
    {
     "data": {
      "text/plain": [
       "RandomForestClassifier(max_depth=10, max_features='sqrt', min_samples_leaf=4,\n",
       "                       n_estimators=250)"
      ]
     },
     "execution_count": 82,
     "metadata": {},
     "output_type": "execute_result"
    }
   ],
   "source": [
    "forest = RandomForestClassifier(n_estimators=n_est,min_samples_leaf=params.get('min_samples_leaf'), \n",
    "                                max_features=params.get('max_features'), max_depth=params.get('max_depth'))\n",
    "forest.fit(x_train, y_train)"
   ]
  },
  {
   "cell_type": "code",
   "execution_count": 83,
   "metadata": {},
   "outputs": [
    {
     "name": "stdout",
     "output_type": "stream",
     "text": [
      "[[671  93]\n",
      " [176 239]]\n",
      "              precision    recall  f1-score   support\n",
      "\n",
      "           0       0.79      0.88      0.83       764\n",
      "           1       0.72      0.58      0.64       415\n",
      "\n",
      "    accuracy                           0.77      1179\n",
      "   macro avg       0.76      0.73      0.74      1179\n",
      "weighted avg       0.77      0.77      0.77      1179\n",
      "\n"
     ]
    }
   ],
   "source": [
    "forestPredictions = forest.predict(x_test)\n",
    "print(confusion_matrix(y_test, forestPredictions))\n",
    "print(classification_report(y_test, forestPredictions))"
   ]
  },
  {
   "cell_type": "markdown",
   "metadata": {},
   "source": [
    "__*The tunned model has overall precision and accuracy of 77%, and a recall of 58%, a slight improvement from the original model.*__"
   ]
  },
  {
   "cell_type": "markdown",
   "metadata": {},
   "source": [
    "## Feature Importance"
   ]
  },
  {
   "cell_type": "code",
   "execution_count": 84,
   "metadata": {},
   "outputs": [],
   "source": [
    "feature_importances = pd.Series(forest.feature_importances_, index=x.columns)"
   ]
  },
  {
   "cell_type": "code",
   "execution_count": 85,
   "metadata": {},
   "outputs": [
    {
     "name": "stdout",
     "output_type": "stream",
     "text": [
      "AGE         0.251013\n",
      "ANYCHD      0.122364\n",
      "SYSBP       0.113090\n",
      "DIABP       0.073045\n",
      "GLUCOSE     0.072122\n",
      "TOTCHOL     0.071240\n",
      "BMI         0.066727\n",
      "HEARTRTE    0.053405\n",
      "PREVHYP     0.047690\n",
      "SEX         0.038881\n",
      "CIGPDAY     0.035313\n",
      "STROKE      0.033622\n",
      "DIABETES    0.009142\n",
      "CURSMOKE    0.008864\n",
      "BPMEDS      0.003481\n",
      "dtype: float64\n"
     ]
    }
   ],
   "source": [
    "feature_importances.sort_values(inplace=True, ascending=False)\n",
    "print(feature_importances)"
   ]
  },
  {
   "cell_type": "code",
   "execution_count": 86,
   "metadata": {},
   "outputs": [
    {
     "data": {
      "text/plain": [
       "<AxesSubplot:>"
      ]
     },
     "execution_count": 86,
     "metadata": {},
     "output_type": "execute_result"
    },
    {
     "data": {
      "image/png": "[encoded data removed]",
      "text/plain": [
       "<Figure size 504x432 with 1 Axes>"
      ]
     },
     "metadata": {
      "needs_background": "light"
     },
     "output_type": "display_data"
    }
   ],
   "source": [
    "feature_importances.plot(kind='barh', figsize=(7,6))"
   ]
  },
  {
   "cell_type": "markdown",
   "metadata": {},
   "source": [
    "## Random Forest for Period 2 (DEATH)"
   ]
  },
  {
   "cell_type": "code",
   "execution_count": 87,
   "metadata": {},
   "outputs": [
    {
     "name": "stdout",
     "output_type": "stream",
     "text": [
      "<class 'pandas.core.frame.DataFrame'>\n",
      "RangeIndex: 3309 entries, 0 to 3308\n",
      "Data columns (total 17 columns):\n",
      " #   Column    Non-Null Count  Dtype  \n",
      "---  ------    --------------  -----  \n",
      " 0   RANDID    3309 non-null   int64  \n",
      " 1   SEX       3309 non-null   int64  \n",
      " 2   AGE       3309 non-null   int64  \n",
      " 3   SYSBP     3309 non-null   float64\n",
      " 4   DIABP     3309 non-null   float64\n",
      " 5   BPMEDS    3309 non-null   int64  \n",
      " 6   CURSMOKE  3309 non-null   int64  \n",
      " 7   CIGPDAY   3309 non-null   int64  \n",
      " 8   TOTCHOL   3309 non-null   int64  \n",
      " 9   BMI       3309 non-null   float64\n",
      " 10  GLUCOSE   3309 non-null   int64  \n",
      " 11  DIABETES  3309 non-null   int64  \n",
      " 12  HEARTRTE  3309 non-null   int64  \n",
      " 13  PREVHYP   3309 non-null   int64  \n",
      " 14  ANYCHD    3309 non-null   int64  \n",
      " 15  STROKE    3309 non-null   int64  \n",
      " 16  DEATH     3309 non-null   int64  \n",
      "dtypes: float64(3), int64(14)\n",
      "memory usage: 439.6 KB\n"
     ]
    }
   ],
   "source": [
    "framinghamP2.info()"
   ]
  },
  {
   "cell_type": "markdown",
   "metadata": {},
   "source": [
    "## Train Test Split"
   ]
  },
  {
   "cell_type": "code",
   "execution_count": 88,
   "metadata": {},
   "outputs": [],
   "source": [
    "x = framinghamP2.drop(['RANDID', 'DEATH'], axis = 1)\n",
    "y = framinghamP2['DEATH']\n",
    "x_train, x_test, y_train, y_test = train_test_split(x,y, test_size=0.3, random_state=76)"
   ]
  },
  {
   "cell_type": "markdown",
   "metadata": {},
   "source": [
    "## Initial Random Forest Model"
   ]
  },
  {
   "cell_type": "code",
   "execution_count": 89,
   "metadata": {},
   "outputs": [
    {
     "data": {
      "text/plain": [
       "RandomForestClassifier(n_estimators=500, random_state=76)"
      ]
     },
     "execution_count": 89,
     "metadata": {},
     "output_type": "execute_result"
    }
   ],
   "source": [
    "forest = RandomForestClassifier(n_estimators=500, random_state=76)\n",
    "forest.fit(x_train, y_train)"
   ]
  },
  {
   "cell_type": "markdown",
   "metadata": {},
   "source": [
    "## Evaluate Model Fit"
   ]
  },
  {
   "cell_type": "code",
   "execution_count": 90,
   "metadata": {},
   "outputs": [
    {
     "name": "stdout",
     "output_type": "stream",
     "text": [
      "[[631  55]\n",
      " [167 140]]\n",
      "              precision    recall  f1-score   support\n",
      "\n",
      "           0       0.79      0.92      0.85       686\n",
      "           1       0.72      0.46      0.56       307\n",
      "\n",
      "    accuracy                           0.78       993\n",
      "   macro avg       0.75      0.69      0.70       993\n",
      "weighted avg       0.77      0.78      0.76       993\n",
      "\n"
     ]
    }
   ],
   "source": [
    "forestPredictions = forest.predict(x_test)\n",
    "print(confusion_matrix(y_test, forestPredictions))\n",
    "print(classification_report(y_test, forestPredictions))"
   ]
  },
  {
   "cell_type": "markdown",
   "metadata": {},
   "source": [
    "__*This model is has an accuracy of 78%, an overall precision of 77% and a recall of 46%*__"
   ]
  },
  {
   "cell_type": "markdown",
   "metadata": {},
   "source": [
    "# Hyperparameter Tuning"
   ]
  },
  {
   "cell_type": "markdown",
   "metadata": {},
   "source": [
    "## Additional Packages"
   ]
  },
  {
   "cell_type": "code",
   "execution_count": 91,
   "metadata": {},
   "outputs": [],
   "source": [
    "from sklearn.model_selection import RandomizedSearchCV\n",
    "from sklearn.metrics import accuracy_score"
   ]
  },
  {
   "cell_type": "markdown",
   "metadata": {},
   "source": [
    "## Number of Estimators"
   ]
  },
  {
   "cell_type": "code",
   "execution_count": 92,
   "metadata": {},
   "outputs": [
    {
     "name": "stdout",
     "output_type": "stream",
     "text": [
      "1 : 0.6737160120845922\n",
      "4 : 0.716012084592145\n",
      "5 : 0.7280966767371602\n",
      "8 : 0.7482376636455186\n",
      "10 : 0.7583081570996979\n",
      "20 : 0.7482376636455186\n",
      "50 : 0.7643504531722054\n",
      "75 : 0.7603222557905337\n",
      "100 : 0.7663645518630413\n",
      "250 : 0.770392749244713\n",
      "500 : 0.7764350453172205\n"
     ]
    }
   ],
   "source": [
    "n_estimators_array = [1, 4, 5, 8, 10, 20, 50, 75, 100, 250, 500]\n",
    "results = []\n",
    "for n in n_estimators_array:\n",
    "    forest = RandomForestClassifier(n_estimators=n, random_state=76)\n",
    "    forest.fit(x_train, y_train)\n",
    "    result = accuracy_score(y_test, forest.predict(x_test))\n",
    "    results.append(result) \n",
    "    print(n, ':', result)"
   ]
  },
  {
   "cell_type": "code",
   "execution_count": 93,
   "metadata": {},
   "outputs": [
    {
     "data": {
      "text/plain": [
       "[<matplotlib.lines.Line2D at 0x7fdc4e59dbe0>]"
      ]
     },
     "execution_count": 93,
     "metadata": {},
     "output_type": "execute_result"
    },
    {
     "data": {
      "image/png": "[encoded data removed]",
      "text/plain": [
       "<Figure size 432x288 with 1 Axes>"
      ]
     },
     "metadata": {
      "needs_background": "light"
     },
     "output_type": "display_data"
    }
   ],
   "source": [
    "plt.plot(n_estimators_array, results)"
   ]
  },
  {
   "cell_type": "code",
   "execution_count": 94,
   "metadata": {},
   "outputs": [
    {
     "data": {
      "text/plain": [
       "0.7764350453172205"
      ]
     },
     "execution_count": 94,
     "metadata": {},
     "output_type": "execute_result"
    }
   ],
   "source": [
    "max(results)"
   ]
  },
  {
   "cell_type": "code",
   "execution_count": 95,
   "metadata": {},
   "outputs": [
    {
     "data": {
      "text/plain": [
       "500"
      ]
     },
     "execution_count": 95,
     "metadata": {},
     "output_type": "execute_result"
    }
   ],
   "source": [
    "n_est = n_estimators_array[results.index(max(results))]\n",
    "n_est"
   ]
  },
  {
   "cell_type": "markdown",
   "metadata": {},
   "source": [
    "__*The optimal number of estimators is 500*__"
   ]
  },
  {
   "cell_type": "markdown",
   "metadata": {},
   "source": [
    "## Tuning the Remaing Tree Parameters"
   ]
  },
  {
   "cell_type": "code",
   "execution_count": 96,
   "metadata": {},
   "outputs": [
    {
     "name": "stdout",
     "output_type": "stream",
     "text": [
      "{'max_features': ['auto', None, 'log2', 'sqrt'], 'max_depth': [10, 20, 30, 40, 50, 60, 70, 80, 90, None], 'min_samples_leaf': [1, 2, 4]}\n"
     ]
    }
   ],
   "source": [
    "# Number of features to consider at every split\n",
    "max_features = ['auto', None, 'log2', 'sqrt']\n",
    "# Maximum number of levels in tree\n",
    "max_depth = [10, 20, 30, 40, 50, 60, 70, 80, 90, None]\n",
    "# Minimum number of samples required at each leaf node\n",
    "min_samples_leaf = [1, 2, 4]\n",
    "# Method of selecting samples for training each tree\n",
    "random_grid = {'max_features': max_features,\n",
    "               'max_depth': max_depth,\n",
    "               'min_samples_leaf': min_samples_leaf}\n",
    "print(random_grid)"
   ]
  },
  {
   "cell_type": "code",
   "execution_count": 97,
   "metadata": {},
   "outputs": [
    {
     "data": {
      "text/plain": [
       "RandomizedSearchCV(cv=3, estimator=RandomForestClassifier(n_estimators=500),\n",
       "                   n_iter=90,\n",
       "                   param_distributions={'max_depth': [10, 20, 30, 40, 50, 60,\n",
       "                                                      70, 80, 90, None],\n",
       "                                        'max_features': ['auto', None, 'log2',\n",
       "                                                         'sqrt'],\n",
       "                                        'min_samples_leaf': [1, 2, 4]},\n",
       "                   random_state=42)"
      ]
     },
     "execution_count": 97,
     "metadata": {},
     "output_type": "execute_result"
    }
   ],
   "source": [
    "rf = RandomForestClassifier(n_estimators=n_est)\n",
    "rf_random = RandomizedSearchCV(estimator = rf, param_distributions = random_grid, n_iter = 90, cv = 3, random_state=42)\n",
    "rf_random.fit(x_train, y_train)"
   ]
  },
  {
   "cell_type": "code",
   "execution_count": 98,
   "metadata": {},
   "outputs": [
    {
     "data": {
      "text/plain": [
       "{'min_samples_leaf': 1, 'max_features': 'log2', 'max_depth': None}"
      ]
     },
     "execution_count": 98,
     "metadata": {},
     "output_type": "execute_result"
    }
   ],
   "source": [
    "params = rf_random.best_params_\n",
    "params"
   ]
  },
  {
   "cell_type": "markdown",
   "metadata": {},
   "source": [
    "## Tuned Random Forest"
   ]
  },
  {
   "cell_type": "code",
   "execution_count": 99,
   "metadata": {},
   "outputs": [
    {
     "data": {
      "text/plain": [
       "RandomForestClassifier(max_features='log2', n_estimators=500)"
      ]
     },
     "execution_count": 99,
     "metadata": {},
     "output_type": "execute_result"
    }
   ],
   "source": [
    "forest = RandomForestClassifier(n_estimators=n_est,min_samples_leaf=params.get('min_samples_leaf'), \n",
    "                                max_features=params.get('max_features'), max_depth=params.get('max_depth'))\n",
    "forest.fit(x_train, y_train)"
   ]
  },
  {
   "cell_type": "code",
   "execution_count": 100,
   "metadata": {},
   "outputs": [
    {
     "name": "stdout",
     "output_type": "stream",
     "text": [
      "[[627  59]\n",
      " [173 134]]\n",
      "              precision    recall  f1-score   support\n",
      "\n",
      "           0       0.78      0.91      0.84       686\n",
      "           1       0.69      0.44      0.54       307\n",
      "\n",
      "    accuracy                           0.77       993\n",
      "   macro avg       0.74      0.68      0.69       993\n",
      "weighted avg       0.76      0.77      0.75       993\n",
      "\n"
     ]
    }
   ],
   "source": [
    "forestPredictions = forest.predict(x_test)\n",
    "print(confusion_matrix(y_test, forestPredictions))\n",
    "print(classification_report(y_test, forestPredictions))"
   ]
  },
  {
   "cell_type": "markdown",
   "metadata": {},
   "source": [
    "__*The tunned model has a lower overall precision of 76%, accuracy of 77% and a positive recall of 44%, slightly worse than the original model.*__"
   ]
  },
  {
   "cell_type": "markdown",
   "metadata": {},
   "source": [
    "## Feature Importance"
   ]
  },
  {
   "cell_type": "code",
   "execution_count": 101,
   "metadata": {},
   "outputs": [],
   "source": [
    "feature_importances = pd.Series(forest.feature_importances_, index=x.columns)"
   ]
  },
  {
   "cell_type": "code",
   "execution_count": 102,
   "metadata": {},
   "outputs": [
    {
     "name": "stdout",
     "output_type": "stream",
     "text": [
      "AGE         0.183903\n",
      "SYSBP       0.123579\n",
      "TOTCHOL     0.108296\n",
      "BMI         0.108028\n",
      "GLUCOSE     0.100203\n",
      "DIABP       0.093091\n",
      "HEARTRTE    0.077946\n",
      "ANYCHD      0.054244\n",
      "CIGPDAY     0.042648\n",
      "SEX         0.027403\n",
      "STROKE      0.025780\n",
      "PREVHYP     0.018973\n",
      "BPMEDS      0.014780\n",
      "CURSMOKE    0.012809\n",
      "DIABETES    0.008319\n",
      "dtype: float64\n"
     ]
    }
   ],
   "source": [
    "feature_importances.sort_values(inplace=True, ascending=False)\n",
    "print(feature_importances)"
   ]
  },
  {
   "cell_type": "code",
   "execution_count": 103,
   "metadata": {},
   "outputs": [
    {
     "data": {
      "text/plain": [
       "<AxesSubplot:>"
      ]
     },
     "execution_count": 103,
     "metadata": {},
     "output_type": "execute_result"
    },
    {
     "data": {
      "image/png": "[encoded data removed]",
      "text/plain": [
       "<Figure size 504x432 with 1 Axes>"
      ]
     },
     "metadata": {
      "needs_background": "light"
     },
     "output_type": "display_data"
    }
   ],
   "source": [
    "feature_importances.plot(kind='barh', figsize=(7,6))"
   ]
  },
  {
   "cell_type": "markdown",
   "metadata": {},
   "source": [
    "## Random Forest for Period 3 (DEATH)"
   ]
  },
  {
   "cell_type": "code",
   "execution_count": 104,
   "metadata": {},
   "outputs": [
    {
     "name": "stdout",
     "output_type": "stream",
     "text": [
      "<class 'pandas.core.frame.DataFrame'>\n",
      "RangeIndex: 2306 entries, 0 to 2305\n",
      "Data columns (total 19 columns):\n",
      " #   Column    Non-Null Count  Dtype  \n",
      "---  ------    --------------  -----  \n",
      " 0   RANDID    2306 non-null   int64  \n",
      " 1   SEX       2306 non-null   int64  \n",
      " 2   AGE       2306 non-null   int64  \n",
      " 3   SYSBP     2306 non-null   float64\n",
      " 4   DIABP     2306 non-null   float64\n",
      " 5   BPMEDS    2306 non-null   int64  \n",
      " 6   CURSMOKE  2306 non-null   int64  \n",
      " 7   CIGPDAY   2306 non-null   int64  \n",
      " 8   TOTCHOL   2306 non-null   int64  \n",
      " 9   HDLC      2306 non-null   float64\n",
      " 10  LDLC      2306 non-null   float64\n",
      " 11  BMI       2306 non-null   float64\n",
      " 12  GLUCOSE   2306 non-null   int64  \n",
      " 13  DIABETES  2306 non-null   int64  \n",
      " 14  HEARTRTE  2306 non-null   int64  \n",
      " 15  PREVHYP   2306 non-null   int64  \n",
      " 16  ANYCHD    2306 non-null   int64  \n",
      " 17  STROKE    2306 non-null   int64  \n",
      " 18  DEATH     2306 non-null   int64  \n",
      "dtypes: float64(5), int64(14)\n",
      "memory usage: 342.4 KB\n"
     ]
    }
   ],
   "source": [
    "framinghamP3.info()"
   ]
  },
  {
   "cell_type": "markdown",
   "metadata": {},
   "source": [
    "## Train Test Split"
   ]
  },
  {
   "cell_type": "code",
   "execution_count": 105,
   "metadata": {},
   "outputs": [],
   "source": [
    "x = framinghamP3.drop(['RANDID', 'DEATH'], axis = 1)\n",
    "y = framinghamP3['DEATH']\n",
    "x_train, x_test, y_train, y_test = train_test_split(x,y, test_size=0.3, random_state=76)"
   ]
  },
  {
   "cell_type": "markdown",
   "metadata": {},
   "source": [
    "## Initial Random Forest Model"
   ]
  },
  {
   "cell_type": "code",
   "execution_count": 106,
   "metadata": {},
   "outputs": [
    {
     "data": {
      "text/plain": [
       "RandomForestClassifier(n_estimators=500, random_state=76)"
      ]
     },
     "execution_count": 106,
     "metadata": {},
     "output_type": "execute_result"
    }
   ],
   "source": [
    "forest = RandomForestClassifier(n_estimators=500, random_state=76)\n",
    "forest.fit(x_train, y_train)"
   ]
  },
  {
   "cell_type": "markdown",
   "metadata": {},
   "source": [
    "## Evaluate Model Fit"
   ]
  },
  {
   "cell_type": "code",
   "execution_count": 107,
   "metadata": {},
   "outputs": [
    {
     "name": "stdout",
     "output_type": "stream",
     "text": [
      "[[524  33]\n",
      " [ 91  44]]\n",
      "              precision    recall  f1-score   support\n",
      "\n",
      "           0       0.85      0.94      0.89       557\n",
      "           1       0.57      0.33      0.42       135\n",
      "\n",
      "    accuracy                           0.82       692\n",
      "   macro avg       0.71      0.63      0.65       692\n",
      "weighted avg       0.80      0.82      0.80       692\n",
      "\n"
     ]
    }
   ],
   "source": [
    "forestPredictions = forest.predict(x_test)\n",
    "print(confusion_matrix(y_test, forestPredictions))\n",
    "print(classification_report(y_test, forestPredictions))"
   ]
  },
  {
   "cell_type": "markdown",
   "metadata": {},
   "source": [
    "__*This model is has an accuracy of 82%, an overall precision of 80%, and a positive recall of 33%.*__"
   ]
  },
  {
   "cell_type": "markdown",
   "metadata": {},
   "source": [
    "# Hyperparameter Tuning"
   ]
  },
  {
   "cell_type": "markdown",
   "metadata": {},
   "source": [
    "## Additional Packages"
   ]
  },
  {
   "cell_type": "code",
   "execution_count": 108,
   "metadata": {},
   "outputs": [],
   "source": [
    "from sklearn.model_selection import RandomizedSearchCV\n",
    "from sklearn.metrics import accuracy_score"
   ]
  },
  {
   "cell_type": "markdown",
   "metadata": {},
   "source": [
    "## Number of Estimators"
   ]
  },
  {
   "cell_type": "code",
   "execution_count": 109,
   "metadata": {},
   "outputs": [
    {
     "name": "stdout",
     "output_type": "stream",
     "text": [
      "1 : 0.726878612716763\n",
      "4 : 0.7976878612716763\n",
      "5 : 0.7933526011560693\n",
      "8 : 0.8106936416184971\n",
      "10 : 0.8164739884393064\n",
      "20 : 0.8208092485549133\n",
      "50 : 0.8222543352601156\n",
      "75 : 0.8280346820809249\n",
      "100 : 0.8294797687861272\n",
      "250 : 0.8222543352601156\n",
      "500 : 0.8208092485549133\n"
     ]
    }
   ],
   "source": [
    "n_estimators_array = [1, 4, 5, 8, 10, 20, 50, 75, 100, 250, 500]\n",
    "results = []\n",
    "for n in n_estimators_array:\n",
    "    forest = RandomForestClassifier(n_estimators=n, random_state=76)\n",
    "    forest.fit(x_train, y_train)\n",
    "    result = accuracy_score(y_test, forest.predict(x_test))\n",
    "    results.append(result) \n",
    "    print(n, ':', result)"
   ]
  },
  {
   "cell_type": "code",
   "execution_count": 110,
   "metadata": {},
   "outputs": [
    {
     "data": {
      "text/plain": [
       "[<matplotlib.lines.Line2D at 0x7fdc57768df0>]"
      ]
     },
     "execution_count": 110,
     "metadata": {},
     "output_type": "execute_result"
    },
    {
     "data": {
      "image/png": "[encoded data removed]",
      "text/plain": [
       "<Figure size 432x288 with 1 Axes>"
      ]
     },
     "metadata": {
      "needs_background": "light"
     },
     "output_type": "display_data"
    }
   ],
   "source": [
    "plt.plot(n_estimators_array, results)"
   ]
  },
  {
   "cell_type": "code",
   "execution_count": 111,
   "metadata": {},
   "outputs": [
    {
     "data": {
      "text/plain": [
       "0.8294797687861272"
      ]
     },
     "execution_count": 111,
     "metadata": {},
     "output_type": "execute_result"
    }
   ],
   "source": [
    "max(results)"
   ]
  },
  {
   "cell_type": "code",
   "execution_count": 112,
   "metadata": {},
   "outputs": [
    {
     "data": {
      "text/plain": [
       "100"
      ]
     },
     "execution_count": 112,
     "metadata": {},
     "output_type": "execute_result"
    }
   ],
   "source": [
    "n_est = n_estimators_array[results.index(max(results))]\n",
    "n_est"
   ]
  },
  {
   "cell_type": "markdown",
   "metadata": {},
   "source": [
    "__*The optimal number of estimators is 100*__"
   ]
  },
  {
   "cell_type": "markdown",
   "metadata": {},
   "source": [
    "## Tuning the Remaing Tree Parameters"
   ]
  },
  {
   "cell_type": "code",
   "execution_count": 113,
   "metadata": {},
   "outputs": [
    {
     "name": "stdout",
     "output_type": "stream",
     "text": [
      "{'max_features': ['auto', None, 'log2', 'sqrt'], 'max_depth': [10, 20, 30, 40, 50, 60, 70, 80, 90, None], 'min_samples_leaf': [1, 2, 4]}\n"
     ]
    }
   ],
   "source": [
    "# Number of features to consider at every split\n",
    "max_features = ['auto', None, 'log2', 'sqrt']\n",
    "# Maximum number of levels in tree\n",
    "max_depth = [10, 20, 30, 40, 50, 60, 70, 80, 90, None]\n",
    "# Minimum number of samples required at each leaf node\n",
    "min_samples_leaf = [1, 2, 4]\n",
    "# Method of selecting samples for training each tree\n",
    "random_grid = {'max_features': max_features,\n",
    "               'max_depth': max_depth,\n",
    "               'min_samples_leaf': min_samples_leaf}\n",
    "print(random_grid)"
   ]
  },
  {
   "cell_type": "code",
   "execution_count": 114,
   "metadata": {},
   "outputs": [
    {
     "data": {
      "text/plain": [
       "RandomizedSearchCV(cv=3, estimator=RandomForestClassifier(), n_iter=90,\n",
       "                   param_distributions={'max_depth': [10, 20, 30, 40, 50, 60,\n",
       "                                                      70, 80, 90, None],\n",
       "                                        'max_features': ['auto', None, 'log2',\n",
       "                                                         'sqrt'],\n",
       "                                        'min_samples_leaf': [1, 2, 4]},\n",
       "                   random_state=42)"
      ]
     },
     "execution_count": 114,
     "metadata": {},
     "output_type": "execute_result"
    }
   ],
   "source": [
    "rf = RandomForestClassifier(n_estimators=n_est)\n",
    "rf_random = RandomizedSearchCV(estimator = rf, param_distributions = random_grid, n_iter = 90, cv = 3, random_state=42)\n",
    "rf_random.fit(x_train, y_train)"
   ]
  },
  {
   "cell_type": "code",
   "execution_count": 115,
   "metadata": {},
   "outputs": [
    {
     "data": {
      "text/plain": [
       "{'min_samples_leaf': 4, 'max_features': None, 'max_depth': 40}"
      ]
     },
     "execution_count": 115,
     "metadata": {},
     "output_type": "execute_result"
    }
   ],
   "source": [
    "params = rf_random.best_params_\n",
    "params"
   ]
  },
  {
   "cell_type": "markdown",
   "metadata": {},
   "source": [
    "## Tuned Random Forest"
   ]
  },
  {
   "cell_type": "code",
   "execution_count": 116,
   "metadata": {},
   "outputs": [
    {
     "data": {
      "text/plain": [
       "RandomForestClassifier(max_depth=40, max_features=None, min_samples_leaf=4)"
      ]
     },
     "execution_count": 116,
     "metadata": {},
     "output_type": "execute_result"
    }
   ],
   "source": [
    "forest = RandomForestClassifier(n_estimators=n_est,min_samples_leaf=params.get('min_samples_leaf'), \n",
    "                                max_features=params.get('max_features'), max_depth=params.get('max_depth'))\n",
    "forest.fit(x_train, y_train)"
   ]
  },
  {
   "cell_type": "code",
   "execution_count": 117,
   "metadata": {},
   "outputs": [
    {
     "name": "stdout",
     "output_type": "stream",
     "text": [
      "[[518  39]\n",
      " [ 86  49]]\n",
      "              precision    recall  f1-score   support\n",
      "\n",
      "           0       0.86      0.93      0.89       557\n",
      "           1       0.56      0.36      0.44       135\n",
      "\n",
      "    accuracy                           0.82       692\n",
      "   macro avg       0.71      0.65      0.67       692\n",
      "weighted avg       0.80      0.82      0.80       692\n",
      "\n"
     ]
    }
   ],
   "source": [
    "forestPredictions = forest.predict(x_test)\n",
    "print(confusion_matrix(y_test, forestPredictions))\n",
    "print(classification_report(y_test, forestPredictions))"
   ]
  },
  {
   "cell_type": "markdown",
   "metadata": {},
   "source": [
    "__*The tunned model has a lower overall precision 80%, accuracy of 82%, and a positive recall of 36%, a slight improvemet on the original model*__"
   ]
  },
  {
   "cell_type": "markdown",
   "metadata": {},
   "source": [
    "## Feature Importance"
   ]
  },
  {
   "cell_type": "code",
   "execution_count": 118,
   "metadata": {},
   "outputs": [],
   "source": [
    "feature_importances = pd.Series(forest.feature_importances_, index=x.columns)"
   ]
  },
  {
   "cell_type": "code",
   "execution_count": 119,
   "metadata": {},
   "outputs": [
    {
     "name": "stdout",
     "output_type": "stream",
     "text": [
      "AGE         0.172426\n",
      "ANYCHD      0.114530\n",
      "GLUCOSE     0.109426\n",
      "BMI         0.085836\n",
      "SYSBP       0.084569\n",
      "TOTCHOL     0.064427\n",
      "HDLC        0.062187\n",
      "DIABP       0.060989\n",
      "HEARTRTE    0.060317\n",
      "LDLC        0.056714\n",
      "STROKE      0.037844\n",
      "CIGPDAY     0.033108\n",
      "SEX         0.032832\n",
      "BPMEDS      0.010399\n",
      "DIABETES    0.007568\n",
      "PREVHYP     0.005312\n",
      "CURSMOKE    0.001515\n",
      "dtype: float64\n"
     ]
    }
   ],
   "source": [
    "feature_importances.sort_values(inplace=True, ascending=False)\n",
    "print(feature_importances)"
   ]
  },
  {
   "cell_type": "code",
   "execution_count": 120,
   "metadata": {},
   "outputs": [
    {
     "data": {
      "text/plain": [
       "<AxesSubplot:>"
      ]
     },
     "execution_count": 120,
     "metadata": {},
     "output_type": "execute_result"
    },
    {
     "data": {
      "image/png": "[encoded data removed]",
      "text/plain": [
       "<Figure size 504x432 with 1 Axes>"
      ]
     },
     "metadata": {
      "needs_background": "light"
     },
     "output_type": "display_data"
    }
   ],
   "source": [
    "feature_importances.plot(kind='barh', figsize=(7,6))"
   ]
  },
  {
   "cell_type": "code",
   "execution_count": null,
   "metadata": {},
   "outputs": [],
   "source": []
  }
 ],
 "metadata": {
  "kernelspec": {
   "display_name": "Python 3",
   "language": "python",
   "name": "python3"
  },
  "language_info": {
   "codemirror_mode": {
    "name": "ipython",
    "version": 3
   },
   "file_extension": ".py",
   "mimetype": "text/x-python",
   "name": "python",
   "nbconvert_exporter": "python",
   "pygments_lexer": "ipython3",
   "version": "3.8.5"
  }
 },
 "nbformat": 4,
 "nbformat_minor": 4
}
